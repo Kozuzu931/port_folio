{
 "cells": [
  {
   "cell_type": "markdown",
   "metadata": {},
   "source": [
    "# ライブラリのインポート"
   ]
  },
  {
   "cell_type": "code",
   "execution_count": 1,
   "metadata": {},
   "outputs": [],
   "source": [
    "import numpy as np\n",
    "import scipy.stats  as ss\n",
    "import pandas as pd\n",
    "import matplotlib.pyplot as plt\n",
    "from sklearn import linear_model"
   ]
  },
  {
   "cell_type": "markdown",
   "metadata": {},
   "source": [
    "# データ読み込み"
   ]
  },
  {
   "cell_type": "code",
   "execution_count": 3,
   "metadata": {},
   "outputs": [],
   "source": [
    "data = pd.read_csv(\"Tea.csv\", comment=\"#\")\n",
    "#bmi[\"SEX\"].unique() #　カテゴリ変数の値を確認"
   ]
  },
  {
   "cell_type": "markdown",
   "metadata": {},
   "source": [
    "# カテゴリ変数をダミー変数に変換"
   ]
  },
  {
   "cell_type": "code",
   "execution_count": 9,
   "metadata": {},
   "outputs": [
    {
     "name": "stdout",
     "output_type": "stream",
     "text": [
      "     BMI   AGE  BPMEDS  SYSBP  SEX_Male\n",
      "0  26.97  39.0     0.0  106.0         1\n",
      "1  28.73  46.0     0.0  121.0         0\n",
      "2  25.34  48.0     0.0  127.5         1\n",
      "3  28.58  61.0     0.0  150.0         0\n",
      "4  23.10  46.0     0.0  130.0         0\n"
     ]
    }
   ],
   "source": [
    "data = pd.get_dummies(bmi, drop_first=True)\n",
    "print(data.head())"
   ]
  },
  {
   "cell_type": "markdown",
   "metadata": {},
   "source": [
    "# 欠損値検査関数の定義"
   ]
  },
  {
   "cell_type": "code",
   "execution_count": 6,
   "metadata": {},
   "outputs": [],
   "source": [
    "def lack_table(df): \n",
    "    import pandas\n",
    "    '''\n",
    "    This function is caliculation of lack values from raw data.\n",
    "    \n",
    "    Library: pandas, numpy\n",
    "    \n",
    "    params\n",
    "    ---------\n",
    "    df : DataFrame\n",
    "            raw data set.\n",
    "    \n",
    "    Returns\n",
    "    --------\n",
    "    lack_table_ren_columns: pandas.DataFrame\n",
    "                            Return results lack of raw data.\n",
    "    '''Z\n",
    "    null_val = df.isnull().sum()\n",
    "    percent = 100 * df.isnull().sum()/len(df)\n",
    "    lack_table = pandas.concat([null_val, percent], axis=1)\n",
    "    lack_table_ren_columns = lack_table.rename(\n",
    "    columns = {0 : '欠損数', 1 : '%'})\n",
    "    return lack_table_ren_columns"
   ]
  },
  {
   "cell_type": "markdown",
   "metadata": {},
   "source": [
    "#  欠損値検査"
   ]
  },
  {
   "cell_type": "code",
   "execution_count": 23,
   "metadata": {},
   "outputs": [
    {
     "name": "stdout",
     "output_type": "stream",
     "text": [
      "          欠損数    %\n",
      "BMI         0  0.0\n",
      "AGE         0  0.0\n",
      "BPMEDS      0  0.0\n",
      "SYSBP       0  0.0\n",
      "SEX_Male    0  0.0\n"
     ]
    }
   ],
   "source": [
    "print(lack_table(data))"
   ]
  },
  {
   "cell_type": "markdown",
   "metadata": {},
   "source": [
    "# 欠損値処理"
   ]
  },
  {
   "cell_type": "code",
   "execution_count": 30,
   "metadata": {},
   "outputs": [],
   "source": [
    "data[\"BPMEDS\"] = data[\"BPMEDS\"].fillna(0).astype(float)\n",
    "data[\"SYSBP\"] = data[\"SYSBP\"].fillna(data[\"SYSBP\"].median())"
   ]
  },
  {
   "cell_type": "code",
   "execution_count": 25,
   "metadata": {},
   "outputs": [
    {
     "name": "stdout",
     "output_type": "stream",
     "text": [
      "          欠損数    %\n",
      "BMI         0  0.0\n",
      "AGE         0  0.0\n",
      "BPMEDS      0  0.0\n",
      "SYSBP       0  0.0\n",
      "SEX_Male    0  0.0\n"
     ]
    }
   ],
   "source": [
    "print(lack_table(data))"
   ]
  },
  {
   "cell_type": "markdown",
   "metadata": {},
   "source": [
    "# 散布図作成"
   ]
  },
  {
   "cell_type": "code",
   "execution_count": 32,
   "metadata": {},
   "outputs": [
    {
     "name": "stderr",
     "output_type": "stream",
     "text": [
      "/Users/kozuzu931/.pyenv/versions/anaconda3-4.3.1/lib/python3.6/site-packages/ipykernel_launcher.py:4: FutureWarning: pandas.scatter_matrix is deprecated, use pandas.plotting.scatter_matrix instead\n",
      "  after removing the cwd from sys.path.\n"
     ]
    },
    {
     "data": {
      "image/png": "[encoded data removed]",
      "text/plain": [
       "<Figure size 432x288 with 25 Axes>"
      ]
     },
     "metadata": {},
     "output_type": "display_data"
    }
   ],
   "source": [
    "X = data[[\"BMI\", \"AGE\", \"BPMEDS\", \"SEX_Male\"]]\n",
    "y = data[\"SYSBP\"]\n",
    "\n",
    "pd.scatter_matrix(data[[\"SYSBP\", \"BMI\", \"AGE\", \"BPMEDS\", \"SEX_Male\"]])\n",
    "plt.show()"
   ]
  },
  {
   "cell_type": "markdown",
   "metadata": {},
   "source": [
    "# 重回帰分析(sklearn)"
   ]
  },
  {
   "cell_type": "code",
   "execution_count": 34,
   "metadata": {},
   "outputs": [
    {
     "name": "stdout",
     "output_type": "stream",
     "text": [
      "回帰係数(regression coefficinet)\n",
      "       Name  Coefficients\n",
      "0       BMI      1.426023\n",
      "1       AGE      0.000005\n",
      "2    BPMEDS     19.873242\n",
      "3  SEX_Male     -1.337752\n",
      "切片 (intercept) 92.75457795762279\n"
     ]
    }
   ],
   "source": [
    "reg = linear_model.HuberRegressor()\n",
    "\n",
    "\n",
    "reg.fit(X, y)\n",
    "\n",
    "#　回帰係数 regression coefficient\n",
    "print(\"回帰係数(regression coefficinet)\")\n",
    "print(pd.DataFrame({\"Name\":X.columns, \"Coefficients\":reg.coef_}))\n",
    "# 切片 intercept\n",
    "print(\"切片 (intercept)\", reg.intercept_)"
   ]
  }
 ],
 "metadata": {
  "kernelspec": {
   "display_name": "Python 3",
   "language": "python",
   "name": "python3"
  },
  "language_info": {
   "codemirror_mode": {
    "name": "ipython",
    "version": 3
   },
   "file_extension": ".py",
   "mimetype": "text/x-python",
   "name": "python",
   "nbconvert_exporter": "python",
   "pygments_lexer": "ipython3",
   "version": "3.6.5"
  },
  "toc": {
   "base_numbering": 1,
   "nav_menu": {},
   "number_sections": true,
   "sideBar": true,
   "skip_h1_title": false,
   "title_cell": "Table of Contents",
   "title_sidebar": "Contents",
   "toc_cell": false,
   "toc_position": {},
   "toc_section_display": true,
   "toc_window_display": false
  }
 },
 "nbformat": 4,
 "nbformat_minor": 2
}
