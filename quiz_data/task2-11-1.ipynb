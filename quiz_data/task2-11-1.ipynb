{
 "cells": [
  {
   "cell_type": "markdown",
   "metadata": {},
   "source": [
    "# ライブラリのインポート"
   ]
  },
  {
   "cell_type": "code",
   "execution_count": 5,
   "metadata": {},
   "outputs": [],
   "source": [
    "import numpy as np\n",
    "import scipy.stats  as ss\n",
    "import pandas as pd\n",
    "import matplotlib.pyplot as plt\n",
    "from sklearn import linear_model\n",
    "import statsmodels.api as sm\n",
    "import statsmodels.formula.api as smf"
   ]
  },
  {
   "cell_type": "markdown",
   "metadata": {},
   "source": [
    "# データ読み込み"
   ]
  },
  {
   "cell_type": "code",
   "execution_count": 21,
   "metadata": {},
   "outputs": [
    {
     "data": {
      "text/html": [
       "<div>\n",
       "<style scoped>\n",
       "    .dataframe tbody tr th:only-of-type {\n",
       "        vertical-align: middle;\n",
       "    }\n",
       "\n",
       "    .dataframe tbody tr th {\n",
       "        vertical-align: top;\n",
       "    }\n",
       "\n",
       "    .dataframe thead th {\n",
       "        text-align: right;\n",
       "    }\n",
       "</style>\n",
       "<table border=\"1\" class=\"dataframe\">\n",
       "  <thead>\n",
       "    <tr style=\"text-align: right;\">\n",
       "      <th></th>\n",
       "      <th>No.Speed</th>\n",
       "      <th>Distance</th>\n",
       "      <th>Chin-up</th>\n",
       "    </tr>\n",
       "  </thead>\n",
       "  <tbody>\n",
       "    <tr>\n",
       "      <th>1</th>\n",
       "      <td>120</td>\n",
       "      <td>62</td>\n",
       "      <td>71</td>\n",
       "    </tr>\n",
       "    <tr>\n",
       "      <th>2</th>\n",
       "      <td>130</td>\n",
       "      <td>90</td>\n",
       "      <td>32</td>\n",
       "    </tr>\n",
       "    <tr>\n",
       "      <th>3</th>\n",
       "      <td>95</td>\n",
       "      <td>53</td>\n",
       "      <td>20</td>\n",
       "    </tr>\n",
       "    <tr>\n",
       "      <th>4</th>\n",
       "      <td>141</td>\n",
       "      <td>88</td>\n",
       "      <td>28</td>\n",
       "    </tr>\n",
       "    <tr>\n",
       "      <th>5</th>\n",
       "      <td>128</td>\n",
       "      <td>79</td>\n",
       "      <td>45</td>\n",
       "    </tr>\n",
       "    <tr>\n",
       "      <th>6</th>\n",
       "      <td>118</td>\n",
       "      <td>88</td>\n",
       "      <td>30</td>\n",
       "    </tr>\n",
       "    <tr>\n",
       "      <th>7</th>\n",
       "      <td>108</td>\n",
       "      <td>83</td>\n",
       "      <td>22</td>\n",
       "    </tr>\n",
       "    <tr>\n",
       "      <th>8</th>\n",
       "      <td>87</td>\n",
       "      <td>53</td>\n",
       "      <td>40</td>\n",
       "    </tr>\n",
       "    <tr>\n",
       "      <th>9</th>\n",
       "      <td>120</td>\n",
       "      <td>92</td>\n",
       "      <td>15</td>\n",
       "    </tr>\n",
       "    <tr>\n",
       "      <th>10</th>\n",
       "      <td>110</td>\n",
       "      <td>70</td>\n",
       "      <td>10</td>\n",
       "    </tr>\n",
       "    <tr>\n",
       "      <th>11</th>\n",
       "      <td>100</td>\n",
       "      <td>70</td>\n",
       "      <td>10</td>\n",
       "    </tr>\n",
       "    <tr>\n",
       "      <th>12</th>\n",
       "      <td>127</td>\n",
       "      <td>82</td>\n",
       "      <td>31</td>\n",
       "    </tr>\n",
       "    <tr>\n",
       "      <th>13</th>\n",
       "      <td>112</td>\n",
       "      <td>87</td>\n",
       "      <td>13</td>\n",
       "    </tr>\n",
       "    <tr>\n",
       "      <th>14</th>\n",
       "      <td>130</td>\n",
       "      <td>63</td>\n",
       "      <td>18</td>\n",
       "    </tr>\n",
       "    <tr>\n",
       "      <th>15</th>\n",
       "      <td>99</td>\n",
       "      <td>79</td>\n",
       "      <td>15</td>\n",
       "    </tr>\n",
       "    <tr>\n",
       "      <th>16</th>\n",
       "      <td>102</td>\n",
       "      <td>69</td>\n",
       "      <td>22</td>\n",
       "    </tr>\n",
       "    <tr>\n",
       "      <th>17</th>\n",
       "      <td>130</td>\n",
       "      <td>77</td>\n",
       "      <td>28</td>\n",
       "    </tr>\n",
       "    <tr>\n",
       "      <th>18</th>\n",
       "      <td>110</td>\n",
       "      <td>78</td>\n",
       "      <td>17</td>\n",
       "    </tr>\n",
       "    <tr>\n",
       "      <th>19</th>\n",
       "      <td>120</td>\n",
       "      <td>68</td>\n",
       "      <td>33</td>\n",
       "    </tr>\n",
       "    <tr>\n",
       "      <th>20</th>\n",
       "      <td>128</td>\n",
       "      <td>81</td>\n",
       "      <td>42</td>\n",
       "    </tr>\n",
       "  </tbody>\n",
       "</table>\n",
       "</div>"
      ],
      "text/plain": [
       "    No.Speed  Distance  Chin-up\n",
       "1        120        62       71\n",
       "2        130        90       32\n",
       "3         95        53       20\n",
       "4        141        88       28\n",
       "5        128        79       45\n",
       "6        118        88       30\n",
       "7        108        83       22\n",
       "8         87        53       40\n",
       "9        120        92       15\n",
       "10       110        70       10\n",
       "11       100        70       10\n",
       "12       127        82       31\n",
       "13       112        87       13\n",
       "14       130        63       18\n",
       "15        99        79       15\n",
       "16       102        69       22\n",
       "17       130        77       28\n",
       "18       110        78       17\n",
       "19       120        68       33\n",
       "20       128        81       42"
      ]
     },
     "execution_count": 21,
     "metadata": {},
     "output_type": "execute_result"
    }
   ],
   "source": [
    "data = pd.read_csv(\"Baseball.txt\",  sep=\"\\t\")\n",
    "#bmi[\"SEX\"].unique() #　カテゴリ変数の値を確認\n",
    "data"
   ]
  },
  {
   "cell_type": "markdown",
   "metadata": {},
   "source": [
    "# カテゴリ変数をダミー変数に変換"
   ]
  },
  {
   "cell_type": "code",
   "execution_count": 9,
   "metadata": {},
   "outputs": [
    {
     "name": "stdout",
     "output_type": "stream",
     "text": [
      "     BMI   AGE  BPMEDS  SYSBP  SEX_Male\n",
      "0  26.97  39.0     0.0  106.0         1\n",
      "1  28.73  46.0     0.0  121.0         0\n",
      "2  25.34  48.0     0.0  127.5         1\n",
      "3  28.58  61.0     0.0  150.0         0\n",
      "4  23.10  46.0     0.0  130.0         0\n"
     ]
    }
   ],
   "source": [
    "data = pd.get_dummies(bmi, drop_first=True)\n",
    "print(data.head())"
   ]
  },
  {
   "cell_type": "markdown",
   "metadata": {},
   "source": [
    "# 欠損値検査関数の定義"
   ]
  },
  {
   "cell_type": "code",
   "execution_count": 6,
   "metadata": {},
   "outputs": [],
   "source": [
    "def lack_table(df): \n",
    "    import pandas\n",
    "    '''\n",
    "    This function is caliculation of lack values from raw data.\n",
    "    \n",
    "    Library: pandas, numpy\n",
    "    \n",
    "    params\n",
    "    ---------\n",
    "    df : DataFrame\n",
    "            raw data set.\n",
    "    \n",
    "    Returns\n",
    "    --------\n",
    "    lack_table_ren_columns: pandas.DataFrame\n",
    "                            Return results lack of raw data.\n",
    "    '''Z\n",
    "    null_val = df.isnull().sum()\n",
    "    percent = 100 * df.isnull().sum()/len(df)\n",
    "    lack_table = pandas.concat([null_val, percent], axis=1)\n",
    "    lack_table_ren_columns = lack_table.rename(\n",
    "    columns = {0 : '欠損数', 1 : '%'})\n",
    "    return lack_table_ren_columns"
   ]
  },
  {
   "cell_type": "markdown",
   "metadata": {},
   "source": [
    "#  欠損値検査"
   ]
  },
  {
   "cell_type": "code",
   "execution_count": 23,
   "metadata": {},
   "outputs": [
    {
     "name": "stdout",
     "output_type": "stream",
     "text": [
      "          欠損数    %\n",
      "BMI         0  0.0\n",
      "AGE         0  0.0\n",
      "BPMEDS      0  0.0\n",
      "SYSBP       0  0.0\n",
      "SEX_Male    0  0.0\n"
     ]
    }
   ],
   "source": [
    "print(lack_table(data))"
   ]
  },
  {
   "cell_type": "markdown",
   "metadata": {},
   "source": [
    "# 欠損値処理"
   ]
  },
  {
   "cell_type": "code",
   "execution_count": 30,
   "metadata": {},
   "outputs": [],
   "source": [
    "data[\"BPMEDS\"] = data[\"BPMEDS\"].fillna(0).astype(float)\n",
    "data[\"SYSBP\"] = data[\"SYSBP\"].fillna(data[\"SYSBP\"].median())"
   ]
  },
  {
   "cell_type": "code",
   "execution_count": 25,
   "metadata": {},
   "outputs": [
    {
     "name": "stdout",
     "output_type": "stream",
     "text": [
      "          欠損数    %\n",
      "BMI         0  0.0\n",
      "AGE         0  0.0\n",
      "BPMEDS      0  0.0\n",
      "SYSBP       0  0.0\n",
      "SEX_Male    0  0.0\n"
     ]
    }
   ],
   "source": [
    "print(lack_table(data))"
   ]
  },
  {
   "cell_type": "markdown",
   "metadata": {},
   "source": [
    "# 散布図作成"
   ]
  },
  {
   "cell_type": "code",
   "execution_count": 23,
   "metadata": {},
   "outputs": [],
   "source": [
    "X = data[[\"Distance\", \"Chin-up\"]]\n",
    "y = data[\"No.Speed\"]\n",
    "\n",
    "#pd.scatter_matrix(data[[\"SYSBP\", \"BMI\", \"AGE\", \"BPMEDS\", \"SEX_Male\"]])\n",
    "#plt.show()"
   ]
  },
  {
   "cell_type": "code",
   "execution_count": 25,
   "metadata": {},
   "outputs": [
    {
     "name": "stdout",
     "output_type": "stream",
     "text": [
      "                            OLS Regression Results                            \n",
      "==============================================================================\n",
      "Dep. Variable:               No.Speed   R-squared:                       0.450\n",
      "Model:                            OLS   Adj. R-squared:                  0.386\n",
      "Method:                 Least Squares   F-statistic:                     6.965\n",
      "Date:                Tue, 18 Dec 2018   Prob (F-statistic):            0.00617\n",
      "Time:                        17:00:28   Log-Likelihood:                -74.989\n",
      "No. Observations:                  20   AIC:                             156.0\n",
      "Df Residuals:                      17   BIC:                             159.0\n",
      "Df Model:                           2                                         \n",
      "Covariance Type:            nonrobust                                         \n",
      "==============================================================================\n",
      "                 coef    std err          t      P>|t|      [0.025      0.975]\n",
      "------------------------------------------------------------------------------\n",
      "const         48.4425     18.529      2.614      0.018       9.350      87.535\n",
      "Distance       0.7488      0.223      3.362      0.004       0.279       1.219\n",
      "Chin-up        0.3948      0.178      2.222      0.040       0.020       0.770\n",
      "==============================================================================\n",
      "Omnibus:                        3.968   Durbin-Watson:                   2.358\n",
      "Prob(Omnibus):                  0.138   Jarque-Bera (JB):                2.123\n",
      "Skew:                           0.747   Prob(JB):                        0.346\n",
      "Kurtosis:                       3.564   Cond. No.                         602.\n",
      "==============================================================================\n",
      "\n",
      "Warnings:\n",
      "[1] Standard Errors assume that the covariance matrix of the errors is correctly specified.\n"
     ]
    }
   ],
   "source": [
    "# モデルの設定 Construct a linear regression model\n",
    "model = sm.OLS(y, sm.add_constant(X))\n",
    "\n",
    "# ラベル名を用いるときのモデルの設定 Construct a linear regression model\n",
    "#model = smf.ols(formula = \"damage ~ distance\", data = data)\n",
    "\n",
    "# 回帰分析の実行 Execute linear  regression \n",
    "results = model.fit()\n",
    "\n",
    "# 結果を表示　Print results\n",
    "print(results.summary())"
   ]
  },
  {
   "cell_type": "code",
   "execution_count": 12,
   "metadata": {},
   "outputs": [
    {
     "data": {
      "image/png": "[encoded data removed]",
      "text/plain": [
       "<Figure size 432x288 with 1 Axes>"
      ]
     },
     "metadata": {},
     "output_type": "display_data"
    },
    {
     "name": "stdout",
     "output_type": "stream",
     "text": [
      "101.9405286343613\n"
     ]
    }
   ],
   "source": [
    "b = results.params[0] # 回帰式の切片 Intercept\n",
    "a = results.params[1] # 回帰式の傾き Regression coefficient\n",
    "\n",
    "plt.scatter(x,y) # 散布図をプロット Scatter plot\n",
    "plt.plot(x, a*x+b, color=\"red\") # 回帰直線をプロット  Plot regression line\n",
    "plt.xlabel(\"temp\")\n",
    "plt.ylabel(\"tea\")\n",
    "plt.show()\n",
    "print(a*37+b)"
   ]
  },
  {
   "cell_type": "markdown",
   "metadata": {},
   "source": [
    "# 重回帰分析(sklearn)"
   ]
  },
  {
   "cell_type": "code",
   "execution_count": 24,
   "metadata": {},
   "outputs": [
    {
     "name": "stdout",
     "output_type": "stream",
     "text": [
      "回帰係数(regression coefficinet)\n",
      "       Name  Coefficients\n",
      "0  Distance      0.760107\n",
      "1   Chin-up      0.448625\n",
      "切片 (intercept) 45.1052852268216\n"
     ]
    }
   ],
   "source": [
    "reg = linear_model.HuberRegressor()\n",
    "\n",
    "\n",
    "reg.fit(X, y)\n",
    "\n",
    "#　回帰係数 regression coefficient\n",
    "print(\"回帰係数(regression coefficinet)\")\n",
    "print(pd.DataFrame({\"Name\":X.columns, \"Coefficients\":reg.coef_}))\n",
    "# 切片 intercept\n",
    "print(\"切片 (intercept)\", reg.intercept_)"
   ]
  },
  {
   "cell_type": "code",
   "execution_count": null,
   "metadata": {},
   "outputs": [],
   "source": []
  }
 ],
 "metadata": {
  "kernelspec": {
   "display_name": "Python 3",
   "language": "python",
   "name": "python3"
  },
  "language_info": {
   "codemirror_mode": {
    "name": "ipython",
    "version": 3
   },
   "file_extension": ".py",
   "mimetype": "text/x-python",
   "name": "python",
   "nbconvert_exporter": "python",
   "pygments_lexer": "ipython3",
   "version": "3.6.5"
  },
  "toc": {
   "base_numbering": 1,
   "nav_menu": {},
   "number_sections": true,
   "sideBar": true,
   "skip_h1_title": false,
   "title_cell": "Table of Contents",
   "title_sidebar": "Contents",
   "toc_cell": false,
   "toc_position": {},
   "toc_section_display": true,
   "toc_window_display": false
  }
 },
 "nbformat": 4,
 "nbformat_minor": 2
}
