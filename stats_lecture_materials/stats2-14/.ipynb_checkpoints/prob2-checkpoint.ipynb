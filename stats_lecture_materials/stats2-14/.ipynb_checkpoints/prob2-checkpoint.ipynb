{
 "cells": [
  {
   "cell_type": "code",
   "execution_count": 8,
   "metadata": {},
   "outputs": [],
   "source": [
    "import numpy as np\n",
    "import pandas as pd\n",
    "import statsmodels.api as sm\n",
    "import statsmodels.formula.api as smf\n",
    "from statsmodels.stats.outliers_influence import variance_inflation_factor\n",
    "import scipy.stats as ss"
   ]
  },
  {
   "cell_type": "code",
   "execution_count": 2,
   "metadata": {},
   "outputs": [],
   "source": [
    "prob1 = pd.read_csv(\"data/salary.csv\", comment=\"#\")"
   ]
  },
  {
   "cell_type": "code",
   "execution_count": 6,
   "metadata": {},
   "outputs": [
    {
     "name": "stdout",
     "output_type": "stream",
     "text": [
      "                            OLS Regression Results                            \n",
      "==============================================================================\n",
      "Dep. Variable:                 salary   R-squared:                       0.986\n",
      "Model:                            OLS   Adj. R-squared:                  0.984\n",
      "Method:                 Least Squares   F-statistic:                     488.5\n",
      "Date:                Mon, 07 Jan 2019   Prob (F-statistic):           9.81e-08\n",
      "Time:                        16:40:43   Log-Likelihood:                -39.393\n",
      "No. Observations:                   9   AIC:                             82.79\n",
      "Df Residuals:                       7   BIC:                             83.18\n",
      "Df Model:                           1                                         \n",
      "Covariance Type:            nonrobust                                         \n",
      "==============================================================================\n",
      "                 coef    std err          t      P>|t|      [0.025      0.975]\n",
      "------------------------------------------------------------------------------\n",
      "const         24.4632     26.942      0.908      0.394     -39.244      88.170\n",
      "age           16.1245      0.730     22.102      0.000      14.399      17.850\n",
      "==============================================================================\n",
      "Omnibus:                        2.560   Durbin-Watson:                   2.946\n",
      "Prob(Omnibus):                  0.278   Jarque-Bera (JB):                1.434\n",
      "Skew:                           0.752   Prob(JB):                        0.488\n",
      "Kurtosis:                       1.750   Cond. No.                         137.\n",
      "==============================================================================\n",
      "\n",
      "Warnings:\n",
      "[1] Standard Errors assume that the covariance matrix of the errors is correctly specified.\n"
     ]
    },
    {
     "name": "stderr",
     "output_type": "stream",
     "text": [
      "/Users/kozuzu931/.pyenv/versions/anaconda3-4.3.1/lib/python3.6/site-packages/scipy/stats/stats.py:1394: UserWarning: kurtosistest only valid for n>=20 ... continuing anyway, n=9\n",
      "  \"anyway, n=%i\" % int(n))\n"
     ]
    }
   ],
   "source": [
    "x = prob1[\"age\"]\n",
    "y = prob1[\"salary\"]\n",
    "\n",
    "model = sm.OLS(y, sm.add_constant(x))\n",
    "\n",
    "results = model.fit()\n",
    "\n",
    "print(results.summary())"
   ]
  },
  {
   "cell_type": "code",
   "execution_count": 4,
   "metadata": {},
   "outputs": [],
   "source": [
    "def Mahala2(vec_x, vec_mean, mat):\n",
    "    length = mat.shape[0]\n",
    "    vec_x = np.array(vec_x, dtype='float64')\n",
    "    vec = np.asmatrix((vec_x - vec_mean).values.reshape(length, 1))\n",
    "    inv = np.linalg.inv(mat) # 逆行列を求める　Compute the inverse of a matrix.\n",
    "    mahala2 = vec.T.dot(inv.dot(vec)) \n",
    "    return mahala2[0, 0]"
   ]
  },
  {
   "cell_type": "code",
   "execution_count": null,
   "metadata": {},
   "outputs": [],
   "source": [
    "Sigma = np.asmatrix(prob1[['salary','age']].cov()) # 独立変数の分散共分散行列を求める． Variance-covariance matrix of IVs.\n",
    "n = len(prob1) # 標本数. Sample size.\n",
    "dfm = results.df_model # 独立変数の数（モデルの自由度）．　Number of IVs (Model degrees of freedom). \n",
    "t_0025 = ss.t.isf(q=0.05/2, df=n-dfm-1) # 自由度 n-dfm-1のt分布の上側2.5パーセント点(= ss.t.ppf(q=0.975, df=n-dfm-1))\n",
    "vec_mean = prob1[['salary','age']].mean() # 独立変数の平均を求める　Find average of independent variables\n",
    "print(vec_mean)\n",
    "\n",
    "#観測値に対応する従属変数の信頼区間を求める Find CI of Y on observed values\n",
    "X = np.array([1, 40]) #観測値の設定\n",
    "hat_y=X.dot(results.params) # Xとresults.paramsの内積を求め従属変数の推定値を求める　Obtain estimated value of dependent variable\n",
    "\n",
    "D2_0 = Mahala2([40], vec_mean, Sigma) # マハラノビス距離の二乗を求める Squared Mahalanobis distance\n",
    "\n",
    "Ve = results.scale #  残差変動の不偏分散． A scale factor for the covariance matrix.\n",
    "Se_o = np.sqrt((1/n + D2_0 / (n-1)) * Ve) #観測値の場合　In case of observed value\n",
    "\n",
    "ci_low = hat_y - t_0025 * Se_o# 下側信頼\n",
    "ci_up = hat_y + t_0025 * Se_o # 上側信頼\n",
    "\n",
    "print(\"理論値（theoretical value）:\", hat_y)\n",
    "print(\"理論値の信頼区間（CI of theoretical value）：({0},{1})\".format(ci_low,ci_up))\n",
    "\n",
    "#予測値（未観測値に対応する従属変数）の信頼区間を求める Find prediction interval of Y on unobserved values\n",
    "X = np.array([1, 40]) #未観測値の設定\n",
    "hat_y=X.dot(results.params) # Xとresults.paramsの内積を求め従属変数の推定値を求める　Obtain estimated value of dependent variable\n",
    "\n",
    "D2_0 = Mahala2([40], vec_mean, Sigma) # マハラノビス距離の二乗を求める Squared Mahalanobis distance\n",
    "\n",
    "Se_p = np.sqrt((1 + 1/n + D2_0 / (n-1)) * Ve) #未観測値の場合　In case of unobserved value\n",
    "\n",
    "pi_low = hat_y - t_0025 * Se_p# 下側信頼\n",
    "pi_up = hat_y + t_0025 * Se_p # 上側信頼\n",
    "\n",
    "print(\"予測値（Predicted value）:\", hat_y)\n",
    "print(\"予測値の信頼区間（CI of predicted value）：({0},{1})\".format(pi_low,pi_up))"
   ]
  },
  {
   "cell_type": "code",
   "execution_count": 11,
   "metadata": {},
   "outputs": [
    {
     "name": "stdout",
     "output_type": "stream",
     "text": [
      "salary    597.777778\n",
      "age        35.555556\n",
      "dtype: float64\n",
      "理論値（theoretical value）: 669.4421026531114\n",
      "理論値の信頼区間（CI of theoretical value）：(106.56647573662121,1232.3177295696016)\n",
      "予測値（Predicted value）: 669.4421026531114\n",
      "予測値の信頼区間（CI of predicted value）：(104.20224686166284,1234.68195844456)\n"
     ]
    }
   ],
   "source": [
    "Sigma = np.asmatrix(prob1[['salary','age']].cov()) # 独立変数の分散共分散行列を求める． Variance-covariance matrix of IVs.\n",
    "n = len(prob1) # 標本数. Sample size.\n",
    "dfm = results.df_model # 独立変数の数（モデルの自由度）．　Number of IVs (Model degrees of freedom). \n",
    "t_0025 = ss.t.isf(q=0.05/2, df=n-dfm-1) # 自由度 n-dfm-1のt分布の上側2.5パーセント点(= ss.t.ppf(q=0.975, df=n-dfm-1))\n",
    "vec_mean = prob1[['salary','age']].mean() # 独立変数の平均を求める　Find average of independent variables\n",
    "print(vec_mean)\n",
    "\n",
    "#観測値に対応する従属変数の信頼区間を求める Find CI of Y on observed values\n",
    "X = np.array([1, 45]) #観測値の設定\n",
    "hat_y=X.dot(results.params) # Xとresults.paramsの内積を求め従属変数の推定値を求める　Obtain estimated value of dependent variable\n",
    "\n",
    "D2_0 = Mahala2([45], vec_mean, Sigma) # マハラノビス距離の二乗を求める Squared Mahalanobis distance\n",
    "\n",
    "Ve = results.scale #  残差変動の不偏分散． A scale factor for the covariance matrix.\n",
    "Se_o = np.sqrt((1/n + D2_0 / (n-1)) * Ve) #観測値の場合　In case of observed value\n",
    "\n",
    "ci_low = hat_y - t_0025 * Se_o# 下側信頼\n",
    "ci_up = hat_y + t_0025 * Se_o # 上側信頼\n",
    "\n",
    "print(\"理論値（theoretical value）:\", hat_y)\n",
    "print(\"理論値の信頼区間（CI of theoretical value）：({0},{1})\".format(ci_low,ci_up))\n",
    "\n",
    "#予測値（未観測値に対応する従属変数）の信頼区間を求める Find prediction interval of Y on unobserved values\n",
    "X = np.array([1, 45]) #未観測値の設定\n",
    "hat_y=X.dot(results.params) # Xとresults.paramsの内積を求め従属変数の推定値を求める　Obtain estimated value of dependent variable\n",
    "\n",
    "D2_0 = Mahala2([45], vec_mean, Sigma) # マハラノビス距離の二乗を求める Squared Mahalanobis distance\n",
    "\n",
    "Se_p = np.sqrt((1 + 1/n + D2_0 / (n-1)) * Ve) #未観測値の場合　In case of unobserved value\n",
    "\n",
    "pi_low = hat_y - t_0025 * Se_p# 下側信頼\n",
    "pi_up = hat_y + t_0025 * Se_p # 上側信頼\n",
    "\n",
    "print(\"予測値（Predicted value）:\", hat_y)\n",
    "print(\"予測値の信頼区間（CI of predicted value）：({0},{1})\".format(pi_low,pi_up))"
   ]
  },
  {
   "cell_type": "code",
   "execution_count": null,
   "metadata": {},
   "outputs": [],
   "source": []
  }
 ],
 "metadata": {
  "kernelspec": {
   "display_name": "Python 3",
   "language": "python",
   "name": "python3"
  },
  "language_info": {
   "codemirror_mode": {
    "name": "ipython",
    "version": 3
   },
   "file_extension": ".py",
   "mimetype": "text/x-python",
   "name": "python",
   "nbconvert_exporter": "python",
   "pygments_lexer": "ipython3",
   "version": "3.6.5"
  },
  "toc": {
   "base_numbering": 1,
   "nav_menu": {},
   "number_sections": true,
   "sideBar": true,
   "skip_h1_title": false,
   "title_cell": "Table of Contents",
   "title_sidebar": "Contents",
   "toc_cell": false,
   "toc_position": {},
   "toc_section_display": true,
   "toc_window_display": false
  }
 },
 "nbformat": 4,
 "nbformat_minor": 2
}
