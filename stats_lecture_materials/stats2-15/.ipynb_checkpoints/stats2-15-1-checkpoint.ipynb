{
 "cells": [
  {
   "cell_type": "code",
   "execution_count": 1,
   "metadata": {},
   "outputs": [],
   "source": [
    "import numpy as np\n",
    "import pandas as pd\n",
    "import matplotlib.pyplot as plt\n",
    "import scipy.stats as ss\n",
    "import statsmodels.api as sm\n",
    "import statsmodels.formula.api as smf"
   ]
  },
  {
   "cell_type": "markdown",
   "metadata": {},
   "source": [
    "### データの読み込み"
   ]
  },
  {
   "cell_type": "code",
   "execution_count": 2,
   "metadata": {},
   "outputs": [
    {
     "name": "stdout",
     "output_type": "stream",
     "text": [
      "   count   size\n",
      "0      6   8.31\n",
      "1      6   9.44\n",
      "2      6   9.50\n",
      "3     12   9.07\n",
      "4     10  10.16\n"
     ]
    }
   ],
   "source": [
    "dat = pd.read_csv(\"data/data3a.csv\", delimiter=\",\")\n",
    "print(dat.head())"
   ]
  },
  {
   "cell_type": "markdown",
   "metadata": {},
   "source": [
    "### ポアソン回帰の実行 Execution of Poisson regression"
   ]
  },
  {
   "cell_type": "code",
   "execution_count": 6,
   "metadata": {},
   "outputs": [
    {
     "name": "stdout",
     "output_type": "stream",
     "text": [
      "                 Generalized Linear Model Regression Results                  \n",
      "==============================================================================\n",
      "Dep. Variable:                  count   No. Observations:                   50\n",
      "Model:                            GLM   Df Residuals:                       48\n",
      "Model Family:                 Poisson   Df Model:                            1\n",
      "Link Function:                    log   Scale:                             1.0\n",
      "Method:                          IRLS   Log-Likelihood:                -116.27\n",
      "Date:                Mon, 21 Jan 2019   Deviance:                       40.298\n",
      "Time:                        12:39:22   Pearson chi2:                     38.1\n",
      "No. Iterations:                     4                                         \n",
      "==============================================================================\n",
      "                 coef    std err          z      P>|z|      [0.025      0.975]\n",
      "------------------------------------------------------------------------------\n",
      "Intercept      0.7459      0.515      1.447      0.148      -0.264       1.756\n",
      "size           0.1323      0.052      2.562      0.010       0.031       0.233\n",
      "==============================================================================\n"
     ]
    }
   ],
   "source": [
    "# モデルの設定 Construct a generalized linear model\n",
    "model = smf.glm(formula = \"count ~ size\", data = dat, family=sm.families.Poisson())\n",
    "# 回帰分析の実行 Execution of Poisson regression \n",
    "results = model.fit()\n",
    "# 結果を表示　Print results\n",
    "print(results.summary())"
   ]
  },
  {
   "cell_type": "markdown",
   "metadata": {},
   "source": [
    "### 回帰曲線の図示 Plotting of regression curve"
   ]
  },
  {
   "cell_type": "code",
   "execution_count": 4,
   "metadata": {},
   "outputs": [
    {
     "data": {
      "image/png": "[encoded data removed]",
      "text/plain": [
       "<matplotlib.figure.Figure at 0x1c14945390>"
      ]
     },
     "metadata": {},
     "output_type": "display_data"
    }
   ],
   "source": [
    "x_plot = np.arange(7, 13)\n",
    "pred = results.predict(pd.DataFrame({\"size\": x_plot}))\n",
    "\n",
    "# 散布図をプロット　scatter plot\n",
    "plt.scatter(dat[\"size\"],dat[\"count\"])\n",
    "\n",
    "# 回帰曲線をプロット regression curve\n",
    "plt.plot(x_plot, pred, color=\"black\")\n",
    "plt.xlabel(\"size\")\n",
    "plt.ylabel(\"count\")\n",
    "plt.show()"
   ]
  },
  {
   "cell_type": "code",
   "execution_count": 5,
   "metadata": {},
   "outputs": [
    {
     "name": "stdout",
     "output_type": "stream",
     "text": [
      "0    7.912763\n",
      "dtype: float64\n",
      "7.91276271653\n"
     ]
    }
   ],
   "source": [
    "# countの予測 Prediction of the value of count\n",
    "print(results.predict(pd.DataFrame({\"size\": [10]})))\n",
    "# 回帰式から予測値を求める場合 Prediction of the value of count from a regression equation\n",
    "print(np.exp(results.params[\"size\"]*10+results.params[\"Intercept\"]))"
   ]
  },
  {
   "cell_type": "code",
   "execution_count": null,
   "metadata": {
    "collapsed": true
   },
   "outputs": [],
   "source": []
  }
 ],
 "metadata": {
  "kernelspec": {
   "display_name": "Python 3",
   "language": "python",
   "name": "python3"
  },
  "language_info": {
   "codemirror_mode": {
    "name": "ipython",
    "version": 3
   },
   "file_extension": ".py",
   "mimetype": "text/x-python",
   "name": "python",
   "nbconvert_exporter": "python",
   "pygments_lexer": "ipython3",
   "version": "3.6.5"
  },
  "toc": {
   "base_numbering": 1,
   "nav_menu": {},
   "number_sections": true,
   "sideBar": true,
   "skip_h1_title": false,
   "title_cell": "Table of Contents",
   "title_sidebar": "Contents",
   "toc_cell": false,
   "toc_position": {},
   "toc_section_display": true,
   "toc_window_display": false
  }
 },
 "nbformat": 4,
 "nbformat_minor": 2
}
