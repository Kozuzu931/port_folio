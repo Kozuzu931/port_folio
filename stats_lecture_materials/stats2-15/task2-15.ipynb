{
 "cells": [
  {
   "cell_type": "code",
   "execution_count": 1,
   "metadata": {},
   "outputs": [],
   "source": [
    "import numpy as np\n",
    "import pandas as pd\n",
    "import matplotlib.pyplot as plt\n",
    "import scipy.stats as ss\n",
    "import statsmodels.api as sm\n",
    "import statsmodels.formula.api as smf"
   ]
  },
  {
   "cell_type": "markdown",
   "metadata": {},
   "source": [
    "### データの読み込み"
   ]
  },
  {
   "cell_type": "code",
   "execution_count": 25,
   "metadata": {},
   "outputs": [
    {
     "name": "stdout",
     "output_type": "stream",
     "text": [
      "   fix  dealer  modelyear    run  displ  AT  audio  navi  damage  precord  \\\n",
      "0    5       0       2001  79046   1400   1      1     0       1        0   \n",
      "1    1       0       2001   2556   1600   1      1     0       0        0   \n",
      "2    4       1       2006  14172   1400   1      1     1       3        0   \n",
      "3    2       1       2008   4971   1400   1      1     0       0        0   \n",
      "4    2       1       2006  44282   1600   1      1     1       0        0   \n",
      "\n",
      "   price  area_kyoto  area_osaka  grade_GX  grade_S  grade_T  color_brack  \\\n",
      "0     95           0           1         0        0        1            0   \n",
      "1    146           0           0         1        0        0            0   \n",
      "2    130           0           0         0        0        0            0   \n",
      "3    135           1           0         0        1        0            0   \n",
      "4    125           0           0         0        1        0            0   \n",
      "\n",
      "   color_red  color_silver  color_white  \n",
      "0          0             1            0  \n",
      "1          0             1            0  \n",
      "2          0             0            1  \n",
      "3          0             0            0  \n",
      "4          0             0            1  \n"
     ]
    },
    {
     "name": "stderr",
     "output_type": "stream",
     "text": [
      "/Users/kozuzu931/.pyenv/versions/anaconda3-4.3.1/lib/python3.6/site-packages/ipykernel_launcher.py:4: DeprecationWarning: \n",
      ".ix is deprecated. Please use\n",
      ".loc for label based indexing or\n",
      ".iloc for positional indexing\n",
      "\n",
      "See the documentation here:\n",
      "http://pandas.pydata.org/pandas-docs/stable/indexing.html#ix-indexer-is-deprecated\n",
      "  after removing the cwd from sys.path.\n"
     ]
    }
   ],
   "source": [
    "dat = pd.read_csv(\"data/car.csv\", delimiter=\",\")\n",
    "dat = dat.drop([\"No\"], axis=1)\n",
    "dat = pd.get_dummies(dat, drop_first=True)\n",
    "dat = dat.ix[:, ['fix', 'dealer', 'modelyear', 'run', 'displ', 'AT', 'audio', 'navi', 'damage',\n",
    "       'precord', 'price', 'area_kyoto', 'area_osaka', 'grade_GX',\n",
    "       'grade_S', 'grade_T', 'color_brack', 'color_red', 'color_silver',\n",
    "       'color_white']]\n",
    "print(dat.head())"
   ]
  },
  {
   "cell_type": "markdown",
   "metadata": {},
   "source": [
    "### stepAICを使った独立変数の選定"
   ]
  },
  {
   "cell_type": "code",
   "execution_count": 5,
   "metadata": {},
   "outputs": [],
   "source": [
    "def step_aic(model, exog, endog, **kwargs):\n",
    "    \"\"\"\n",
    "    This select the best exogenous variables with AIC\n",
    "    Both exog and endog values can be either str or list.\n",
    "    (Endog list is for the Binomial family.)\n",
    "\n",
    "    Note: This adopt only \"forward\" selection\n",
    "\n",
    "    Args:\n",
    "        model: model from statsmodels.formula.api\n",
    "        exog (str or list): exogenous variables\n",
    "        endog (str or list): endogenous variables\n",
    "        kwargs: extra keyword argments for model (e.g., data, family)\n",
    "\n",
    "    Returns:\n",
    "        model: a model that seems to have the smallest AIC\n",
    "    \"\"\"\n",
    "\n",
    "    # exog, endogは強制的にリスト形式に変換しておく\n",
    "    exog = np.r_[[exog]].flatten()\n",
    "    endog = np.r_[[endog]].flatten()\n",
    "    remaining = set(exog)\n",
    "    selected = []  # 採用が確定された要因\n",
    "\n",
    "    # 定数項のみのAICを計算\n",
    "    formula_head = ' + '.join(endog) + ' ~ '\n",
    "    formula = formula_head + '1'\n",
    "    aic = model(formula=formula, **kwargs).fit().aic\n",
    "    print('AIC: {}, formula: {}'.format(round(aic, 3), formula))\n",
    "\n",
    "    current_score, best_new_score = np.ones(2) * aic\n",
    "\n",
    "    # 全要因を採択するか，どの要因を追加してもAICが上がらなければ終了\n",
    "    while remaining and current_score == best_new_score:\n",
    "        scores_with_candidates = []\n",
    "        for candidate in remaining:\n",
    "\n",
    "            # 残っている要因を1つずつ追加したときのAICを計算\n",
    "            formula_tail = ' + '.join(selected + [candidate])\n",
    "            formula = formula_head + formula_tail\n",
    "            aic = model(formula=formula, **kwargs).fit().aic\n",
    "            print('AIC: {}, formula: {}'.format(round(aic, 3), formula))\n",
    "\n",
    "            scores_with_candidates.append((aic, candidate))\n",
    "\n",
    "        # 最もAICが小さかった要因をbest_candidateとする\n",
    "        scores_with_candidates.sort()\n",
    "        scores_with_candidates.reverse()\n",
    "        best_new_score, best_candidate = scores_with_candidates.pop()\n",
    "\n",
    "        # 候補要因追加でAICが下がったならば，それを確定要因として追加する\n",
    "        if best_new_score < current_score:\n",
    "            remaining.remove(best_candidate)\n",
    "            selected.append(best_candidate)\n",
    "            current_score = best_new_score\n",
    "\n",
    "    formula = formula_head + ' + '.join(selected)\n",
    "    print('The best formula: {}'.format(formula))\n",
    "    return model(formula, **kwargs).fit()"
   ]
  },
  {
   "cell_type": "markdown",
   "metadata": {},
   "source": [
    "### 変数増加法により最も良いモデルを選択する"
   ]
  },
  {
   "cell_type": "code",
   "execution_count": 33,
   "metadata": {},
   "outputs": [
    {
     "name": "stdout",
     "output_type": "stream",
     "text": [
      "AIC: 3811.247, formula: fix ~ 1\n",
      "AIC: 3610.701, formula: fix ~ run\n",
      "AIC: 3812.729, formula: fix ~ navi\n",
      "AIC: 3810.571, formula: fix ~ damage\n",
      "AIC: 3812.512, formula: fix ~ grade_GX\n",
      "AIC: 3813.196, formula: fix ~ grade_S\n",
      "AIC: 3810.457, formula: fix ~ color_brack\n",
      "AIC: 3812.838, formula: fix ~ audio\n",
      "AIC: 3806.084, formula: fix ~ price\n",
      "AIC: 3812.553, formula: fix ~ color_silver\n",
      "AIC: 3812.002, formula: fix ~ area_kyoto\n",
      "AIC: 3813.096, formula: fix ~ grade_T\n",
      "AIC: 3805.42, formula: fix ~ color_white\n",
      "AIC: 3776.417, formula: fix ~ modelyear\n",
      "AIC: 3813.138, formula: fix ~ dealer\n",
      "AIC: 3807.724, formula: fix ~ precord\n",
      "AIC: 3812.245, formula: fix ~ displ\n",
      "AIC: 3813.207, formula: fix ~ color_red\n",
      "AIC: 3810.917, formula: fix ~ AT\n",
      "AIC: 3813.227, formula: fix ~ area_osaka\n",
      "AIC: 3612.361, formula: fix ~ run + navi\n",
      "AIC: 3609.773, formula: fix ~ run + damage\n",
      "AIC: 3606.196, formula: fix ~ run + grade_GX\n",
      "AIC: 3611.792, formula: fix ~ run + grade_S\n",
      "AIC: 3609.609, formula: fix ~ run + color_brack\n",
      "AIC: 3612.682, formula: fix ~ run + audio\n",
      "AIC: 3610.271, formula: fix ~ run + price\n",
      "AIC: 3612.297, formula: fix ~ run + color_silver\n",
      "AIC: 3611.048, formula: fix ~ run + area_kyoto\n",
      "AIC: 3612.692, formula: fix ~ run + grade_T\n",
      "AIC: 3604.859, formula: fix ~ run + color_white\n",
      "AIC: 3571.974, formula: fix ~ run + modelyear\n",
      "AIC: 3612.644, formula: fix ~ run + dealer\n",
      "AIC: 3606.212, formula: fix ~ run + precord\n",
      "AIC: 3611.974, formula: fix ~ run + displ\n",
      "AIC: 3612.693, formula: fix ~ run + color_red\n",
      "AIC: 3608.174, formula: fix ~ run + AT\n",
      "AIC: 3612.6, formula: fix ~ run + area_osaka\n",
      "AIC: 3573.496, formula: fix ~ run + modelyear + navi\n",
      "AIC: 3571.409, formula: fix ~ run + modelyear + damage\n",
      "AIC: 3567.778, formula: fix ~ run + modelyear + grade_GX\n",
      "AIC: 3572.791, formula: fix ~ run + modelyear + grade_S\n",
      "AIC: 3572.287, formula: fix ~ run + modelyear + color_brack\n",
      "AIC: 3573.925, formula: fix ~ run + modelyear + audio\n",
      "AIC: 3571.08, formula: fix ~ run + modelyear + price\n",
      "AIC: 3573.315, formula: fix ~ run + modelyear + color_silver\n",
      "AIC: 3572.247, formula: fix ~ run + modelyear + area_kyoto\n",
      "AIC: 3573.959, formula: fix ~ run + modelyear + grade_T\n",
      "AIC: 3567.426, formula: fix ~ run + modelyear + color_white\n",
      "AIC: 3573.968, formula: fix ~ run + modelyear + dealer\n",
      "AIC: 3567.243, formula: fix ~ run + modelyear + precord\n",
      "AIC: 3573.688, formula: fix ~ run + modelyear + displ\n",
      "AIC: 3573.963, formula: fix ~ run + modelyear + color_red\n",
      "AIC: 3571.021, formula: fix ~ run + modelyear + AT\n",
      "AIC: 3573.973, formula: fix ~ run + modelyear + area_osaka\n",
      "AIC: 3568.967, formula: fix ~ run + modelyear + precord + navi\n",
      "AIC: 3566.763, formula: fix ~ run + modelyear + precord + damage\n",
      "AIC: 3563.574, formula: fix ~ run + modelyear + precord + grade_GX\n",
      "AIC: 3568.061, formula: fix ~ run + modelyear + precord + grade_S\n",
      "AIC: 3566.743, formula: fix ~ run + modelyear + precord + color_brack\n",
      "AIC: 3569.211, formula: fix ~ run + modelyear + precord + audio\n",
      "AIC: 3568.118, formula: fix ~ run + modelyear + precord + price\n",
      "AIC: 3568.859, formula: fix ~ run + modelyear + precord + color_silver\n",
      "AIC: 3567.486, formula: fix ~ run + modelyear + precord + area_kyoto\n",
      "AIC: 3569.202, formula: fix ~ run + modelyear + precord + grade_T\n",
      "AIC: 3562.524, formula: fix ~ run + modelyear + precord + color_white\n",
      "AIC: 3569.235, formula: fix ~ run + modelyear + precord + dealer\n",
      "AIC: 3568.984, formula: fix ~ run + modelyear + precord + displ\n",
      "AIC: 3569.236, formula: fix ~ run + modelyear + precord + color_red\n",
      "AIC: 3566.533, formula: fix ~ run + modelyear + precord + AT\n",
      "AIC: 3569.233, formula: fix ~ run + modelyear + precord + area_osaka\n",
      "AIC: 3564.258, formula: fix ~ run + modelyear + precord + color_white + navi\n",
      "AIC: 3562.115, formula: fix ~ run + modelyear + precord + color_white + damage\n",
      "AIC: 3558.949, formula: fix ~ run + modelyear + precord + color_white + grade_GX\n",
      "AIC: 3563.408, formula: fix ~ run + modelyear + precord + color_white + grade_S\n",
      "AIC: 3564.119, formula: fix ~ run + modelyear + precord + color_white + color_brack\n",
      "AIC: 3564.515, formula: fix ~ run + modelyear + precord + color_white + audio\n",
      "AIC: 3563.988, formula: fix ~ run + modelyear + precord + color_white + price\n",
      "AIC: 3564.222, formula: fix ~ run + modelyear + precord + color_white + color_silver\n",
      "AIC: 3562.621, formula: fix ~ run + modelyear + precord + color_white + area_kyoto\n",
      "AIC: 3564.482, formula: fix ~ run + modelyear + precord + color_white + grade_T\n",
      "AIC: 3564.522, formula: fix ~ run + modelyear + precord + color_white + dealer\n",
      "AIC: 3564.242, formula: fix ~ run + modelyear + precord + color_white + displ\n",
      "AIC: 3564.289, formula: fix ~ run + modelyear + precord + color_white + color_red\n",
      "AIC: 3561.717, formula: fix ~ run + modelyear + precord + color_white + AT\n",
      "AIC: 3564.523, formula: fix ~ run + modelyear + precord + color_white + area_osaka\n",
      "AIC: 3560.642, formula: fix ~ run + modelyear + precord + color_white + grade_GX + navi\n",
      "AIC: 3558.178, formula: fix ~ run + modelyear + precord + color_white + grade_GX + damage\n",
      "AIC: 3560.857, formula: fix ~ run + modelyear + precord + color_white + grade_GX + grade_S\n",
      "AIC: 3560.501, formula: fix ~ run + modelyear + precord + color_white + grade_GX + color_brack\n",
      "AIC: 3560.947, formula: fix ~ run + modelyear + precord + color_white + grade_GX + audio\n",
      "AIC: 3559.436, formula: fix ~ run + modelyear + precord + color_white + grade_GX + price\n",
      "AIC: 3560.544, formula: fix ~ run + modelyear + precord + color_white + grade_GX + color_silver\n",
      "AIC: 3558.985, formula: fix ~ run + modelyear + precord + color_white + grade_GX + area_kyoto\n",
      "AIC: 3559.898, formula: fix ~ run + modelyear + precord + color_white + grade_GX + grade_T\n",
      "AIC: 3560.948, formula: fix ~ run + modelyear + precord + color_white + grade_GX + dealer\n",
      "AIC: 3560.647, formula: fix ~ run + modelyear + precord + color_white + grade_GX + displ\n",
      "AIC: 3560.708, formula: fix ~ run + modelyear + precord + color_white + grade_GX + color_red\n",
      "AIC: 3558.398, formula: fix ~ run + modelyear + precord + color_white + grade_GX + AT\n",
      "AIC: 3560.91, formula: fix ~ run + modelyear + precord + color_white + grade_GX + area_osaka\n",
      "AIC: 3559.837, formula: fix ~ run + modelyear + precord + color_white + grade_GX + damage + navi\n",
      "AIC: 3560.07, formula: fix ~ run + modelyear + precord + color_white + grade_GX + damage + grade_S\n",
      "AIC: 3559.699, formula: fix ~ run + modelyear + precord + color_white + grade_GX + damage + color_brack\n",
      "AIC: 3560.176, formula: fix ~ run + modelyear + precord + color_white + grade_GX + damage + audio\n",
      "AIC: 3559.882, formula: fix ~ run + modelyear + precord + color_white + grade_GX + damage + price\n",
      "AIC: 3559.783, formula: fix ~ run + modelyear + precord + color_white + grade_GX + damage + color_silver\n",
      "AIC: 3558.346, formula: fix ~ run + modelyear + precord + color_white + grade_GX + damage + area_kyoto\n",
      "AIC: 3559.086, formula: fix ~ run + modelyear + precord + color_white + grade_GX + damage + grade_T\n",
      "AIC: 3560.178, formula: fix ~ run + modelyear + precord + color_white + grade_GX + damage + dealer\n",
      "AIC: 3559.896, formula: fix ~ run + modelyear + precord + color_white + grade_GX + damage + displ\n",
      "AIC: 3559.957, formula: fix ~ run + modelyear + precord + color_white + grade_GX + damage + color_red\n",
      "AIC: 3557.588, formula: fix ~ run + modelyear + precord + color_white + grade_GX + damage + AT\n",
      "AIC: 3560.167, formula: fix ~ run + modelyear + precord + color_white + grade_GX + damage + area_osaka\n",
      "AIC: 3559.313, formula: fix ~ run + modelyear + precord + color_white + grade_GX + damage + AT + navi\n",
      "AIC: 3559.512, formula: fix ~ run + modelyear + precord + color_white + grade_GX + damage + AT + grade_S\n",
      "AIC: 3559.11, formula: fix ~ run + modelyear + precord + color_white + grade_GX + damage + AT + color_brack\n",
      "AIC: 3559.587, formula: fix ~ run + modelyear + precord + color_white + grade_GX + damage + AT + audio\n",
      "AIC: 3559.203, formula: fix ~ run + modelyear + precord + color_white + grade_GX + damage + AT + price\n",
      "AIC: 3559.193, formula: fix ~ run + modelyear + precord + color_white + grade_GX + damage + AT + color_silver\n",
      "AIC: 3558.02, formula: fix ~ run + modelyear + precord + color_white + grade_GX + damage + AT + area_kyoto\n",
      "AIC: 3558.535, formula: fix ~ run + modelyear + precord + color_white + grade_GX + damage + AT + grade_T\n"
     ]
    },
    {
     "name": "stdout",
     "output_type": "stream",
     "text": [
      "AIC: 3559.588, formula: fix ~ run + modelyear + precord + color_white + grade_GX + damage + AT + dealer\n",
      "AIC: 3559.242, formula: fix ~ run + modelyear + precord + color_white + grade_GX + damage + AT + displ\n",
      "AIC: 3559.331, formula: fix ~ run + modelyear + precord + color_white + grade_GX + damage + AT + color_red\n",
      "AIC: 3559.584, formula: fix ~ run + modelyear + precord + color_white + grade_GX + damage + AT + area_osaka\n",
      "The best formula: fix ~ run + modelyear + precord + color_white + grade_GX + damage + AT\n"
     ]
    }
   ],
   "source": [
    "model = step_aic(smf.glm, ['dealer', 'modelyear', 'run', 'displ', 'AT', 'audio', 'navi', 'damage',\n",
    "       'precord', 'price', 'area_kyoto', 'area_osaka', 'grade_GX',\n",
    "       'grade_S', 'grade_T', 'color_brack', 'color_red', 'color_silver',\n",
    "       'color_white'], ['fix'], data=dat, family=sm.families.Poisson())"
   ]
  },
  {
   "cell_type": "markdown",
   "metadata": {},
   "source": [
    "### ポアソン回帰の実行 Execution of Poisson regression"
   ]
  },
  {
   "cell_type": "code",
   "execution_count": 34,
   "metadata": {},
   "outputs": [
    {
     "name": "stdout",
     "output_type": "stream",
     "text": [
      "                 Generalized Linear Model Regression Results                  \n",
      "==============================================================================\n",
      "Dep. Variable:                    fix   No. Observations:                 1000\n",
      "Model:                            GLM   Df Residuals:                      992\n",
      "Model Family:                 Poisson   Df Model:                            7\n",
      "Link Function:                    log   Scale:                          1.0000\n",
      "Method:                          IRLS   Log-Likelihood:                -1770.8\n",
      "Date:                Mon, 21 Jan 2019   Deviance:                       1098.0\n",
      "Time:                        17:10:39   Pearson chi2:                     980.\n",
      "No. Iterations:                     5   Covariance Type:             nonrobust\n",
      "===============================================================================\n",
      "                  coef    std err          z      P>|z|      [0.025      0.975]\n",
      "-------------------------------------------------------------------------------\n",
      "Intercept     -97.5966     15.919     -6.131      0.000    -128.797     -66.396\n",
      "run          1.322e-05   9.13e-07     14.486      0.000    1.14e-05     1.5e-05\n",
      "modelyear       0.0487      0.008      6.133      0.000       0.033       0.064\n",
      "precord         0.2136      0.084      2.530      0.011       0.048       0.379\n",
      "color_white     0.1129      0.043      2.599      0.009       0.028       0.198\n",
      "grade_GX        0.1117      0.047      2.401      0.016       0.021       0.203\n",
      "damage          0.0277      0.016      1.692      0.091      -0.004       0.060\n",
      "AT              0.1588      0.101      1.571      0.116      -0.039       0.357\n",
      "===============================================================================\n"
     ]
    }
   ],
   "source": [
    "# モデルの設定 Construct a generalized linear model\n",
    "model = smf.glm(formula = \"fix ~ run + modelyear + precord + color_white + grade_GX + damage + AT\", data = dat, family=sm.families.Poisson())\n",
    "# 回帰分析の実行 Execution of Poisson regression \n",
    "results = model.fit()\n",
    "# 結果を表示　Print results\n",
    "print(results.summary())"
   ]
  },
  {
   "cell_type": "code",
   "execution_count": 36,
   "metadata": {},
   "outputs": [
    {
     "name": "stdout",
     "output_type": "stream",
     "text": [
      "0    1.714332\n",
      "dtype: float64\n"
     ]
    }
   ],
   "source": [
    "#fixの予測\n",
    "print(results.predict(pd.DataFrame({\"run\": [5000], \"modelyear\": [2007], \"precord\": [0], \"color_white\": [1], \"grade_GX\": [0], \"damage\": [0], \"AT\":[1]})))"
   ]
  }
 ],
 "metadata": {
  "kernelspec": {
   "display_name": "Python 3",
   "language": "python",
   "name": "python3"
  },
  "language_info": {
   "codemirror_mode": {
    "name": "ipython",
    "version": 3
   },
   "file_extension": ".py",
   "mimetype": "text/x-python",
   "name": "python",
   "nbconvert_exporter": "python",
   "pygments_lexer": "ipython3",
   "version": "3.6.5"
  },
  "toc": {
   "base_numbering": 1,
   "nav_menu": {},
   "number_sections": true,
   "sideBar": true,
   "skip_h1_title": false,
   "title_cell": "Table of Contents",
   "title_sidebar": "Contents",
   "toc_cell": false,
   "toc_position": {},
   "toc_section_display": true,
   "toc_window_display": false
  }
 },
 "nbformat": 4,
 "nbformat_minor": 2
}
