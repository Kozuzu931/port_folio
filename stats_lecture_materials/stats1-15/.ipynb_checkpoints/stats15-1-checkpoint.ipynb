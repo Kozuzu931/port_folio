{
 "cells": [
  {
   "cell_type": "markdown",
   "metadata": {
    "collapsed": true
   },
   "source": [
    "### 標本分散と不偏分散\n",
    "### The biased and unbiased estimator of the population variance"
   ]
  },
  {
   "cell_type": "code",
   "execution_count": 1,
   "metadata": {},
   "outputs": [],
   "source": [
    "import numpy as np\n",
    "import scipy.stats as ss"
   ]
  },
  {
   "cell_type": "markdown",
   "metadata": {},
   "source": [
    "#### 母集団を平均10分散100の正規分布とする．つまり母分散は100\n",
    "#### The population is the normal distribution with mean 10 and variance 100. Then, the population variance is 100"
   ]
  },
  {
   "cell_type": "code",
   "execution_count": 16,
   "metadata": {},
   "outputs": [],
   "source": [
    "gauss = ss.norm(loc=10, scale=10)"
   ]
  },
  {
   "cell_type": "markdown",
   "metadata": {},
   "source": [
    "#### 標本分散 The biased estimator of the population variance"
   ]
  },
  {
   "cell_type": "code",
   "execution_count": 21,
   "metadata": {},
   "outputs": [],
   "source": [
    "# 標本分散を格納する配列を用意\n",
    "sample_var_array = np.zeros(10000)\n",
    "\n",
    "# サンプルサイズが10個の標本から標本分散を求める試行を10000回繰り返す\n",
    "# Repeat trials 10000 times to obtain the biased estimator of the population variance from samples\n",
    "np.random.seed(1)\n",
    "for i in range(0, 10000):\n",
    "    sample = gauss.rvs(size=1000) # 母集団からサンプルサイズが10個の標本を得る Generate samples from the population\n",
    "    sample_var_array[i] = np.var(sample)# 標本分散を求める Calculate the biased estimator of the population variance"
   ]
  },
  {
   "cell_type": "code",
   "execution_count": 22,
   "metadata": {},
   "outputs": [
    {
     "data": {
      "text/plain": [
       "99.85664887067662"
      ]
     },
     "execution_count": 22,
     "metadata": {},
     "output_type": "execute_result"
    }
   ],
   "source": [
    "# 10000試行における標本分散の平均値 Calculate the mean of the biased estimator of the population variance for 10000 trials  \n",
    "np.mean(sample_var_array)"
   ]
  },
  {
   "cell_type": "markdown",
   "metadata": {},
   "source": [
    "#### 不偏分散 The unbiased estimator of the population variance"
   ]
  },
  {
   "cell_type": "code",
   "execution_count": 23,
   "metadata": {},
   "outputs": [],
   "source": [
    "# 不偏分散を格納する配列を用意\n",
    "unbias_var_array = np.zeros(10000)\n",
    "\n",
    "# サンプルサイズが10個の標本から不偏分散を求める試行を10000回繰り返す\n",
    "# Repeat trials 10000 times to obtain the unbiased estimator of the population variance from samples\n",
    "np.random.seed(1)\n",
    "for i in range(0, 10000):\n",
    "    sample = gauss.rvs(size=1000) # 母集団からサンプルサイズが10個の標本を得る Generate samples from the population\n",
    "    unbias_var_array[i] = np.var(sample, ddof=1) # 不偏分散を求める Calculate the unbiased estimator of the population variance"
   ]
  },
  {
   "cell_type": "code",
   "execution_count": 24,
   "metadata": {},
   "outputs": [
    {
     "data": {
      "text/plain": [
       "99.95660547615276"
      ]
     },
     "execution_count": 24,
     "metadata": {},
     "output_type": "execute_result"
    }
   ],
   "source": [
    "# 10000試行における不偏分散の平均値 Calculate the mean of the unbiased estimator of the population variance for 10000 trials \n",
    "np.mean(unbias_var_array)"
   ]
  },
  {
   "cell_type": "code",
   "execution_count": null,
   "metadata": {},
   "outputs": [],
   "source": []
  }
 ],
 "metadata": {
  "kernelspec": {
   "display_name": "Python 3",
   "language": "python",
   "name": "python3"
  },
  "language_info": {
   "codemirror_mode": {
    "name": "ipython",
    "version": 3
   },
   "file_extension": ".py",
   "mimetype": "text/x-python",
   "name": "python",
   "nbconvert_exporter": "python",
   "pygments_lexer": "ipython3",
   "version": "3.6.5"
  }
 },
 "nbformat": 4,
 "nbformat_minor": 2
}
