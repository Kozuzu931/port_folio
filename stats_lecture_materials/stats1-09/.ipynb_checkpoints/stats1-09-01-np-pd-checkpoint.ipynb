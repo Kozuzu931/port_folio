{
 "cells": [
  {
   "cell_type": "markdown",
   "metadata": {},
   "source": [
    "<!-- dom:TITLE: 1クォーターのまとめ　Review and Exercises of 1st quarter -->\n",
    "# 1クォーターのまとめ　Review and Exercises of 1st quarter\n",
    "<!-- dom:AUTHOR: 曹巍 Email:cao@iniad.org -->\n",
    "<!-- Author: -->  \n",
    "**曹巍** (email: `cao@iniad.org`)\n",
    "\n",
    "Date: **2018.06.11**\n",
    "\n",
    "**Summary.** stats1-09では、今まで学習した内容を応用し、自分のスキルを向上させます。  \n",
    "In stats1-09, you will apply your knowledge and improve the skills you’ve learned \n",
    "until now.\n",
    "\n",
    "\n",
    "\n",
    "\n",
    "\n",
    "\n",
    "\n",
    "\n",
    "\n",
    "# Numpy\n",
    "\n",
    "### 1.  パッケージ・モジュールをインポットする　Import packages\n",
    "\n",
    "1. import the numpy pacakge under the name `np`  \n",
    "2. import the matplotlib's pyplot package under the name `plt`  \n",
    "3. import the pandas package under the name `pd`   \n",
    "4. import the random package\n",
    "5. import the scipy's stats package under the name `ss`\n",
    "6. import the statsmodels' api package under the name `sm`\n",
    "\n",
    "(**hint**: import … as …)"
   ]
  },
  {
   "cell_type": "code",
   "execution_count": 2,
   "metadata": {},
   "outputs": [],
   "source": [
    "### write down your code here\n",
    "import numpy as np\n",
    "import matplotlib.pyplot as plt\n",
    "import pandas as pd\n",
    "import random\n",
    "import scipy.stats as ss\n",
    "import statsmodels as sm"
   ]
  },
  {
   "cell_type": "markdown",
   "metadata": {},
   "source": [
    "### 2. 要素10個を含めるベクトルを作成し、５番目の要素を１に設定する Create a null vector of size 10 but the fifth value which is 1\n",
    "\n",
    "X = np.zeros(10) will create a null vector of size 10\n",
    "\n",
    "[0. 0. 0. 0. 0. 0. 0. 0. 0. 0.]\n",
    "\n",
    "Desired output:  \n",
    "[0. 0. 0. 0. 1. 0. 0. 0. 0. 0.]\n",
    "\n",
    "(**hint**: np.zeros(), array\\[4\\])"
   ]
  },
  {
   "cell_type": "code",
   "execution_count": 2,
   "metadata": {
    "collapsed": true
   },
   "outputs": [],
   "source": [
    "### write down your code here\n",
    "X = np.zeros(10)\n"
   ]
  },
  {
   "cell_type": "markdown",
   "metadata": {},
   "source": [
    "### 3. 境界部分に1、内部に0を持つ2次元配列を作成する Create a 2d array with 1 on the border and 0 inside\n",
    "\n",
    "下記のよう配列を作ってください。  \n",
    "Create the 2d array as follows,  \n",
    "\n",
    "[[1. 1. 1. 1. 1. 1. 1. 1. 1. 1.]  \n",
    " [1. 0. 0. 0. 0. 0. 0. 0. 0. 1.]  \n",
    " [1. 0. 0. 0. 0. 0. 0. 0. 0. 1.]  \n",
    " [1. 0. 0. 0. 0. 0. 0. 0. 0. 1.]  \n",
    " [1. 0. 0. 0. 0. 0. 0. 0. 0. 1.]  \n",
    " [1. 0. 0. 0. 0. 0. 0. 0. 0. 1.]  \n",
    " [1. 0. 0. 0. 0. 0. 0. 0. 0. 1.]  \n",
    " [1. 0. 0. 0. 0. 0. 0. 0. 0. 1.]  \n",
    " [1. 0. 0. 0. 0. 0. 0. 0. 0. 1.]  \n",
    " [1. 1. 1. 1. 1. 1. 1. 1. 1. 1.]]\n",
    " \n",
    " (**hint**: np.ones()関数, np.ones())"
   ]
  },
  {
   "cell_type": "code",
   "execution_count": 3,
   "metadata": {
    "collapsed": true
   },
   "outputs": [],
   "source": [
    "### write down your code here"
   ]
  },
  {
   "cell_type": "markdown",
   "metadata": {},
   "source": [
    "### 4. 1d配列の要素を逆順で表示する。Show elements or an array in reverse order\n",
    "\n",
    "X = np.arange(50) will generate a 1d array as follows,   \n",
    "[ 0  1  2  3  4  5  6  7  8  9 10 11 12 13 14 15 16 17 18 19 20 21 22 23  \n",
    " 24 25 26 27 28 29 30 31 32 33 34 35 36 37 38 39 40 41 42 43 44 45 46 47  \n",
    " 48 49]  \n",
    "\n",
    "Desired output:  \n",
    "\n",
    "[49 48 47 46 45 44 43 42 41 40 39 38 37 36 35 34 33 32 31 30 29 28 27 26  \n",
    " 25 24 23 22 21 20 19 18 17 16 15 14 13 12 11 10  9  8  7  6  5  4  3  2  \n",
    "  1  0]\n",
    " \n",
    "(**hint**: array[start:stop:step])"
   ]
  },
  {
   "cell_type": "code",
   "execution_count": 4,
   "metadata": {
    "collapsed": true
   },
   "outputs": [],
   "source": [
    "### write down your code here"
   ]
  },
  {
   "cell_type": "markdown",
   "metadata": {},
   "source": [
    "### 5. 0から8までの数字を用いて、3x3のマトリクスを作成する　Create a 3x3 matrix with values ranging from 0 to 8\n",
    "\n",
    "以下のようなマトリクスを作成しよう。  \n",
    "[[0 1 2]  \n",
    " [3 4 5]  \n",
    " [6 7 8]]  \n",
    "\n",
    "(**hint**: np.reshape())"
   ]
  },
  {
   "cell_type": "code",
   "execution_count": 5,
   "metadata": {
    "collapsed": true
   },
   "outputs": [],
   "source": [
    "### write down your code here"
   ]
  },
  {
   "cell_type": "markdown",
   "metadata": {},
   "source": [
    "### 6. 10x10 乱数の配列を作成し、その中に最大値と最小値を表示する。Create a 10x10 array with random values and find the minimum and maximum values\n",
    "\n",
    "(**hint**: np.random.random, min(), max())"
   ]
  },
  {
   "cell_type": "code",
   "execution_count": 6,
   "metadata": {
    "collapsed": true
   },
   "outputs": [],
   "source": [
    "### write down your code here"
   ]
  },
  {
   "cell_type": "markdown",
   "metadata": {},
   "source": [
    "### 7. Numpyのスライシング I　Numpy slicing I\n",
    "\n",
    "X = [[0 1 2]  \n",
    "     [3 4 5]  \n",
    "     [6 7 8]]  \n",
    "\n",
    "Desired output:\n",
    "\n",
    "[[0 1]  \n",
    " [3 4]  \n",
    " [6 7]]  \n",
    "\n",
    "(**hint**: X[rows, cols])"
   ]
  },
  {
   "cell_type": "code",
   "execution_count": 7,
   "metadata": {
    "collapsed": true
   },
   "outputs": [],
   "source": [
    "### write down your code here"
   ]
  },
  {
   "cell_type": "markdown",
   "metadata": {},
   "source": [
    "### 8. Numpyのスライシング II　Numpy slicing II\n",
    "\n",
    "X = [[0 1 2]  \n",
    "     [3 4 5]  \n",
    "     [6 7 8]]  \n",
    "\n",
    "Desired output:\n",
    "\n",
    "[[0 1 2]  \n",
    " [3 4 5]]  \n",
    "\n",
    "(**hint**: X[rows, cols])"
   ]
  },
  {
   "cell_type": "code",
   "execution_count": 8,
   "metadata": {
    "collapsed": true
   },
   "outputs": [],
   "source": [
    "### write down your code here"
   ]
  },
  {
   "cell_type": "markdown",
   "metadata": {},
   "source": [
    "### 9. Numpyのスライシング　Numpy slicing\n",
    "\n",
    "X = np.array([[0, 1, 2], [3, 4, 5], [6, 7, 8]])  \n",
    "\n",
    "Desired output: \n",
    "4  \n",
    "\n",
    "(**hint**: X[rows, cols])"
   ]
  },
  {
   "cell_type": "code",
   "execution_count": 9,
   "metadata": {
    "collapsed": true
   },
   "outputs": [],
   "source": [
    "### write down your code here"
   ]
  },
  {
   "cell_type": "markdown",
   "metadata": {},
   "source": [
    "## 要素ごとでの操作　Elementwise operations\n",
    "\n",
    "### 10. 2つ配列間の要素ごとの差を計算する　Computing element-wised differences between two arrays\n",
    "\n",
    "x1 = np.array([5, 6, 7, 8])  \n",
    "x2 = np.array([1, 2, 3, 4])  \n",
    "\n",
    "x1とx2の間の要素ごとの差:  \n",
    "\n",
    "4, 4, 4, 4\n",
    "\n",
    "(**hint**: npは+, -の操作をサポートする、np array supports computations of + and - )"
   ]
  },
  {
   "cell_type": "code",
   "execution_count": 10,
   "metadata": {
    "collapsed": true
   },
   "outputs": [],
   "source": [
    "### write down your code here"
   ]
  },
  {
   "cell_type": "markdown",
   "metadata": {},
   "source": [
    "### 11. 2つ配列間の要素ごとの和を計算する　Computing element-wised sums between two arrays\n",
    "\n",
    "x1 = np.array([5, 6, 7, 8])  \n",
    "x2 = np.array([1, 2, 3, 4])  \n",
    "\n",
    "x1とx2の間の要素ごとの差:  \n",
    "6, 8, 10, 12\n",
    "\n",
    "(**hint**: npは+, -の操作をサポートする、np array supports computations of + and - )"
   ]
  },
  {
   "cell_type": "code",
   "execution_count": 11,
   "metadata": {
    "collapsed": true
   },
   "outputs": [],
   "source": [
    "### write down your code here"
   ]
  },
  {
   "cell_type": "markdown",
   "metadata": {},
   "source": [
    "### 12. 2d配列の(列ごとや行ごと)和を計算する　Computing sums by rows or columns for a 2d array\n",
    "\n",
    "x = np.array([[1, 2, 3, 4],[5, 6, 7, 8]])  \n",
    "\n",
    "列ごとの和(sums by columns):   \n",
    "6, 8, 10, 12\n",
    "\n",
    "行ごとの和(sums by rows):   \n",
    "10\n",
    "26\n",
    "\n",
    "<!-- dom:FIGURE: [Figs/axis.png, width=200] -->\n",
    "<!-- begin figure -->\n",
    "\n",
    "<p></p>\n",
    "<img src=\"Figs/axis.png\" width=200>\n",
    "\n",
    "<!-- end figure -->\n",
    "\n",
    "\n",
    "(**hint**: axisを指定して、行と列ごとで計算する。conduct row-wised computations via axis option)"
   ]
  },
  {
   "cell_type": "code",
   "execution_count": 12,
   "metadata": {
    "collapsed": true
   },
   "outputs": [],
   "source": [
    "### 列ごとの和(sums by columns)\n",
    "\n",
    "### 行ごとの和(sums by rows):"
   ]
  },
  {
   "cell_type": "markdown",
   "metadata": {},
   "source": [
    "### 13. 2d配列の最大値と最小値を計算する　find the maximum and minimum in a 2d array\n",
    "\n",
    "x = np.array([[1, 2, 3, 4],[5, 6, 7, 8]])  \n",
    "\n",
    "1.xの中に最大値と最小値を求めよ Find the maximum and minimum in x:  \n",
    "最大値: 8  最小値: 1\n",
    "\n",
    "2.xに対して、行ごとで最大値と最小値を求めよ Find the maximum and minimum in x for rows:  \n",
    "最大値: 4, 8\n",
    "最小値: 1, 5\n",
    "\n",
    "3. xに対して、列ごとで最大値と最小値を求めよ Find the maximum and minimum in x for columns:  \n",
    "最大値: 5, 6, 7, 8\n",
    "最小値: 1, 2, 3, 4\n",
    "(**hint**: axisを指定して、行と列ごとで計算する。conduct row-wised computations via axis option)"
   ]
  },
  {
   "cell_type": "code",
   "execution_count": 13,
   "metadata": {
    "collapsed": true
   },
   "outputs": [],
   "source": [
    "### xの中に最大値と最小値を求めよ Find the maximum and minimum in x:  \n",
    "\n",
    "### xに対して、行ごとで最大値と最小値を求めよ Find the maximum and minimum in x for rows:  \n",
    "\n",
    "### xに対して、列ごとで最大値と最小値を求めよ Find the maximum and minimum in x for columns:"
   ]
  },
  {
   "cell_type": "markdown",
   "metadata": {},
   "source": [
    "# Pandas\n",
    "\n",
    "### 14.  Create pandas's series from 1d list\n",
    "\n",
    "以下のpythonリスト**x**からPandasのSeries(x_series)に変更して、\n",
    "'a', 'b', 'c', 'd'をインデックスとして使えるようにしてください。\n",
    "\n",
    "Create a pandas series named x_series indexed by 'a', 'b', 'c', 'd' from a list\n",
    "**x** = [10, 20, 30, 40]"
   ]
  },
  {
   "cell_type": "code",
   "execution_count": 14,
   "metadata": {
    "collapsed": true
   },
   "outputs": [],
   "source": [
    "### Write down your code here \n",
    "x_series =  ..."
   ]
  },
  {
   "cell_type": "markdown",
   "metadata": {},
   "source": [
    "### 15.  Create pandas's dataframe from 2d list\n",
    "\n",
    "以下のpythonリスト**x**からPandasのDataframe(x_dataframe)に変更して、\n",
    "'a', 'b', 'c', 'd'を列のインデックス、'e','f'を行のインデックスとして\n",
    "使えるようにしてください。\n",
    "\n",
    "Create a pandas dataframe named x_dataframe whose columns are indexed by 'a', 'b', 'c', 'd'\n",
    "and whose rows are indexed by 'e' and 'f' from the following list   \n",
    "**x** = [[19, 20, 21, 22], [39, 40, 41, 42]]"
   ]
  },
  {
   "cell_type": "code",
   "execution_count": 15,
   "metadata": {
    "collapsed": true
   },
   "outputs": [],
   "source": [
    "### Write down your code here \n",
    "x_dataframe = ..."
   ]
  },
  {
   "cell_type": "markdown",
   "metadata": {},
   "source": [
    "# リスト内包 List Comprehension\n",
    "### 16. 要素の２乗 Square of each elements\n",
    "\n",
    "s = [0, 1, 2, 3, 4, 5, 6, 7, 8, 9]\n",
    "\n",
    "sの要素の２乗 (Square of each elements in s):  \n",
    "[0, 1, 4, 9, 16, 25, 36, 49, 64, 81]"
   ]
  },
  {
   "cell_type": "code",
   "execution_count": 16,
   "metadata": {
    "collapsed": true
   },
   "outputs": [],
   "source": [
    "### sの要素の２乗 (Square of each elements in s):"
   ]
  },
  {
   "cell_type": "markdown",
   "metadata": {},
   "source": [
    "# numpy's linspace()\n",
    "\n",
    "### 17. numpy's linspace()\n",
    "\n",
    "numpyのlinspace() 関数:  ある範囲に対して、等間隔な数列を生成する関数です.  \n",
    "Function __linspace()__:  Generate an evenly spaced numbers over a specified interval.   \n",
    "\n",
    "構文: linespace(開始点, 終点, num=50, endpoint=True, retstep=False, dtype=None)  \n",
    "syntax: linspace(start, stop, num=50, endpoint=True, retstep=False, dtype=None)  \n",
    "\n",
    "\n",
    "**問題**: linspace()で数列 0, 1, 2, 3, 4, 5を生成します\n",
    "\n",
    "(Generate a numpy array containing 0,1,2,3,4,5)"
   ]
  },
  {
   "cell_type": "code",
   "execution_count": 17,
   "metadata": {
    "collapsed": true
   },
   "outputs": [],
   "source": [
    "### write down your code here"
   ]
  },
  {
   "cell_type": "markdown",
   "metadata": {},
   "source": [
    "# ファイルの読み込みと書き込み　Read and write files\n",
    "\n",
    "### 18. ファイルの読み込み\n",
    "\n",
    "1. numpy's loadtxt() 複数列のテキストファイルを読み込みます。\n",
    "\n",
    "2. numpy's genfromtxt() テキストファイルから数値データを読み込み、欠損値を指定どおりに処理します。\n",
    "\n",
    "3. pandas' read_csv() 区切られたデータをファイルから読み込みます。 一般に、カンマは区切り記号として使用されます。\n",
    "\n",
    "4. pandas' read_excel() excelファイルを読み込みます。\n",
    "\n",
    "データファイル「ToothGrowth.csv」をloadtxt(), genfromtxt()とread_csv()で練習してください。"
   ]
  },
  {
   "cell_type": "code",
   "execution_count": 18,
   "metadata": {
    "collapsed": true
   },
   "outputs": [],
   "source": [
    "### loadtxt():\n",
    "\n",
    "### genfromtxt():\n",
    "\n",
    "### read_csv():"
   ]
  },
  {
   "cell_type": "markdown",
   "metadata": {},
   "source": [
    "### 19. ファイルの書き込み\n",
    "\n",
    "1. numpy's save() 配列をNumPy形式のバイナリファイルに保存します。\n",
    "\n",
    "2. numpy's savetxt() 配列をテキストファイルに保存する。\n",
    "\n",
    "以下のような乱数の配列**x**(100x100)を「rand_data.csv」というcsvファイルに書き込んでください。  \n",
    "**x** = np.random.random((100, 100))"
   ]
  },
  {
   "cell_type": "code",
   "execution_count": 19,
   "metadata": {
    "collapsed": true
   },
   "outputs": [],
   "source": [
    "### savetxt():"
   ]
  }
 ],
 "metadata": {
  "kernelspec": {
   "display_name": "Python 3",
   "language": "python",
   "name": "python3"
  },
  "language_info": {
   "codemirror_mode": {
    "name": "ipython",
    "version": 3
   },
   "file_extension": ".py",
   "mimetype": "text/x-python",
   "name": "python",
   "nbconvert_exporter": "python",
   "pygments_lexer": "ipython3",
   "version": "3.6.2"
  }
 },
 "nbformat": 4,
 "nbformat_minor": 2
}
