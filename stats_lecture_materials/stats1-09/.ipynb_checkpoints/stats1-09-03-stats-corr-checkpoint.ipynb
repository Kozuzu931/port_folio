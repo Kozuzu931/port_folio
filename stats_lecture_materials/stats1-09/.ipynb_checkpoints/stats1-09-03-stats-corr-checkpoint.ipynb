{
 "cells": [
  {
   "cell_type": "markdown",
   "metadata": {},
   "source": [
    "<!-- dom:TITLE: 1クォーターのまとめ　Review and Exercises of 1st quarter -->\n",
    "# 1クォーターのまとめ　Review and Exercises of 1st quarter\n",
    "<!-- dom:AUTHOR: 曹巍 Email:cao@iniad.org -->\n",
    "<!-- Author: -->  \n",
    "**曹巍** (email: `cao@iniad.org`)\n",
    "\n",
    "Date: **2018.06.11**\n",
    "\n",
    "# 必要なパッケージ・モジュールをインポットする import necessary packages\n",
    "1. import the numpy pacakge under the name `np`  \n",
    "2. import the matplotlib's pyplot package under the name `plt`"
   ]
  },
  {
   "cell_type": "code",
   "execution_count": 1,
   "metadata": {
    "collapsed": true
   },
   "outputs": [],
   "source": [
    "### write down your code here\n",
    "import numpy as np\n",
    "import matplotlib.pyplot as plt"
   ]
  },
  {
   "cell_type": "markdown",
   "metadata": {},
   "source": [
    "# Statistical measurements and correlation  coefficient\n",
    "\n",
    "### 1. 平均値 Mean\n",
    "\n",
    "平均値の計算式(The formal mathematical formula for mean):  \n",
    "$$\\mu=\\frac{1}{n}\\sum_{i}x_{i}$$\n",
    "\n",
    "以下の配列において、平均値を計算してください。Find the mean of the following array \n",
    "(自作関数或いは他のパッケージの関数を使ってください, use self-defined functions or functions in other existed packages)\n",
    "\n",
    "[1,4,3,2,6,4,4,3,6,2]"
   ]
  },
  {
   "cell_type": "code",
   "execution_count": 2,
   "metadata": {},
   "outputs": [
    {
     "data": {
      "text/plain": [
       "3.5"
      ]
     },
     "execution_count": 2,
     "metadata": {},
     "output_type": "execute_result"
    }
   ],
   "source": [
    "### write down your code here\n",
    "np.mean([1,4,3,2,6,4,4,3,6,2])"
   ]
  },
  {
   "cell_type": "markdown",
   "metadata": {},
   "source": [
    "### 2. 中央値 median\n",
    "\n",
    " 以下の配列において、中央値を計算してください。Find the median of the following array \n",
    " (自作関数或いは他のパッケージの関数を使ってください, use self-defined functions or functions in other existed packages)\n",
    "\n",
    " [1,4,3,2,6,4,4,3,6,2]"
   ]
  },
  {
   "cell_type": "code",
   "execution_count": 3,
   "metadata": {
    "collapsed": true
   },
   "outputs": [],
   "source": [
    "### write down your code here"
   ]
  },
  {
   "cell_type": "markdown",
   "metadata": {},
   "source": [
    "### 3.  分散 variance\n",
    "\n",
    "分散の計算式（The formal mathematical formula for variance）:"
   ]
  },
  {
   "cell_type": "markdown",
   "metadata": {},
   "source": [
    "$$\n",
    "\\sigma^2 = \\frac{1}{n}\\sum_{i} (x_{i} = \\mu)^2\n",
    "$$"
   ]
  },
  {
   "cell_type": "markdown",
   "metadata": {},
   "source": [
    "以下の配列において, 分散を計算してください。Find the variance of the following array \n",
    " (自作関数或いは他のパッケージの関数を使ってください, use self-defined functions or functions in other existed packages)\n",
    "\n",
    " [1,4,3,2,6,4,4,3,6,2]"
   ]
  },
  {
   "cell_type": "code",
   "execution_count": 4,
   "metadata": {
    "collapsed": true
   },
   "outputs": [],
   "source": [
    "### write down your code here"
   ]
  },
  {
   "cell_type": "markdown",
   "metadata": {},
   "source": [
    "### 4.  標準偏差　standard deviation\n",
    "\n",
    "標準偏差の計算式（The formal mathematical formula for standard deviation）: \n",
    "\n",
    "$$ \\sigma^2 = \\frac{1}{n}\\sum_{i} (x_{i} = \\mu)^2  $$\n",
    "\n",
    " 以下の配列において, 標準偏差を計算してください。Find the standard deviation of the following array \n",
    " (自作関数或いは他のパッケージの関数を使ってください, use self-defined functions or functions in other existed packages)\n",
    "\n",
    " [1,4,3,2,6,4,4,3,6,2]"
   ]
  },
  {
   "cell_type": "code",
   "execution_count": 5,
   "metadata": {
    "collapsed": true
   },
   "outputs": [],
   "source": [
    "### write down your code here"
   ]
  },
  {
   "cell_type": "markdown",
   "metadata": {},
   "source": [
    "# データファイルの読み込み Read data from a file\n",
    "「data」フォルダにある「ielts2016_performance.csv」をnumpyのgenfromtxt()で読み込んで,\n",
    "結果は変数`ielts_data`に代入してください。　　　　\n",
    "Read data from the file \"ielts2016_performance.csv \" under `data` folder with numpy's genfromtxt() and \n",
    "assign it to a variable named `ielts_data`. \n",
    "\n",
    "**ファイルの中身（File contents）:**\n",
    "\n",
    "データファイルの基本情報は、 \n",
    "1.何行がある?  \n",
    "2.何列がある？  \n",
    "3.コメント行がある、いわゆる、”＃”がある？  \n",
    "4.\"#\" がないの場合、ヘッドラインがある？(データ列を説明するため)  \n",
    "5.区切り文字が何ですか？  \n",
    "を調べてください。  \n",
    "\n",
    "To find basic info for our data,  \n",
    "\n",
    "1. How many rows it has?  \n",
    "2. How many columns it has?  \n",
    "3. Does it contain comment lines, i.e., lines start with a symbol such as \"#\" or others  \n",
    "4. If it does not contain comment lines, is there header lines?(description for each column)  \n",
    "5. What is the delimiter used in the data file?\n",
    "\n",
    "\n",
    "\n",
    "(**hint**:  Specify the `dtype` for genfromtxt() as `dtype=('<S30', 'float', 'float','float', 'float', 'float')` )"
   ]
  },
  {
   "cell_type": "code",
   "execution_count": 6,
   "metadata": {
    "collapsed": true
   },
   "outputs": [],
   "source": [
    "### Read ielts2016_performance.csv via genfromtxt()"
   ]
  },
  {
   "cell_type": "markdown",
   "metadata": {},
   "source": [
    "### 5. Z score and T score\n",
    "\n",
    "上述のデータに対して、AliceのIELTSの総合戦績は6.2としたら、\n",
    "Aliceのz-scoreとT scoreを計算してください。\n",
    "For the data mentioned above, suppose Alice' overall score of IELTS in 2016 was 6.2,\n",
    "compute Alice's z-score and T score.\n",
    "\n",
    "（**hint**: リスト内包を使って、`ielts_data`の最後の列のインデックスは“-1”で表現できます。Use the list comprehension to generate a new array containing the last column of `ielts_data`; use \"-1\" as the index  for accessing the last column）"
   ]
  },
  {
   "cell_type": "code",
   "execution_count": 7,
   "metadata": {
    "collapsed": true
   },
   "outputs": [],
   "source": [
    "### `ielts_data`の第5列を用いて、Aliceのz-scoreとT scoreを計算してください.\n",
    "### With the fifth column of `ielts_data`, compute lice's z-score and T score"
   ]
  },
  {
   "cell_type": "markdown",
   "metadata": {},
   "source": [
    "### 6. 列ごとの計算 I  Column-wised computation I\n",
    "\n",
    "上述のデータに対して, `ielts_data`の2,3,4,5列を用いて、各列の平均値、分散と標準偏差を計算してください.\n",
    "For the data mentioned above, compute the column-wised  mean, variance and standard deviation"
   ]
  },
  {
   "cell_type": "code",
   "execution_count": 8,
   "metadata": {
    "collapsed": true
   },
   "outputs": [],
   "source": [
    "### `ielts_data`の2,3,4,5列を用いて、各列の平均値、分散と標準偏差を計算してください。\n",
    "### With 2-5 columns of `ielts_data`, compute the column-wised  mean, variance and standard deviation"
   ]
  },
  {
   "cell_type": "markdown",
   "metadata": {},
   "source": [
    "### 7.列ごとの計算  II  Column-wised computation II\n",
    "\n",
    "上述のデータに対して, `ielts_data`のListening とSpeakingの成績の相関係数を計算してください.\n",
    "For the data mentioned above, compute the correlation coefficient between Listening scores and Speaking scores."
   ]
  },
  {
   "cell_type": "code",
   "execution_count": 9,
   "metadata": {
    "collapsed": true
   },
   "outputs": [],
   "source": [
    "### Write down your code here"
   ]
  }
 ],
 "metadata": {
  "kernelspec": {
   "display_name": "Python 3",
   "language": "python",
   "name": "python3"
  },
  "language_info": {
   "codemirror_mode": {
    "name": "ipython",
    "version": 3
   },
   "file_extension": ".py",
   "mimetype": "text/x-python",
   "name": "python",
   "nbconvert_exporter": "python",
   "pygments_lexer": "ipython3",
   "version": "3.6.2"
  }
 },
 "nbformat": 4,
 "nbformat_minor": 2
}
