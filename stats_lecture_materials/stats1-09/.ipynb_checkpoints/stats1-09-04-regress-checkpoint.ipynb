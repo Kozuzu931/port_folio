{
 "cells": [
  {
   "cell_type": "markdown",
   "metadata": {},
   "source": [
    "<!-- dom:TITLE: 1クォーターのまとめ　Review and Exercises of 1st quarter -->\n",
    "# 1クォーターのまとめ　Review and Exercises of 1st quarter\n",
    "<!-- dom:AUTHOR: 曹巍 Email:cao@iniad.org -->\n",
    "<!-- Author: -->  \n",
    "**曹巍** (email: `cao@iniad.org`)\n",
    "\n",
    "Date: **2018.06.11**\n",
    "\n",
    "# 必要なパッケージ・モジュールをインポットする import necessary packages\n",
    "1. import the numpy pacakge under the name `np`  \n",
    "2. import the statsmodels' api package under the name `sm`"
   ]
  },
  {
   "cell_type": "code",
   "execution_count": 17,
   "metadata": {},
   "outputs": [
    {
     "name": "stderr",
     "output_type": "stream",
     "text": [
      "/Users/kozuzu931/.pyenv/versions/anaconda3-4.3.1/lib/python3.6/site-packages/statsmodels/compat/pandas.py:56: FutureWarning: The pandas.core.datetools module is deprecated and will be removed in a future version. Please use the pandas.tseries module instead.\n",
      "  from pandas.core import datetools\n"
     ]
    }
   ],
   "source": [
    "### write down your code here\n",
    "import numpy as np\n",
    "import statsmodels.api as sm"
   ]
  },
  {
   "cell_type": "markdown",
   "metadata": {},
   "source": [
    "# データファイルの読み込み Read data from a file\n",
    "「data」フォルダにある「machine_data.csv」をnumpyのloadtxt()で読み込んで,\n",
    "結果は変数`cpu_data`に代入してください。　　　　\n",
    "Read data from the file \"machine_data.csv \" under `data` folder with numpy's loadtxt() and \n",
    "assign it to a variable named `cpu_data`. \n",
    "\n",
    "**ファイルの中身（File contents）:**\n",
    "\n",
    "データファイルの基本情報は、 \n",
    "1.何行がある?  \n",
    "2.何列がある？  \n",
    "3.コメント行がある、いわゆる、”＃”がある？  \n",
    "4.\"#\" がないの場合、ヘッドラインがある？(データ列を説明するため)  \n",
    "5.区切り文字が何ですか？  \n",
    "を調べてください。  \n",
    "\n",
    "To find basic info for our data,  \n",
    "\n",
    "1. How many rows it has?  \n",
    "2. How many columns it has?  \n",
    "3. Does it contain comment lines, i.e., lines start with a symbol such as \"#\" or others  \n",
    "4. If it does not contain comment lines, is there header lines?(description for each column)  \n",
    "5. What is the delimiter used in the data file?"
   ]
  },
  {
   "cell_type": "code",
   "execution_count": 8,
   "metadata": {},
   "outputs": [],
   "source": [
    "### Read machine_data.csv via loadtxt()\n",
    "data = np.loadtxt(\"data/machine_data.csv\", comments=\"#\", delimiter=\",\")"
   ]
  },
  {
   "cell_type": "markdown",
   "metadata": {},
   "source": [
    "# 線形重回帰分析　multiple linear regression analysis\n",
    "`machine_data.csv`に線形重回帰分析を行ってください.  \n",
    "Conduct multiple linear regression analysis on `machine_data.csv`\n",
    "\n",
    "(**hint**: 列1-6は説明(或いは独立)変数となり、列8は目的(或いは従属)変数としての線形重回帰分析を行う.  \n",
    "Conduct the analysis while Column 1-6 are taken as explanatory (or independent) variables, Column 8 as objective (or dependent) variable. \n",
    ")"
   ]
  },
  {
   "cell_type": "code",
   "execution_count": 32,
   "metadata": {},
   "outputs": [
    {
     "name": "stdout",
     "output_type": "stream",
     "text": [
      "                            OLS Regression Results                            \n",
      "==============================================================================\n",
      "Dep. Variable:                      y   R-squared:                       0.865\n",
      "Model:                            OLS   Adj. R-squared:                  0.861\n",
      "Method:                 Least Squares   F-statistic:                     215.5\n",
      "Date:                Fri, 15 Jun 2018   Prob (F-statistic):           6.24e-85\n",
      "Time:                        16:07:17   Log-Likelihood:                -1148.7\n",
      "No. Observations:                 209   AIC:                             2311.\n",
      "Df Residuals:                     202   BIC:                             2335.\n",
      "Df Model:                           6                                         \n",
      "Covariance Type:            nonrobust                                         \n",
      "==============================================================================\n",
      "                 coef    std err          t      P>|t|      [0.025      0.975]\n",
      "------------------------------------------------------------------------------\n",
      "const        -55.8939      8.045     -6.948      0.000     -71.757     -40.031\n",
      "x1             0.0489      0.018      2.789      0.006       0.014       0.083\n",
      "x2             0.0153      0.002      8.371      0.000       0.012       0.019\n",
      "x3             0.0056      0.001      8.681      0.000       0.004       0.007\n",
      "x4             0.6414      0.140      4.596      0.000       0.366       0.917\n",
      "x5            -0.2704      0.856     -0.316      0.752      -1.958       1.417\n",
      "x6             1.4825      0.220      6.737      0.000       1.049       1.916\n",
      "==============================================================================\n",
      "Omnibus:                       99.727   Durbin-Watson:                   1.202\n",
      "Prob(Omnibus):                  0.000   Jarque-Bera (JB):             1140.969\n",
      "Skew:                           1.495   Prob(JB):                    1.74e-248\n",
      "Kurtosis:                      14.049   Cond. No.                     3.32e+04\n",
      "==============================================================================\n",
      "\n",
      "Warnings:\n",
      "[1] Standard Errors assume that the covariance matrix of the errors is correctly specified.\n",
      "[2] The condition number is large, 3.32e+04. This might indicate that there are\n",
      "strong multicollinearity or other numerical problems.\n"
     ]
    }
   ],
   "source": [
    "### conduct multiple linear regression analysis on data in \"machine_data.csv\"\n",
    "x = data[: , :6]\n",
    "y = data[:, 7]\n",
    "x = sm.add_constant(x)\n",
    "model = sm.OLS(y, x)\n",
    "result = model.fit()\n",
    "print(result.summary())"
   ]
  },
  {
   "cell_type": "markdown",
   "metadata": {},
   "source": [
    "# 線形重回帰モデルによる予測値 Prediction values from multiple linear regression  model\n",
    "得た線形重回帰モデルを用いて、 列1-6が入力として、CPUの相対性能を推定してください。\n",
    "また、計算結果と`machine_data.csv`にあるERP列（列7）の相関係数を計算してください。\n",
    "\n",
    "With the obtained multiple linear regression model, compute the estimated relative performance(ERP) ;\n",
    "then, compute correlation coefficient between your ERP values and creator's ERP(column 7)"
   ]
  },
  {
   "cell_type": "code",
   "execution_count": 35,
   "metadata": {},
   "outputs": [
    {
     "data": {
      "text/plain": [
       "array([[ 1.        ,  0.95210357],\n",
       "       [ 0.95210357,  1.        ]])"
      ]
     },
     "execution_count": 35,
     "metadata": {},
     "output_type": "execute_result"
    }
   ],
   "source": [
    "### compute correlation coefficient between your ERP values and creator's ERP(column 7)\n",
    "predictX = result.predict(X)\n",
    "np.corrcoef(predictX, data[:, 6])"
   ]
  },
  {
   "cell_type": "markdown",
   "metadata": {},
   "source": [
    "# 回帰式\n",
    "得た線形重回帰分析結果に基づいて、回帰式を書いてください。\n",
    "Write down the regression equation according to the result of multiple linear regression analysis."
   ]
  },
  {
   "cell_type": "code",
   "execution_count": 5,
   "metadata": {
    "collapsed": true
   },
   "outputs": [],
   "source": [
    "### 回帰式を書いてください Write down the regression equation\n",
    "y = -55.8939 + (0.0489x) + 0.0153x^2 + 0.0056x^3 + 0.6414x^4 + (-0.2704x^5) + 1.4825x^6"
   ]
  }
 ],
 "metadata": {
  "kernelspec": {
   "display_name": "Python 3",
   "language": "python",
   "name": "python3"
  },
  "language_info": {
   "codemirror_mode": {
    "name": "ipython",
    "version": 3
   },
   "file_extension": ".py",
   "mimetype": "text/x-python",
   "name": "python",
   "nbconvert_exporter": "python",
   "pygments_lexer": "ipython3",
   "version": "3.6.2"
  }
 },
 "nbformat": 4,
 "nbformat_minor": 2
}
