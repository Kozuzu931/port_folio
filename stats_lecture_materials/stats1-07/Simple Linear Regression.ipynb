{
 "cells": [
  {
   "cell_type": "markdown",
   "metadata": {},
   "source": [
    "### 単回帰分析（simple linear regression）\n",
    "\n",
    "statsmodelsというライブラリを用いて、単回帰分析を行います。\n",
    "\n",
    "statsmodelsは、さまざまな統計モデルの推定、統計テスト、統計データの調査を行うためのクラスと関数を提供するPythonモジュールです。\n",
    "statsmodels is a Python module that provides classes and functions for the estimation of many different statistical models, as well as for conducting statistical tests, and statistical data exploration. \n",
    "\n",
    "正式サイト(Official site):  \n",
    "https://www.statsmodels.org/stable/index.html  \n",
    "\n",
    "\n",
    "**インストール(Installation)**：conda install statsmodels  \n",
    "**更新（update）**：conda update statsmodels"
   ]
  },
  {
   "cell_type": "markdown",
   "metadata": {},
   "source": [
    "### 1. Import libraries\n",
    "\n"
   ]
  },
  {
   "cell_type": "code",
   "execution_count": 26,
   "metadata": {
    "collapsed": true
   },
   "outputs": [],
   "source": [
    "import numpy as np"
   ]
  },
  {
   "cell_type": "code",
   "execution_count": 27,
   "metadata": {},
   "outputs": [
    {
     "name": "stdout",
     "output_type": "stream",
     "text": [
      "Using matplotlib backend: MacOSX\n"
     ]
    }
   ],
   "source": [
    "import matplotlib.pyplot as plt\n",
    "%matplotlib"
   ]
  },
  {
   "cell_type": "markdown",
   "metadata": {},
   "source": [
    "#### statsmodels’の結果を綺麗に表示"
   ]
  },
  {
   "cell_type": "code",
   "execution_count": 28,
   "metadata": {
    "collapsed": true
   },
   "outputs": [],
   "source": [
    "from IPython.display import HTML, display"
   ]
  },
  {
   "cell_type": "code",
   "execution_count": 29,
   "metadata": {},
   "outputs": [
    {
     "name": "stdout",
     "output_type": "stream",
     "text": [
      "Statsmodels version: 0.8.0\n"
     ]
    }
   ],
   "source": [
    "import statsmodels\n",
    "### Version\n",
    "print(\"Statsmodels version: {}\".format(statsmodels.__version__))"
   ]
  },
  {
   "cell_type": "markdown",
   "metadata": {},
   "source": [
    "#### 対話式（For interactive use）"
   ]
  },
  {
   "cell_type": "code",
   "execution_count": 30,
   "metadata": {
    "collapsed": true
   },
   "outputs": [],
   "source": [
    "import statsmodels.api as sm"
   ]
  },
  {
   "cell_type": "markdown",
   "metadata": {},
   "source": [
    "#### 数式対応API (formula api)"
   ]
  },
  {
   "cell_type": "code",
   "execution_count": 31,
   "metadata": {
    "collapsed": true
   },
   "outputs": [],
   "source": [
    "import statsmodels.formula.api as smf"
   ]
  },
  {
   "cell_type": "markdown",
   "metadata": {},
   "source": [
    "### 2. データファイルの読み込む(Read data)\n",
    "\n",
    "dataフォルダにある「one_obs_var.csv」をNumpyのloadtxt()で読み込みます。  \n",
    "Read the file \"one_obs_var.csv\" in the data folder via Numpy's loadtxt() function.\n",
    "\n",
    "以下は、ファイルの一部です。（Part of data is shown as following）\n",
    "\n",
    "``` \n",
    "# X, Y generated from y = 0.25 + 0.75*X + epsilon\n",
    "   0.000,   0.323\n",
    "   0.101,   0.399\n",
    "   0.202,   0.475\n",
    "   0.303,   0.550\n",
    "   0.404,   0.626\n",
    "   ...\n",
    "   ...\n",
    "```\n",
    "データファイルの基本情報は、\n",
    "\n",
    "1.何行がある?  \n",
    "2.何列がある？  \n",
    "3.コメント行がある、いわゆる、”＃”がある？  \n",
    "4.\"#\" がないの場合、ヘッドラインがある？(データ列を説明するため)  \n",
    "5.区切り文字が何ですか？  \n",
    "を調べてください。  \n",
    "\n",
    "To find basic info for our data,  \n",
    "\n",
    "1. How many rows it has?  \n",
    "2. How many columns it has?  \n",
    "3. Does it contain comment lines, i.e., lines start with a symbol such as \"#\" or others  \n",
    "4. If it does not contain comment lines, is there header lines?(description for each column)  \n",
    "5. What is the delimiter used in the data file?  \n"
   ]
  },
  {
   "cell_type": "code",
   "execution_count": 32,
   "metadata": {},
   "outputs": [
    {
     "name": "stdout",
     "output_type": "stream",
     "text": [
      "<class 'numpy.ndarray'>\n"
     ]
    }
   ],
   "source": [
    "filename = 'data/one_obs_var.csv'\n",
    "data = np.loadtxt(filename, comments=\"#\", delimiter=',') # variable \"data\" is numpy array\n",
    "print(type(data))"
   ]
  },
  {
   "cell_type": "markdown",
   "metadata": {},
   "source": [
    "### 3. 独立変数と従属変数　Independent and Dependent variables \n",
    "変数dataから独立変数と従属変数を分離します。  \n",
    "Separate data for independent and dependent variables for variable *data*\n",
    "\n",
    "\n",
    "1.列１、２：独立変数X1とx２を対応します。Column 1 and 2: Corresponds to the two independent variables, x1 and x2.   \n",
    "2.列３：従属変数Yを対応します。Column 3: Corresponds to the dependent variables Y.\n"
   ]
  },
  {
   "cell_type": "code",
   "execution_count": 33,
   "metadata": {
    "collapsed": true
   },
   "outputs": [],
   "source": [
    "x = data[:, 0]  # data[rows, cols]\n",
    "Y = data[:, 1]   # numpy slicing - \":\" means all rows, \":2\" means columns 0 and 1"
   ]
  },
  {
   "cell_type": "markdown",
   "metadata": {},
   "source": [
    "### 4. 切片について、定数をXに追加する　Add one constant for intercept at the beginning of X\n",
    "\n",
    "切片（intercept）は、既知のxと既知のyを通過する最適な回帰直線に基づいています。 独立変数が 0 (ゼロ) のときの従属変数の値です。\n",
    "Intercept is based on an optimal regression line passing through the known x and known y and value of the dependent variable when the independent variable is 0 (zero).\n",
    "\n",
    "y = ax + b \n",
    "\n",
    "a: 傾き（slope） \n",
    "b: 切片 (intercept)  \n"
   ]
  },
  {
   "cell_type": "code",
   "execution_count": 34,
   "metadata": {
    "collapsed": true
   },
   "outputs": [],
   "source": [
    "X = sm.add_constant(x)"
   ]
  },
  {
   "cell_type": "markdown",
   "metadata": {},
   "source": [
    "### 5. モデルを構築　Construct a model\n",
    "数学式: y= c + a*x。既知x, 既知yを用いて、a, cをデータの重回帰分析によって求めます。\n",
    "\n",
    "statsmodelsにOLSクラス（Ordinary Linear Regression）によって、重回帰分析用モデルを構築します。\n",
    "Construct a linear regression model via OLS class in statsmodels.\n",
    "\n",
    "クラスの定義（Class definition）は、 https://www.statsmodels.org/stable/generated/statsmodels.regression.linear_model.OLS.html?highlight=ols\n",
    "を参考してください。\n",
    "\n",
    "> Note: Xの形に注意してください.　行と列は、それぞれ観測回数と変数（測定値）に対応します。  \n",
    "> Please pay attention to the shape of X. The rows and columns are corresponding to observations and variables(values of measurements), respectively. \n",
    "\n",
    "``` python\n",
    "class statsmodels.regression.linear_model.OLS(endog, exog=None, missing='none', hasconst=None, **kwargs)\n",
    "```\n",
    "**endog** (array-like) – 1-d endogenous response variable. The dependent variable.  \n",
    "**exog** (array-like) – A **nobs x k** array where nobs is the number of observations and k is the number of regressors. An intercept is not included by default and should be added by the user. See statsmodels.tools.add_constant.  \n",
    "**missing** (str) – Available options are ‘none’, ‘drop’, and ‘raise’. If ‘none’, no nan checking is done. If ‘drop’, any observations with nans are dropped. If ‘raise’, an error is raised. Default is ‘none.’  \n",
    "**hasconst** (None or bool) – Indicates whether the RHS includes a user-supplied constant. If True, a constant is not checked for and k_constant is set to 1 and all result statistics are calculated as if a constant is present. If False, a constant is not checked for and k_constant is set to 0."
   ]
  },
  {
   "cell_type": "code",
   "execution_count": 35,
   "metadata": {
    "collapsed": true
   },
   "outputs": [],
   "source": [
    "model = sm.OLS(Y, X)"
   ]
  },
  {
   "cell_type": "markdown",
   "metadata": {},
   "source": [
    "### 6. 回帰分析の実行 (Run the regression analysis)\n",
    "\n",
    "``` python\n",
    "OLS.fit(method='pinv', cov_type='nonrobust', cov_kwds=None, use_t=None, **kwargs)\n",
    "\n",
    "Parameters:\t\n",
    "   method (str, optional) – Can be “pinv”, “qr”. “pinv” uses the Moore-Penrose pseudoinverse to solve the least   \n",
    "                            squares problem. “qr” uses the QR factorization. \n",
    "   cov_type (str, optional) – See regression.linear_model.RegressionResults for a description of the available \n",
    "                            covariance estimators\n",
    "   cov_kwds (list or None, optional) – See linear_model.RegressionResults.get_robustcov_results for a \n",
    "                            description required keywords for alternative covariance estimators\n",
    "   use_t (bool, optional) – Flag indicating to use the Student’s t distribution when computing p-values. \n",
    "                             Default behavior depends on cov_type. \n",
    "                             See linear_model.RegressionResults.get_robustcov_results for implementation details.\n",
    "Returns:\t\n",
    "Return type:\t\n",
    "    A RegressionResults class instance.\n",
    "\n",
    "```"
   ]
  },
  {
   "cell_type": "code",
   "execution_count": 36,
   "metadata": {
    "collapsed": true
   },
   "outputs": [],
   "source": [
    "results = model.fit()"
   ]
  },
  {
   "cell_type": "markdown",
   "metadata": {},
   "source": [
    "### 7. 結果（Results)\n",
    "\n",
    "summary() - Summarize the Regression Results\n",
    "conf_int(alpha=0.05, cols=None) - [0.025      0.975]\n",
    "\n",
    "Available field:  \n",
    "\n",
    "Top left: \n",
    "\n",
    "nobs     - No. Observations  \n",
    "df_model - Df Model  \n",
    "df_resid - Df Residuals  \n",
    "cov_type - Covariance Type  \n",
    "\n",
    "Top right:  \n",
    "\n",
    "**rsquared**  - R-squared  \n",
    "**rsquared_adj** - Adj. R-squared  \n",
    "**fvalue**       - F-statistic  \n",
    "**f_pvalue**     - Prob (F-statistic)  \n",
    "llf          - Log-Likelihood  \n",
    "aic          - AIC  \n",
    "bic          - BIC  \n",
    "\n",
    "diagnostic (middle):\n",
    "\n",
    "**params**  - coef [const, x1, x2]  \n",
    "**bse**     - std err [const, x1, x2]  \n",
    "**tvalues** - t [const, x1, x2]  \n",
    "**pvalues** - P>|t| [const, x1, x2]  \n",
    "\n",
    "\n",
    "diagnostic left:\n",
    "\n",
    "diagn - a dictionary for  \n",
    "```python\n",
    "    diagn['omni'] - Omnibus    \n",
    "    diagn['omnipv'] - Prob(Omnibus)  \n",
    "    diagn['skew'] - Skew  \n",
    "    diagn['kurtosis'] - Kurtosis  \n",
    "    diagn['jb'] - Jarque-Bera (JB)  \n",
    "    diagn['jbpv'] - Prob(JB)  \n",
    "    diagn['condno'] - Cond. No.  \n",
    "```    \n",
    "**condition_number** -  Cond. No."
   ]
  },
  {
   "cell_type": "code",
   "execution_count": 37,
   "metadata": {},
   "outputs": [
    {
     "name": "stdout",
     "output_type": "stream",
     "text": [
      "                            OLS Regression Results                            \n",
      "==============================================================================\n",
      "Dep. Variable:                      y   R-squared:                       1.000\n",
      "Model:                            OLS   Adj. R-squared:                  1.000\n",
      "Method:                 Least Squares   F-statistic:                 4.135e+09\n",
      "Date:                Mon, 28 May 2018   Prob (F-statistic):               0.00\n",
      "Time:                        17:11:56   Log-Likelihood:                 657.75\n",
      "No. Observations:                 100   AIC:                            -1311.\n",
      "Df Residuals:                      98   BIC:                            -1306.\n",
      "Df Model:                           1                                         \n",
      "Covariance Type:            nonrobust                                         \n",
      "==============================================================================\n",
      "                 coef    std err          t      P>|t|      [0.025      0.975]\n",
      "------------------------------------------------------------------------------\n",
      "const          0.3232   6.75e-05   4788.114      0.000       0.323       0.323\n",
      "x1             0.7500   1.17e-05   6.43e+04      0.000       0.750       0.750\n",
      "==============================================================================\n",
      "Omnibus:                        1.769   Durbin-Watson:                   1.621\n",
      "Prob(Omnibus):                  0.413   Jarque-Bera (JB):                1.332\n",
      "Skew:                          -0.000   Prob(JB):                        0.514\n",
      "Kurtosis:                       2.435   Cond. No.                         11.7\n",
      "==============================================================================\n",
      "\n",
      "Warnings:\n",
      "[1] Standard Errors assume that the covariance matrix of the errors is correctly specified.\n"
     ]
    }
   ],
   "source": [
    "print(results.summary()) # 回帰分析のまとめ text table"
   ]
  },
  {
   "cell_type": "code",
   "execution_count": 38,
   "metadata": {},
   "outputs": [
    {
     "data": {
      "text/html": [
       "<table class=\"simpletable\">\n",
       "<caption>OLS Regression Results</caption>\n",
       "<tr>\n",
       "  <th>Dep. Variable:</th>            <td>y</td>        <th>  R-squared:         </th> <td>   1.000</td> \n",
       "</tr>\n",
       "<tr>\n",
       "  <th>Model:</th>                   <td>OLS</td>       <th style=\"background-color:#aec7e8;\"> Adj. R-squared: </th> <td>   1.000</td> \n",
       "</tr>\n",
       "<tr>\n",
       "  <th>Method:</th>             <td>Least Squares</td>  <th>  F-statistic:       </th> <td>4.135e+09</td>\n",
       "</tr>\n",
       "<tr>\n",
       "  <th>Date:</th>             <td>Mon, 28 May 2018</td> <th>  Prob (F-statistic):</th>  <td>  0.00</td>  \n",
       "</tr>\n",
       "<tr>\n",
       "  <th>Time:</th>                 <td>17:11:56</td>     <th>  Log-Likelihood:    </th> <td>  657.75</td> \n",
       "</tr>\n",
       "<tr>\n",
       "  <th>No. Observations:</th>      <td>   100</td>      <th>  AIC:               </th> <td>  -1311.</td> \n",
       "</tr>\n",
       "<tr>\n",
       "  <th>Df Residuals:</th>          <td>    98</td>      <th>  BIC:               </th> <td>  -1306.</td> \n",
       "</tr>\n",
       "<tr>\n",
       "  <th>Df Model:</th>              <td>     1</td>      <th>                     </th>     <td> </td>    \n",
       "</tr>\n",
       "<tr>\n",
       "  <th>Covariance Type:</th>      <td>nonrobust</td>    <th>                     </th>     <td> </td>    \n",
       "</tr>\n",
       "</table>\n",
       "<table class=\"simpletable\">\n",
       "<tr>\n",
       "    <td></td>       <th style=\"background-color:#ffbb78;\">coef</th>     <th style=\"background-color:#c7e9c0;\">std err</th>      <th>t</th>      <th style=\"background-color:#bcbddc;\">P>|t|</th>  <th style=\"background-color:#ff9896;\">[0.025</th>    <th style=\"background-color:#ff9896;\">0.975]</th>  \n",
       "</tr>\n",
       "<tr>\n",
       "  <th>const</th> <td>    0.3232</td> <td> 6.75e-05</td> <td> 4788.114</td> <td> 0.000</td> <td>    0.323</td> <td>    0.323</td>\n",
       "</tr>\n",
       "<tr>\n",
       "  <th>x1</th>    <td>    0.7500</td> <td> 1.17e-05</td> <td> 6.43e+04</td> <td> 0.000</td> <td>    0.750</td> <td>    0.750</td>\n",
       "</tr>\n",
       "</table>\n",
       "<table class=\"simpletable\">\n",
       "<tr>\n",
       "  <th>Omnibus:</th>       <td> 1.769</td> <th>  Durbin-Watson:     </th> <td>   1.621</td>\n",
       "</tr>\n",
       "<tr>\n",
       "  <th>Prob(Omnibus):</th> <td> 0.413</td> <th>  Jarque-Bera (JB):  </th> <td>   1.332</td>\n",
       "</tr>\n",
       "<tr>\n",
       "  <th>Skew:</th>          <td>-0.000</td> <th>  Prob(JB):          </th> <td>   0.514</td>\n",
       "</tr>\n",
       "<tr>\n",
       "  <th>Kurtosis:</th>      <td> 2.435</td> <th>  Cond. No.          </th> <td>    11.7</td>\n",
       "</tr>\n",
       "</table>"
      ],
      "text/plain": [
       "<IPython.core.display.HTML object>"
      ]
     },
     "execution_count": 38,
     "metadata": {},
     "output_type": "execute_result"
    }
   ],
   "source": [
    "smry = results.summary()\n",
    "### \n",
    "HTML(\n",
    "(smry\n",
    "    .as_html()\n",
    "    .replace('<th>  Adj. R-squared:    </th>', '<th style=\"background-color:#aec7e8;\"> Adj. R-squared: </th>')\n",
    "    .replace('<th>coef</th>', '<th style=\"background-color:#ffbb78;\">coef</th>')\n",
    "    .replace('<th>std err</th>', '<th style=\"background-color:#c7e9c0;\">std err</th>')\n",
    "    .replace('<th>P>|t|</th>', '<th style=\"background-color:#bcbddc;\">P>|t|</th>')\n",
    "    .replace('<th>[0.025</th>    <th>0.975]</th>', '<th style=\"background-color:#ff9896;\">[0.025</th>    <th style=\"background-color:#ff9896;\">0.975]</th>'))\n",
    ")"
   ]
  },
  {
   "cell_type": "code",
   "execution_count": 39,
   "metadata": {},
   "outputs": [
    {
     "data": {
      "text/plain": [
       "array([  6.75066313e-05,   1.16629328e-05])"
      ]
     },
     "execution_count": 39,
     "metadata": {},
     "output_type": "execute_result"
    }
   ],
   "source": [
    "results.bse   # Std err"
   ]
  },
  {
   "cell_type": "code",
   "execution_count": 40,
   "metadata": {},
   "outputs": [
    {
     "data": {
      "text/plain": [
       "array([  4788.11435429,  64302.36014309])"
      ]
     },
     "execution_count": 40,
     "metadata": {},
     "output_type": "execute_result"
    }
   ],
   "source": [
    "results.tvalues # t value"
   ]
  },
  {
   "cell_type": "code",
   "execution_count": 41,
   "metadata": {},
   "outputs": [
    {
     "data": {
      "text/plain": [
       "array([  6.59302042e-265,   0.00000000e+000])"
      ]
     },
     "execution_count": 41,
     "metadata": {},
     "output_type": "execute_result"
    }
   ],
   "source": [
    "results.pvalues # P>|t|"
   ]
  },
  {
   "cell_type": "code",
   "execution_count": 42,
   "metadata": {},
   "outputs": [
    {
     "data": {
      "text/plain": [
       "11.747391639981265"
      ]
     },
     "execution_count": 42,
     "metadata": {},
     "output_type": "execute_result"
    }
   ],
   "source": [
    "results.condition_number  # if condo > 1000: strong multicollinearity or other numerical problems"
   ]
  },
  {
   "cell_type": "code",
   "execution_count": 43,
   "metadata": {},
   "outputs": [
    {
     "name": "stdout",
     "output_type": "stream",
     "text": [
      "[ 3425.42911757    24.82173243]\n",
      "24.8217324258\n"
     ]
    }
   ],
   "source": [
    "# if eigenvals[-1] < 1e-10, The smallest eigenvalue indicate strong multicollinearity problems or that the design\n",
    "# matrix is singular\n",
    "print(results.eigenvals)\n",
    "print(results.eigenvals[-1])"
   ]
  },
  {
   "cell_type": "code",
   "execution_count": 44,
   "metadata": {},
   "outputs": [
    {
     "data": {
      "text/plain": [
       "array([ 0.32322947,  0.74995411])"
      ]
     },
     "execution_count": 44,
     "metadata": {},
     "output_type": "execute_result"
    }
   ],
   "source": [
    "results.params  # [const, a, b]に対応します。"
   ]
  },
  {
   "cell_type": "markdown",
   "metadata": {},
   "source": [
    "### 結果から見ると（Results）\n",
    "one_obs_var.csvは,以下の式で作成した。  \n",
    "Y = 0.25 + 0.75*x + epsilon  \n",
    "epsilonはランダム誤差です。  \n",
    "\n",
    "Data saved in one_obs_var.csv was generated by the following formula,   \n",
    "Y = 0.25 + 0.75*x + epsilon  \n",
    "where, epsilon represents random errors.\n",
    "\n",
    "\n",
    "|   |  True  |  Regression  |\n",
    "|-- | ------ |  ----------- |\n",
    "| c |  0.25  |  0.3232      |\n",
    "| a |  0.75  |  0.7500      |\n",
    "\n",
    "\n",
    "回帰の結果は,　真実の係数にすごく近いことがわかりました。  \n",
    "From the above regression result, we know that \n",
    "the regression coefficients are very close to the true ones.\n",
    "\n",
    "\n"
   ]
  },
  {
   "cell_type": "markdown",
   "metadata": {},
   "source": [
    "### 8. 図を描画します\n",
    "\n",
    "x vs. Yで散布図（scatter plot）を作成し、その中に回帰直線と真の直線を描画します。"
   ]
  },
  {
   "cell_type": "code",
   "execution_count": 1,
   "metadata": {},
   "outputs": [
    {
     "ename": "NameError",
     "evalue": "name 'np' is not defined",
     "output_type": "error",
     "traceback": [
      "\u001b[0;31m---------------------------------------------------------------------------\u001b[0m",
      "\u001b[0;31mNameError\u001b[0m                                 Traceback (most recent call last)",
      "\u001b[0;32m<ipython-input-1-1dc9859deee3>\u001b[0m in \u001b[0;36m<module>\u001b[0;34m()\u001b[0m\n\u001b[1;32m      1\u001b[0m \u001b[0;31m### Regression line\u001b[0m\u001b[0;34m\u001b[0m\u001b[0;34m\u001b[0m\u001b[0m\n\u001b[0;32m----> 2\u001b[0;31m \u001b[0mx_pred\u001b[0m \u001b[0;34m=\u001b[0m \u001b[0mnp\u001b[0m\u001b[0;34m.\u001b[0m\u001b[0mlinspace\u001b[0m\u001b[0;34m(\u001b[0m\u001b[0mx\u001b[0m\u001b[0;34m.\u001b[0m\u001b[0mmin\u001b[0m\u001b[0;34m(\u001b[0m\u001b[0;34m)\u001b[0m\u001b[0;34m,\u001b[0m \u001b[0mx\u001b[0m\u001b[0;34m.\u001b[0m\u001b[0mmax\u001b[0m\u001b[0;34m(\u001b[0m\u001b[0;34m)\u001b[0m\u001b[0;34m,\u001b[0m \u001b[0;36m50\u001b[0m\u001b[0;34m)\u001b[0m\u001b[0;34m\u001b[0m\u001b[0m\n\u001b[0m\u001b[1;32m      3\u001b[0m \u001b[0mx_pred2\u001b[0m \u001b[0;34m=\u001b[0m \u001b[0msm\u001b[0m\u001b[0;34m.\u001b[0m\u001b[0madd_constant\u001b[0m\u001b[0;34m(\u001b[0m\u001b[0mx_pred\u001b[0m\u001b[0;34m)\u001b[0m\u001b[0;34m\u001b[0m\u001b[0m\n\u001b[1;32m      4\u001b[0m \u001b[0my_pred\u001b[0m \u001b[0;34m=\u001b[0m \u001b[0mresults\u001b[0m\u001b[0;34m.\u001b[0m\u001b[0mpredict\u001b[0m\u001b[0;34m(\u001b[0m\u001b[0mx_pred2\u001b[0m\u001b[0;34m)\u001b[0m\u001b[0;34m\u001b[0m\u001b[0m\n\u001b[1;32m      5\u001b[0m \u001b[0;34m\u001b[0m\u001b[0m\n",
      "\u001b[0;31mNameError\u001b[0m: name 'np' is not defined"
     ]
    }
   ],
   "source": [
    "### Regression line\n",
    "x_pred = np.linspace(x.min(), x.max(), 50)\n",
    "x_pred2 = sm.add_constant(x_pred)\n",
    "y_pred = results.predict(x_pred2)\n",
    "\n",
    "plt.plot(x_pred, y_pred, '-', color='darkorchid', linewidth=0.5)\n",
    "# Set attributes for graph\n",
    "txt = \"y={:.2f}x+{:.2f}\".format(results.params[1], results.params[0])\n",
    "plt.legend([txt, \"data\"], frameon=True)\n",
    "### the true line\n",
    "plt.plot(x, x*0.75+0.25, '.')\n",
    "plt.show()"
   ]
  },
  {
   "cell_type": "code",
   "execution_count": null,
   "metadata": {
    "collapsed": true
   },
   "outputs": [],
   "source": []
  }
 ],
 "metadata": {
  "kernelspec": {
   "display_name": "Python 3",
   "language": "python",
   "name": "python3"
  },
  "language_info": {
   "codemirror_mode": {
    "name": "ipython",
    "version": 3
   },
   "file_extension": ".py",
   "mimetype": "text/x-python",
   "name": "python",
   "nbconvert_exporter": "python",
   "pygments_lexer": "ipython3",
   "version": "3.6.2"
  }
 },
 "nbformat": 4,
 "nbformat_minor": 2
}
