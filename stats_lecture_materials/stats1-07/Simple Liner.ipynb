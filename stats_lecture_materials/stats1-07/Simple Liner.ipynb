{
 "cells": [
  {
   "cell_type": "code",
   "execution_count": 6,
   "metadata": {},
   "outputs": [],
   "source": [
    "#!/usr/bin/env python3\n",
    "# -*- coding: utf-8 -*-\n",
    "\"\"\"\n",
    "Created on Tue May 22 16:52:40 2018\n",
    "\n",
    "@author: davecao\n",
    "\"\"\"\n",
    "\n",
    "# %% 1. Import numpy,statsmodels, matplotlib\n",
    "%matplotlib inline\n",
    "# numpy\n",
    "import numpy as np\n",
    "# statsmodels\n",
    "import statsmodels.api as sm\n",
    "# matplotlib\n",
    "import matplotlib.pyplot as plt\n",
    "\n",
    "# %% author\n",
    "__author__ = \"Kousuke Tsuchiya\"\n",
    "__studentId__ = \"s1f101700158\""
   ]
  },
  {
   "cell_type": "code",
   "execution_count": 7,
   "metadata": {
    "collapsed": true
   },
   "outputs": [],
   "source": [
    "# %% 2. Read the data file -  task7_1_1_data.csv by numpy'loadtxt()\n",
    "data = np.loadtxt(\"data/task7_1_1_data.csv\", comments=\"#\",delimiter=\",\")\n"
   ]
  },
  {
   "cell_type": "code",
   "execution_count": 45,
   "metadata": {
    "collapsed": true
   },
   "outputs": [],
   "source": [
    "x = data[:, 0:1]\n",
    "Y = data[:, 1:2]\n",
    "X = sm.add_constant(x)"
   ]
  },
  {
   "cell_type": "code",
   "execution_count": 52,
   "metadata": {},
   "outputs": [
    {
     "data": {
      "text/plain": [
       "array([ 10.04773795,   0.64439664])"
      ]
     },
     "execution_count": 52,
     "metadata": {},
     "output_type": "execute_result"
    }
   ],
   "source": [
    "# Model: y ~ ax + c\n",
    "model = sm.OLS(Y, X)\n",
    "results = model.fit()\n",
    "value = results.params\n",
    "# Write down c value obtained from OLS\n",
    "__constant__ = value[0]\n",
    "# Write down a value\n",
    "__slope__ = value[1]\n",
    "# Write down the condition number\n",
    "__condo__ = results.condition_number\n",
    "results.params"
   ]
  },
  {
   "cell_type": "code",
   "execution_count": 38,
   "metadata": {},
   "outputs": [
    {
     "name": "stdout",
     "output_type": "stream",
     "text": [
      "                            OLS Regression Results                            \n",
      "==============================================================================\n",
      "Dep. Variable:                      y   R-squared:                       0.006\n",
      "Model:                            OLS   Adj. R-squared:                 -0.004\n",
      "Method:                 Least Squares   F-statistic:                    0.5614\n",
      "Date:                Mon, 28 May 2018   Prob (F-statistic):              0.455\n",
      "Time:                        16:12:30   Log-Likelihood:                -373.20\n",
      "No. Observations:                 100   AIC:                             748.4\n",
      "Df Residuals:                      99   BIC:                             751.0\n",
      "Df Model:                           1                                         \n",
      "Covariance Type:            nonrobust                                         \n",
      "==============================================================================\n",
      "                 coef    std err          t      P>|t|      [0.025      0.975]\n",
      "------------------------------------------------------------------------------\n",
      "x1             0.7187      0.959      0.749      0.455      -1.185       2.622\n",
      "==============================================================================\n",
      "Omnibus:                        1.262   Durbin-Watson:                   0.022\n",
      "Prob(Omnibus):                  0.532   Jarque-Bera (JB):                1.342\n",
      "Skew:                           0.230   Prob(JB):                        0.511\n",
      "Kurtosis:                       2.668   Cond. No.                         1.00\n",
      "==============================================================================\n",
      "\n",
      "Warnings:\n",
      "[1] Standard Errors assume that the covariance matrix of the errors is correctly specified.\n"
     ]
    }
   ],
   "source": [
    "print(results.summary())"
   ]
  },
  {
   "cell_type": "code",
   "execution_count": 74,
   "metadata": {},
   "outputs": [
    {
     "data": {
      "text/plain": [
       "<matplotlib.legend.Legend at 0x1c1a69a2b0>"
      ]
     },
     "execution_count": 74,
     "metadata": {},
     "output_type": "execute_result"
    },
    {
     "data": {
      "image/png": "[encoded data removed]",
      "text/plain": [
       "<matplotlib.figure.Figure at 0x1c1a565748>"
      ]
     },
     "metadata": {},
     "output_type": "display_data"
    }
   ],
   "source": [
    "### Regression line\n",
    "plt.scatter(x, Y)\n",
    "x_pred = np.linspace(x.min(), x.max(), 50)\n",
    "x_pred2 = sm.add_constant(x_pred)\n",
    "y_pred = results.predict(x_pred2)\n",
    "\n",
    "plt.plot(x_pred, y_pred, '-', color='darkorchid', linewidth=0.5)\n",
    "# Set attributes for graph\n",
    "txt = \"y={:.2f}x+{:.2f}\".format(results.params[1], results.params[0])\n",
    "plt.legend([txt, \"data\"], frameon=True)\n",
    "### the true line\n",
    "#plt.plot(x, x*0.64+10.05, '.')\n"
   ]
  },
  {
   "cell_type": "code",
   "execution_count": null,
   "metadata": {
    "collapsed": true
   },
   "outputs": [],
   "source": []
  }
 ],
 "metadata": {
  "kernelspec": {
   "display_name": "Python 3",
   "language": "python",
   "name": "python3"
  },
  "language_info": {
   "codemirror_mode": {
    "name": "ipython",
    "version": 3
   },
   "file_extension": ".py",
   "mimetype": "text/x-python",
   "name": "python",
   "nbconvert_exporter": "python",
   "pygments_lexer": "ipython3",
   "version": "3.6.2"
  }
 },
 "nbformat": 4,
 "nbformat_minor": 2
}
