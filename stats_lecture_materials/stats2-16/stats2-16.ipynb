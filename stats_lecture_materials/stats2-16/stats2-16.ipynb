{
 "cells": [
  {
   "cell_type": "code",
   "execution_count": 1,
   "metadata": {},
   "outputs": [],
   "source": [
    "import numpy as np\n",
    "import pandas as pd\n",
    "import matplotlib.pyplot as plt\n",
    "import scipy.stats as ss\n",
    "import statsmodels.api as sm\n",
    "import statsmodels.formula.api as smf"
   ]
  },
  {
   "cell_type": "markdown",
   "metadata": {},
   "source": [
    "### データの読み込み"
   ]
  },
  {
   "cell_type": "code",
   "execution_count": 7,
   "metadata": {},
   "outputs": [
    {
     "name": "stdout",
     "output_type": "stream",
     "text": [
      "   hours  result\n",
      "0      0       0\n",
      "1      0       0\n",
      "2      0       0\n",
      "3      0       0\n",
      "4      0       0\n"
     ]
    }
   ],
   "source": [
    "# Statsmodelsで用意されているデータセット(Spector and Mazzeo (1980))からデータを読み込む Load the data from Spector and Mazzeo (1980)\n",
    "# https://www.statsmodels.org/dev/datasets/generated/spector.html\n",
    "#dat = sm.datasets.spector.load_pandas()\n",
    "dat = pd.read_csv(\"data/2-16-1.csv\")\n",
    "print(dat.head())\n",
    "y=dat[\"result\"]#.endog # dependence value\n",
    "X=dat[\"hours\"]#.exog #independence value\n",
    "#print(y)\n",
    "#print(X)"
   ]
  },
  {
   "cell_type": "code",
   "execution_count": 8,
   "metadata": {},
   "outputs": [
    {
     "name": "stdout",
     "output_type": "stream",
     "text": [
      "Optimization terminated successfully.\n",
      "         Current function value: 0.340139\n",
      "         Iterations 7\n",
      "                           Logit Regression Results                           \n",
      "==============================================================================\n",
      "Dep. Variable:                 result   No. Observations:                  100\n",
      "Model:                          Logit   Df Residuals:                       98\n",
      "Method:                           MLE   Df Model:                            1\n",
      "Date:                Mon, 28 Jan 2019   Pseudo R-squ.:                  0.5070\n",
      "Time:                        16:29:30   Log-Likelihood:                -34.014\n",
      "converged:                       True   LL-Null:                       -68.994\n",
      "                                        LLR p-value:                 6.049e-17\n",
      "==============================================================================\n",
      "                 coef    std err          z      P>|z|      [0.025      0.975]\n",
      "------------------------------------------------------------------------------\n",
      "const         -4.5587      0.901     -5.061      0.000      -6.324      -2.793\n",
      "hours          0.9289      0.174      5.345      0.000       0.588       1.270\n",
      "==============================================================================\n"
     ]
    }
   ],
   "source": [
    "# モデルの設定 Construct a logistic regression model\n",
    "model = sm.Logit(y, sm.add_constant(X))\n",
    "# もしくは Or\n",
    "#model = smf.glm(formula = \"GRADE ~ GPA + TUCE + PSI\", data = dat.data, family=sm.families.Binomial())\n",
    "#model = sm.GLM(y, sm.add_constant(X), data = dat, family=sm.families.Binomial())\n",
    "\n",
    "# 回帰分析の実行 Execute the logistic regression \n",
    "results = model.fit()\n",
    "# 結果を表示　Print results\n",
    "print(results.summary())\n",
    "print()"
   ]
  },
  {
   "cell_type": "markdown",
   "metadata": {},
   "source": [
    "### 包括的検定\n",
    "LLR p-value:                 6.049e-17  \n",
    "有意水準5%とした場合、LLR p-valueは0.05以下であるため、帰無仮説を棄却。  \n",
    "このモデルは有意であると判断できる。"
   ]
  },
  {
   "cell_type": "markdown",
   "metadata": {},
   "source": [
    "$$result = 0.9289hours - 4.5587$$"
   ]
  },
  {
   "cell_type": "markdown",
   "metadata": {},
   "source": [
    "### オッズ比"
   ]
  },
  {
   "cell_type": "code",
   "execution_count": 14,
   "metadata": {},
   "outputs": [
    {
     "name": "stdout",
     "output_type": "stream",
     "text": [
      "2.531697877875778\n"
     ]
    }
   ],
   "source": [
    "print(np.exp(results.params[1]))#hoursのオッズ比 Odds ratio of hours"
   ]
  },
  {
   "cell_type": "markdown",
   "metadata": {},
   "source": [
    "Hoursのオッズ比:2.531697877875778倍  \n",
    "勉強1時間につき、合格確率は2.531697877875778倍になる。"
   ]
  },
  {
   "cell_type": "markdown",
   "metadata": {},
   "source": [
    "### 予測"
   ]
  },
  {
   "cell_type": "code",
   "execution_count": 16,
   "metadata": {},
   "outputs": [
    {
     "name": "stdout",
     "output_type": "stream",
     "text": [
      "[0.73392911]\n",
      "0.7339291124216423\n",
      "Predicted value is: 1\n"
     ]
    }
   ],
   "source": [
    "# Hours:6の時の発生確率を求める\n",
    "pred = results.predict([1,6])\n",
    "print(pred)\n",
    "#もしくは Or\n",
    "xx = results.params[0] + results.params[1] * 6\n",
    "pred = 1.0 / (1.0 + np.exp(-xx))\n",
    "print(pred)\n",
    "\n",
    "# 閾値を0.5に設定し，0or1に判別する The threshold is set to 0.5, and it is discriminated to 0 or 1\n",
    "if pred < 0.5:\n",
    "    print(\"Predicted value is:\",0)\n",
    "else:\n",
    "    print(\"Predicted value is:\",1)"
   ]
  }
 ],
 "metadata": {
  "kernelspec": {
   "display_name": "Python 3",
   "language": "python",
   "name": "python3"
  },
  "language_info": {
   "codemirror_mode": {
    "name": "ipython",
    "version": 3
   },
   "file_extension": ".py",
   "mimetype": "text/x-python",
   "name": "python",
   "nbconvert_exporter": "python",
   "pygments_lexer": "ipython3",
   "version": "3.6.5"
  },
  "toc": {
   "base_numbering": 1,
   "nav_menu": {},
   "number_sections": true,
   "sideBar": true,
   "skip_h1_title": false,
   "title_cell": "Table of Contents",
   "title_sidebar": "Contents",
   "toc_cell": false,
   "toc_position": {},
   "toc_section_display": true,
   "toc_window_display": false
  }
 },
 "nbformat": 4,
 "nbformat_minor": 2
}
