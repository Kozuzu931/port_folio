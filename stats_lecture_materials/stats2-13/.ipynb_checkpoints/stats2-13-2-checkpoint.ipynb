{
 "cells": [
  {
   "cell_type": "code",
   "execution_count": 1,
   "metadata": {},
   "outputs": [],
   "source": [
    "import numpy as np\n",
    "import pandas as pd\n",
    "import matplotlib.pyplot as plt\n",
    "import statsmodels.formula.api as smf\n",
    "from statsmodels.stats.outliers_influence import variance_inflation_factor # VIFを求めるため"
   ]
  },
  {
   "cell_type": "markdown",
   "metadata": {},
   "source": [
    "###  データの読み込み Loading data"
   ]
  },
  {
   "cell_type": "code",
   "execution_count": 2,
   "metadata": {},
   "outputs": [
    {
     "name": "stdout",
     "output_type": "stream",
     "text": [
      "   Unnamed: 0  Ozone  Solar  Wind  Temp  Month  Day\n",
      "0           1   41.0  190.0   7.4    67      5    1\n",
      "1           2   36.0  118.0   8.0    72      5    2\n",
      "2           3   12.0  149.0  12.6    74      5    3\n",
      "3           4   18.0  313.0  11.5    62      5    4\n",
      "4           5    NaN    NaN  14.3    56      5    5\n",
      "   Unnamed: 0  Ozone  Solar  Wind  Temp  Month  Day\n",
      "0           1   41.0  190.0   7.4    67      5    1\n",
      "1           2   36.0  118.0   8.0    72      5    2\n",
      "2           3   12.0  149.0  12.6    74      5    3\n",
      "3           4   18.0  313.0  11.5    62      5    4\n",
      "6           7   23.0  299.0   8.6    65      5    7\n"
     ]
    }
   ],
   "source": [
    "dat = pd.read_csv(\"data/airquality.csv\", delimiter=\",\")\n",
    "print(dat.head())\n",
    "dat.dropna(inplace=True) #欠損値NaNを除外  Remove missing values\n",
    "print(dat.head())"
   ]
  },
  {
   "cell_type": "markdown",
   "metadata": {},
   "source": [
    "### 線形回帰モデル (独立変数 Solar のみ)  Linear regression model (IV is \"Solar\")"
   ]
  },
  {
   "cell_type": "code",
   "execution_count": 3,
   "metadata": {},
   "outputs": [
    {
     "name": "stdout",
     "output_type": "stream",
     "text": [
      "                            OLS Regression Results                            \n",
      "==============================================================================\n",
      "Dep. Variable:                  Ozone   R-squared:                       0.121\n",
      "Model:                            OLS   Adj. R-squared:                  0.113\n",
      "Method:                 Least Squares   F-statistic:                     15.05\n",
      "Date:                Mon, 24 Dec 2018   Prob (F-statistic):           0.000179\n",
      "Time:                        15:18:29   Log-Likelihood:                -538.86\n",
      "No. Observations:                 111   AIC:                             1082.\n",
      "Df Residuals:                     109   BIC:                             1087.\n",
      "Df Model:                           1                                         \n",
      "Covariance Type:            nonrobust                                         \n",
      "==============================================================================\n",
      "                 coef    std err          t      P>|t|      [0.025      0.975]\n",
      "------------------------------------------------------------------------------\n",
      "Intercept     18.5987      6.748      2.756      0.007       5.225      31.973\n",
      "Solar          0.1272      0.033      3.880      0.000       0.062       0.192\n",
      "==============================================================================\n",
      "Omnibus:                       23.356   Durbin-Watson:                   1.170\n",
      "Prob(Omnibus):                  0.000   Jarque-Bera (JB):               30.348\n",
      "Skew:                           1.128   Prob(JB):                     2.57e-07\n",
      "Kurtosis:                       4.214   Cond. No.                         467.\n",
      "==============================================================================\n",
      "\n",
      "Warnings:\n",
      "[1] Standard Errors assume that the covariance matrix of the errors is correctly specified.\n",
      "                VIF\n",
      "Intercept  5.147701\n",
      "Solar      1.000000\n"
     ]
    }
   ],
   "source": [
    "# モデルの設定 Construct a linear regression model\n",
    "model = smf.ols(formula = \"Ozone ~ Solar\", data = dat)\n",
    "# 回帰分析の実行 Execute linear  regression \n",
    "results = model.fit()\n",
    "# 結果を表示　Print results\n",
    "print(results.summary())\n",
    "# VIFを求める\n",
    "col = model.exog.shape[1]# 説明変数の列数\n",
    "vifs = [variance_inflation_factor(model.exog, i) for i in range(col)]\n",
    "print(pd.DataFrame(vifs, index=model.exog_names, columns=[\"VIF\"]))"
   ]
  },
  {
   "cell_type": "markdown",
   "metadata": {},
   "source": [
    "### 線形回帰モデル (独立変数 Windのみ)  Linear regression model (IV is \"Wind\")"
   ]
  },
  {
   "cell_type": "code",
   "execution_count": 4,
   "metadata": {},
   "outputs": [
    {
     "name": "stdout",
     "output_type": "stream",
     "text": [
      "                            OLS Regression Results                            \n",
      "==============================================================================\n",
      "Dep. Variable:                  Ozone   R-squared:                       0.375\n",
      "Model:                            OLS   Adj. R-squared:                  0.369\n",
      "Method:                 Least Squares   F-statistic:                     65.44\n",
      "Date:                Mon, 24 Dec 2018   Prob (F-statistic):           9.09e-13\n",
      "Time:                        15:18:32   Log-Likelihood:                -519.94\n",
      "No. Observations:                 111   AIC:                             1044.\n",
      "Df Residuals:                     109   BIC:                             1049.\n",
      "Df Model:                           1                                         \n",
      "Covariance Type:            nonrobust                                         \n",
      "==============================================================================\n",
      "                 coef    std err          t      P>|t|      [0.025      0.975]\n",
      "------------------------------------------------------------------------------\n",
      "Intercept     99.0413      7.472     13.254      0.000      84.231     113.851\n",
      "Wind          -5.7288      0.708     -8.090      0.000      -7.132      -4.325\n",
      "==============================================================================\n",
      "Omnibus:                        9.375   Durbin-Watson:                   1.625\n",
      "Prob(Omnibus):                  0.009   Jarque-Bera (JB):                9.508\n",
      "Skew:                           0.708   Prob(JB):                      0.00862\n",
      "Kurtosis:                       3.228   Cond. No.                         31.7\n",
      "==============================================================================\n",
      "\n",
      "Warnings:\n",
      "[1] Standard Errors assume that the covariance matrix of the errors is correctly specified.\n",
      "                VIF\n",
      "Intercept  8.876435\n",
      "Wind       1.000000\n"
     ]
    }
   ],
   "source": [
    "# モデルの設定 Construct a linear regression model\n",
    "model = smf.ols(formula = \"Ozone ~ Wind\", data = dat)\n",
    "\n",
    "# 回帰分析の実行 Execute linear  regression \n",
    "results = model.fit()\n",
    "# 結果を表示　Print results\n",
    "print(results.summary())\n",
    "# VIFを求める\n",
    "col = model.exog.shape[1]# 説明変数の列数\n",
    "vifs = [variance_inflation_factor(model.exog, i) for i in range(col)]\n",
    "print(pd.DataFrame(vifs, index=model.exog_names, columns=[\"VIF\"]))"
   ]
  },
  {
   "cell_type": "markdown",
   "metadata": {},
   "source": [
    "### 線形回帰モデル (独立変数 Tempのみ)  Linear regression model (IV is \"Temp\")"
   ]
  },
  {
   "cell_type": "code",
   "execution_count": 5,
   "metadata": {},
   "outputs": [
    {
     "name": "stdout",
     "output_type": "stream",
     "text": [
      "                            OLS Regression Results                            \n",
      "==============================================================================\n",
      "Dep. Variable:                  Ozone   R-squared:                       0.488\n",
      "Model:                            OLS   Adj. R-squared:                  0.483\n",
      "Method:                 Least Squares   F-statistic:                     103.9\n",
      "Date:                Mon, 24 Dec 2018   Prob (F-statistic):           1.55e-17\n",
      "Time:                        15:18:39   Log-Likelihood:                -508.89\n",
      "No. Observations:                 111   AIC:                             1022.\n",
      "Df Residuals:                     109   BIC:                             1027.\n",
      "Df Model:                           1                                         \n",
      "Covariance Type:            nonrobust                                         \n",
      "==============================================================================\n",
      "                 coef    std err          t      P>|t|      [0.025      0.975]\n",
      "------------------------------------------------------------------------------\n",
      "Intercept   -147.6461     18.755     -7.872      0.000    -184.818    -110.474\n",
      "Temp           2.4391      0.239     10.192      0.000       1.965       2.913\n",
      "==============================================================================\n",
      "Omnibus:                       51.915   Durbin-Watson:                   1.864\n",
      "Prob(Omnibus):                  0.000   Jarque-Bera (JB):              180.588\n",
      "Skew:                           1.634   Prob(JB):                     6.11e-40\n",
      "Kurtosis:                       8.326   Cond. No.                         647.\n",
      "==============================================================================\n",
      "\n",
      "Warnings:\n",
      "[1] Standard Errors assume that the covariance matrix of the errors is correctly specified.\n",
      "                 VIF\n",
      "Intercept  68.239741\n",
      "Temp        1.000000\n"
     ]
    }
   ],
   "source": [
    "# モデルの設定 Construct a linear regression model\n",
    "model = smf.ols(formula = \"Ozone ~ Temp\", data = dat)\n",
    "# 回帰分析の実行 Execute linear  regression \n",
    "results = model.fit()\n",
    "# 結果を表示　Print results\n",
    "print(results.summary())\n",
    "# VIFを求める\n",
    "col = model.exog.shape[1]# 説明変数の列数\n",
    "vifs = [variance_inflation_factor(model.exog, i) for i in range(col)]\n",
    "print(pd.DataFrame(vifs, index=model.exog_names, columns=[\"VIF\"]))"
   ]
  },
  {
   "cell_type": "markdown",
   "metadata": {},
   "source": [
    "### 線形回帰モデル (独立変数 Solar, Windの２つ)  Linear regression model (IVs are \"Solar\" and \"Wind\")"
   ]
  },
  {
   "cell_type": "code",
   "execution_count": 6,
   "metadata": {},
   "outputs": [
    {
     "name": "stdout",
     "output_type": "stream",
     "text": [
      "                            OLS Regression Results                            \n",
      "==============================================================================\n",
      "Dep. Variable:                  Ozone   R-squared:                       0.449\n",
      "Model:                            OLS   Adj. R-squared:                  0.439\n",
      "Method:                 Least Squares   F-statistic:                     44.09\n",
      "Date:                Mon, 24 Dec 2018   Prob (F-statistic):           1.00e-14\n",
      "Time:                        15:18:42   Log-Likelihood:                -512.91\n",
      "No. Observations:                 111   AIC:                             1032.\n",
      "Df Residuals:                     108   BIC:                             1040.\n",
      "Df Model:                           2                                         \n",
      "Covariance Type:            nonrobust                                         \n",
      "==============================================================================\n",
      "                 coef    std err          t      P>|t|      [0.025      0.975]\n",
      "------------------------------------------------------------------------------\n",
      "Intercept     77.2460      9.068      8.519      0.000      59.273      95.219\n",
      "Solar          0.1004      0.026      3.819      0.000       0.048       0.152\n",
      "Wind          -5.4018      0.673     -8.024      0.000      -6.736      -4.067\n",
      "==============================================================================\n",
      "Omnibus:                        9.045   Durbin-Watson:                   1.613\n",
      "Prob(Omnibus):                  0.011   Jarque-Bera (JB):                9.139\n",
      "Skew:                           0.695   Prob(JB):                       0.0104\n",
      "Kurtosis:                       3.206   Cond. No.                         791.\n",
      "==============================================================================\n",
      "\n",
      "Warnings:\n",
      "[1] Standard Errors assume that the covariance matrix of the errors is correctly specified.\n",
      "                 VIF\n",
      "Intercept  14.699618\n",
      "Solar       1.016442\n",
      "Wind        1.016442\n"
     ]
    }
   ],
   "source": [
    "# モデルの設定 Construct a linear regression model\n",
    "model = smf.ols(formula = \"Ozone ~ Solar + Wind\", data = dat)\n",
    "# 回帰分析の実行 Execute linear  regression \n",
    "results = model.fit()\n",
    "# 結果を表示　Print results\n",
    "print(results.summary())\n",
    "# VIFを求める\n",
    "col = model.exog.shape[1]# 説明変数の列数\n",
    "vifs = [variance_inflation_factor(model.exog, i) for i in range(col)]\n",
    "print(pd.DataFrame(vifs, index=model.exog_names, columns=[\"VIF\"]))"
   ]
  },
  {
   "cell_type": "markdown",
   "metadata": {},
   "source": [
    "### 線形回帰モデル (独立変数 Solar, Tempの２つ)  Linear regression model (IVs are \"Solar\" and \"Temp\")"
   ]
  },
  {
   "cell_type": "code",
   "execution_count": 7,
   "metadata": {},
   "outputs": [
    {
     "name": "stdout",
     "output_type": "stream",
     "text": [
      "                            OLS Regression Results                            \n",
      "==============================================================================\n",
      "Dep. Variable:                  Ozone   R-squared:                       0.510\n",
      "Model:                            OLS   Adj. R-squared:                  0.501\n",
      "Method:                 Least Squares   F-statistic:                     56.28\n",
      "Date:                Mon, 24 Dec 2018   Prob (F-statistic):           1.80e-17\n",
      "Time:                        15:18:44   Log-Likelihood:                -506.41\n",
      "No. Observations:                 111   AIC:                             1019.\n",
      "Df Residuals:                     108   BIC:                             1027.\n",
      "Df Model:                           2                                         \n",
      "Covariance Type:            nonrobust                                         \n",
      "==============================================================================\n",
      "                 coef    std err          t      P>|t|      [0.025      0.975]\n",
      "------------------------------------------------------------------------------\n",
      "Intercept   -145.7032     18.447     -7.899      0.000    -182.268    -109.139\n",
      "Solar          0.0571      0.026      2.221      0.028       0.006       0.108\n",
      "Temp           2.2785      0.246      9.262      0.000       1.791       2.766\n",
      "==============================================================================\n",
      "Omnibus:                       52.338   Durbin-Watson:                   1.896\n",
      "Prob(Omnibus):                  0.000   Jarque-Bera (JB):              175.319\n",
      "Skew:                           1.671   Prob(JB):                     8.51e-39\n",
      "Kurtosis:                       8.171   Cond. No.                     1.80e+03\n",
      "==============================================================================\n",
      "\n",
      "Warnings:\n",
      "[1] Standard Errors assume that the covariance matrix of the errors is correctly specified.\n",
      "[2] The condition number is large, 1.8e+03. This might indicate that there are\n",
      "strong multicollinearity or other numerical problems.\n",
      "                 VIF\n",
      "Intercept  68.393617\n",
      "Solar       1.094676\n",
      "Temp        1.094676\n"
     ]
    }
   ],
   "source": [
    "# モデルの設定 Construct a linear regression model\n",
    "model = smf.ols(formula = \"Ozone ~ Solar + Temp\", data = dat)\n",
    "# 回帰分析の実行 Execute linear  regression \n",
    "results = model.fit()\n",
    "# 結果を表示　Print results\n",
    "print(results.summary())\n",
    "# VIFを求める\n",
    "col = model.exog.shape[1]# 説明変数の列数\n",
    "vifs = [variance_inflation_factor(model.exog, i) for i in range(col)]\n",
    "print(pd.DataFrame(vifs, index=model.exog_names, columns=[\"VIF\"]))"
   ]
  },
  {
   "cell_type": "markdown",
   "metadata": {},
   "source": [
    "### 線形回帰モデル (独立変数 Wind, Tempの２つ)  Linear regression model (IVs are \"Wind\" and \"Temp\")"
   ]
  },
  {
   "cell_type": "code",
   "execution_count": null,
   "metadata": {},
   "outputs": [],
   "source": [
    "# モデルの設定 Construct a linear regression model\n",
    "model = smf.ols(formula = \"Ozone ~ Wind + Temp\", data = dat)\n",
    "# 回帰分析の実行 Execute linear  regression \n",
    "results = model.fit()\n",
    "# 結果を表示　Print results\n",
    "print(results.summary())\n",
    "# VIFを求める\n",
    "col = model.exog.shape[1]# 説明変数の列数\n",
    "vifs = [variance_inflation_factor(model.exog, i) for i in range(col)]\n",
    "print(pd.DataFrame(vifs, index=model.exog_names, columns=[\"VIF\"]))"
   ]
  },
  {
   "cell_type": "markdown",
   "metadata": {},
   "source": [
    "### 線形回帰モデル (独立変数 Solar, Wind, Tempすべて)  Linear regression model (IVs are \"Solar\" ,\"Wind\" and \"Temp\")"
   ]
  },
  {
   "cell_type": "code",
   "execution_count": null,
   "metadata": {},
   "outputs": [],
   "source": [
    "# モデルの設定 Construct a linear regression model\n",
    "model = smf.ols(formula = \"Ozone ~ Solar + Wind + Temp\", data = dat)\n",
    "# 回帰分析の実行 Execute linear  regression \n",
    "results = model.fit()\n",
    "# 結果を表示　Print results\n",
    "print(results.summary())\n",
    "# VIFを求める  Calculate VIFs\n",
    "col = model.exog.shape[1]# 説明変数の列数 Number of columns of independent variable\n",
    "vifs = [variance_inflation_factor(model.exog, i) for i in range(col)]\n",
    "print(pd.DataFrame(vifs, index=model.exog_names, columns=[\"VIF\"]))"
   ]
  },
  {
   "cell_type": "code",
   "execution_count": null,
   "metadata": {},
   "outputs": [],
   "source": []
  },
  {
   "cell_type": "code",
   "execution_count": null,
   "metadata": {},
   "outputs": [],
   "source": []
  },
  {
   "cell_type": "code",
   "execution_count": null,
   "metadata": {},
   "outputs": [],
   "source": []
  }
 ],
 "metadata": {
  "kernelspec": {
   "display_name": "Python 3",
   "language": "python",
   "name": "python3"
  },
  "language_info": {
   "codemirror_mode": {
    "name": "ipython",
    "version": 3
   },
   "file_extension": ".py",
   "mimetype": "text/x-python",
   "name": "python",
   "nbconvert_exporter": "python",
   "pygments_lexer": "ipython3",
   "version": "3.6.5"
  },
  "toc": {
   "base_numbering": 1,
   "nav_menu": {},
   "number_sections": true,
   "sideBar": true,
   "skip_h1_title": false,
   "title_cell": "Table of Contents",
   "title_sidebar": "Contents",
   "toc_cell": false,
   "toc_position": {},
   "toc_section_display": true,
   "toc_window_display": false
  }
 },
 "nbformat": 4,
 "nbformat_minor": 2
}
