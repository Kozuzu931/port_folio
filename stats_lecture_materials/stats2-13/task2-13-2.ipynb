{
 "cells": [
  {
   "cell_type": "code",
   "execution_count": 1,
   "metadata": {},
   "outputs": [],
   "source": [
    "import numpy as np\n",
    "import pandas as pd\n",
    "import matplotlib.pyplot as plt\n",
    "import statsmodels.formula.api as smf\n",
    "from statsmodels.stats.outliers_influence import variance_inflation_factor # VIFを求めるため"
   ]
  },
  {
   "cell_type": "markdown",
   "metadata": {},
   "source": [
    "###  データの読み込み Loading data"
   ]
  },
  {
   "cell_type": "code",
   "execution_count": 2,
   "metadata": {},
   "outputs": [],
   "source": [
    "dat = pd.read_csv(\"data/apartments.csv\", delimiter=\",\", comment=\"#\")\n",
    "dat.dropna(inplace=True) #欠損値NaNを除外  Remove missing values"
   ]
  },
  {
   "cell_type": "markdown",
   "metadata": {},
   "source": [
    "### 変数増加法の関数step_aicを定義 Define the function step_aic of the foward selection method"
   ]
  },
  {
   "cell_type": "code",
   "execution_count": 3,
   "metadata": {},
   "outputs": [],
   "source": [
    "def step_aic(model, exog, endog, **kwargs):\n",
    "    \"\"\"\n",
    "    This select the best exogenous variables with AIC\n",
    "    Both exog and endog values can be either str or list.\n",
    "    (Endog list is for the Binomial family.)\n",
    "\n",
    "    Note: This adopt only \"forward\" selection\n",
    "\n",
    "    Args:\n",
    "        model: model from statsmodels.formula.api\n",
    "        exog (str or list): exogenous variables\n",
    "        endog (str or list): endogenous variables\n",
    "        kwargs: extra keyword argments for model (e.g., data, family)\n",
    "\n",
    "    Returns:\n",
    "        model: a model that seems to have the smallest AIC\n",
    "    \"\"\"\n",
    "\n",
    "    # exog, endogは強制的にリスト形式に変換しておく\n",
    "    exog = np.r_[[exog]].flatten()\n",
    "    endog = np.r_[[endog]].flatten()\n",
    "    remaining = set(exog)\n",
    "    selected = []  # 採用が確定された要因\n",
    "\n",
    "    # 定数項のみのAICを計算\n",
    "    formula_head = ' + '.join(endog) + ' ~ '\n",
    "    formula = formula_head + '1'\n",
    "    aic = model(formula=formula, **kwargs).fit().aic\n",
    "    print('AIC: {}, formula: {}'.format(round(aic, 3), formula))\n",
    "\n",
    "    current_score, best_new_score = np.ones(2) * aic\n",
    "\n",
    "    # 全要因を採択するか，どの要因を追加してもAICが上がらなければ終了\n",
    "    while remaining and current_score == best_new_score:\n",
    "        scores_with_candidates = []\n",
    "        for candidate in remaining:\n",
    "\n",
    "            # 残っている要因を1つずつ追加したときのAICを計算\n",
    "            formula_tail = ' + '.join(selected + [candidate])\n",
    "            formula = formula_head + formula_tail\n",
    "            aic = model(formula=formula, **kwargs).fit().aic\n",
    "            print('AIC: {}, formula: {}'.format(round(aic, 3), formula))\n",
    "\n",
    "            scores_with_candidates.append((aic, candidate))\n",
    "\n",
    "        # 最もAICが小さかった要因をbest_candidateとする\n",
    "        scores_with_candidates.sort()\n",
    "        scores_with_candidates.reverse()\n",
    "        best_new_score, best_candidate = scores_with_candidates.pop()\n",
    "\n",
    "        # 候補要因追加でAICが下がったならば，それを確定要因として追加する\n",
    "        if best_new_score < current_score:\n",
    "            remaining.remove(best_candidate)\n",
    "            selected.append(best_candidate)\n",
    "            current_score = best_new_score\n",
    "\n",
    "    formula = formula_head + ' + '.join(selected)\n",
    "    print('The best formula: {}'.format(formula))\n",
    "    return model(formula, **kwargs).fit()"
   ]
  },
  {
   "cell_type": "markdown",
   "metadata": {},
   "source": [
    "### 変数増加法により最も良いモデルを選択する"
   ]
  },
  {
   "cell_type": "code",
   "execution_count": 4,
   "metadata": {},
   "outputs": [
    {
     "name": "stdout",
     "output_type": "stream",
     "text": [
      "AIC: 556.316, formula: price ~ 1\n",
      "AIC: 513.392, formula: price ~ area\n",
      "AIC: 554.695, formula: price ~ distance\n",
      "AIC: 553.029, formula: price ~ time\n",
      "AIC: 550.018, formula: price ~ year\n",
      "AIC: 494.151, formula: price ~ area + distance\n",
      "AIC: 490.349, formula: price ~ area + time\n",
      "AIC: 509.306, formula: price ~ area + year\n",
      "AIC: 492.126, formula: price ~ area + time + distance\n",
      "AIC: 398.079, formula: price ~ area + time + year\n",
      "AIC: 399.45, formula: price ~ area + time + year + distance\n",
      "The best formula: price ~ area + time + year\n"
     ]
    }
   ],
   "source": [
    "model = step_aic(smf.ols,[\"area\",\"time\",\"year\",\"distance\"],[\"price\"],data=dat)"
   ]
  },
  {
   "cell_type": "markdown",
   "metadata": {},
   "source": [
    "### 回帰分析の実行"
   ]
  },
  {
   "cell_type": "code",
   "execution_count": 5,
   "metadata": {},
   "outputs": [
    {
     "name": "stdout",
     "output_type": "stream",
     "text": [
      "                            OLS Regression Results                            \n",
      "==============================================================================\n",
      "Dep. Variable:                  price   R-squared:                       0.996\n",
      "Model:                            OLS   Adj. R-squared:                  0.995\n",
      "Method:                 Least Squares   F-statistic:                     2059.\n",
      "Date:                Mon, 24 Dec 2018   Prob (F-statistic):           5.15e-31\n",
      "Time:                        17:20:59   Log-Likelihood:                -195.04\n",
      "No. Observations:                  30   AIC:                             398.1\n",
      "Df Residuals:                      26   BIC:                             403.7\n",
      "Df Model:                           3                                         \n",
      "Covariance Type:            nonrobust                                         \n",
      "==============================================================================\n",
      "                 coef    std err          t      P>|t|      [0.025      0.975]\n",
      "------------------------------------------------------------------------------\n",
      "Intercept  -1.083e+05   4544.816    -23.831      0.000   -1.18e+05    -9.9e+04\n",
      "area         132.2748      1.998     66.214      0.000     128.169     136.381\n",
      "time        -569.8530     17.130    -33.266      0.000    -605.064    -534.642\n",
      "year          55.2787      2.303     24.002      0.000      50.545      60.013\n",
      "==============================================================================\n",
      "Omnibus:                        5.999   Durbin-Watson:                   2.632\n",
      "Prob(Omnibus):                  0.050   Jarque-Bera (JB):                1.893\n",
      "Skew:                           0.016   Prob(JB):                        0.388\n",
      "Kurtosis:                       1.770   Cond. No.                     2.87e+05\n",
      "==============================================================================\n",
      "\n",
      "Warnings:\n",
      "[1] Standard Errors assume that the covariance matrix of the errors is correctly specified.\n",
      "[2] The condition number is large, 2.87e+05. This might indicate that there are\n",
      "strong multicollinearity or other numerical problems.\n",
      "                    VIF\n",
      "Intercept  20678.167464\n",
      "area           2.159415\n",
      "time           2.304703\n",
      "year           1.212953\n"
     ]
    }
   ],
   "source": [
    "# モデルの設定 Construct a linear regression model\n",
    "model = smf.ols(formula = \"price ~ area + time + year\", data = dat)\n",
    "# 回帰分析の実行 Execute linear  regression \n",
    "results = model.fit()\n",
    "# 結果を表示　Print results\n",
    "print(results.summary())\n",
    "# VIFを求める Calculate VIFs\n",
    "col = model.exog.shape[1]# 独立変数の列数　Number of columns of independent variable\n",
    "vifs = [variance_inflation_factor(model.exog, i) for i in range(col)]\n",
    "print(pd.DataFrame(vifs, index=model.exog_names, columns=[\"VIF\"]))"
   ]
  }
 ],
 "metadata": {
  "kernelspec": {
   "display_name": "Python 3",
   "language": "python",
   "name": "python3"
  },
  "language_info": {
   "codemirror_mode": {
    "name": "ipython",
    "version": 3
   },
   "file_extension": ".py",
   "mimetype": "text/x-python",
   "name": "python",
   "nbconvert_exporter": "python",
   "pygments_lexer": "ipython3",
   "version": "3.6.5"
  },
  "toc": {
   "base_numbering": 1,
   "nav_menu": {},
   "number_sections": true,
   "sideBar": true,
   "skip_h1_title": false,
   "title_cell": "Table of Contents",
   "title_sidebar": "Contents",
   "toc_cell": false,
   "toc_position": {},
   "toc_section_display": true,
   "toc_window_display": false
  }
 },
 "nbformat": 4,
 "nbformat_minor": 2
}
