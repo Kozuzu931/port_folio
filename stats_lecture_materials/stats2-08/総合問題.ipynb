{
 "cells": [
  {
   "cell_type": "code",
   "execution_count": 2,
   "metadata": {},
   "outputs": [],
   "source": [
    "import numpy as np\n",
    "import matplotlib.pyplot as  plt\n",
    "import pandas as pd\n",
    "import scipy.stats as ss\n",
    "from statsmodels.stats.multicomp import pairwise_tukeyhsd, MultiComparison\n",
    "from statsmodels.formula.api import ols"
   ]
  },
  {
   "cell_type": "code",
   "execution_count": 3,
   "metadata": {},
   "outputs": [],
   "source": [
    "meshPoints = np.linspace(-1, 1, 500)"
   ]
  },
  {
   "cell_type": "code",
   "execution_count": 4,
   "metadata": {},
   "outputs": [],
   "source": [
    "y = [np.sin(2*np.pi*i) for i in meshPoints]"
   ]
  },
  {
   "cell_type": "code",
   "execution_count": 5,
   "metadata": {},
   "outputs": [
    {
     "data": {
      "image/png": "[encoded data removed]",
      "text/plain": [
       "<Figure size 432x288 with 1 Axes>"
      ]
     },
     "metadata": {},
     "output_type": "display_data"
    }
   ],
   "source": [
    "plt.plot(meshPoints, y, label=\"Sinusoid line\")\n",
    "plt.legend()\n",
    "plt.show()"
   ]
  },
  {
   "cell_type": "code",
   "execution_count": 29,
   "metadata": {},
   "outputs": [],
   "source": [
    "A=np.array([[17, 24, 1, 8, 15],\n",
    "[23, 5, 7, 14, 16],\n",
    "[ 4, 6, 13, 20, 22],\n",
    "[10, 12, 19, 21, 3],\n",
    "[11, 18, 25, 2, 9]])"
   ]
  },
  {
   "cell_type": "code",
   "execution_count": 30,
   "metadata": {},
   "outputs": [
    {
     "name": "stdout",
     "output_type": "stream",
     "text": [
      "縦: [65 65 65 65 65]\n",
      "横: [65 65 65 65 65]\n",
      "対角 65\n",
      "対角逆 65\n"
     ]
    }
   ],
   "source": [
    "print(\"縦:\", np.sum(A, axis=0))\n",
    "print(\"横:\", np.sum(A, axis=1))\n",
    "print(\"対角\", np.sum(np.diag(A)))\n",
    "print(\"対角逆\", np.sum(np.diag(A[::-1])))"
   ]
  },
  {
   "cell_type": "code",
   "execution_count": 8,
   "metadata": {},
   "outputs": [],
   "source": [
    "data = np.loadtxt(\"data/prob2.txt\", delimiter=\",\")"
   ]
  },
  {
   "cell_type": "code",
   "execution_count": 9,
   "metadata": {},
   "outputs": [
    {
     "data": {
      "text/html": [
       "<div>\n",
       "<style scoped>\n",
       "    .dataframe tbody tr th:only-of-type {\n",
       "        vertical-align: middle;\n",
       "    }\n",
       "\n",
       "    .dataframe tbody tr th {\n",
       "        vertical-align: top;\n",
       "    }\n",
       "\n",
       "    .dataframe thead th {\n",
       "        text-align: right;\n",
       "    }\n",
       "</style>\n",
       "<table border=\"1\" class=\"dataframe\">\n",
       "  <thead>\n",
       "    <tr style=\"text-align: right;\">\n",
       "      <th></th>\n",
       "      <th>A1</th>\n",
       "      <th>A2</th>\n",
       "    </tr>\n",
       "  </thead>\n",
       "  <tbody>\n",
       "    <tr>\n",
       "      <th>0</th>\n",
       "      <td>0.22</td>\n",
       "      <td>-5.13</td>\n",
       "    </tr>\n",
       "    <tr>\n",
       "      <th>1</th>\n",
       "      <td>-0.87</td>\n",
       "      <td>-2.19</td>\n",
       "    </tr>\n",
       "    <tr>\n",
       "      <th>2</th>\n",
       "      <td>-2.39</td>\n",
       "      <td>-2.43</td>\n",
       "    </tr>\n",
       "    <tr>\n",
       "      <th>3</th>\n",
       "      <td>-1.79</td>\n",
       "      <td>-3.83</td>\n",
       "    </tr>\n",
       "    <tr>\n",
       "      <th>4</th>\n",
       "      <td>0.37</td>\n",
       "      <td>0.50</td>\n",
       "    </tr>\n",
       "    <tr>\n",
       "      <th>5</th>\n",
       "      <td>-1.54</td>\n",
       "      <td>-3.25</td>\n",
       "    </tr>\n",
       "    <tr>\n",
       "      <th>6</th>\n",
       "      <td>1.28</td>\n",
       "      <td>4.32</td>\n",
       "    </tr>\n",
       "    <tr>\n",
       "      <th>7</th>\n",
       "      <td>-0.31</td>\n",
       "      <td>1.63</td>\n",
       "    </tr>\n",
       "    <tr>\n",
       "      <th>8</th>\n",
       "      <td>-0.74</td>\n",
       "      <td>5.18</td>\n",
       "    </tr>\n",
       "    <tr>\n",
       "      <th>9</th>\n",
       "      <td>1.72</td>\n",
       "      <td>-0.43</td>\n",
       "    </tr>\n",
       "    <tr>\n",
       "      <th>10</th>\n",
       "      <td>0.38</td>\n",
       "      <td>7.11</td>\n",
       "    </tr>\n",
       "    <tr>\n",
       "      <th>11</th>\n",
       "      <td>-0.17</td>\n",
       "      <td>4.87</td>\n",
       "    </tr>\n",
       "    <tr>\n",
       "      <th>12</th>\n",
       "      <td>-0.62</td>\n",
       "      <td>-3.10</td>\n",
       "    </tr>\n",
       "    <tr>\n",
       "      <th>13</th>\n",
       "      <td>-1.10</td>\n",
       "      <td>-5.81</td>\n",
       "    </tr>\n",
       "    <tr>\n",
       "      <th>14</th>\n",
       "      <td>0.30</td>\n",
       "      <td>3.76</td>\n",
       "    </tr>\n",
       "    <tr>\n",
       "      <th>15</th>\n",
       "      <td>0.15</td>\n",
       "      <td>6.31</td>\n",
       "    </tr>\n",
       "    <tr>\n",
       "      <th>16</th>\n",
       "      <td>2.30</td>\n",
       "      <td>2.58</td>\n",
       "    </tr>\n",
       "    <tr>\n",
       "      <th>17</th>\n",
       "      <td>0.19</td>\n",
       "      <td>0.07</td>\n",
       "    </tr>\n",
       "    <tr>\n",
       "      <th>18</th>\n",
       "      <td>-0.50</td>\n",
       "      <td>5.76</td>\n",
       "    </tr>\n",
       "    <tr>\n",
       "      <th>19</th>\n",
       "      <td>-0.09</td>\n",
       "      <td>3.50</td>\n",
       "    </tr>\n",
       "  </tbody>\n",
       "</table>\n",
       "</div>"
      ],
      "text/plain": [
       "      A1    A2\n",
       "0   0.22 -5.13\n",
       "1  -0.87 -2.19\n",
       "2  -2.39 -2.43\n",
       "3  -1.79 -3.83\n",
       "4   0.37  0.50\n",
       "5  -1.54 -3.25\n",
       "6   1.28  4.32\n",
       "7  -0.31  1.63\n",
       "8  -0.74  5.18\n",
       "9   1.72 -0.43\n",
       "10  0.38  7.11\n",
       "11 -0.17  4.87\n",
       "12 -0.62 -3.10\n",
       "13 -1.10 -5.81\n",
       "14  0.30  3.76\n",
       "15  0.15  6.31\n",
       "16  2.30  2.58\n",
       "17  0.19  0.07\n",
       "18 -0.50  5.76\n",
       "19 -0.09  3.50"
      ]
     },
     "execution_count": 9,
     "metadata": {},
     "output_type": "execute_result"
    }
   ],
   "source": [
    "df = pd.DataFrame(data).T.rename(columns={0:\"A1\", 1:\"A2\"})\n",
    "df"
   ]
  },
  {
   "cell_type": "code",
   "execution_count": 21,
   "metadata": {},
   "outputs": [
    {
     "name": "stdout",
     "output_type": "stream",
     "text": [
      "0.22\n"
     ]
    },
    {
     "data": {
      "image/png": "[encoded data removed]",
      "text/plain": [
       "<Figure size 432x288 with 1 Axes>"
      ]
     },
     "metadata": {},
     "output_type": "display_data"
    }
   ],
   "source": [
    "#fig = plt.figure()\n",
    "#ax = fig.add_plot(111)\n",
    "#plt.boxplot([df[\"A1\"], df[\"A2\"]])\n",
    "#plt.boxplot(df[\"A2\"])\n",
    "box=df.boxplot()\n",
    "print(df.sort_values('A1', ascending=True).A1[0])"
   ]
  },
  {
   "cell_type": "code",
   "execution_count": 27,
   "metadata": {},
   "outputs": [
    {
     "data": {
      "text/plain": [
       "2.3"
      ]
     },
     "execution_count": 27,
     "metadata": {},
     "output_type": "execute_result"
    }
   ],
   "source": [
    "some = df.sort_values('A1', ascending=True).A1\n",
    "np.sort(np.asarray(some))[-1]"
   ]
  },
  {
   "cell_type": "code",
   "execution_count": 11,
   "metadata": {},
   "outputs": [
    {
     "name": "stdout",
     "output_type": "stream",
     "text": [
      "平均: 151.0\n",
      "標準偏差: 12.591483413222388\n"
     ]
    }
   ],
   "source": [
    "height = np.array([125,135,145,155,165,175,185])\n",
    "freq = np.array([2,5,25,10,8,4,1])\n",
    "r = freq/np.sum(freq)\n",
    "mean = np.sum(height*freq)/np.sum(freq)\n",
    "print(\"平均:\", mean)\n",
    "print(\"標準偏差:\",np.sqrt(np.sum([(mean-height[i])**2*r[i] for i in range(0,len(freq))])))"
   ]
  },
  {
   "cell_type": "code",
   "execution_count": 12,
   "metadata": {},
   "outputs": [
    {
     "name": "stdout",
     "output_type": "stream",
     "text": [
      "0.0\n",
      "1.0\n"
     ]
    }
   ],
   "source": [
    "print(ss.norm.pdf(x=(549-5)/2, loc=5, scale=2))\n",
    "print(ss.norm.cdf(549, loc=5, scale=np.sqrt(4)))"
   ]
  },
  {
   "cell_type": "code",
   "execution_count": 13,
   "metadata": {},
   "outputs": [
    {
     "data": {
      "text/plain": [
       "array([ 5.69774982,  6.11082238,  7.95970178,  4.24667411,  2.59952712,\n",
       "        5.29388341,  7.3961536 ,  4.9403679 ,  7.09403045,  7.86740955,\n",
       "        2.50343504,  6.15712721,  4.51130475,  3.08371284,  3.3516285 ,\n",
       "        4.83038117,  9.24530882,  4.36040147,  5.03494008,  1.04670649,\n",
       "        6.40038605,  6.37951831,  4.97310011,  4.8385485 ,  6.80780198,\n",
       "        4.49668437,  6.99074756,  4.48849506,  8.3906944 ,  2.77295497,\n",
       "        1.55640312,  1.73658684,  5.59616597,  2.22917481,  6.98731573,\n",
       "        3.02877094,  7.75407219,  6.62119555,  2.37228029,  8.3356753 ,\n",
       "        4.11979328, -0.03877078,  7.11402624,  4.17682759,  7.72771895,\n",
       "        1.97250701,  8.82245505,  4.5299467 ,  3.47136729,  7.9527848 ,\n",
       "        6.72561222,  3.18652753,  4.98824455,  1.85086189,  4.55581153,\n",
       "        6.4760499 ,  6.75657455,  8.10225141,  5.16532093,  1.23090796,\n",
       "        2.70891401,  5.29510146,  6.08795507,  2.03472371,  9.32761796,\n",
       "        8.42088496,  5.44668582,  2.91936883,  4.92917311,  6.4238255 ,\n",
       "        5.80825479,  4.16848244,  2.50737499,  4.04754249,  4.28312939,\n",
       "        5.03664059,  5.38003049,  5.30952476,  6.80267829,  3.58296445,\n",
       "        5.7975161 ,  1.29237197,  5.66428445,  6.35567922,  5.07624186,\n",
       "        4.00619462,  4.60724392,  1.79758325,  7.75036829,  9.26049438,\n",
       "        6.13997663,  5.02011817,  3.3160469 ,  6.66935247,  5.7524844 ,\n",
       "        4.60026825,  6.86094448,  8.91100262,  4.75406534,  6.90724313])"
      ]
     },
     "execution_count": 13,
     "metadata": {},
     "output_type": "execute_result"
    }
   ],
   "source": [
    "x = ss.norm.rvs(loc=5, scale=2, size=100)\n",
    "#ss.zscore(x)\n",
    "x"
   ]
  },
  {
   "cell_type": "code",
   "execution_count": 14,
   "metadata": {},
   "outputs": [],
   "source": [
    "data = np.loadtxt(\"data/prob6.txt\", delimiter=\"\\t\", skiprows=1)"
   ]
  },
  {
   "cell_type": "code",
   "execution_count": 15,
   "metadata": {},
   "outputs": [
    {
     "data": {
      "text/plain": [
       "array([[42.1, 42.7],\n",
       "       [41. , 43.6],\n",
       "       [41.3, 43.8],\n",
       "       [41.8, 43.3],\n",
       "       [42.4, 42.5],\n",
       "       [42.8, 43.5],\n",
       "       [43.2, 43.1],\n",
       "       [42.3, 41.7],\n",
       "       [41.8, 44. ],\n",
       "       [42.7, 44.1]])"
      ]
     },
     "execution_count": 15,
     "metadata": {},
     "output_type": "execute_result"
    }
   ],
   "source": [
    "data"
   ]
  },
  {
   "cell_type": "code",
   "execution_count": 16,
   "metadata": {},
   "outputs": [
    {
     "data": {
      "text/plain": [
       "Ttest_indResult(statistic=-3.3972307061176026, pvalue=0.0032111425007745158)"
      ]
     },
     "execution_count": 16,
     "metadata": {},
     "output_type": "execute_result"
    }
   ],
   "source": [
    "ss.ttest_ind(data[:,0],data[:,1])"
   ]
  },
  {
   "cell_type": "code",
   "execution_count": 17,
   "metadata": {},
   "outputs": [],
   "source": [
    "data = np.loadtxt(\"data/prob7.txt\", delimiter=\"\\t\", skiprows=1)"
   ]
  },
  {
   "cell_type": "code",
   "execution_count": null,
   "metadata": {},
   "outputs": [],
   "source": []
  },
  {
   "cell_type": "code",
   "execution_count": 18,
   "metadata": {},
   "outputs": [
    {
     "ename": "AttributeError",
     "evalue": "module 'numpy' has no attribute 'reoeat'",
     "output_type": "error",
     "traceback": [
      "\u001b[0;31m---------------------------------------------------------------------------\u001b[0m",
      "\u001b[0;31mAttributeError\u001b[0m                            Traceback (most recent call last)",
      "\u001b[0;32m<ipython-input-18-c82c6b605d4e>\u001b[0m in \u001b[0;36m<module>\u001b[0;34m()\u001b[0m\n\u001b[1;32m      5\u001b[0m \u001b[0;34m\u001b[0m\u001b[0m\n\u001b[1;32m      6\u001b[0m \u001b[0mdata_arr\u001b[0m \u001b[0;34m=\u001b[0m \u001b[0mnp\u001b[0m\u001b[0;34m.\u001b[0m\u001b[0mhstack\u001b[0m\u001b[0;34m(\u001b[0m\u001b[0;34m(\u001b[0m\u001b[0mA\u001b[0m\u001b[0;34m,\u001b[0m\u001b[0mB\u001b[0m\u001b[0;34m,\u001b[0m\u001b[0mC\u001b[0m\u001b[0;34m)\u001b[0m\u001b[0;34m)\u001b[0m\u001b[0;34m\u001b[0m\u001b[0m\n\u001b[0;32m----> 7\u001b[0;31m \u001b[0mind_arr\u001b[0m \u001b[0;34m=\u001b[0m \u001b[0mnp\u001b[0m\u001b[0;34m.\u001b[0m\u001b[0mreoeat\u001b[0m\u001b[0;34m(\u001b[0m\u001b[0mlist\u001b[0m\u001b[0;34m(\u001b[0m\u001b[0;34m\"ABC\"\u001b[0m\u001b[0;34m)\u001b[0m\u001b[0;34m,\u001b[0m \u001b[0mlen\u001b[0m\u001b[0;34m(\u001b[0m\u001b[0mA\u001b[0m\u001b[0;34m)\u001b[0m\u001b[0;34m)\u001b[0m\u001b[0;34m\u001b[0m\u001b[0m\n\u001b[0m\u001b[1;32m      8\u001b[0m \u001b[0mprint\u001b[0m\u001b[0;34m(\u001b[0m\u001b[0mpairwise_tukeyhsd\u001b[0m\u001b[0;34m(\u001b[0m\u001b[0mdata_arr\u001b[0m\u001b[0;34m,\u001b[0m \u001b[0mind_arr\u001b[0m\u001b[0;34m)\u001b[0m\u001b[0;34m)\u001b[0m\u001b[0;34m\u001b[0m\u001b[0m\n",
      "\u001b[0;31mAttributeError\u001b[0m: module 'numpy' has no attribute 'reoeat'"
     ]
    }
   ],
   "source": [
    "A = np.array(data[:,0])\n",
    "B = np.array(data[:,1])\n",
    "C = np.array(data[:,2])\n",
    "\n",
    "\n",
    "data_arr = np.hstack((A,B,C))\n",
    "ind_arr = np.reoeat(list(\"ABC\"), len(A))\n",
    "print(pairwise_tukeyhsd(data_arr, ind_arr))"
   ]
  },
  {
   "cell_type": "code",
   "execution_count": null,
   "metadata": {},
   "outputs": [],
   "source": [
    "'''A = [14, 15, 14, 16, 15, 17, 17]\n",
    "B = [17, 16, 17, 16, 15, 18, 19, 15]\n",
    "C = [18, 19, 20, 19, 17, 17]\n",
    "D = [20, 21, 19, 20, 19, 22, 20]\n",
    "E = [19, 20, 19, 17, 17, 17, 18]\n",
    "'''\n",
    "\n",
    "A = np.array(data[:,0])\n",
    "B = np.array(data[:,1])\n",
    "C = np.array(data[:,2])\n",
    "\n",
    "\n",
    "def tukey_hsd( ind, *args ):\n",
    "    data_arr = np.hstack( args )\n",
    "    ind_arr = np.array([])\n",
    "    for x in range(len(args)):\n",
    "      ind_arr = np.append(ind_arr, np.repeat(ind[x], len(args[x])))\n",
    "    print(pairwise_tukeyhsd(data_arr,ind_arr))\n",
    "\n",
    "#tukey_hsd(list('ABC') , A,B,C) # 第1引数:名称のリスト, 第2引数以降: データ\n",
    "if __name__ == \"__main__\":\n",
    "    tukey_hsd(list(\"ABC\"), A, B, C)"
   ]
  },
  {
   "cell_type": "code",
   "execution_count": null,
   "metadata": {},
   "outputs": [],
   "source": [
    "print(\"----------------\")\n",
    "print(\"ANOVA table:\")\n",
    "\n",
    "# one-way anova by anova_lm()\n",
    "aov_table = sm.stats.anova_lm(res, typ=2)\n",
    "\n",
    "# aov_tableはpandasのdataframeオブジェクトです・\n",
    "print(\"----------------\")\n",
    "print(aov_table)\n",
    "print(\"----------------\")\n",
    "# F値の取得、 access F-statistic\n",
    "print(\"F値：\", aov_table.at['group','F'])\n",
    "# F値の取得、 access F-statistic\n",
    "print(\"p値：\", aov_table.at['group','PR(>F)'])\n",
    "# グループ間の自由度\n",
    "print(\"グループ間の自由度:\",aov_table.at['group','df'])"
   ]
  }
 ],
 "metadata": {
  "kernelspec": {
   "display_name": "Python 3",
   "language": "python",
   "name": "python3"
  },
  "language_info": {
   "codemirror_mode": {
    "name": "ipython",
    "version": 3
   },
   "file_extension": ".py",
   "mimetype": "text/x-python",
   "name": "python",
   "nbconvert_exporter": "python",
   "pygments_lexer": "ipython3",
   "version": "3.6.5"
  },
  "toc": {
   "base_numbering": 1,
   "nav_menu": {},
   "number_sections": true,
   "sideBar": true,
   "skip_h1_title": false,
   "title_cell": "Table of Contents",
   "title_sidebar": "Contents",
   "toc_cell": false,
   "toc_position": {},
   "toc_section_display": true,
   "toc_window_display": false
  }
 },
 "nbformat": 4,
 "nbformat_minor": 2
}
