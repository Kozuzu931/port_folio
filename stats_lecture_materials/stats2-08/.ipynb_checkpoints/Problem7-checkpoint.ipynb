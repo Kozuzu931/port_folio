{
 "cells": [
  {
   "cell_type": "code",
   "execution_count": 24,
   "metadata": {},
   "outputs": [],
   "source": [
    "import numpy as np\n",
    "import scipy.stats as ss"
   ]
  },
  {
   "cell_type": "code",
   "execution_count": 3,
   "metadata": {},
   "outputs": [],
   "source": [
    "data = np.loadtxt(\"data/prob7.txt\", delimiter=\"\\t\", skiprows=1)"
   ]
  },
  {
   "cell_type": "code",
   "execution_count": 13,
   "metadata": {},
   "outputs": [],
   "source": [
    "perfect = data[:, 0]\n",
    "stastic = data[:,1]\n",
    "defectiv = data[:,2]"
   ]
  },
  {
   "cell_type": "code",
   "execution_count": 27,
   "metadata": {},
   "outputs": [],
   "source": [
    "alpha = 0.05"
   ]
  },
  {
   "cell_type": "code",
   "execution_count": 21,
   "metadata": {},
   "outputs": [],
   "source": [
    "perfect_mean = np.mean(perfect)\n",
    "stastic_mean = np.mean(stastic)\n",
    "defectiv_mean = np.mean(defectiv)\n",
    "all_mean = np.mean(data)\n",
    "df1 =  len(data[0, :])  - 1\n",
    "\n",
    "pre_mean = np.array([(perfect_mean - all_mean), (stastic_mean - all_mean), (defectiv_mean - all_mean)])\n",
    "sqr_dev = np.sum(pre_mean**2)/len(data[0, :]) \n",
    "subgroup_var = sqr_dev/df1"
   ]
  },
  {
   "cell_type": "code",
   "execution_count": 22,
   "metadata": {},
   "outputs": [],
   "source": [
    "perfect_dev = np.sum([(i - perfect_mean)**2 for i in perfect])\n",
    "stastic_dev = np.sum([(i - stastic_mean)**2 for i in stastic])\n",
    "defectiv_dev = np.sum([(i - defectiv_mean)**2 for i in defectiv])\n",
    "df2 = df1 * len(data[:, 0])\n",
    "\n",
    "group_var = np.sum([perfect_dev,stastic_dev, defectiv_dev]) / df2"
   ]
  },
  {
   "cell_type": "code",
   "execution_count": 26,
   "metadata": {},
   "outputs": [
    {
     "name": "stdout",
     "output_type": "stream",
     "text": [
      "p値: 0.598\n"
     ]
    }
   ],
   "source": [
    "f_value = subgroup_var / group_var\n",
    "p_value = ss.f.cdf(f_value, df1, df2)\n",
    "print(\"p値: {:.3f}\".format(p_value))"
   ]
  },
  {
   "cell_type": "code",
   "execution_count": 29,
   "metadata": {},
   "outputs": [
    {
     "name": "stdout",
     "output_type": "stream",
     "text": [
      "Retain null hypothesis\n"
     ]
    }
   ],
   "source": [
    "if p_value < alpha:\n",
    "    print(\"Reject null hypothesis\")\n",
    "else:\n",
    "    print(\"Retain null hypothesis\")"
   ]
  },
  {
   "cell_type": "markdown",
   "metadata": {},
   "source": [
    "# 解釈\n",
    "p値が有意水準を超えているため、このシフト間での品質の有意な差はないと考えられる。"
   ]
  }
 ],
 "metadata": {
  "kernelspec": {
   "display_name": "Python 3",
   "language": "python",
   "name": "python3"
  },
  "language_info": {
   "codemirror_mode": {
    "name": "ipython",
    "version": 3
   },
   "file_extension": ".py",
   "mimetype": "text/x-python",
   "name": "python",
   "nbconvert_exporter": "python",
   "pygments_lexer": "ipython3",
   "version": "3.6.5"
  },
  "toc": {
   "base_numbering": 1,
   "nav_menu": {},
   "number_sections": true,
   "sideBar": true,
   "skip_h1_title": false,
   "title_cell": "Table of Contents",
   "title_sidebar": "Contents",
   "toc_cell": false,
   "toc_position": {},
   "toc_section_display": true,
   "toc_window_display": false
  }
 },
 "nbformat": 4,
 "nbformat_minor": 2
}
