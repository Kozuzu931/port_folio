{
 "cells": [
  {
   "cell_type": "markdown",
   "metadata": {
    "slideshow": {
     "slide_type": "slide"
    }
   },
   "source": [
    "### 二元配置分散分析 Two-way ANOVA\n",
    "\n",
    "#### インポート パッケージ　Import packages"
   ]
  },
  {
   "cell_type": "code",
   "execution_count": 2,
   "metadata": {
    "slideshow": {
     "slide_type": "fragment"
    }
   },
   "outputs": [],
   "source": [
    "import pandas as pd\n",
    "import scipy.stats as ss\n",
    "import matplotlib.pyplot as plt\n",
    "\n",
    "import statsmodels.api as sm\n",
    "# Regression with a formula \n",
    "from statsmodels.formula.api import ols\n",
    "# For multiple comparison\n",
    "import statsmodels.stats.multicomp as mlpc\n",
    "# Plot interaction \n",
    "from statsmodels.graphics.factorplots import interaction_plot\n",
    "\n",
    "from IPython.core.display import display"
   ]
  },
  {
   "cell_type": "markdown",
   "metadata": {
    "slideshow": {
     "slide_type": "slide"
    }
   },
   "source": [
    "#### データファイルを読み込む Read the data file"
   ]
  },
  {
   "cell_type": "code",
   "execution_count": 3,
   "metadata": {
    "scrolled": true,
    "slideshow": {
     "slide_type": "fragment"
    }
   },
   "outputs": [
    {
     "ename": "AttributeError",
     "evalue": "module 'pandas' has no attribute 'read_txt'",
     "output_type": "error",
     "traceback": [
      "\u001b[0;31m---------------------------------------------------------------------------\u001b[0m",
      "\u001b[0;31mAttributeError\u001b[0m                            Traceback (most recent call last)",
      "\u001b[0;32m<ipython-input-3-73869ee24d7b>\u001b[0m in \u001b[0;36m<module>\u001b[0;34m()\u001b[0m\n\u001b[1;32m      1\u001b[0m \u001b[0;31m# Loading data\u001b[0m\u001b[0;34m\u001b[0m\u001b[0;34m\u001b[0m\u001b[0m\n\u001b[1;32m      2\u001b[0m \u001b[0mfile\u001b[0m\u001b[0;34m=\u001b[0m\u001b[0;34m\"data/prob7.txt\"\u001b[0m\u001b[0;34m\u001b[0m\u001b[0m\n\u001b[0;32m----> 3\u001b[0;31m \u001b[0mdata_frame\u001b[0m \u001b[0;34m=\u001b[0m \u001b[0mpd\u001b[0m\u001b[0;34m.\u001b[0m\u001b[0mread_txt\u001b[0m\u001b[0;34m(\u001b[0m\u001b[0mfile\u001b[0m\u001b[0;34m)\u001b[0m\u001b[0;34m\u001b[0m\u001b[0m\n\u001b[0m\u001b[1;32m      4\u001b[0m \u001b[0;34m\u001b[0m\u001b[0m\n\u001b[1;32m      5\u001b[0m \u001b[0;31m# ## split data\u001b[0m\u001b[0;34m\u001b[0m\u001b[0;34m\u001b[0m\u001b[0m\n",
      "\u001b[0;31mAttributeError\u001b[0m: module 'pandas' has no attribute 'read_txt'"
     ]
    }
   ],
   "source": [
    "# Loading data\n",
    "data = np.loadtxt(\"data/prob7.txt\", delimiter=\"\\t\", skiprows=1)\n",
    "\n",
    "# ## split data\n",
    "# 1.  find all levels\n",
    "fert_levels = pd.unique(data_frame['Fert'])\n",
    "water_levels = pd.unique(data_frame['Water'])\n",
    "# 2. extract data\n",
    "data = []\n",
    "combi_levels =[]\n",
    "for fert in fert_levels:\n",
    "    for water in water_levels:\n",
    "        combi_levels.append((fert, water))\n",
    "        d_temp = data_frame[(data_frame[\"Fert\"]==fert) & (data_frame[\"Water\"] == water)]['Yield']\n",
    "        data.append(d_temp.tolist())\n",
    "print(combi_levels)\n",
    "print(data)    "
   ]
  },
  {
   "cell_type": "markdown",
   "metadata": {
    "slideshow": {
     "slide_type": "slide"
    }
   },
   "source": [
    "#### 3つ前提　Three Assumptions \n",
    "1. 外れ値があるかどうか（ある場合、合理的な理由があれば、削除することが可能です）  \n",
    "2. 等分散性検定（ここで、levene's testを使えます）   \n",
    "3. 群間に従属変数の正規性検定（Shapiro-Wilk検定、ここに触らない）\n",
    "\n",
    "\n",
    "1. No outliers (if you have outliers, e.g., you may delete it for any reasonable reason )\n",
    "2. Homogeneity of variance (Here, we use levene's test)\n",
    "3. The dependent variable is normally distributed across the groups (Shapiro-Wilk test, not touched in this lecture)"
   ]
  },
  {
   "cell_type": "markdown",
   "metadata": {
    "slideshow": {
     "slide_type": "slide"
    }
   },
   "source": [
    "###### 1. 外れ値を検知する　Detect outliers"
   ]
  },
  {
   "cell_type": "code",
   "execution_count": 3,
   "metadata": {
    "slideshow": {
     "slide_type": "fragment"
    }
   },
   "outputs": [
    {
     "data": {
      "image/png": "[encoded data removed]",
      "text/plain": [
       "<Figure size 432x288 with 1 Axes>"
      ]
     },
     "metadata": {},
     "output_type": "display_data"
    }
   ],
   "source": [
    "boxplot = data_frame.boxplot(column=['Yield'], by=['Fert', 'Water'], fontsize=\"11\", figsize=(6,4))\n",
    "# Add a title for the figure\n",
    "plt.title(\"Detection of outliers\")\n",
    "# Remove the automatically generated title\n",
    "plt.suptitle(\"\")\n",
    "plt.show()"
   ]
  },
  {
   "cell_type": "markdown",
   "metadata": {
    "slideshow": {
     "slide_type": "slide"
    }
   },
   "source": [
    "###### 2. 等分散性検定 　Test of homogeneity of Variance\n",
    "**Levene's test**:  \n",
    "F検定を用いて、グループ間で分散が等しいという帰無仮説を検証します.  \n",
    "ここで、0.05未満のp値は、帰無仮説を棄却します。\n",
    "帰無仮説を棄却する場合は、ノンパラメトリック方法で検定するのが適切です。\n",
    "\n",
    "**Levene's test**:  \n",
    "It uses an F-test to test the null hypothesis that the variance is equal across groups.   \n",
    "Here, a p value less than .05 indicates a violation of the assumption.  \n",
    "If a violation occurs, it is likely that conducting the non-parametric equivalent of the analysis is more appropriate."
   ]
  },
  {
   "cell_type": "markdown",
   "metadata": {
    "slideshow": {
     "slide_type": "slide"
    }
   },
   "source": [
    "## scipy's levene()\n",
    "\n",
    "W, p_value = [scipy.stats.levene](https://docs.scipy.org/doc/scipy-0.14.0/reference/generated/scipy.stats.levene.html)(\\*args, \\*\\*kwds)\n",
    "\n",
    "```python\n",
    "\"\"\"\n",
    "Parameters:  \n",
    "\n",
    "sample1, sample2, ... : array_like  \n",
    "    サンプルデータ、長さが異なることも可能。  \n",
    "    The sample data, possibly with different lengths  \n",
    "center: {‘mean’, ‘median’, ‘trimmed’}, optional  \n",
    "    検定に使う関数。デフォルトは 'median'。  \n",
    "    Which function of the data to use in the test. The default is ‘median’.  \n",
    "proportiontocut : float, optional  \n",
    "       centerが'trimmed'とき、これは各端から切り取るデータ点の割合を与える。デフォルトは0.05.\n",
    "        When center is ‘trimmed’, this gives the proportion of data points to cut from each end. \n",
    "        (See scipy.stats.trim_mean.)  The default is 0.05.  \n",
    "\n",
    "Returns:\n",
    "\n",
    "  W: float  \n",
    "       検定統計量  \n",
    "       The test statistic.  \n",
    "       \n",
    "  p-value : float  \n",
    "  　　 p値  \n",
    "       The p-value for the test.\n",
    " \"\"\"\n",
    " ```\n",
    " "
   ]
  },
  {
   "cell_type": "code",
   "execution_count": 4,
   "metadata": {
    "slideshow": {
     "slide_type": "slide"
    }
   },
   "outputs": [
    {
     "name": "stdout",
     "output_type": "stream",
     "text": [
      "Retain H0 and the variance is equal across groups\n"
     ]
    }
   ],
   "source": [
    "# Levene's test and Barlett test: the number of replications is not SAME\n",
    "w, pval_homo_var = ss.levene(data[0], data[1], data[2], data[3], center=\"median\")\n",
    "if pval_homo_var > 0.05:\n",
    "    print(\"Retain H0 and the variance is equal across groups\")\n",
    "else:\n",
    "    print(\"Reject H0. It is likely that conducting the non-parametric equivalent of the analysis is more appropriate.\")"
   ]
  },
  {
   "cell_type": "code",
   "execution_count": 5,
   "metadata": {
    "slideshow": {
     "slide_type": "slide"
    }
   },
   "outputs": [],
   "source": [
    "# Calculate effect size\n",
    "def anova_table(aov):\n",
    "    aov['mean_sq'] = aov[:]['sum_sq']/aov[:]['df']\n",
    "    aov['eta_sq'] = aov[:-1]['sum_sq']/sum(aov['sum_sq'])\n",
    "    aov['omega_sq'] = (aov[:-1]['sum_sq']-(aov[:-1]['df']*aov['mean_sq'][-1]))/ \\\n",
    "             (sum(aov['sum_sq'])+aov['mean_sq'][-1])\n",
    "    cols = ['sum_sq', 'mean_sq', 'df', 'F', 'PR(>F)', 'eta_sq', 'omega_sq']\n",
    "    aov = aov[cols]\n",
    "    return aov"
   ]
  },
  {
   "cell_type": "markdown",
   "metadata": {
    "slideshow": {
     "slide_type": "slide"
    }
   },
   "source": [
    "#### 交互作用 interaction"
   ]
  },
  {
   "cell_type": "code",
   "execution_count": 6,
   "metadata": {
    "slideshow": {
     "slide_type": "fragment"
    }
   },
   "outputs": [
    {
     "name": "stdout",
     "output_type": "stream",
     "text": [
      "Overall model F(3,16) = 4.112, p = 0.0243\n",
      "                   sum_sq    df         F    PR(>F)\n",
      "C(Fert)            69.192   1.0  5.766000  0.028847\n",
      "C(Water)           63.368   1.0  5.280667  0.035386\n",
      "C(Fert):C(Water)   15.488   1.0  1.290667  0.272656\n",
      "Residual          192.000  16.0       NaN       NaN\n",
      "Two-way ANOVA table:\n"
     ]
    },
    {
     "data": {
      "text/html": [
       "<div>\n",
       "<style scoped>\n",
       "    .dataframe tbody tr th:only-of-type {\n",
       "        vertical-align: middle;\n",
       "    }\n",
       "\n",
       "    .dataframe tbody tr th {\n",
       "        vertical-align: top;\n",
       "    }\n",
       "\n",
       "    .dataframe thead th {\n",
       "        text-align: right;\n",
       "    }\n",
       "</style>\n",
       "<table border=\"1\" class=\"dataframe\">\n",
       "  <thead>\n",
       "    <tr style=\"text-align: right;\">\n",
       "      <th></th>\n",
       "      <th>sum_sq</th>\n",
       "      <th>mean_sq</th>\n",
       "      <th>df</th>\n",
       "      <th>F</th>\n",
       "      <th>PR(&gt;F)</th>\n",
       "      <th>eta_sq</th>\n",
       "      <th>omega_sq</th>\n",
       "    </tr>\n",
       "  </thead>\n",
       "  <tbody>\n",
       "    <tr>\n",
       "      <th>C(Fert)</th>\n",
       "      <td>69.192</td>\n",
       "      <td>69.192</td>\n",
       "      <td>1.0</td>\n",
       "      <td>5.766000</td>\n",
       "      <td>0.028847</td>\n",
       "      <td>0.203477</td>\n",
       "      <td>0.162455</td>\n",
       "    </tr>\n",
       "    <tr>\n",
       "      <th>C(Water)</th>\n",
       "      <td>63.368</td>\n",
       "      <td>63.368</td>\n",
       "      <td>1.0</td>\n",
       "      <td>5.280667</td>\n",
       "      <td>0.035386</td>\n",
       "      <td>0.186350</td>\n",
       "      <td>0.145912</td>\n",
       "    </tr>\n",
       "    <tr>\n",
       "      <th>C(Fert):C(Water)</th>\n",
       "      <td>15.488</td>\n",
       "      <td>15.488</td>\n",
       "      <td>1.0</td>\n",
       "      <td>1.290667</td>\n",
       "      <td>0.272656</td>\n",
       "      <td>0.045547</td>\n",
       "      <td>0.009908</td>\n",
       "    </tr>\n",
       "    <tr>\n",
       "      <th>Residual</th>\n",
       "      <td>192.000</td>\n",
       "      <td>12.000</td>\n",
       "      <td>16.0</td>\n",
       "      <td>NaN</td>\n",
       "      <td>NaN</td>\n",
       "      <td>NaN</td>\n",
       "      <td>NaN</td>\n",
       "    </tr>\n",
       "  </tbody>\n",
       "</table>\n",
       "</div>"
      ],
      "text/plain": [
       "                   sum_sq  mean_sq    df         F    PR(>F)    eta_sq  \\\n",
       "C(Fert)            69.192   69.192   1.0  5.766000  0.028847  0.203477   \n",
       "C(Water)           63.368   63.368   1.0  5.280667  0.035386  0.186350   \n",
       "C(Fert):C(Water)   15.488   15.488   1.0  1.290667  0.272656  0.045547   \n",
       "Residual          192.000   12.000  16.0       NaN       NaN       NaN   \n",
       "\n",
       "                  omega_sq  \n",
       "C(Fert)           0.162455  \n",
       "C(Water)          0.145912  \n",
       "C(Fert):C(Water)  0.009908  \n",
       "Residual               NaN  "
      ]
     },
     "metadata": {},
     "output_type": "display_data"
    },
    {
     "name": "stdout",
     "output_type": "stream",
     "text": [
      "The interaction term is not significant.\n"
     ]
    }
   ],
   "source": [
    "### ---- using statsmodels ---- ###\n",
    "# 1. interaction\n",
    "f = 'Yield ~ C(Fert) * C(Water)'\n",
    "model = ols(formula=f, data=data_frame)\n",
    "\n",
    "# 2. regression\n",
    "result = model.fit()\n",
    "print(\"Overall model F({:.0f},{:.0f}) = {:.3f}, p = {:.4f}\".format(result.df_model, result.df_resid, result.fvalue, result.f_pvalue))\n",
    "# or \n",
    "#print(result.summary())\n",
    "\n",
    "# 3. anova_lm()による二元配置分散分析 Conduct a two-way ANOVA by anova_lm()\n",
    "anova_tbl = sm.stats.anova_lm(result, typ=2)\n",
    "print(anova_tbl)\n",
    "print(\"Two-way ANOVA table:\")\n",
    "display(anova_table(anova_tbl))\n",
    "pval_inter = anova_tbl.at[\"C(Fert):C(Water)\", \"PR(>F)\"]\n",
    "if pval_inter < 0.05:\n",
    "    print(\"The interaction term is significant.\") \n",
    "else:\n",
    "    print(\"The interaction term is not significant.\") "
   ]
  },
  {
   "cell_type": "markdown",
   "metadata": {
    "slideshow": {
     "slide_type": "slide"
    }
   },
   "source": [
    "### Interaction plot\n",
    "\n",
    "```python\n",
    "def interaction_plot(x, trace, response, func=np.mean, ax=None, plottype='b',\n",
    "                     xlabel=None, ylabel=None, colors=None, markers=None,\n",
    "                     linestyles=None, legendloc='best', legendtitle=None,\n",
    "                     **kwargs):\n",
    "    \"\"\"\n",
    "    Interaction plot for factor level statistics.\n",
    "\n",
    "    Note. If categorial factors are supplied levels will be internally\n",
    "    recoded to integers. This ensures matplotlib compatiblity.\n",
    "\n",
    "    uses pandas.DataFrame to calculate an `aggregate` statistic for each\n",
    "    level of the factor or group given by `trace`.\n",
    "\n",
    "    Parameters\n",
    "    ----------\n",
    "    x : array-like\n",
    "        The `x` factor levels constitute the x-axis. If a `pandas.Series` is\n",
    "        given its name will be used in `xlabel` if `xlabel` is None.\n",
    "    trace : array-like\n",
    "        The `trace` factor levels will be drawn as lines in the plot.\n",
    "        If `trace` is a `pandas.Series` its name will be used as the\n",
    "        `legendtitle` if `legendtitle` is None.\n",
    "    response : array-like\n",
    "        The reponse or dependent variable. If a `pandas.Series` is given\n",
    "        its name will be used in `ylabel` if `ylabel` is None.\n",
    "    func : function\n",
    "        Anything accepted by `pandas.DataFrame.aggregate`. This is applied to\n",
    "        the response variable grouped by the trace levels.\n",
    "    plottype : str {'line', 'scatter', 'both'}, optional\n",
    "        The type of plot to return. Can be 'l', 's', or 'b'\n",
    "    ax : axes, optional\n",
    "        Matplotlib axes instance\n",
    "    xlabel : str, optional\n",
    "        Label to use for `x`. Default is 'X'. If `x` is a `pandas.Series` it\n",
    "        will use the series names.\n",
    "    ylabel : str, optional\n",
    "        Label to use for `response`. Default is 'func of response'. If\n",
    "        `response` is a `pandas.Series` it will use the series names.\n",
    "    colors : list, optional\n",
    "        If given, must have length == number of levels in trace.\n",
    "    linestyles : list, optional\n",
    "        If given, must have length == number of levels in trace.\n",
    "    markers : list, optional\n",
    "        If given, must have length == number of lovels in trace\n",
    "    kwargs\n",
    "        These will be passed to the plot command used either plot or scatter.\n",
    "        If you want to control the overall plotting options, use kwargs.\n",
    "\n",
    "    Returns\n",
    "    -------\n",
    "    fig : Figure\n",
    "        The figure given by `ax.figure` or a new instance.\n",
    "\n",
    "    Examples\n",
    "    --------\n",
    "    >>> import numpy as np\n",
    "    >>> np.random.seed(12345)\n",
    "    >>> weight = np.random.randint(1,4,size=60)\n",
    "    >>> duration = np.random.randint(1,3,size=60)\n",
    "    >>> days = np.log(np.random.randint(1,30, size=60))\n",
    "    >>> fig = interaction_plot(weight, duration, days,\n",
    "    ...             colors=['red','blue'], markers=['D','^'], ms=10)\n",
    "    >>> import matplotlib.pyplot as plt\n",
    "    >>> plt.show()\n",
    " ```"
   ]
  },
  {
   "cell_type": "code",
   "execution_count": 7,
   "metadata": {
    "slideshow": {
     "slide_type": "slide"
    }
   },
   "outputs": [
    {
     "data": {
      "image/png": "[encoded data removed]",
      "text/plain": [
       "<Figure size 432x288 with 1 Axes>"
      ]
     },
     "metadata": {},
     "output_type": "display_data"
    }
   ],
   "source": [
    "fig = interaction_plot(data_frame['Fert'], data_frame['Water'], data_frame['Yield'], colors=['red','blue'], markers=['D', '^'], ms=10)\n",
    "plt.show()"
   ]
  },
  {
   "cell_type": "markdown",
   "metadata": {
    "slideshow": {
     "slide_type": "slide"
    }
   },
   "source": [
    "#### 主効果　Main effects"
   ]
  },
  {
   "cell_type": "code",
   "execution_count": 8,
   "metadata": {
    "slideshow": {
     "slide_type": "fragment"
    }
   },
   "outputs": [
    {
     "name": "stdout",
     "output_type": "stream",
     "text": [
      "Overall model F(2,17) = 5.430, p = 0.0150\n",
      "Two-way ANOVA table:\n",
      "           sum_sq    df         F    PR(>F)\n",
      "C(Fert)    69.192   1.0  5.669070  0.029228\n",
      "C(Water)   63.368   1.0  5.191895  0.035887\n",
      "Residual  207.488  17.0       NaN       NaN\n"
     ]
    },
    {
     "data": {
      "text/html": [
       "<div>\n",
       "<style scoped>\n",
       "    .dataframe tbody tr th:only-of-type {\n",
       "        vertical-align: middle;\n",
       "    }\n",
       "\n",
       "    .dataframe tbody tr th {\n",
       "        vertical-align: top;\n",
       "    }\n",
       "\n",
       "    .dataframe thead th {\n",
       "        text-align: right;\n",
       "    }\n",
       "</style>\n",
       "<table border=\"1\" class=\"dataframe\">\n",
       "  <thead>\n",
       "    <tr style=\"text-align: right;\">\n",
       "      <th></th>\n",
       "      <th>sum_sq</th>\n",
       "      <th>mean_sq</th>\n",
       "      <th>df</th>\n",
       "      <th>F</th>\n",
       "      <th>PR(&gt;F)</th>\n",
       "      <th>eta_sq</th>\n",
       "      <th>omega_sq</th>\n",
       "    </tr>\n",
       "  </thead>\n",
       "  <tbody>\n",
       "    <tr>\n",
       "      <th>C(Fert)</th>\n",
       "      <td>69.192</td>\n",
       "      <td>69.192000</td>\n",
       "      <td>1.0</td>\n",
       "      <td>5.669070</td>\n",
       "      <td>0.029228</td>\n",
       "      <td>0.203477</td>\n",
       "      <td>0.161778</td>\n",
       "    </tr>\n",
       "    <tr>\n",
       "      <th>C(Water)</th>\n",
       "      <td>63.368</td>\n",
       "      <td>63.368000</td>\n",
       "      <td>1.0</td>\n",
       "      <td>5.191895</td>\n",
       "      <td>0.035887</td>\n",
       "      <td>0.186350</td>\n",
       "      <td>0.145244</td>\n",
       "    </tr>\n",
       "    <tr>\n",
       "      <th>Residual</th>\n",
       "      <td>207.488</td>\n",
       "      <td>12.205176</td>\n",
       "      <td>17.0</td>\n",
       "      <td>NaN</td>\n",
       "      <td>NaN</td>\n",
       "      <td>NaN</td>\n",
       "      <td>NaN</td>\n",
       "    </tr>\n",
       "  </tbody>\n",
       "</table>\n",
       "</div>"
      ],
      "text/plain": [
       "           sum_sq    mean_sq    df         F    PR(>F)    eta_sq  omega_sq\n",
       "C(Fert)    69.192  69.192000   1.0  5.669070  0.029228  0.203477  0.161778\n",
       "C(Water)   63.368  63.368000   1.0  5.191895  0.035887  0.186350  0.145244\n",
       "Residual  207.488  12.205176  17.0       NaN       NaN       NaN       NaN"
      ]
     },
     "metadata": {},
     "output_type": "display_data"
    },
    {
     "name": "stdout",
     "output_type": "stream",
     "text": [
      "Factor Fert DOES have an independent significant effect on the mean crop yield\n",
      "Factor Water DOES have an independent significant effect on the mean crop yield\n"
     ]
    }
   ],
   "source": [
    "# 1. interaction\n",
    "f = 'Yield ~ C(Fert) + C(Water)'\n",
    "model2 = ols(formula=f, data=data_frame)\n",
    "\n",
    "# 2. regression\n",
    "result2 = model2.fit()\n",
    "print(\"Overall model F({:.0f},{:.0f}) = {:.3f}, p = {:.4f}\".format(result2.df_model, result2.df_resid, result2.fvalue, result2.f_pvalue))\n",
    "# or \n",
    "#print(result.summary())\n",
    "\n",
    "# 3. anova_lm()による二元配置分散分析 Conduct a two-way ANOVA by anova_lm()\n",
    "anova_tbl2 = sm.stats.anova_lm(result2, typ=2)\n",
    "print(\"Two-way ANOVA table:\")\n",
    "print(anova_tbl2)\n",
    "display(anova_table(anova_tbl2))\n",
    "pval_Fert = anova_tbl2.at[\"C(Fert)\", \"PR(>F)\"]\n",
    "pval_Water = anova_tbl2.at[\"C(Water)\", \"PR(>F)\"]\n",
    "\n",
    "if pval_Fert < 0.05:\n",
    "    print(\"Factor Fert DOES have an independent significant effect on the mean crop yield\") \n",
    "else:\n",
    "    print(\"Factor Fert DOESN'T have an independent significant effect on the mean crop yield.\") \n",
    "\n",
    "if pval_Water < 0.05:\n",
    "    print(\"Factor Water DOES have an independent significant effect on the mean crop yield\") \n",
    "else:\n",
    "    print(\"Factor Water DOESN'T have an independent significant effect on the mean crop yield.\") "
   ]
  },
  {
   "cell_type": "markdown",
   "metadata": {
    "slideshow": {
     "slide_type": "slide"
    }
   },
   "source": [
    "### 主効果についての結論　Conclusion for Main effects\n",
    "\n",
    "各要因、肥料および水は、平均作物収量にわずかな影響しか及ぼさない。  \n",
    "Each factor, fertilizer and water, has a small effect on the mean crop yield."
   ]
  },
  {
   "cell_type": "markdown",
   "metadata": {
    "slideshow": {
     "slide_type": "slide"
    }
   },
   "source": [
    "### Post-hoc Testing"
   ]
  },
  {
   "cell_type": "code",
   "execution_count": 9,
   "metadata": {
    "slideshow": {
     "slide_type": "slide"
    }
   },
   "outputs": [
    {
     "name": "stdout",
     "output_type": "stream",
     "text": [
      "Multiple Comparison of Means - Tukey HSD,FWER=0.05\n",
      "=============================================\n",
      "group1 group2 meandiff  lower   upper  reject\n",
      "---------------------------------------------\n",
      "  A      B     -3.72   -7.3647 -0.0753  True \n",
      "---------------------------------------------\n"
     ]
    }
   ],
   "source": [
    "# multiple comparison by Tukey HSD\n",
    "mc_fert = mlpc.MultiComparison(data_frame['Yield'], data_frame['Fert'])\n",
    "result_fert = mc_fert.tukeyhsd()\n",
    "print(result_fert)"
   ]
  },
  {
   "cell_type": "markdown",
   "metadata": {
    "slideshow": {
     "slide_type": "fragment"
    }
   },
   "source": [
    "肥料AとBの平均作物収量には統計的に有意な差がある。肥料Aは、肥料Bよりも著しく高い作物収量をもたらす。  \n",
    "There is a statistically significant different between the mean crop yield between fertilizer A and B; fertilizer A yields a significantly higher crop yield than fertilizer B."
   ]
  },
  {
   "cell_type": "code",
   "execution_count": 10,
   "metadata": {
    "slideshow": {
     "slide_type": "slide"
    }
   },
   "outputs": [
    {
     "name": "stdout",
     "output_type": "stream",
     "text": [
      "Multiple Comparison of Means - Tukey HSD,FWER=0.05\n",
      "============================================\n",
      "group1 group2 meandiff  lower  upper  reject\n",
      "--------------------------------------------\n",
      " High   Low    -3.56   -7.2436 0.1236 False \n",
      "--------------------------------------------\n"
     ]
    }
   ],
   "source": [
    "mc_water = mlpc.MultiComparison(data_frame['Yield'], data_frame['Water'])\n",
    "result_water = mc_water.tukeyhsd()\n",
    "print(result_water)"
   ]
  },
  {
   "cell_type": "markdown",
   "metadata": {
    "slideshow": {
     "slide_type": "fragment"
    }
   },
   "source": [
    "水の使用量の間に平均作物収量に統計的に有意な差がない。  \n",
    "There is not a statistically significant difference in the mean crop yield between the amount of water used."
   ]
  },
  {
   "cell_type": "code",
   "execution_count": null,
   "metadata": {},
   "outputs": [],
   "source": []
  }
 ],
 "metadata": {
  "celltoolbar": "Slideshow",
  "kernelspec": {
   "display_name": "Python 3",
   "language": "python",
   "name": "python3"
  },
  "language_info": {
   "codemirror_mode": {
    "name": "ipython",
    "version": 3
   },
   "file_extension": ".py",
   "mimetype": "text/x-python",
   "name": "python",
   "nbconvert_exporter": "python",
   "pygments_lexer": "ipython3",
   "version": "3.6.5"
  },
  "toc": {
   "base_numbering": 1,
   "nav_menu": {},
   "number_sections": true,
   "sideBar": true,
   "skip_h1_title": false,
   "title_cell": "Table of Contents",
   "title_sidebar": "Contents",
   "toc_cell": false,
   "toc_position": {},
   "toc_section_display": true,
   "toc_window_display": false
  }
 },
 "nbformat": 4,
 "nbformat_minor": 2
}
