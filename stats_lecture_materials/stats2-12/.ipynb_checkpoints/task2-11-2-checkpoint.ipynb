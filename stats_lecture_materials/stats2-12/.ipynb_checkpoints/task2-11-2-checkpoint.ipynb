{
 "cells": [
  {
   "cell_type": "markdown",
   "metadata": {},
   "source": [
    "# ライブラリのインポート"
   ]
  },
  {
   "cell_type": "code",
   "execution_count": 2,
   "metadata": {},
   "outputs": [],
   "source": [
    "import numpy as np\n",
    "import scipy.stats  as ss\n",
    "import pandas as pd\n",
    "import matplotlib.pyplot as plt\n",
    "import statsmodels.api as sm\n",
    "import statsmodels.formula.api as smf\n",
    "import sklearn.preprocessing as sp"
   ]
  },
  {
   "cell_type": "markdown",
   "metadata": {},
   "source": [
    "# データ読み込み"
   ]
  },
  {
   "cell_type": "code",
   "execution_count": 4,
   "metadata": {},
   "outputs": [],
   "source": [
    "data = pd.read_csv(\"data/blood.csv\", comment=\"#\")\n",
    "#bmi[\"SEX\"].unique() #　カテゴリ変数の値を確認"
   ]
  },
  {
   "cell_type": "markdown",
   "metadata": {},
   "source": [
    "# カテゴリ変数をダミー変数に変換"
   ]
  },
  {
   "cell_type": "code",
   "execution_count": 37,
   "metadata": {},
   "outputs": [
    {
     "name": "stdout",
     "output_type": "stream",
     "text": [
      "     BMI   AGE  BPMEDS  SYSBP  SEX_Male\n",
      "0  26.97  39.0     0.0  106.0         1\n",
      "1  28.73  46.0     0.0  121.0         0\n",
      "2  25.34  48.0     0.0  127.5         1\n",
      "3  28.58  61.0     0.0  150.0         0\n",
      "4  23.10  46.0     0.0  130.0         0\n"
     ]
    }
   ],
   "source": [
    "data = pd.get_dummies(bmi, drop_first=True)\n",
    "print(data.head())"
   ]
  },
  {
   "cell_type": "markdown",
   "metadata": {},
   "source": [
    "# 欠損値検査関数の定義"
   ]
  },
  {
   "cell_type": "code",
   "execution_count": 39,
   "metadata": {},
   "outputs": [],
   "source": [
    "def lack_table(df): \n",
    "    import pandas\n",
    "    '''\n",
    "    This function is caliculation of lack values from raw data.\n",
    "    \n",
    "    Library: pandas, numpy\n",
    "    \n",
    "    params\n",
    "    ---------\n",
    "    df : DataFrame\n",
    "            raw data set.\n",
    "    \n",
    "    Returns\n",
    "    --------\n",
    "    lack_table_ren_columns: pandas.DataFrame\n",
    "                            Return results lack of raw data.\n",
    "    '''\n",
    "    null_val = df.isnull().sum()\n",
    "    percent = 100 * df.isnull().sum()/len(df)\n",
    "    lack_table = pandas.concat([null_val, percent], axis=1)\n",
    "    lack_table_ren_columns = lack_table.rename(\n",
    "    columns = {0 : '欠損数', 1 : '%'})\n",
    "    return lack_table_ren_columns"
   ]
  },
  {
   "cell_type": "markdown",
   "metadata": {},
   "source": [
    "#  欠損値検査"
   ]
  },
  {
   "cell_type": "code",
   "execution_count": 40,
   "metadata": {},
   "outputs": [
    {
     "name": "stdout",
     "output_type": "stream",
     "text": [
      "          欠損数         %\n",
      "BMI         0  0.000000\n",
      "AGE         0  0.000000\n",
      "BPMEDS     61  1.375733\n",
      "SYSBP      80  1.804240\n",
      "SEX_Male    0  0.000000\n"
     ]
    }
   ],
   "source": [
    "print(lack_table(data))"
   ]
  },
  {
   "cell_type": "markdown",
   "metadata": {},
   "source": [
    "# 欠損値処理"
   ]
  },
  {
   "cell_type": "code",
   "execution_count": 41,
   "metadata": {},
   "outputs": [],
   "source": [
    "data[\"BPMEDS\"] = data[\"BPMEDS\"].fillna(0).astype(float)\n",
    "data[\"SYSBP\"] = data[\"SYSBP\"].fillna(data[\"SYSBP\"].median())"
   ]
  },
  {
   "cell_type": "code",
   "execution_count": 42,
   "metadata": {},
   "outputs": [
    {
     "name": "stdout",
     "output_type": "stream",
     "text": [
      "          欠損数    %\n",
      "BMI         0  0.0\n",
      "AGE         0  0.0\n",
      "BPMEDS      0  0.0\n",
      "SYSBP       0  0.0\n",
      "SEX_Male    0  0.0\n"
     ]
    }
   ],
   "source": [
    "print(lack_table(data))"
   ]
  },
  {
   "cell_type": "markdown",
   "metadata": {},
   "source": [
    "# 散布図作成"
   ]
  },
  {
   "cell_type": "code",
   "execution_count": 5,
   "metadata": {},
   "outputs": [],
   "source": [
    "X = data[[\"blood_pressure\", \"lung_cap\"]]# 独立変数\n",
    "y = data[\"age\"]# 従属変数\n",
    "\n",
    "#pd.scatter_matrix(data[[\"SYSBP\", \"BMI\", \"AGE\", \"BPMEDS\", \"SEX_Male\"]])\n",
    "#plt.show()"
   ]
  },
  {
   "cell_type": "markdown",
   "metadata": {},
   "source": [
    "# 標準化と重回帰分析(statsmodels) 切片あり"
   ]
  },
  {
   "cell_type": "code",
   "execution_count": 6,
   "metadata": {},
   "outputs": [
    {
     "name": "stderr",
     "output_type": "stream",
     "text": [
      "/Users/kozuzu931/.pyenv/versions/anaconda3-4.3.1/lib/python3.6/site-packages/sklearn/utils/validation.py:475: DataConversionWarning: Data with input dtype int64 was converted to float64 by the scale function.\n",
      "  warnings.warn(msg, DataConversionWarning)\n"
     ]
    },
    {
     "name": "stdout",
     "output_type": "stream",
     "text": [
      "                            OLS Regression Results                            \n",
      "==============================================================================\n",
      "Dep. Variable:                      y   R-squared:                       0.538\n",
      "Model:                            OLS   Adj. R-squared:                  0.504\n",
      "Method:                 Least Squares   F-statistic:                     15.73\n",
      "Date:                Mon, 17 Dec 2018   Prob (F-statistic):           2.95e-05\n",
      "Time:                        16:33:00   Log-Likelihood:                -30.979\n",
      "No. Observations:                  30   AIC:                             67.96\n",
      "Df Residuals:                      27   BIC:                             72.16\n",
      "Df Model:                           2                                         \n",
      "Covariance Type:            nonrobust                                         \n",
      "==============================================================================\n",
      "                 coef    std err          t      P>|t|      [0.025      0.975]\n",
      "------------------------------------------------------------------------------\n",
      "const       1.388e-16      0.131   1.06e-15      1.000      -0.268       0.268\n",
      "x1             0.4535      0.150      3.032      0.005       0.147       0.760\n",
      "x2            -0.3972      0.150     -2.656      0.013      -0.704      -0.090\n",
      "==============================================================================\n",
      "Omnibus:                        1.559   Durbin-Watson:                   1.463\n",
      "Prob(Omnibus):                  0.459   Jarque-Bera (JB):                1.230\n",
      "Skew:                           0.484   Prob(JB):                        0.541\n",
      "Kurtosis:                       2.787   Cond. No.                         1.70\n",
      "==============================================================================\n",
      "\n",
      "Warnings:\n",
      "[1] Standard Errors assume that the covariance matrix of the errors is correctly specified.\n"
     ]
    }
   ],
   "source": [
    "# 標準化\n",
    "X_scale = sp.scale(X)\n",
    "y_scale = sp.scale(y)\n",
    "\n",
    "# モデルの設定\n",
    "model = sm.OLS(y_scale, sm.add_constant(X_scale))\n",
    "\n",
    "# 回帰分析の実行\n",
    "results = model.fit()\n",
    "\n",
    "# 結果を表示\n",
    "print(results.summary())"
   ]
  },
  {
   "cell_type": "code",
   "execution_count": null,
   "metadata": {},
   "outputs": [],
   "source": []
  }
 ],
 "metadata": {
  "kernelspec": {
   "display_name": "Python 3",
   "language": "python",
   "name": "python3"
  },
  "language_info": {
   "codemirror_mode": {
    "name": "ipython",
    "version": 3
   },
   "file_extension": ".py",
   "mimetype": "text/x-python",
   "name": "python",
   "nbconvert_exporter": "python",
   "pygments_lexer": "ipython3",
   "version": "3.6.5"
  },
  "toc": {
   "base_numbering": 1,
   "nav_menu": {},
   "number_sections": true,
   "sideBar": true,
   "skip_h1_title": false,
   "title_cell": "Table of Contents",
   "title_sidebar": "Contents",
   "toc_cell": false,
   "toc_position": {},
   "toc_section_display": true,
   "toc_window_display": false
  }
 },
 "nbformat": 4,
 "nbformat_minor": 2
}
