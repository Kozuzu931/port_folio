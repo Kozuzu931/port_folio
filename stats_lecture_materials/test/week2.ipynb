{
 "cells": [
  {
   "cell_type": "code",
   "execution_count": 2,
   "metadata": {},
   "outputs": [],
   "source": [
    "import numpy as np\n",
    "import scipy.stats as ss"
   ]
  },
  {
   "cell_type": "markdown",
   "metadata": {},
   "source": [
    "### z検定(母標準偏差既知の場合）"
   ]
  },
  {
   "cell_type": "code",
   "execution_count": 9,
   "metadata": {},
   "outputs": [
    {
     "name": "stdout",
     "output_type": "stream",
     "text": [
      " 平均: 6.380000000000001\n",
      "標準偏差: 1.0\n",
      "サンプルサイズ: 10\n",
      "z値: 4.363943171032366\n",
      "p値: 1.2773877392810428e-05\n"
     ]
    }
   ],
   "source": [
    "X = np.array([6.2, 4.8, 7.3, 5.5, 6.5, 4.9, 6.8, 7.9, 6.6, 7.3])\n",
    "mu_0 = 5.0#想定される平均値\n",
    "ave = X.mean()\n",
    "print(\" 平均:\",ave)\n",
    "std =  np.sqrt(1.0)#X.std()\n",
    "print(\"標準偏差:\",std)\n",
    "N = X.size\n",
    "print( \"サンプルサイズ:\",N)\n",
    "z = (ave - mu_0) / (std / np.sqrt(N))\n",
    "print(\"z値:\",z)\n",
    "p = ss.norm.cdf( - np.abs(z), 0, 1)*2\n",
    "print(\"p値:\",p)"
   ]
  },
  {
   "cell_type": "markdown",
   "metadata": {},
   "source": [
    "### t検定(母標準偏差未知)"
   ]
  },
  {
   "cell_type": "code",
   "execution_count": 11,
   "metadata": {},
   "outputs": [
    {
     "name": "stdout",
     "output_type": "stream",
     "text": [
      "4.422713467147713\n",
      "0.001664628988656432\n"
     ]
    }
   ],
   "source": [
    "X = np.array([6.2, 4.8, 7.3, 5.5, 6.5, 4.9, 6.8, 7.9, 6.6, 7.3])\n",
    "mu_0 = 5.0\n",
    "ave = X.mean()\n",
    "print(\"平均：\",ave)\n",
    "std = X.std()\n",
    "N = X.size\n",
    "stat_t = (ave - mu_0) / (std / np.sqrt(N))\n",
    "print(stat_t)\n",
    "p = ss.t.cdf(-np.abs(stat_t), df=N-1)*2\n",
    "print(p)"
   ]
  },
  {
   "cell_type": "markdown",
   "metadata": {},
   "source": [
    "### (母標準偏差未知の片側検定)"
   ]
  },
  {
   "cell_type": "code",
   "execution_count": null,
   "metadata": {},
   "outputs": [],
   "source": [
    "mu_0 = #帰無仮説の値\n",
    "ave = \n",
    "std = \n",
    "N =\n",
    "stat_t = (ave - mu_0) / (std / np.sqrt(N))\n",
    "print(stat_t)\n",
    "p = ss.t.cdf(-np.abs(stat_t), df=N-1)\n",
    "print(p)"
   ]
  },
  {
   "cell_type": "code",
   "execution_count": null,
   "metadata": {},
   "outputs": [],
   "source": []
  }
 ],
 "metadata": {
  "kernelspec": {
   "display_name": "Python 3",
   "language": "python",
   "name": "python3"
  },
  "language_info": {
   "codemirror_mode": {
    "name": "ipython",
    "version": 3
   },
   "file_extension": ".py",
   "mimetype": "text/x-python",
   "name": "python",
   "nbconvert_exporter": "python",
   "pygments_lexer": "ipython3",
   "version": "3.6.5"
  }
 },
 "nbformat": 4,
 "nbformat_minor": 2
}
