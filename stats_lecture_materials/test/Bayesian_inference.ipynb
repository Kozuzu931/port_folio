{
 "cells": [
  {
   "cell_type": "markdown",
   "metadata": {},
   "source": [
    "## 練習（Exercise）\n",
    "\n",
    "赤玉と白玉が入った袋が2つ存在する（それぞれA,Bとする）  \n",
    "箱１には赤玉が2つ、白玉が1つ  \n",
    "箱２には赤玉が1つ、白玉が4つ  \n",
    "A,Bどちらかの袋を選ぶが、どちらが選ばれたかは不明  \n",
    "\n",
    "Suppose we have two boxes (named box 1 and box 2):  \n",
    " 3 balls in box1, two red and one white.  \n",
    " 5 balls in box2, one red and four white.  \n",
    "we do not know which box will be chosen.  \n",
    "\n",
    "参加者は箱から玉を取り出し、色を確認したら戻す(The participant draw a ball from the chosen box, see the color, and return it to the box.)  \n",
    "\n",
    "**問題（problem）**  \n",
    "参加者が取り出した玉が赤玉だった時、選ばれた箱がどちらであるか推定せよ (When a red ball was drawn by the participant, please infer from which box the red ball came.)\n",
    "\n",
    "\n",
    "![Drawing color balls problem](prob1.jpg \"問題\")"
   ]
  },
  {
   "cell_type": "code",
   "execution_count": 4,
   "metadata": {
    "collapsed": true
   },
   "outputs": [],
   "source": [
    "import pprint  #複雑なデータ構造体を綺麗に表示する　For pretty print "
   ]
  },
  {
   "cell_type": "code",
   "execution_count": 5,
   "metadata": {
    "collapsed": true
   },
   "outputs": [],
   "source": [
    "def posterior(ball_color, boxes, colors):\n",
    "    \"\"\"\n",
    "        Calculate the posterior probability\n",
    "        事後確率を計算する\n",
    "    \n",
    "    Args:\n",
    "        ball_color(str): defined in ball_colors\n",
    "        boxes (list of list): represent boxes e.g.\n",
    "               [\n",
    "                ['red', 'red', 'white'],    <---- box_1\n",
    "                ['red', 'white', 'white', 'white'] <--- box_2\n",
    "               ]\n",
    "    Return:\n",
    "        prob_posterior, Prob\n",
    "        prob_posterior is a list of posterior probabilities, corresponding to\n",
    "                  rows of boxes.\n",
    "            e.g.\n",
    "              [\n",
    "               0.7272727272727273, \n",
    "               0.27272727272727276\n",
    "              ]\n",
    "        Prob is a list of prior probabilities for each color ball, \n",
    "                 a list of dictionaries.\n",
    "            e.g.\n",
    "              [\n",
    "               {'red': 0.6666666666666666, 'white': 0.3333333333333333}, \n",
    "               {'red': 0.25, 'white': 0.75}\n",
    "              ]\n",
    "    \"\"\"\n",
    "    prob_posterior = []\n",
    "    \n",
    "    if ball_color in colors:\n",
    "        ## 箱の数\n",
    "        num_boxes = len(boxes)\n",
    "        ## 箱を選ぶ確率　Probability of a box that is selected\n",
    "        Prob_box_selected = [ 1 / num_boxes] * num_boxes\n",
    "        ## Prob: list\n",
    "        Prob = []\n",
    "        for b_inx in range(num_boxes):\n",
    "            box = boxes[b_inx]\n",
    "            box_prior = {}\n",
    "            for c in colors:\n",
    "                box_prior[c] = box.count(c) / len(box)\n",
    "            box_prior['prior'] = Prob_box_selected[b_inx]\n",
    "            Prob.append(box_prior)\n",
    "        # **************************************************************\n",
    "        #\n",
    "        # bayesian formula\n",
    "        #                       P(box) * P('red'|box1) \n",
    "        # P(box|'red') = ----------------------------------------------\n",
    "        #                P(box1) * P('red'|box1) + P(box2) * P('red'|box2) \n",
    "        #\n",
    "        #\n",
    "        #            red         white\n",
    "        #  box 1  (1/2)*(2/3)   (1/2)*(1/3)\n",
    "        #  box 2  (1/2)*(1/4)   (1/2)*(3/4)\n",
    "        #\n",
    "        #  P(box1|'red') = (1/2)*(2/3) / [(1/2)*(2/3) + (1/2)*(1/4)] \n",
    "        #  P(box2|'red') = (1/2)*(1/4) / [(1/2)*(2/3) + (1/2)*(1/4)]\n",
    "        #\n",
    "        # \n",
    "        # **************************************************************\n",
    "        prob_all_events = 0\n",
    "        for b_inx in range(num_boxes):\n",
    "            current_box = Prob[b_inx]\n",
    "            prob_all_events +=  current_box['prior'] * current_box[ball_color]\n",
    "        # Get posterior prob for each box\n",
    "        for b_inx in range(num_boxes):\n",
    "            current_box = Prob[b_inx]\n",
    "            prob_from_box = current_box['prior'] * current_box[ball_color] / prob_all_events\n",
    "            prob_posterior.append(prob_from_box)\n",
    "    else:\n",
    "        print('{} : The color of the ball is not defined'.format(ball_color))\n",
    " \n",
    "    return prob_posterior, Prob"
   ]
  },
  {
   "cell_type": "code",
   "execution_count": 6,
   "metadata": {
    "collapsed": true
   },
   "outputs": [],
   "source": [
    "## 玉の色\n",
    "ball_colors = ['red', 'white','blue']"
   ]
  },
  {
   "cell_type": "code",
   "execution_count": 7,
   "metadata": {},
   "outputs": [
    {
     "data": {
      "text/plain": [
       "[['red', 'red', 'white', 'blue', 'blue'],\n",
       " ['red', 'white', 'white', 'white'],\n",
       " ['red', 'blue', 'white']]"
      ]
     },
     "execution_count": 7,
     "metadata": {},
     "output_type": "execute_result"
    }
   ],
   "source": [
    "## 箱の種類　　（boxes）\n",
    "box_1 = ['red','red','white',\"blue\",\"blue\"]\n",
    "box_2 = ['red', 'white', 'white','white']\n",
    "box_3 = [\"red\",\"blue\",\"white\"]\n",
    "boxes = [box_1, box_2,box_3]\n",
    "boxes"
   ]
  },
  {
   "cell_type": "code",
   "execution_count": 8,
   "metadata": {},
   "outputs": [
    {
     "name": "stdout",
     "output_type": "stream",
     "text": [
      "The most possible box from which the blue ball came: box1 (Prob:0.545)\n"
     ]
    }
   ],
   "source": [
    "ball = 'blue'\n",
    "p, prob = posterior(ball, boxes, ball_colors)\n",
    "\n",
    "# Find the index of the maximum in p\n",
    "box_num = p.index(max(p))\n",
    "\n",
    "print(\"The most possible box from which the {} ball came: box{} (Prob:{:.3f})\".format(ball, box_num+1, p[box_num]))"
   ]
  },
  {
   "cell_type": "code",
   "execution_count": 9,
   "metadata": {},
   "outputs": [
    {
     "name": "stdout",
     "output_type": "stream",
     "text": [
      "[{'blue': 0.4, 'prior': 0.3333333333333333, 'red': 0.4, 'white': 0.2},\n",
      " {'blue': 0.0, 'prior': 0.3333333333333333, 'red': 0.25, 'white': 0.75},\n",
      " {'blue': 0.3333333333333333,\n",
      "  'prior': 0.3333333333333333,\n",
      "  'red': 0.3333333333333333,\n",
      "  'white': 0.3333333333333333}]\n"
     ]
    }
   ],
   "source": [
    "# Print stored structure\n",
    "pprint.pprint(prob)"
   ]
  },
  {
   "cell_type": "markdown",
   "metadata": {},
   "source": [
    "# 結果の処理 (Results)"
   ]
  },
  {
   "cell_type": "code",
   "execution_count": 10,
   "metadata": {},
   "outputs": [
    {
     "name": "stdout",
     "output_type": "stream",
     "text": [
      "The probability of box1 being selected is: 0.3333333333333333\n"
     ]
    }
   ],
   "source": [
    "## 箱1を選ぶ確率　Probability of box1 being selected\n",
    "print(\"The probability of box1 being selected is: {}\".format(prob[0]['prior']))"
   ]
  },
  {
   "cell_type": "code",
   "execution_count": 11,
   "metadata": {},
   "outputs": [
    {
     "name": "stdout",
     "output_type": "stream",
     "text": [
      "The provability of box2 being selected is:0.3333333333333333\n"
     ]
    }
   ],
   "source": [
    "## 箱2を選ぶ確率The probability of box2 being selected is\n",
    "# \n",
    "print(\"The provability of box2 being selected is:{}\".format(prob[1][\"prior\"]))"
   ]
  },
  {
   "cell_type": "markdown",
   "metadata": {},
   "source": [
    "# 計算の練習（Exercise）"
   ]
  },
  {
   "cell_type": "code",
   "execution_count": 12,
   "metadata": {},
   "outputs": [
    {
     "name": "stdout",
     "output_type": "stream",
     "text": [
      "箱1内の赤玉を選ぶ確率(probability of red balls that are selected):0.400\n",
      "箱1内の白玉を選ぶ確率(probability of white balls that are selected):0.200\n"
     ]
    }
   ],
   "source": [
    "# 箱１（Box 1）: \n",
    "\n",
    "#  箱内の赤玉を選ぶ確率　　probability of red balls that are selected\n",
    "Prob_red_box1 = box_1.count('blue') / len(box_1)\n",
    "\n",
    "#  箱内の白玉を選ぶ確率 -> probability of white balls that are selected\n",
    "Prob_white_box1 = box_1.count(\"white\") / len(box_1)\n",
    "\n",
    "print(\"箱1内の赤玉を選ぶ確率(probability of red balls that are selected):{:.3f}\".format(Prob_red_box1))\n",
    "print(\"箱1内の白玉を選ぶ確率(probability of white balls that are selected):{:.3f}\".format(Prob_white_box1))    "
   ]
  },
  {
   "cell_type": "code",
   "execution_count": 12,
   "metadata": {},
   "outputs": [
    {
     "name": "stdout",
     "output_type": "stream",
     "text": [
      "箱2内の赤玉を選ぶ確率(probability of red balls that are selected):0.250\n",
      "箱2内の白玉を選ぶ確率(probability of white balls that are selected):0.750\n"
     ]
    }
   ],
   "source": [
    "# 箱2（Box 2）: \n",
    "\n",
    "#  箱内の赤玉を選ぶ確率　　probability of red balls that are selected\n",
    "Prob_red_box2 = box_2.count(\"red\") / len(box_2)\n",
    "\n",
    "#  箱内の白玉を選ぶ確率 -> probability of white balls that are selected\n",
    "Prob_white_box2 = box_2.count(\"white\") / len(box_2)\n",
    "\n",
    "print(\"箱2内の赤玉を選ぶ確率(probability of red balls that are selected):{:.3f}\".format(Prob_red_box2))\n",
    "print(\"箱2内の白玉を選ぶ確率(probability of white balls that are selected):{:.3f}\".format(Prob_white_box2))    "
   ]
  },
  {
   "cell_type": "code",
   "execution_count": null,
   "metadata": {
    "collapsed": true
   },
   "outputs": [],
   "source": []
  }
 ],
 "metadata": {
  "kernelspec": {
   "display_name": "Python 3",
   "language": "python",
   "name": "python3"
  },
  "language_info": {
   "codemirror_mode": {
    "name": "ipython",
    "version": 3
   },
   "file_extension": ".py",
   "mimetype": "text/x-python",
   "name": "python",
   "nbconvert_exporter": "python",
   "pygments_lexer": "ipython3",
   "version": "3.6.2"
  }
 },
 "nbformat": 4,
 "nbformat_minor": 2
}
