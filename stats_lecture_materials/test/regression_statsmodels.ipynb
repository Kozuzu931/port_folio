{
 "cells": [
  {
   "cell_type": "markdown",
   "metadata": {
    "collapsed": true
   },
   "source": [
    "### StatsModelsを用いた回帰分析 (Linear regression with StatsModels)"
   ]
  },
  {
   "cell_type": "code",
   "execution_count": 2,
   "metadata": {},
   "outputs": [],
   "source": [
    "import numpy as np\n",
    "import pandas as pd\n",
    "import matplotlib.pyplot as plt\n",
    "import statsmodels.api as sm\n",
    "import statsmodels.formula.api as smf\n",
    "import seaborn as sns\n",
    "import scipy.stats as ss\n",
    "import sklearn.preprocessing as sp\n",
    "import itertools\n",
    "from statsmodels.stats.outliers_influence import variance_inflation_factor"
   ]
  },
  {
   "cell_type": "code",
   "execution_count": 13,
   "metadata": {},
   "outputs": [
    {
     "name": "stdout",
     "output_type": "stream",
     "text": [
      "      Fee  Walk   Size  Year\n",
      "0   59500     7  21.13     0\n",
      "1   58000     6  21.17     0\n",
      "2   57500     6  21.11     0\n",
      "3  110000     5  42.52     4\n",
      "4  106000     8  51.65    28\n"
     ]
    }
   ],
   "source": [
    "# データを読み込む\n",
    "data = pd.read_csv(\"data/cl1/Ikebukuro.csv\", delimiter=\",\", comment=\"#\")\n",
    "print(data.head())"
   ]
  },
  {
   "cell_type": "code",
   "execution_count": 4,
   "metadata": {},
   "outputs": [],
   "source": [
    "x = data[[\"Walk\", \"Size\", \"Year\"]] # 独立（説明）変数 independent variable\"high_school\"\n",
    "y = data[\"Fee\"] # 従属（目的）変数 dependent  variable\n",
    "#plt.scatter(x,y) # 散布図をプロット Scatter plot \n",
    "#plt.xlabel(\"Distance\")\n",
    "#plt.ylabel(\"Damage\")\n",
    "#plt.show()"
   ]
  },
  {
   "cell_type": "code",
   "execution_count": 5,
   "metadata": {},
   "outputs": [
    {
     "name": "stdout",
     "output_type": "stream",
     "text": [
      "                            OLS Regression Results                            \n",
      "==============================================================================\n",
      "Dep. Variable:                    Fee   R-squared:                       0.722\n",
      "Model:                            OLS   Adj. R-squared:                  0.713\n",
      "Method:                 Least Squares   F-statistic:                     82.90\n",
      "Date:                Tue, 22 Jan 2019   Prob (F-statistic):           1.51e-26\n",
      "Time:                        17:14:53   Log-Likelihood:                -1073.4\n",
      "No. Observations:                 100   AIC:                             2155.\n",
      "Df Residuals:                      96   BIC:                             2165.\n",
      "Df Model:                           3                                         \n",
      "Covariance Type:            nonrobust                                         \n",
      "==============================================================================\n",
      "                 coef    std err          t      P>|t|      [0.025      0.975]\n",
      "------------------------------------------------------------------------------\n",
      "const       4.064e+04   3757.141     10.818      0.000    3.32e+04    4.81e+04\n",
      "Walk        -500.7501    283.654     -1.765      0.081   -1063.798      62.298\n",
      "Size        1458.6786     95.477     15.278      0.000    1269.159    1648.199\n",
      "Year        -341.5133     96.617     -3.535      0.001    -533.296    -149.730\n",
      "==============================================================================\n",
      "Omnibus:                        2.510   Durbin-Watson:                   1.828\n",
      "Prob(Omnibus):                  0.285   Jarque-Bera (JB):                1.958\n",
      "Skew:                          -0.204   Prob(JB):                        0.376\n",
      "Kurtosis:                       3.550   Cond. No.                         109.\n",
      "==============================================================================\n",
      "\n",
      "Warnings:\n",
      "[1] Standard Errors assume that the covariance matrix of the errors is correctly specified.\n"
     ]
    }
   ],
   "source": [
    "# モデルの設定 Construct a linear regression model\n",
    "model = sm.OLS(y, sm.add_constant(x))\n",
    "\n",
    "# ラベル名を用いるときのモデルの設定 Construct a linear regression model\n",
    "#model = smf.ols(formula = \"damage ~ distance\", data = data)\n",
    "\n",
    "# 回帰分析の実行 Execute linear  regression \n",
    "results = model.fit()\n",
    "\n",
    "# 結果を表示　Print results\n",
    "print(results.summary())"
   ]
  },
  {
   "cell_type": "code",
   "execution_count": 5,
   "metadata": {},
   "outputs": [
    {
     "data": {
      "image/png": "[encoded data removed]",
      "text/plain": [
       "<Figure size 432x288 with 1 Axes>"
      ]
     },
     "metadata": {},
     "output_type": "display_data"
    }
   ],
   "source": [
    "b = results.params[0] # 回帰式の切片 Intercept\n",
    "a = results.params[1] # 回帰式の傾き Regression coefficient\n",
    "\n",
    "plt.scatter(x,y) # 散布図をプロット Scatter plot\n",
    "plt.plot(x, a*x+b, color=\"red\") # 回帰直線をプロット  Plot regression line\n",
    "plt.xlabel(\"Distance\")\n",
    "plt.ylabel(\"Damage\")\n",
    "plt.show()"
   ]
  },
  {
   "cell_type": "code",
   "execution_count": 7,
   "metadata": {},
   "outputs": [],
   "source": [
    "def step_aic(model, exog, endog, **kwargs):\n",
    "    \"\"\"\n",
    "    This select the best exogenous variables with AIC\n",
    "    Both exog and endog values can be either str or list.\n",
    "    (Endog list is for the Binomial family.)\n",
    "\n",
    "    Note: This adopt only \"forward\" selection\n",
    "\n",
    "    Args:\n",
    "        model: model from statsmodels.formula.api\n",
    "        exog (str or list): exogenous variables\n",
    "        endog (str or list): endogenous variables\n",
    "        kwargs: extra keyword argments for model (e.g., data, family)\n",
    "\n",
    "    Returns:\n",
    "        model: a model that seems to have the smallest AIC\n",
    "    \"\"\"\n",
    "\n",
    "    # exog, endogは強制的にリスト形式に変換しておく\n",
    "    exog = np.r_[[exog]].flatten()\n",
    "    endog = np.r_[[endog]].flatten()\n",
    "    remaining = set(exog)\n",
    "    selected = []  # 採用が確定された要因\n",
    "\n",
    "    # 定数項のみのAICを計算\n",
    "    formula_head = ' + '.join(endog) + ' ~ '\n",
    "    formula = formula_head + '1'\n",
    "    aic = model(formula=formula, **kwargs).fit().aic\n",
    "    print('AIC: {}, formula: {}'.format(round(aic, 3), formula))\n",
    "\n",
    "    current_score, best_new_score = np.ones(2) * aic\n",
    "\n",
    "    # 全要因を採択するか，どの要因を追加してもAICが上がらなければ終了\n",
    "    while remaining and current_score == best_new_score:\n",
    "        scores_with_candidates = []\n",
    "        for candidate in remaining:\n",
    "\n",
    "            # 残っている要因を1つずつ追加したときのAICを計算\n",
    "            formula_tail = ' + '.join(selected + [candidate])\n",
    "            formula = formula_head + formula_tail\n",
    "            aic = model(formula=formula, **kwargs).fit().aic\n",
    "            print('AIC: {}, formula: {}'.format(round(aic, 3), formula))\n",
    "\n",
    "            scores_with_candidates.append((aic, candidate))\n",
    "\n",
    "        # 最もAICが小さかった要因をbest_candidateとする\n",
    "        scores_with_candidates.sort()\n",
    "        scores_with_candidates.reverse()\n",
    "        best_new_score, best_candidate = scores_with_candidates.pop()\n",
    "\n",
    "        # 候補要因追加でAICが下がったならば，それを確定要因として追加する\n",
    "        if best_new_score < current_score:\n",
    "            remaining.remove(best_candidate)\n",
    "            selected.append(best_candidate)\n",
    "            current_score = best_new_score\n",
    "\n",
    "    formula = formula_head + ' + '.join(selected)\n",
    "    print('The best formula: {}'.format(formula))\n",
    "    return model(formula, **kwargs).fit()"
   ]
  },
  {
   "cell_type": "code",
   "execution_count": 12,
   "metadata": {},
   "outputs": [
    {
     "name": "stdout",
     "output_type": "stream",
     "text": [
      "AIC: 2276.668, formula: Fee ~ 1\n",
      "AIC: 2166.461, formula: Fee ~ Size\n",
      "AIC: 2278.353, formula: Fee ~ Year\n",
      "AIC: 2274.396, formula: Fee ~ Walk\n",
      "AIC: 2156.026, formula: Fee ~ Size + Year\n",
      "AIC: 2165.066, formula: Fee ~ Size + Walk\n",
      "AIC: 2154.831, formula: Fee ~ Size + Year + Walk\n",
      "The best formula: Fee ~ Size + Year + Walk\n"
     ]
    },
    {
     "data": {
      "text/plain": [
       "statsmodels.regression.linear_model.RegressionResultsWrapper"
      ]
     },
     "execution_count": 12,
     "metadata": {},
     "output_type": "execute_result"
    }
   ],
   "source": [
    "mod = step_aic(smf.ols, [\"Walk\", \"Size\", \"Year\"], [\"Fee\"], data=dat)\n"
   ]
  },
  {
   "cell_type": "code",
   "execution_count": null,
   "metadata": {},
   "outputs": [],
   "source": [
    "for i in "
   ]
  },
  {
   "cell_type": "code",
   "execution_count": 14,
   "metadata": {},
   "outputs": [],
   "source": [
    "def Mahala2(vec_x, vec_mean, mat):\n",
    "    length = mat.shape[0]\n",
    "    vec_x = np.array(vec_x, dtype='float64')\n",
    "    vec = np.asmatrix((vec_x - vec_mean).values.reshape(length, 1))\n",
    "    inv = np.linalg.inv(mat) # 逆行列を求める　Compute the inverse of a matrix.\n",
    "    mahala2 = vec.T.dot(inv.dot(vec)) \n",
    "    return mahala2[0, 0]"
   ]
  },
  {
   "cell_type": "code",
   "execution_count": 8,
   "metadata": {},
   "outputs": [
    {
     "ename": "KeyError",
     "evalue": "\"['high' 'low'] not in index\"",
     "output_type": "error",
     "traceback": [
      "\u001b[0;31m---------------------------------------------------------------------------\u001b[0m",
      "\u001b[0;31mKeyError\u001b[0m                                  Traceback (most recent call last)",
      "\u001b[0;32m<ipython-input-8-d70bc1157673>\u001b[0m in \u001b[0;36m<module>\u001b[0;34m()\u001b[0m\n\u001b[0;32m----> 1\u001b[0;31m \u001b[0mSigma\u001b[0m \u001b[0;34m=\u001b[0m \u001b[0mnp\u001b[0m\u001b[0;34m.\u001b[0m\u001b[0masmatrix\u001b[0m\u001b[0;34m(\u001b[0m\u001b[0mdata\u001b[0m\u001b[0;34m[\u001b[0m\u001b[0;34m[\u001b[0m\u001b[0;34m'high'\u001b[0m\u001b[0;34m,\u001b[0m \u001b[0;34m'low'\u001b[0m\u001b[0;34m]\u001b[0m\u001b[0;34m]\u001b[0m\u001b[0;34m.\u001b[0m\u001b[0mcov\u001b[0m\u001b[0;34m(\u001b[0m\u001b[0;34m)\u001b[0m\u001b[0;34m)\u001b[0m \u001b[0;31m# 独立変数の分散共分散行列を求める． Variance-covariance matrix of IVs.\u001b[0m\u001b[0;34m\u001b[0m\u001b[0m\n\u001b[0m\u001b[1;32m      2\u001b[0m \u001b[0mn\u001b[0m \u001b[0;34m=\u001b[0m \u001b[0mlen\u001b[0m\u001b[0;34m(\u001b[0m\u001b[0mdata\u001b[0m\u001b[0;34m)\u001b[0m \u001b[0;31m# 標本数. Sample size.\u001b[0m\u001b[0;34m\u001b[0m\u001b[0m\n\u001b[1;32m      3\u001b[0m \u001b[0mdfm\u001b[0m \u001b[0;34m=\u001b[0m \u001b[0mresults\u001b[0m\u001b[0;34m.\u001b[0m\u001b[0mdf_model\u001b[0m \u001b[0;31m# 独立変数の数（モデルの自由度）．　Number of IVs (Model degrees of freedom).\u001b[0m\u001b[0;34m\u001b[0m\u001b[0m\n\u001b[1;32m      4\u001b[0m \u001b[0mt_0025\u001b[0m \u001b[0;34m=\u001b[0m \u001b[0mss\u001b[0m\u001b[0;34m.\u001b[0m\u001b[0mt\u001b[0m\u001b[0;34m.\u001b[0m\u001b[0misf\u001b[0m\u001b[0;34m(\u001b[0m\u001b[0mq\u001b[0m\u001b[0;34m=\u001b[0m\u001b[0;36m0.05\u001b[0m\u001b[0;34m/\u001b[0m\u001b[0;36m2\u001b[0m\u001b[0;34m,\u001b[0m \u001b[0mdf\u001b[0m\u001b[0;34m=\u001b[0m\u001b[0mn\u001b[0m\u001b[0;34m-\u001b[0m\u001b[0mdfm\u001b[0m\u001b[0;34m-\u001b[0m\u001b[0;36m1\u001b[0m\u001b[0;34m)\u001b[0m \u001b[0;31m# 自由度 n-dfm-1のt分布の上側2.5パーセント点(= ss.t.ppf(q=0.975, df=n-dfm-1))\u001b[0m\u001b[0;34m\u001b[0m\u001b[0m\n\u001b[1;32m      5\u001b[0m \u001b[0mvec_mean\u001b[0m \u001b[0;34m=\u001b[0m \u001b[0mdata\u001b[0m\u001b[0;34m[\u001b[0m\u001b[0;34m[\u001b[0m\u001b[0;34m'high'\u001b[0m\u001b[0;34m,\u001b[0m \u001b[0;34m'low'\u001b[0m\u001b[0;34m]\u001b[0m\u001b[0;34m]\u001b[0m\u001b[0;34m.\u001b[0m\u001b[0mmean\u001b[0m\u001b[0;34m(\u001b[0m\u001b[0;34m)\u001b[0m \u001b[0;31m# 独立変数の平均を求める　Find average of independent variables\u001b[0m\u001b[0;34m\u001b[0m\u001b[0m\n",
      "\u001b[0;32m~/.pyenv/versions/anaconda3-4.3.1/lib/python3.6/site-packages/pandas/core/frame.py\u001b[0m in \u001b[0;36m__getitem__\u001b[0;34m(self, key)\u001b[0m\n\u001b[1;32m   2677\u001b[0m         \u001b[0;32mif\u001b[0m \u001b[0misinstance\u001b[0m\u001b[0;34m(\u001b[0m\u001b[0mkey\u001b[0m\u001b[0;34m,\u001b[0m \u001b[0;34m(\u001b[0m\u001b[0mSeries\u001b[0m\u001b[0;34m,\u001b[0m \u001b[0mnp\u001b[0m\u001b[0;34m.\u001b[0m\u001b[0mndarray\u001b[0m\u001b[0;34m,\u001b[0m \u001b[0mIndex\u001b[0m\u001b[0;34m,\u001b[0m \u001b[0mlist\u001b[0m\u001b[0;34m)\u001b[0m\u001b[0;34m)\u001b[0m\u001b[0;34m:\u001b[0m\u001b[0;34m\u001b[0m\u001b[0m\n\u001b[1;32m   2678\u001b[0m             \u001b[0;31m# either boolean or fancy integer index\u001b[0m\u001b[0;34m\u001b[0m\u001b[0;34m\u001b[0m\u001b[0m\n\u001b[0;32m-> 2679\u001b[0;31m             \u001b[0;32mreturn\u001b[0m \u001b[0mself\u001b[0m\u001b[0;34m.\u001b[0m\u001b[0m_getitem_array\u001b[0m\u001b[0;34m(\u001b[0m\u001b[0mkey\u001b[0m\u001b[0;34m)\u001b[0m\u001b[0;34m\u001b[0m\u001b[0m\n\u001b[0m\u001b[1;32m   2680\u001b[0m         \u001b[0;32melif\u001b[0m \u001b[0misinstance\u001b[0m\u001b[0;34m(\u001b[0m\u001b[0mkey\u001b[0m\u001b[0;34m,\u001b[0m \u001b[0mDataFrame\u001b[0m\u001b[0;34m)\u001b[0m\u001b[0;34m:\u001b[0m\u001b[0;34m\u001b[0m\u001b[0m\n\u001b[1;32m   2681\u001b[0m             \u001b[0;32mreturn\u001b[0m \u001b[0mself\u001b[0m\u001b[0;34m.\u001b[0m\u001b[0m_getitem_frame\u001b[0m\u001b[0;34m(\u001b[0m\u001b[0mkey\u001b[0m\u001b[0;34m)\u001b[0m\u001b[0;34m\u001b[0m\u001b[0m\n",
      "\u001b[0;32m~/.pyenv/versions/anaconda3-4.3.1/lib/python3.6/site-packages/pandas/core/frame.py\u001b[0m in \u001b[0;36m_getitem_array\u001b[0;34m(self, key)\u001b[0m\n\u001b[1;32m   2721\u001b[0m             \u001b[0;32mreturn\u001b[0m \u001b[0mself\u001b[0m\u001b[0;34m.\u001b[0m\u001b[0m_take\u001b[0m\u001b[0;34m(\u001b[0m\u001b[0mindexer\u001b[0m\u001b[0;34m,\u001b[0m \u001b[0maxis\u001b[0m\u001b[0;34m=\u001b[0m\u001b[0;36m0\u001b[0m\u001b[0;34m)\u001b[0m\u001b[0;34m\u001b[0m\u001b[0m\n\u001b[1;32m   2722\u001b[0m         \u001b[0;32melse\u001b[0m\u001b[0;34m:\u001b[0m\u001b[0;34m\u001b[0m\u001b[0m\n\u001b[0;32m-> 2723\u001b[0;31m             \u001b[0mindexer\u001b[0m \u001b[0;34m=\u001b[0m \u001b[0mself\u001b[0m\u001b[0;34m.\u001b[0m\u001b[0mloc\u001b[0m\u001b[0;34m.\u001b[0m\u001b[0m_convert_to_indexer\u001b[0m\u001b[0;34m(\u001b[0m\u001b[0mkey\u001b[0m\u001b[0;34m,\u001b[0m \u001b[0maxis\u001b[0m\u001b[0;34m=\u001b[0m\u001b[0;36m1\u001b[0m\u001b[0;34m)\u001b[0m\u001b[0;34m\u001b[0m\u001b[0m\n\u001b[0m\u001b[1;32m   2724\u001b[0m             \u001b[0;32mreturn\u001b[0m \u001b[0mself\u001b[0m\u001b[0;34m.\u001b[0m\u001b[0m_take\u001b[0m\u001b[0;34m(\u001b[0m\u001b[0mindexer\u001b[0m\u001b[0;34m,\u001b[0m \u001b[0maxis\u001b[0m\u001b[0;34m=\u001b[0m\u001b[0;36m1\u001b[0m\u001b[0;34m)\u001b[0m\u001b[0;34m\u001b[0m\u001b[0m\n\u001b[1;32m   2725\u001b[0m \u001b[0;34m\u001b[0m\u001b[0m\n",
      "\u001b[0;32m~/.pyenv/versions/anaconda3-4.3.1/lib/python3.6/site-packages/pandas/core/indexing.py\u001b[0m in \u001b[0;36m_convert_to_indexer\u001b[0;34m(self, obj, axis, is_setter)\u001b[0m\n\u001b[1;32m   1325\u001b[0m                 \u001b[0;32mif\u001b[0m \u001b[0mmask\u001b[0m\u001b[0;34m.\u001b[0m\u001b[0many\u001b[0m\u001b[0;34m(\u001b[0m\u001b[0;34m)\u001b[0m\u001b[0;34m:\u001b[0m\u001b[0;34m\u001b[0m\u001b[0m\n\u001b[1;32m   1326\u001b[0m                     raise KeyError('{mask} not in index'\n\u001b[0;32m-> 1327\u001b[0;31m                                    .format(mask=objarr[mask]))\n\u001b[0m\u001b[1;32m   1328\u001b[0m \u001b[0;34m\u001b[0m\u001b[0m\n\u001b[1;32m   1329\u001b[0m                 \u001b[0;32mreturn\u001b[0m \u001b[0mcom\u001b[0m\u001b[0;34m.\u001b[0m\u001b[0m_values_from_object\u001b[0m\u001b[0;34m(\u001b[0m\u001b[0mindexer\u001b[0m\u001b[0;34m)\u001b[0m\u001b[0;34m\u001b[0m\u001b[0m\n",
      "\u001b[0;31mKeyError\u001b[0m: \"['high' 'low'] not in index\""
     ]
    }
   ],
   "source": [
    "Sigma = np.asmatrix(data[[\"Walk\", \"Size\", \"Year\"]].cov()) # 独立変数の分散共分散行列を求める． Variance-covariance matrix of IVs.\n",
    "n = len(data) # 標本数. Sample size.\n",
    "dfm = results.df_model # 独立変数の数（モデルの自由度）．　Number of IVs (Model degrees of freedom). \n",
    "t_0025 = ss.t.isf(q=0.05/2, df=n-dfm-1) # 自由度 n-dfm-1のt分布の上側2.5パーセント点(= ss.t.ppf(q=0.975, df=n-dfm-1))\n",
    "vec_mean = data[[\"Walk\", \"Size\", \"Year\"]].mean() # 独立変数の平均を求める　Find average of independent variables\n",
    "print(vec_mean)\n",
    "\n",
    "#観測値に対応する従属変数の信頼区間を求める Find CI of Y on observed values\n",
    "X = np.array([1, 6,40,5]) #観測値の設定\n",
    "hat_y=X.dot(results.params) # Xとresults.paramsの内積を求め従属変数の推定値を求める　Obtain estimated value of dependent variable\n",
    "\n",
    "D2_0 = Mahala2([39, 16], vec_mean, Sigma) # マハラノビス距離の二乗を求める Squared Mahalanobis distance\n",
    "\n",
    "Ve = results.scale #  残差変動の不偏分散． A scale factor for the covariance matrix.\n",
    "Se_o = np.sqrt((1/n + D2_0 / (n-1)) * Ve) #観測値の場合　In case of observed value\n",
    "\n",
    "ci_low = hat_y - t_0025 * Se_o# 下側信頼\n",
    "ci_up = hat_y + t_0025 * Se_o # 上側信頼\n",
    "\n",
    "print(\"理論値（theoretical value）:\", hat_y)\n",
    "print(\"理論値の信頼区間（CI of theoretical value）：({0},{1})\".format(ci_low,ci_up))\n",
    "\n",
    "#予測値（未観測値に対応する従属変数）の信頼区間を求める Find prediction interval of Y on unobserved values\n",
    "X = np.array([1, 39, 16]) #未観測値の設定\n",
    "hat_y=X.dot(results.params) # Xとresults.paramsの内積を求め従属変数の推定値を求める　Obtain estimated value of dependent variable\n",
    "\n",
    "D2_0 = Mahala2([39, 16], vec_mean, Sigma) # マハラノビス距離の二乗を求める Squared Mahalanobis distance\n",
    "\n",
    "Se_p = np.sqrt((1 + 1/n + D2_0 / (n-1)) * Ve) #未観測値の場合　In case of unobserved value\n",
    "\n",
    "pi_low = hat_y - t_0025 * Se_p# 下側信頼\n",
    "pi_up = hat_y + t_0025 * Se_p # 上側信頼\n",
    "\n",
    "print(\"予測値（Predicted value）:\", hat_y)\n",
    "print(\"予測値の信頼区間（CI of predicted value）：({0},{1})\".format(pi_low,pi_up))"
   ]
  },
  {
   "cell_type": "code",
   "execution_count": null,
   "metadata": {},
   "outputs": [],
   "source": [
    "cement = np.linspace(130, 180, 200) # 100から300までの等差数列を生成\n",
    "\n",
    "hat_y = []\n",
    "(Fly_ash, Water, Slag, Fine_Aggr, SP) = (260, 285, 115, 750, 9) # Wind, Tempの値を(10, 78)に固定.　Wind, Temp values are fixed to (10, 78).\n",
    "\n",
    "for c in cement:\n",
    "    X = np.array([1, c, Fly_ash, Water, Slag, Fine_Aggr, SP])\n",
    "    hat_y.append(X.dot(f_res.params))# Xとresults.paramsの内積を求め従属変数の推定値を求める Obtain estimated value of dependent variable\n",
    "plt.plot(cement, hat_y, label=\"Predicted value\") # 予測値をプロット\n",
    "\n",
    "D2 = []\n",
    "for c in cement:\n",
    "    D2_0 = Mahala2([c, Fly_ash, Water, Slag, Fine_Aggr, SP], vec_mean, Sigma) # マハラノビス距離の二乗を求める Squared Mahalanobis distance\n",
    "    D2.append(D2_0)\n",
    "D2 = np.array(D2)\n",
    "\n",
    "Se_o = np.sqrt((1/n + D2 / (n-1)) * Ve) #観測値の場合　In case of observation value\n",
    "Se_p = np.sqrt((1 + 1/n + D2 / (n-1)) * Ve) #未観測値の場合　In case of unobserved value\n",
    "\n",
    "# 観測値に対応する従属変数の信頼区間をプロット\n",
    "plt.plot(cement, hat_y - t_0025 * Se_o, \"--g\", label=\"95% theoritical confidence interval\")\n",
    "plt.plot(cement, hat_y + t_0025 * Se_o, \"--g\")\n",
    "\n",
    "# 予測値の信頼区間をプロット\n",
    "plt.plot(cement, hat_y - t_0025 * Se_p, \"--r\", label=\"95% prediction interval\")\n",
    "plt.plot(cement, hat_y + t_0025 * Se_p, \"--r\")\n",
    "\n",
    "plt.xlabel(\"Cement\")\n",
    "plt.ylabel(\"Compressive Strength\")\n",
    "plt.legend()\n",
    "plt.show()"
   ]
  },
  {
   "cell_type": "code",
   "execution_count": 6,
   "metadata": {},
   "outputs": [
    {
     "data": {
      "text/html": [
       "<div>\n",
       "<style scoped>\n",
       "    .dataframe tbody tr th:only-of-type {\n",
       "        vertical-align: middle;\n",
       "    }\n",
       "\n",
       "    .dataframe tbody tr th {\n",
       "        vertical-align: top;\n",
       "    }\n",
       "\n",
       "    .dataframe thead th {\n",
       "        text-align: right;\n",
       "    }\n",
       "</style>\n",
       "<table border=\"1\" class=\"dataframe\">\n",
       "  <thead>\n",
       "    <tr style=\"text-align: right;\">\n",
       "      <th></th>\n",
       "      <th>VIF</th>\n",
       "    </tr>\n",
       "  </thead>\n",
       "  <tbody>\n",
       "    <tr>\n",
       "      <th>const</th>\n",
       "      <td>10.987350</td>\n",
       "    </tr>\n",
       "    <tr>\n",
       "      <th>Walk</th>\n",
       "      <td>1.017672</td>\n",
       "    </tr>\n",
       "    <tr>\n",
       "      <th>Size</th>\n",
       "      <td>1.045825</td>\n",
       "    </tr>\n",
       "    <tr>\n",
       "      <th>Year</th>\n",
       "      <td>1.030698</td>\n",
       "    </tr>\n",
       "  </tbody>\n",
       "</table>\n",
       "</div>"
      ],
      "text/plain": [
       "             VIF\n",
       "const  10.987350\n",
       "Walk    1.017672\n",
       "Size    1.045825\n",
       "Year    1.030698"
      ]
     },
     "execution_count": 6,
     "metadata": {},
     "output_type": "execute_result"
    }
   ],
   "source": [
    "num_cols = model.exog.shape[1]\n",
    "vifs = [variance_inflation_factor(model.exog, i) for i in range(0, num_cols)]\n",
    "pd.DataFrame(vifs, index=model.exog_names, columns=[\"VIF\"])"
   ]
  },
  {
   "cell_type": "code",
   "execution_count": null,
   "metadata": {},
   "outputs": [],
   "source": [
    "X_scale = sp.scale(x)\n",
    "y_scale = sp.scale(y)\n",
    "\n",
    "# モデルの設定\n",
    "mod = sm.OLS(y_scale, sm.add_constant(X_scale))\n",
    "\n",
    "# 回帰分析の実行\n",
    "res = mod.fit()\n",
    "\n",
    "# 結果を表示\n",
    "print(res.summary())"
   ]
  },
  {
   "cell_type": "code",
   "execution_count": null,
   "metadata": {},
   "outputs": [],
   "source": [
    "df_scale_x = pd.DataFrame(X_scale, columns=[\"x1\", \"x2\"])\n",
    "df_scale_y = pd.DataFrame(y_scale, columns=[\"y\"])"
   ]
  }
 ],
 "metadata": {
  "kernelspec": {
   "display_name": "Python 3",
   "language": "python",
   "name": "python3"
  },
  "language_info": {
   "codemirror_mode": {
    "name": "ipython",
    "version": 3
   },
   "file_extension": ".py",
   "mimetype": "text/x-python",
   "name": "python",
   "nbconvert_exporter": "python",
   "pygments_lexer": "ipython3",
   "version": "3.6.5"
  },
  "toc": {
   "base_numbering": 1,
   "nav_menu": {},
   "number_sections": true,
   "sideBar": true,
   "skip_h1_title": false,
   "title_cell": "Table of Contents",
   "title_sidebar": "Contents",
   "toc_cell": false,
   "toc_position": {},
   "toc_section_display": true,
   "toc_window_display": false
  }
 },
 "nbformat": 4,
 "nbformat_minor": 2
}
