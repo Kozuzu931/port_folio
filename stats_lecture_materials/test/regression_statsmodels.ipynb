{
 "cells": [
  {
   "cell_type": "markdown",
   "metadata": {
    "collapsed": true
   },
   "source": [
    "### StatsModelsを用いた回帰分析 (Linear regression with StatsModels)"
   ]
  },
  {
   "cell_type": "code",
   "execution_count": 2,
   "metadata": {},
   "outputs": [],
   "source": [
    "import numpy as np\n",
    "import pandas as pd\n",
    "import matplotlib.pyplot as plt\n",
    "import statsmodels.api as sm\n",
    "import statsmodels.formula.api as smf\n",
    "import seaborn as sns\n",
    "import scipy.stats as ss\n",
    "import sklearn.preprocessing as sp\n",
    "import itertools\n",
    "from statsmodels.stats.outliers_influence import variance_inflation_factor"
   ]
  },
  {
   "cell_type": "code",
   "execution_count": 34,
   "metadata": {},
   "outputs": [
    {
     "name": "stdout",
     "output_type": "stream",
     "text": [
      "   Entrance  Graduation  high_school\n",
      "0       430        1.67          5.6\n",
      "1       438        1.73          6.7\n",
      "2       455        2.05          6.2\n",
      "3       460        1.14          5.5\n",
      "4       473        2.73          6.0\n"
     ]
    }
   ],
   "source": [
    "# データを読み込む\n",
    "data = pd.read_csv(\"data/cl1_EN_data/scores_high_school_cl1.csv\", delimiter=\",\", comment=\"#\")\n",
    "print(data.head())"
   ]
  },
  {
   "cell_type": "code",
   "execution_count": 44,
   "metadata": {},
   "outputs": [],
   "source": [
    "x = data[[\"Entrance\"]] # 独立（説明）変数 independent variable\"high_school\"\n",
    "y = data[\"Graduation\"] # 従属（目的）変数 dependent  variable\n",
    "#plt.scatter(x,y) # 散布図をプロット Scatter plot \n",
    "#plt.xlabel(\"Distance\")\n",
    "#plt.ylabel(\"Damage\")\n",
    "#plt.show()"
   ]
  },
  {
   "cell_type": "code",
   "execution_count": 45,
   "metadata": {},
   "outputs": [
    {
     "name": "stdout",
     "output_type": "stream",
     "text": [
      "                            OLS Regression Results                            \n",
      "==============================================================================\n",
      "Dep. Variable:             Graduation   R-squared:                       0.583\n",
      "Model:                            OLS   Adj. R-squared:                  0.558\n",
      "Method:                 Least Squares   F-statistic:                     23.73\n",
      "Date:                Tue, 15 Jan 2019   Prob (F-statistic):           0.000144\n",
      "Time:                        17:40:13   Log-Likelihood:                -12.941\n",
      "No. Observations:                  19   AIC:                             29.88\n",
      "Df Residuals:                      17   BIC:                             31.77\n",
      "Df Model:                           1                                         \n",
      "Covariance Type:            nonrobust                                         \n",
      "==============================================================================\n",
      "                 coef    std err          t      P>|t|      [0.025      0.975]\n",
      "------------------------------------------------------------------------------\n",
      "const         -1.7060      0.873     -1.953      0.067      -3.549       0.137\n",
      "Entrance       0.0079      0.002      4.871      0.000       0.004       0.011\n",
      "==============================================================================\n",
      "Omnibus:                        3.914   Durbin-Watson:                   2.439\n",
      "Prob(Omnibus):                  0.141   Jarque-Bera (JB):                1.359\n",
      "Skew:                           0.007   Prob(JB):                        0.507\n",
      "Kurtosis:                       1.690   Cond. No.                     4.05e+03\n",
      "==============================================================================\n",
      "\n",
      "Warnings:\n",
      "[1] Standard Errors assume that the covariance matrix of the errors is correctly specified.\n",
      "[2] The condition number is large, 4.05e+03. This might indicate that there are\n",
      "strong multicollinearity or other numerical problems.\n"
     ]
    },
    {
     "name": "stderr",
     "output_type": "stream",
     "text": [
      "/Users/kozuzu931/.pyenv/versions/anaconda3-4.3.1/lib/python3.6/site-packages/scipy/stats/stats.py:1394: UserWarning: kurtosistest only valid for n>=20 ... continuing anyway, n=19\n",
      "  \"anyway, n=%i\" % int(n))\n"
     ]
    }
   ],
   "source": [
    "# モデルの設定 Construct a linear regression model\n",
    "model = sm.OLS(y, sm.add_constant(x))\n",
    "\n",
    "# ラベル名を用いるときのモデルの設定 Construct a linear regression model\n",
    "#model = smf.ols(formula = \"damage ~ distance\", data = data)\n",
    "\n",
    "# 回帰分析の実行 Execute linear  regression \n",
    "results = model.fit()\n",
    "\n",
    "# 結果を表示　Print results\n",
    "print(results.summary())"
   ]
  },
  {
   "cell_type": "code",
   "execution_count": 9,
   "metadata": {},
   "outputs": [
    {
     "data": {
      "image/png": "[encoded data removed]",
      "text/plain": [
       "<Figure size 432x288 with 1 Axes>"
      ]
     },
     "metadata": {},
     "output_type": "display_data"
    }
   ],
   "source": [
    "b = results.params[0] # 回帰式の切片 Intercept\n",
    "a = results.params[1] # 回帰式の傾き Regression coefficient\n",
    "\n",
    "plt.scatter(x,y) # 散布図をプロット Scatter plot\n",
    "plt.plot(x, a*x+b, color=\"red\") # 回帰直線をプロット  Plot regression line\n",
    "plt.xlabel(\"Distance\")\n",
    "plt.ylabel(\"Damage\")\n",
    "plt.show()"
   ]
  },
  {
   "cell_type": "code",
   "execution_count": 3,
   "metadata": {},
   "outputs": [],
   "source": [
    "def step_aic(model, exog, endog, **kwargs):\n",
    "    \"\"\"\n",
    "    This select the best exogenous variables with AIC\n",
    "    Both exog and endog values can be either str or list.\n",
    "    (Endog list is for the Binomial family.)\n",
    "\n",
    "    Note: This adopt only \"forward\" selection\n",
    "\n",
    "    Args:\n",
    "        model: model from statsmodels.formula.api\n",
    "        exog (str or list): exogenous variables\n",
    "        endog (str or list): endogenous variables\n",
    "        kwargs: extra keyword argments for model (e.g., data, family)\n",
    "\n",
    "    Returns:\n",
    "        model: a model that seems to have the smallest AIC\n",
    "    \"\"\"\n",
    "\n",
    "    # exog, endogは強制的にリスト形式に変換しておく\n",
    "    exog = np.r_[[exog]].flatten()\n",
    "    endog = np.r_[[endog]].flatten()\n",
    "    remaining = set(exog)\n",
    "    selected = []  # 採用が確定された要因\n",
    "\n",
    "    # 定数項のみのAICを計算\n",
    "    formula_head = ' + '.join(endog) + ' ~ '\n",
    "    formula = formula_head + '1'\n",
    "    aic = model(formula=formula, **kwargs).fit().aic\n",
    "    print('AIC: {}, formula: {}'.format(round(aic, 3), formula))\n",
    "\n",
    "    current_score, best_new_score = np.ones(2) * aic\n",
    "\n",
    "    # 全要因を採択するか，どの要因を追加してもAICが上がらなければ終了\n",
    "    while remaining and current_score == best_new_score:\n",
    "        scores_with_candidates = []\n",
    "        for candidate in remaining:\n",
    "\n",
    "            # 残っている要因を1つずつ追加したときのAICを計算\n",
    "            formula_tail = ' + '.join(selected + [candidate])\n",
    "            formula = formula_head + formula_tail\n",
    "            aic = model(formula=formula, **kwargs).fit().aic\n",
    "            print('AIC: {}, formula: {}'.format(round(aic, 3), formula))\n",
    "\n",
    "            scores_with_candidates.append((aic, candidate))\n",
    "\n",
    "        # 最もAICが小さかった要因をbest_candidateとする\n",
    "        scores_with_candidates.sort()\n",
    "        scores_with_candidates.reverse()\n",
    "        best_new_score, best_candidate = scores_with_candidates.pop()\n",
    "\n",
    "        # 候補要因追加でAICが下がったならば，それを確定要因として追加する\n",
    "        if best_new_score < current_score:\n",
    "            remaining.remove(best_candidate)\n",
    "            selected.append(best_candidate)\n",
    "            current_score = best_new_score\n",
    "\n",
    "    formula = formula_head + ' + '.join(selected)\n",
    "    print('The best formula: {}'.format(formula))\n",
    "    return model(formula, **kwargs).fit()"
   ]
  },
  {
   "cell_type": "code",
   "execution_count": 4,
   "metadata": {},
   "outputs": [],
   "source": [
    "def Mahala2(vec_x, vec_mean, mat):\n",
    "    length = mat.shape[0]\n",
    "    vec_x = np.array(vec_x, dtype='float64')\n",
    "    vec = np.asmatrix((vec_x - vec_mean).values.reshape(length, 1))\n",
    "    inv = np.linalg.inv(mat) # 逆行列を求める　Compute the inverse of a matrix.\n",
    "    mahala2 = vec.T.dot(inv.dot(vec)) \n",
    "    return mahala2[0, 0]"
   ]
  },
  {
   "cell_type": "code",
   "execution_count": 32,
   "metadata": {},
   "outputs": [
    {
     "name": "stdout",
     "output_type": "stream",
     "text": [
      "high    32.0\n",
      "low     24.7\n",
      "dtype: float64\n",
      "理論値（theoretical value）: 521.902769075599\n",
      "理論値の信頼区間（CI of theoretical value）：(439.1690167050104,604.6365214461878)\n",
      "予測値（Predicted value）: 521.902769075599\n",
      "予測値の信頼区間（CI of predicted value）：(424.2781613641302,619.5273767870679)\n"
     ]
    }
   ],
   "source": [
    "Sigma = np.asmatrix(data[['high', 'low']].cov()) # 独立変数の分散共分散行列を求める． Variance-covariance matrix of IVs.\n",
    "n = len(data) # 標本数. Sample size.\n",
    "dfm = results.df_model # 独立変数の数（モデルの自由度）．　Number of IVs (Model degrees of freedom). \n",
    "t_0025 = ss.t.isf(q=0.05/2, df=n-dfm-1) # 自由度 n-dfm-1のt分布の上側2.5パーセント点(= ss.t.ppf(q=0.975, df=n-dfm-1))\n",
    "vec_mean = data[['high', 'low']].mean() # 独立変数の平均を求める　Find average of independent variables\n",
    "print(vec_mean)\n",
    "\n",
    "#観測値に対応する従属変数の信頼区間を求める Find CI of Y on observed values\n",
    "X = np.array([1, 39, 16]) #観測値の設定\n",
    "hat_y=X.dot(results.params) # Xとresults.paramsの内積を求め従属変数の推定値を求める　Obtain estimated value of dependent variable\n",
    "\n",
    "D2_0 = Mahala2([39, 16], vec_mean, Sigma) # マハラノビス距離の二乗を求める Squared Mahalanobis distance\n",
    "\n",
    "Ve = results.scale #  残差変動の不偏分散． A scale factor for the covariance matrix.\n",
    "Se_o = np.sqrt((1/n + D2_0 / (n-1)) * Ve) #観測値の場合　In case of observed value\n",
    "\n",
    "ci_low = hat_y - t_0025 * Se_o# 下側信頼\n",
    "ci_up = hat_y + t_0025 * Se_o # 上側信頼\n",
    "\n",
    "print(\"理論値（theoretical value）:\", hat_y)\n",
    "print(\"理論値の信頼区間（CI of theoretical value）：({0},{1})\".format(ci_low,ci_up))\n",
    "\n",
    "#予測値（未観測値に対応する従属変数）の信頼区間を求める Find prediction interval of Y on unobserved values\n",
    "X = np.array([1, 39, 16]) #未観測値の設定\n",
    "hat_y=X.dot(results.params) # Xとresults.paramsの内積を求め従属変数の推定値を求める　Obtain estimated value of dependent variable\n",
    "\n",
    "D2_0 = Mahala2([39, 16], vec_mean, Sigma) # マハラノビス距離の二乗を求める Squared Mahalanobis distance\n",
    "\n",
    "Se_p = np.sqrt((1 + 1/n + D2_0 / (n-1)) * Ve) #未観測値の場合　In case of unobserved value\n",
    "\n",
    "pi_low = hat_y - t_0025 * Se_p# 下側信頼\n",
    "pi_up = hat_y + t_0025 * Se_p # 上側信頼\n",
    "\n",
    "print(\"予測値（Predicted value）:\", hat_y)\n",
    "print(\"予測値の信頼区間（CI of predicted value）：({0},{1})\".format(pi_low,pi_up))"
   ]
  },
  {
   "cell_type": "code",
   "execution_count": null,
   "metadata": {},
   "outputs": [],
   "source": [
    "cement = np.linspace(130, 180, 200) # 100から300までの等差数列を生成\n",
    "\n",
    "hat_y = []\n",
    "(Fly_ash, Water, Slag, Fine_Aggr, SP) = (260, 285, 115, 750, 9) # Wind, Tempの値を(10, 78)に固定.　Wind, Temp values are fixed to (10, 78).\n",
    "\n",
    "for c in cement:\n",
    "    X = np.array([1, c, Fly_ash, Water, Slag, Fine_Aggr, SP])\n",
    "    hat_y.append(X.dot(f_res.params))# Xとresults.paramsの内積を求め従属変数の推定値を求める Obtain estimated value of dependent variable\n",
    "plt.plot(cement, hat_y, label=\"Predicted value\") # 予測値をプロット\n",
    "\n",
    "D2 = []\n",
    "for c in cement:\n",
    "    D2_0 = Mahala2([c, Fly_ash, Water, Slag, Fine_Aggr, SP], vec_mean, Sigma) # マハラノビス距離の二乗を求める Squared Mahalanobis distance\n",
    "    D2.append(D2_0)\n",
    "D2 = np.array(D2)\n",
    "\n",
    "Se_o = np.sqrt((1/n + D2 / (n-1)) * Ve) #観測値の場合　In case of observation value\n",
    "Se_p = np.sqrt((1 + 1/n + D2 / (n-1)) * Ve) #未観測値の場合　In case of unobserved value\n",
    "\n",
    "# 観測値に対応する従属変数の信頼区間をプロット\n",
    "plt.plot(cement, hat_y - t_0025 * Se_o, \"--g\", label=\"95% theoritical confidence interval\")\n",
    "plt.plot(cement, hat_y + t_0025 * Se_o, \"--g\")\n",
    "\n",
    "# 予測値の信頼区間をプロット\n",
    "plt.plot(cement, hat_y - t_0025 * Se_p, \"--r\", label=\"95% prediction interval\")\n",
    "plt.plot(cement, hat_y + t_0025 * Se_p, \"--r\")\n",
    "\n",
    "plt.xlabel(\"Cement\")\n",
    "plt.ylabel(\"Compressive Strength\")\n",
    "plt.legend()\n",
    "plt.show()"
   ]
  },
  {
   "cell_type": "code",
   "execution_count": 37,
   "metadata": {},
   "outputs": [
    {
     "data": {
      "text/html": [
       "<div>\n",
       "<style scoped>\n",
       "    .dataframe tbody tr th:only-of-type {\n",
       "        vertical-align: middle;\n",
       "    }\n",
       "\n",
       "    .dataframe tbody tr th {\n",
       "        vertical-align: top;\n",
       "    }\n",
       "\n",
       "    .dataframe thead th {\n",
       "        text-align: right;\n",
       "    }\n",
       "</style>\n",
       "<table border=\"1\" class=\"dataframe\">\n",
       "  <thead>\n",
       "    <tr style=\"text-align: right;\">\n",
       "      <th></th>\n",
       "      <th>VIF</th>\n",
       "    </tr>\n",
       "  </thead>\n",
       "  <tbody>\n",
       "    <tr>\n",
       "      <th>const</th>\n",
       "      <td>69.364610</td>\n",
       "    </tr>\n",
       "    <tr>\n",
       "      <th>Entrance</th>\n",
       "      <td>1.954923</td>\n",
       "    </tr>\n",
       "    <tr>\n",
       "      <th>high_school</th>\n",
       "      <td>1.954923</td>\n",
       "    </tr>\n",
       "  </tbody>\n",
       "</table>\n",
       "</div>"
      ],
      "text/plain": [
       "                   VIF\n",
       "const        69.364610\n",
       "Entrance      1.954923\n",
       "high_school   1.954923"
      ]
     },
     "execution_count": 37,
     "metadata": {},
     "output_type": "execute_result"
    }
   ],
   "source": [
    "num_cols = model.exog.shape[1]\n",
    "vifs = [variance_inflation_factor(model.exog, i) for i in range(0, num_cols)]\n",
    "pd.DataFrame(vifs, index=model.exog_names, columns=[\"VIF\"])"
   ]
  },
  {
   "cell_type": "code",
   "execution_count": 33,
   "metadata": {},
   "outputs": [
    {
     "name": "stdout",
     "output_type": "stream",
     "text": [
      "                            OLS Regression Results                            \n",
      "==============================================================================\n",
      "Dep. Variable:                      y   R-squared:                       0.844\n",
      "Model:                            OLS   Adj. R-squared:                  0.826\n",
      "Method:                 Least Squares   F-statistic:                     46.03\n",
      "Date:                Tue, 15 Jan 2019   Prob (F-statistic):           1.38e-07\n",
      "Time:                        17:30:54   Log-Likelihood:                -9.7912\n",
      "No. Observations:                  20   AIC:                             25.58\n",
      "Df Residuals:                      17   BIC:                             28.57\n",
      "Df Model:                           2                                         \n",
      "Covariance Type:            nonrobust                                         \n",
      "==============================================================================\n",
      "                 coef    std err          t      P>|t|      [0.025      0.975]\n",
      "------------------------------------------------------------------------------\n",
      "const      -3.886e-16      0.096  -4.06e-15      1.000      -0.202       0.202\n",
      "x1             1.0879      0.129      8.443      0.000       0.816       1.360\n",
      "x2            -0.2914      0.129     -2.262      0.037      -0.563      -0.020\n",
      "==============================================================================\n",
      "Omnibus:                        0.037   Durbin-Watson:                   1.901\n",
      "Prob(Omnibus):                  0.982   Jarque-Bera (JB):                0.204\n",
      "Skew:                          -0.084   Prob(JB):                        0.903\n",
      "Kurtosis:                       2.535   Cond. No.                         2.25\n",
      "==============================================================================\n",
      "\n",
      "Warnings:\n",
      "[1] Standard Errors assume that the covariance matrix of the errors is correctly specified.\n"
     ]
    },
    {
     "name": "stderr",
     "output_type": "stream",
     "text": [
      "/Users/kozuzu931/.pyenv/versions/anaconda3-4.3.1/lib/python3.6/site-packages/sklearn/utils/validation.py:475: DataConversionWarning: Data with input dtype int64 was converted to float64 by the scale function.\n",
      "  warnings.warn(msg, DataConversionWarning)\n"
     ]
    }
   ],
   "source": [
    "X_scale = sp.scale(x)\n",
    "y_scale = sp.scale(y)\n",
    "\n",
    "# モデルの設定\n",
    "mod = sm.OLS(y_scale, sm.add_constant(X_scale))\n",
    "\n",
    "# 回帰分析の実行\n",
    "res = mod.fit()\n",
    "\n",
    "# 結果を表示\n",
    "print(res.summary())"
   ]
  },
  {
   "cell_type": "code",
   "execution_count": null,
   "metadata": {},
   "outputs": [],
   "source": [
    "df_scale_x = pd.DataFrame(X_scale, columns=[\"x1\", \"x2\"])\n",
    "df_scale_y = pd.DataFrame(y_scale, columns=[\"y\"])"
   ]
  }
 ],
 "metadata": {
  "kernelspec": {
   "display_name": "Python 3",
   "language": "python",
   "name": "python3"
  },
  "language_info": {
   "codemirror_mode": {
    "name": "ipython",
    "version": 3
   },
   "file_extension": ".py",
   "mimetype": "text/x-python",
   "name": "python",
   "nbconvert_exporter": "python",
   "pygments_lexer": "ipython3",
   "version": "3.6.5"
  },
  "toc": {
   "base_numbering": 1,
   "nav_menu": {},
   "number_sections": true,
   "sideBar": true,
   "skip_h1_title": false,
   "title_cell": "Table of Contents",
   "title_sidebar": "Contents",
   "toc_cell": false,
   "toc_position": {},
   "toc_section_display": true,
   "toc_window_display": false
  }
 },
 "nbformat": 4,
 "nbformat_minor": 2
}
