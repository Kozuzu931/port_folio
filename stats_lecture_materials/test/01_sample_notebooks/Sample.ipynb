{
 "cells": [
  {
   "cell_type": "code",
   "execution_count": 9,
   "metadata": {},
   "outputs": [
    {
     "data": {
      "text/html": [
       "<div>\n",
       "<style scoped>\n",
       "    .dataframe tbody tr th:only-of-type {\n",
       "        vertical-align: middle;\n",
       "    }\n",
       "\n",
       "    .dataframe tbody tr th {\n",
       "        vertical-align: top;\n",
       "    }\n",
       "\n",
       "    .dataframe thead th {\n",
       "        text-align: right;\n",
       "    }\n",
       "</style>\n",
       "<table border=\"1\" class=\"dataframe\">\n",
       "  <thead>\n",
       "    <tr style=\"text-align: right;\">\n",
       "      <th></th>\n",
       "      <th>X1</th>\n",
       "      <th>X2</th>\n",
       "      <th>Y</th>\n",
       "    </tr>\n",
       "  </thead>\n",
       "  <tbody>\n",
       "    <tr>\n",
       "      <th>0</th>\n",
       "      <td>2.781084</td>\n",
       "      <td>2.550537</td>\n",
       "      <td>0</td>\n",
       "    </tr>\n",
       "    <tr>\n",
       "      <th>1</th>\n",
       "      <td>1.465489</td>\n",
       "      <td>2.362125</td>\n",
       "      <td>1</td>\n",
       "    </tr>\n",
       "    <tr>\n",
       "      <th>2</th>\n",
       "      <td>3.396562</td>\n",
       "      <td>4.400294</td>\n",
       "      <td>0</td>\n",
       "    </tr>\n",
       "    <tr>\n",
       "      <th>3</th>\n",
       "      <td>1.388070</td>\n",
       "      <td>1.850220</td>\n",
       "      <td>0</td>\n",
       "    </tr>\n",
       "    <tr>\n",
       "      <th>4</th>\n",
       "      <td>3.064072</td>\n",
       "      <td>3.005306</td>\n",
       "      <td>0</td>\n",
       "    </tr>\n",
       "  </tbody>\n",
       "</table>\n",
       "</div>"
      ],
      "text/plain": [
       "         X1        X2  Y\n",
       "0  2.781084  2.550537  0\n",
       "1  1.465489  2.362125  1\n",
       "2  3.396562  4.400294  0\n",
       "3  1.388070  1.850220  0\n",
       "4  3.064072  3.005306  0"
      ]
     },
     "metadata": {},
     "output_type": "display_data"
    },
    {
     "name": "stdout",
     "output_type": "stream",
     "text": [
      "                           Logit Regression Results                           \n",
      "==============================================================================\n",
      "Dep. Variable:                      Y   No. Observations:                   10\n",
      "Model:                          Logit   Df Residuals:                        7\n",
      "Method:                           MLE   Df Model:                            2\n",
      "Date:                Thu, 03 Jan 2019   Pseudo R-squ.:                  0.5448\n",
      "Time:                        17:55:00   Log-Likelihood:                -3.0638\n",
      "converged:                       True   LL-Null:                       -6.7301\n",
      "                                        LLR p-value:                   0.02557\n",
      "==============================================================================\n",
      "                 coef    std err          z      P>|z|      [0.025      0.975]\n",
      "------------------------------------------------------------------------------\n",
      "const          1.7314      4.732      0.366      0.714      -7.544      11.007\n",
      "X1             1.0018      0.668      1.499      0.134      -0.308       2.312\n",
      "X2            -1.9954      2.162     -0.923      0.356      -6.233       2.242\n",
      "==============================================================================\n"
     ]
    }
   ],
   "source": [
    "import numpy as np\n",
    "import pandas as pd\n",
    "import matplotlib.pyplot as plt\n",
    "import statsmodels.api as sm\n",
    "import statsmodels.formula.api as smf \n",
    "from IPython.display import display\n",
    "\n",
    "df=pd.read_csv('sample.txt',sep=' ')\n",
    "display(df.head())\n",
    "y=df['Y']\n",
    "X=df.iloc[:,df.columns != 'Y']\n",
    "\n",
    "NN = len(X)\n",
    "lm=sm.Logit(y,sm.add_constant(X))\n",
    "res=lm.fit(disp=0)\n",
    "print(res.summary())"
   ]
  },
  {
   "cell_type": "code",
   "execution_count": 10,
   "metadata": {},
   "outputs": [
    {
     "name": "stdout",
     "output_type": "stream",
     "text": [
      "Odds ratio is: 2.723079557477077\n"
     ]
    }
   ],
   "source": [
    "\n",
    "w_0 = res.params[0] #Constant term.\n",
    "w_1 = res.params[1] #Coef. for x1.\n",
    "w_2 = res.params[2] #Coef. for x2.\n",
    "\n",
    "def sigmoid(x1,x2):\n",
    "    xx = w_1 * x1 + w_2*x2+ w_0 \n",
    "    ans = 1.0 / (1.0 + np.exp(-xx))\n",
    "    ans = ans.astype(np.float64)\n",
    "    return ans\n",
    "\n",
    "#Odds ratio.\n",
    "print(\"Odds ratio is:\",np.exp(w_1))"
   ]
  },
  {
   "cell_type": "code",
   "execution_count": 11,
   "metadata": {},
   "outputs": [
    {
     "name": "stdout",
     "output_type": "stream",
     "text": [
      "Correct ratio is: 0.9\n"
     ]
    }
   ],
   "source": [
    "#Ratio of correct answers.\n",
    "predict_list= np.zeros(NN)\n",
    "\n",
    "X=np.array(X)\n",
    "y=np.array(y)\n",
    "correct=0\n",
    "for i in range(NN):\n",
    "    X_test = X[i,:]\n",
    "    #print(X_test[0])\n",
    "    sig = sigmoid(X_test[0],X_test[1])\n",
    "    \n",
    "    if sig<0.5:\n",
    "        predict_list[i] = 0\n",
    "    else:\n",
    "        predict_list[i] = 1\n",
    "\n",
    "    if predict_list[i]==y[i]:\n",
    "        correct =correct+1\n",
    "\n",
    "print(\"Correct ratio is:\",correct/NN)\n"
   ]
  },
  {
   "cell_type": "code",
   "execution_count": null,
   "metadata": {},
   "outputs": [],
   "source": []
  }
 ],
 "metadata": {
  "kernelspec": {
   "display_name": "Python 3",
   "language": "python",
   "name": "python3"
  },
  "language_info": {
   "codemirror_mode": {
    "name": "ipython",
    "version": 3
   },
   "file_extension": ".py",
   "mimetype": "text/x-python",
   "name": "python",
   "nbconvert_exporter": "python",
   "pygments_lexer": "ipython3",
   "version": "3.6.6"
  }
 },
 "nbformat": 4,
 "nbformat_minor": 2
}
