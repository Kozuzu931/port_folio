{
 "cells": [
  {
   "cell_type": "code",
   "execution_count": 5,
   "metadata": {},
   "outputs": [
    {
     "name": "stdout",
     "output_type": "stream",
     "text": [
      "   d1  d2  d3  d4  d5  d6  d7  d8  d9  d10  d11  d12  click\n",
      "0   0   1   1   1   0   1   0   1   0    1    0    1    175\n",
      "1   0   1   1   0   0   0   0   1   0    0    0    0    350\n",
      "2   1   1   1   0   1   0   1   1   0    1    1    0    675\n",
      "3   0   1   0   1   1   0   1   1   0    0    1    0    250\n",
      "4   0   1   0   1   1   1   1   1   0    1    1    1    275\n",
      "                 Generalized Linear Model Regression Results                  \n",
      "==============================================================================\n",
      "Dep. Variable:                  click   No. Observations:                   70\n",
      "Model:                            GLM   Df Residuals:                       57\n",
      "Model Family:                 Poisson   Df Model:                           12\n",
      "Link Function:                    log   Scale:                          1.0000\n",
      "Method:                          IRLS   Log-Likelihood:                -4662.3\n",
      "Date:                Mon, 14 Jan 2019   Deviance:                       8720.3\n",
      "Time:                        12:52:14   Pearson chi2:                 9.14e+03\n",
      "No. Iterations:                     5   Covariance Type:             nonrobust\n",
      "==============================================================================\n",
      "                 coef    std err          z      P>|z|      [0.025      0.975]\n",
      "------------------------------------------------------------------------------\n",
      "const          6.4114      0.021    302.884      0.000       6.370       6.453\n",
      "d1             0.7363      0.011     65.285      0.000       0.714       0.758\n",
      "d2            -0.1201      0.010    -12.174      0.000      -0.139      -0.101\n",
      "d3             0.1997      0.010     20.783      0.000       0.181       0.219\n",
      "d4             0.0044      0.008      0.557      0.578      -0.011       0.020\n",
      "d5            -0.0604      0.009     -6.424      0.000      -0.079      -0.042\n",
      "d6             0.2239      0.010     22.253      0.000       0.204       0.244\n",
      "d7             0.0491      0.009      5.572      0.000       0.032       0.066\n",
      "d8            -0.0168      0.009     -1.960      0.050      -0.034   -1.45e-06\n",
      "d9             0.2479      0.011     22.027      0.000       0.226       0.270\n",
      "d10           -0.1887      0.010    -19.391      0.000      -0.208      -0.170\n",
      "d11           -0.0791      0.010     -8.016      0.000      -0.098      -0.060\n",
      "d12           -0.0875      0.008    -10.489      0.000      -0.104      -0.071\n",
      "==============================================================================\n"
     ]
    }
   ],
   "source": [
    "import numpy as np\n",
    "import pandas as pd\n",
    "import matplotlib.pyplot as plt\n",
    "import statsmodels.api as sm\n",
    "import statsmodels.formula.api as smf \n",
    "\n",
    "df = pd.read_csv('click.txt',sep=' ')\n",
    "print(df.head())\n",
    "y = df[['click']]\n",
    "X=df.iloc[:,df.columns != 'click']\n",
    "X = sm.add_constant(X)\n",
    "\n",
    "model = sm.GLM(y, X, family=sm.families.Poisson())\n",
    "\n",
    "res=model.fit()\n",
    "print(res.summary())\n"
   ]
  },
  {
   "cell_type": "code",
   "execution_count": null,
   "metadata": {},
   "outputs": [],
   "source": []
  }
 ],
 "metadata": {
  "kernelspec": {
   "display_name": "Python 3",
   "language": "python",
   "name": "python3"
  },
  "language_info": {
   "codemirror_mode": {
    "name": "ipython",
    "version": 3
   },
   "file_extension": ".py",
   "mimetype": "text/x-python",
   "name": "python",
   "nbconvert_exporter": "python",
   "pygments_lexer": "ipython3",
   "version": "3.6.6"
  }
 },
 "nbformat": 4,
 "nbformat_minor": 2
}
