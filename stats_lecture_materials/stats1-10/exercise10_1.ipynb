{
 "cells": [
  {
   "cell_type": "markdown",
   "metadata": {},
   "source": [
    "# 演習 Exercise 10_1"
   ]
  },
  {
   "cell_type": "markdown",
   "metadata": {},
   "source": [
    "### 1. パッケージをインポートする Import packages\n",
    "numpyを`np`という名前でインポート　　import the numpy pacakge under the name `np` \n",
    "\n",
    "matplotlib.pyplotを`plt`という名前でインポート　　import the matplotlib's pyplot package under the name `plt` "
   ]
  },
  {
   "cell_type": "code",
   "execution_count": 3,
   "metadata": {},
   "outputs": [],
   "source": [
    "# 数値計算に使うライブラリ\n",
    "import numpy as np\n",
    "\n",
    "# グラフ描画に使うライブラリ\n",
    "import matplotlib.pyplot as plt"
   ]
  },
  {
   "cell_type": "markdown",
   "metadata": {},
   "source": [
    "### 2. ３個のサイコロの目の和の確率変数と確率分布を求める　Calculation of a probability distribution of the sum of pips of three dices\n",
    "####  確率変数をサイコロの目の和とする  We regard the sum of pips of the dices as a R.V.\n",
    "辞書型のオブジェクトに確率分布を定義：キーを確率変数、対応する値を確率とする\n",
    "\n",
    "３個のサイコロの目の和のすべての組み合わせを列挙し，確率を求める．"
   ]
  },
  {
   "cell_type": "code",
   "execution_count": 51,
   "metadata": {},
   "outputs": [
    {
     "data": {
      "text/plain": [
       "dict_items([(3, 0.004629629629629629), (4, 0.013888888888888888), (5, 0.027777777777777776), (6, 0.046296296296296294), (7, 0.06944444444444445), (8, 0.09722222222222222), (9, 0.11574074074074074), (10, 0.125), (11, 0.125), (12, 0.11574074074074074), (13, 0.09722222222222222), (14, 0.06944444444444445), (15, 0.046296296296296294), (16, 0.027777777777777776), (17, 0.013888888888888888), (18, 0.004629629629629629)])"
      ]
     },
     "execution_count": 51,
     "metadata": {},
     "output_type": "execute_result"
    }
   ],
   "source": [
    "list_ = [i+j+k for i in range(1,7) for j in range(1,7) for k in range(1,7)]  \n",
    "dist = {}\n",
    "for x in list_:\n",
    "    dist[x] = dist.get(x,0)+1\n",
    "\n",
    "for i in dist.keys():\n",
    "    dist[i] = dist[i]/(6**3)\n",
    "dist.items()"
   ]
  },
  {
   "cell_type": "markdown",
   "metadata": {},
   "source": [
    "### 3. 棒グラフを使って確率分布を図示 plot the probability distribution by using a bar graph\n",
    "\n",
    "以下のようなグラフになります。\n",
    "\n",
    "<!-- dom:FIGURE: [Figs/axis.png, width=200] -->\n",
    "<!-- begin figure -->\n",
    "\n",
    "<p></p>\n",
    "<img src=\"fig1.png\" width=400>\n",
    "\n",
    "<!-- end figure -->"
   ]
  },
  {
   "cell_type": "code",
   "execution_count": 49,
   "metadata": {},
   "outputs": [
    {
     "data": {
      "image/png": "[encoded data removed]",
      "text/plain": [
       "<Figure size 432x288 with 1 Axes>"
      ]
     },
     "metadata": {},
     "output_type": "display_data"
    }
   ],
   "source": [
    "x = list(dist.keys())\n",
    "y = list(dist.values())\n",
    "\n",
    "#plt.bar(list(dist.keys()), list(dist.values()), width=1, ec='black' )\n",
    "plt.bar(x, y, width=1, ec='black' )\n",
    "plt.xlabel(\"Rondom variable\")\n",
    "plt.ylabel(\"Probability\")\n",
    "plt.show()"
   ]
  },
  {
   "cell_type": "markdown",
   "metadata": {},
   "source": [
    "### 4. 累積分布関数を定義 Definition of a function of the CDF\n",
    "$F(x)=\\sum_{X\\leq x} P(X)$"
   ]
  },
  {
   "cell_type": "code",
   "execution_count": 6,
   "metadata": {
    "collapsed": true
   },
   "outputs": [],
   "source": [
    "def Cdf(dist, x):\n",
    "    prob = 0.0\n",
    "    for value in dist.keys():\n",
    "        if value <= x:\n",
    "            prob += dist[value]\n",
    "    return prob"
   ]
  },
  {
   "cell_type": "markdown",
   "metadata": {},
   "source": [
    "### 5. 累積分布関数を求める Calculation of the CDF"
   ]
  },
  {
   "cell_type": "code",
   "execution_count": 7,
   "metadata": {
    "collapsed": true
   },
   "outputs": [],
   "source": [
    "cdf_dis ={}\n",
    "for x in range(0,19):\n",
    "    cdf = Cdf(dist, x)\n",
    "    cdf_dis[x] = cdf"
   ]
  },
  {
   "cell_type": "markdown",
   "metadata": {},
   "source": [
    "### 6. 累積分布関数を図示 Plot the CDF by using a bar graph\n",
    "以下のようなグラフになります。\n",
    "\n",
    "<!-- dom:FIGURE: [Figs/axis.png, width=200] -->\n",
    "<!-- begin figure -->\n",
    "\n",
    "<p></p>\n",
    "<img src=\"fig2.png\" width=400>\n",
    "\n",
    "<!-- end figure -->"
   ]
  },
  {
   "cell_type": "code",
   "execution_count": 8,
   "metadata": {},
   "outputs": [
    {
     "data": {
      "image/png": "[encoded data removed]",
      "text/plain": [
       "<Figure size 432x288 with 1 Axes>"
      ]
     },
     "metadata": {},
     "output_type": "display_data"
    }
   ],
   "source": [
    "plt.bar(cdf_dis.keys(), cdf_dis.values(), width=1, ec='black' )\n",
    "plt.xlabel(\"x\")\n",
    "plt.ylabel(\"F(x)\")\n",
    "plt.show()"
   ]
  },
  {
   "cell_type": "markdown",
   "metadata": {},
   "source": [
    "### 7. 期待値を求める関数を定義 Definition of a function of expected value\n",
    "$E[X]=\\sum_i x_i p_i$ "
   ]
  },
  {
   "cell_type": "code",
   "execution_count": 54,
   "metadata": {
    "collapsed": true
   },
   "outputs": [],
   "source": [
    "def Expect(dist):\n",
    "    e = sum([x*p for x,p in dist.items()])\n",
    "    return e"
   ]
  },
  {
   "cell_type": "markdown",
   "metadata": {},
   "source": [
    "### 7. 分散を求める関数を定義 Definition of a function of variance\n",
    "$V[X]=\\sum_{i} (x_i-E[X])^2 p_i$"
   ]
  },
  {
   "cell_type": "code",
   "execution_count": 26,
   "metadata": {},
   "outputs": [],
   "source": [
    "def Variance(dist):\n",
    "    e = Expect(dist)\n",
    "    var = sum([((x - e)**2)*p for x,p in dist.items()])\n",
    "    return var"
   ]
  },
  {
   "cell_type": "markdown",
   "metadata": {},
   "source": [
    "### 8. 標準偏差を求める関数を定義 Definition of a function of standard deviation\n",
    "$D[X]=\\sqrt{V[X]}$\n",
    "\n",
    "xの平方根を求めるときにはnp.sqrt(x) \n",
    "\n",
    "np.sqrt(x): return the positive square-root of x"
   ]
  },
  {
   "cell_type": "code",
   "execution_count": 39,
   "metadata": {
    "collapsed": true
   },
   "outputs": [],
   "source": [
    "def Std(dist):\n",
    "    std = np.sqrt(Variance(dist))\n",
    "    return std"
   ]
  },
  {
   "cell_type": "markdown",
   "metadata": {},
   "source": [
    "### 9. 期待値、分散、標準偏差を求める Calculation of the expected value, variance and standard deviation\n",
    "\n",
    "結果は以下のように (The results are shown as below)\n",
    "\n",
    "期待値(Expectation):10.500  \n",
    "分散(Variance):8.750  \n",
    "標準偏差(Standard deviation):2.958  "
   ]
  },
  {
   "cell_type": "code",
   "execution_count": 55,
   "metadata": {},
   "outputs": [
    {
     "name": "stdout",
     "output_type": "stream",
     "text": [
      "期待値(Expectation):10.500\n",
      "分散(Variance):8.750\n",
      "標準偏差(Standard deviation):2.958\n"
     ]
    }
   ],
   "source": [
    "print(\"期待値(Expectation):{:.3f}\".format(Expect(dist)))\n",
    "print(\"分散(Variance):{:.3f}\".format(Variance(dist)))\n",
    "print(\"標準偏差(Standard deviation):{:.3f}\".format(Std(dist)))"
   ]
  },
  {
   "cell_type": "markdown",
   "metadata": {},
   "source": [
    "### 10. 標準化変数を求める関数を定義 Definition of a function of z-score normalization"
   ]
  },
  {
   "cell_type": "code",
   "execution_count": 43,
   "metadata": {
    "collapsed": true
   },
   "outputs": [],
   "source": [
    "def Zscore(dist):\n",
    "    z = [(x - Expect(dist)) / Std(dist) for x in dist.keys()]\n",
    "    normalized_dist = dict(zip(z, dist.values()))\n",
    "    return normalized_dist"
   ]
  },
  {
   "cell_type": "markdown",
   "metadata": {},
   "source": [
    "### 11. 標準化変数を求め、標準化後の期待値、分散、標準偏差を求める Calculation of the expected value, variance and standard deviation of the normalized probability distribution\n",
    "\n",
    "結果は以下のように (The results are shown as below)  \n",
    "\n",
    "期待値(Expectation):-0.000  \n",
    "分散(Variance):1.000  \n",
    "標準偏差(Standard deviation):1.000    "
   ]
  },
  {
   "cell_type": "code",
   "execution_count": 46,
   "metadata": {
    "scrolled": false
   },
   "outputs": [
    {
     "name": "stdout",
     "output_type": "stream",
     "text": [
      "期待値(Expectation):-0.000\n",
      "分散(Variance):1.000\n",
      "標準偏差(Standard deviation):1.000\n"
     ]
    },
    {
     "data": {
      "text/plain": [
       "{-2.5354627641855507: 0.004629629629629629,\n",
       " -2.1974010622941438: 0.013888888888888888,\n",
       " -1.8593393604027373: 0.027777777777777776,\n",
       " -1.5212776585113306: 0.046296296296296294,\n",
       " -1.1832159566199241: 0.06944444444444445,\n",
       " -0.84515425472851724: 0.09722222222222222,\n",
       " -0.50709255283711063: 0.11574074074074074,\n",
       " -0.16903085094570394: 0.125,\n",
       " 0.16903085094570275: 0.125,\n",
       " 0.50709255283710941: 0.11574074074074074,\n",
       " 0.84515425472851613: 0.09722222222222222,\n",
       " 1.1832159566199227: 0.06944444444444445,\n",
       " 1.5212776585113295: 0.046296296296296294,\n",
       " 1.8593393604027362: 0.027777777777777776,\n",
       " 2.1974010622941429: 0.013888888888888888,\n",
       " 2.5354627641855494: 0.004629629629629629}"
      ]
     },
     "execution_count": 46,
     "metadata": {},
     "output_type": "execute_result"
    }
   ],
   "source": [
    "z = Zscore(dist)\n",
    "print(\"期待値(Expectation):{:.3f}\".format(Expect(z)))\n",
    "print(\"分散(Variance):{:.3f}\".format(Variance(z)))\n",
    "print(\"標準偏差(Standard deviation):{:.3f}\".format(Std(z)))\n",
    "z"
   ]
  },
  {
   "cell_type": "markdown",
   "metadata": {},
   "source": [
    "\n",
    "### 12. 標準化後の確率分布を図示 Plotting the  normalized probability distribution\n",
    "\n",
    "以下のようなグラフになります。\n",
    "\n",
    "<!-- dom:FIGURE: [Figs/axis.png, width=200] -->\n",
    "<!-- begin figure -->\n",
    "\n",
    "<p></p>\n",
    "<img src=\"fig3.png\" width=400>\n",
    "\n",
    "<!-- end figure -->"
   ]
  },
  {
   "cell_type": "code",
   "execution_count": 47,
   "metadata": {},
   "outputs": [
    {
     "data": {
      "image/png": "[encoded data removed]",
      "text/plain": [
       "<Figure size 432x288 with 1 Axes>"
      ]
     },
     "metadata": {},
     "output_type": "display_data"
    }
   ],
   "source": [
    "plt.bar(z.keys(), z.values(), width=0.34,ec='black' )\n",
    "plt.xlabel(\"Rondom variable\")\n",
    "plt.ylabel(\"Probability\")\n",
    "plt.show()"
   ]
  },
  {
   "cell_type": "code",
   "execution_count": null,
   "metadata": {
    "collapsed": true
   },
   "outputs": [],
   "source": []
  }
 ],
 "metadata": {
  "kernelspec": {
   "display_name": "Python 3",
   "language": "python",
   "name": "python3"
  },
  "language_info": {
   "codemirror_mode": {
    "name": "ipython",
    "version": 3
   },
   "file_extension": ".py",
   "mimetype": "text/x-python",
   "name": "python",
   "nbconvert_exporter": "python",
   "pygments_lexer": "ipython3",
   "version": "3.6.2"
  }
 },
 "nbformat": 4,
 "nbformat_minor": 2
}
