{
 "cells": [
  {
   "cell_type": "code",
   "execution_count": 29,
   "metadata": {
    "collapsed": true
   },
   "outputs": [],
   "source": [
    "#!/usr/bin/env python3\n",
    "# -*- coding: utf-8 -*-\n",
    "\n",
    "# %% Modules and Libraries\n",
    "import random\n",
    "\n",
    "# %% author\n",
    "__author__ = \"Kousuke Tsuchiya\"\n",
    "__studentId__ = \"s1f101700158\"\n",
    "\n",
    "# %% DNA class\n",
    "class DNA(object):\n",
    "    \"\"\"\n",
    "        Represents a DNA sequence (A, T, G, C) \n",
    "    \"\"\"\n",
    "    def __init__(self, dna):\n",
    "        super(DNA, self).__init__()\n",
    "        # define instance variables\n",
    "        self.org_dna = dna                 # hold the users' DNA sequence\n",
    "        self.mutated_dna = dna             # hold mutated DNA sequence\n",
    "        self.org_fre = self.__frequency()  # frequencies of A,C,G,T in original sequence\n",
    "        self.final_fre = self.__frequency()  # frequencies of A,C,G,T in mutated sequence\n",
    "        self.mutation_success = 0            # record successful single mutations\n",
    "        self.length = len(dna)              # the length of DNA sequence\n",
    "        \n",
    "    def __str__(self):\n",
    "        return self.mutated_dna\n",
    "    \n",
    "    def __frequency(self): \n",
    "        # dictionary comprehension:\n",
    "        # calculate frequencies of A, C, G, T in the mutated sequence\n",
    "        # Hint: use an object method provided by class \"str\" \n",
    "        fre = {base: self.mutated_dna.count(base)/float(len(self.mutated_dna)) for base in 'ATGC'\n",
    "}\n",
    "        return fre\n",
    "\n",
    "    def get_base_frequencies(self):\n",
    "        return self.__frequency()\n",
    "    \n",
    "    def mutate(self, pos, mut2base):\n",
    "        # 1. create a temporary list of the string\n",
    "        tmp = list(self.mutated_dna)\n",
    "        # 2. whether the given base at the \"pos\" position is same as \n",
    "        #    the mutated base. If yes, increase one count.\n",
    "        if tmp[pos] != mut2base:\n",
    "            self.mutation_success += 1\n",
    "            # replacement with the given base at \"pos\" position\n",
    "            tmp[pos] = mut2base\n",
    "            # convert the list of string, tmp, to a string\n",
    "            self.mutated_dna = ''.join(tmp)\n",
    "            # recalculate the frequences of standard DNA bases\n",
    "            self.final_fre = self.__frequency()\n",
    "        \n",
    "\n",
    "    def get_length(self):\n",
    "        return self.length\n",
    "    \n",
    "    def format_freq(self):\n",
    "        # List comprehension to generate a string\n",
    "        return ', '.join(\n",
    "                [\n",
    "                    '{}: {:.2f}'.format(base, self.final_fre[base])\n",
    "                    for base in self.final_fre\n",
    "                ])\n"
   ]
  },
  {
   "cell_type": "code",
   "execution_count": 34,
   "metadata": {},
   "outputs": [
    {
     "name": "stdout",
     "output_type": "stream",
     "text": [
      "Starting DNA: ACGGAGATTTCGGTATGCAT\n",
      "A: 0.25, T: 0.30, G: 0.30, C: 0.15\n"
     ]
    }
   ],
   "source": [
    "dna = DNA('ACGGAGATTTCGGTATGCAT')\n",
    "num_mutations = 10000\n",
    "print('Starting DNA: {}'.format(dna))\n",
    "print('{}'.format(dna.format_freq()))\n",
    "for i in range(num_mutations):\n",
    "    # get the length of DNA sequence\n",
    "    l = dna.get_length()\n",
    "    # A function in module \"random\" is used to randomly generate \n",
    "    # an integer as the position \n",
    "    rnd_site = random.randint(0, l-1)\n",
    "    # A function in module \"random\" is used to randomly choice one base \n",
    "    # from A, T, G, C.\n",
    "    rnd_base = random.choice(list('ATGC'))\n",
    "    # Call the object method defined in object dna to simulate \n",
    "    # random mutations\n",
    "    dna.mutate(rnd_site, rnd_base)"
   ]
  },
  {
   "cell_type": "code",
   "execution_count": 38,
   "metadata": {},
   "outputs": [
    {
     "name": "stdout",
     "output_type": "stream",
     "text": [
      "DNA after 10000 mutations: TGTTCCGCCCGGAGGGCAGA\n",
      "A: 0.15, T: 0.15, G: 0.40, C: 0.30\n",
      "7516 (75.16 %) mutations performed\n"
     ]
    }
   ],
   "source": [
    "print('DNA after {} mutations: {}'.format(num_mutations, dna))\n",
    "print('{}'.format(dna.format_freq()))\n",
    "print('{} ({:.2f} %) mutations performed'.format(dna.mutation_success, dna.mutation_success/num_mutations*100))"
   ]
  },
  {
   "cell_type": "code",
   "execution_count": null,
   "metadata": {
    "collapsed": true
   },
   "outputs": [],
   "source": []
  }
 ],
 "metadata": {
  "kernelspec": {
   "display_name": "Python 3",
   "language": "python",
   "name": "python3"
  },
  "language_info": {
   "codemirror_mode": {
    "name": "ipython",
    "version": 3
   },
   "file_extension": ".py",
   "mimetype": "text/x-python",
   "name": "python",
   "nbconvert_exporter": "python",
   "pygments_lexer": "ipython3",
   "version": "3.6.2"
  }
 },
 "nbformat": 4,
 "nbformat_minor": 2
}
