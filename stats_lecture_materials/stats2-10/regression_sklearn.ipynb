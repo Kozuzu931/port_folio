{
 "cells": [
  {
   "cell_type": "markdown",
   "metadata": {},
   "source": [
    "### Scikit-learnを用いた回帰分析"
   ]
  },
  {
   "cell_type": "code",
   "execution_count": 1,
   "metadata": {},
   "outputs": [],
   "source": [
    "import numpy as np\n",
    "import pandas as pd\n",
    "import scipy.stats as ss\n",
    "import matplotlib.pyplot as plt\n",
    "from sklearn import linear_model"
   ]
  },
  {
   "cell_type": "code",
   "execution_count": 2,
   "metadata": {},
   "outputs": [],
   "source": [
    "# データを読み込む\n",
    "data = pd.read_csv(\"data/fire_damage.csv\", delimiter=\",\", comment=\"#\")"
   ]
  },
  {
   "cell_type": "code",
   "execution_count": 3,
   "metadata": {
    "scrolled": false
   },
   "outputs": [
    {
     "data": {
      "image/png": "[encoded data removed]",
      "text/plain": [
       "<Figure size 432x288 with 1 Axes>"
      ]
     },
     "metadata": {},
     "output_type": "display_data"
    }
   ],
   "source": [
    "x = data['distance'].values.reshape(-1,1) # 独立（説明）変数　independent variable\n",
    "y = data['damage'].values# 従属（目的）変数　dependent  variable\n",
    "plt.scatter(x,y) # 散布図をプロット Scatter plot \n",
    "plt.xlabel(\"Distance\")\n",
    "plt.ylabel(\"Damage\")\n",
    "plt.show()"
   ]
  },
  {
   "cell_type": "code",
   "execution_count": 4,
   "metadata": {},
   "outputs": [
    {
     "name": "stdout",
     "output_type": "stream",
     "text": [
      "回帰係数(regression coefficient): [4.68202604]\n",
      "切片(intercept): 10.805650692921457\n",
      "決定係数(R-squared): 0.9119917799257156\n",
      "回帰係数の信頼区間(95%-CI of regression coefficient):[3.96179196],[5.40226011]\n"
     ]
    }
   ],
   "source": [
    "# 線形回帰のオブジェクト生成\n",
    "reg = linear_model.LinearRegression()\n",
    "\n",
    "# 予測モデルを作成\n",
    "reg.fit(x,y)\n",
    "\n",
    "# 回帰係数 regression coefficient\n",
    "a = reg.coef_\n",
    "print(\"回帰係数(regression coefficient):\", a)\n",
    "\n",
    "#切片　intercept\n",
    "b = reg.intercept_\n",
    "print(\"切片(intercept):\", b)\n",
    "\n",
    "# 決定係数 R-squared\n",
    "print(\"決定係数(R-squared):\",reg.score(x,y))\n",
    "\n",
    "Ve=np.sum((y-reg.predict(x))**2)/(len(x)-2)\n",
    "Sxx=np.sum((x-np.mean(x))**2)\n",
    "\n",
    "# 回帰係数aの95%信頼区間 95% confidence interval of regression coefficient\n",
    "d1=a + ss.t.ppf(q=0.025,df=len(x)-2)*np.sqrt(Ve/Sxx)\n",
    "d2=a + ss.t.ppf(q=0.975,df=len(x)-2)*np.sqrt(Ve/Sxx)\n",
    "print(\"回帰係数の信頼区間(95%-CI of regression coefficient):{},{}\".format(d1,d2))"
   ]
  },
  {
   "cell_type": "code",
   "execution_count": 5,
   "metadata": {},
   "outputs": [
    {
     "data": {
      "image/png": "[encoded data removed]",
      "text/plain": [
       "<Figure size 432x288 with 1 Axes>"
      ]
     },
     "metadata": {},
     "output_type": "display_data"
    }
   ],
   "source": [
    "plt.scatter(x,y) # 散布図をプロット\n",
    "plt.plot(x, reg.predict(x), color=\"red\") # 回帰直線をプロット\n",
    "plt.xlabel(\"Distance\")\n",
    "plt.ylabel(\"Damage\")\n",
    "plt.show()"
   ]
  },
  {
   "cell_type": "code",
   "execution_count": null,
   "metadata": {},
   "outputs": [],
   "source": []
  }
 ],
 "metadata": {
  "kernelspec": {
   "display_name": "Python 3",
   "language": "python",
   "name": "python3"
  },
  "language_info": {
   "codemirror_mode": {
    "name": "ipython",
    "version": 3
   },
   "file_extension": ".py",
   "mimetype": "text/x-python",
   "name": "python",
   "nbconvert_exporter": "python",
   "pygments_lexer": "ipython3",
   "version": "3.6.5"
  },
  "toc": {
   "base_numbering": 1,
   "nav_menu": {},
   "number_sections": true,
   "sideBar": true,
   "skip_h1_title": false,
   "title_cell": "Table of Contents",
   "title_sidebar": "Contents",
   "toc_cell": false,
   "toc_position": {},
   "toc_section_display": true,
   "toc_window_display": false
  }
 },
 "nbformat": 4,
 "nbformat_minor": 2
}
