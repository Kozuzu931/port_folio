{
 "cells": [
  {
   "cell_type": "markdown",
   "metadata": {
    "slideshow": {
     "slide_type": "slide"
    }
   },
   "source": [
    "# 一元配置分散分析 (One-way ANOVA analysis)\n",
    "### パッケージ・モジュールをインポートする　Import packages"
   ]
  },
  {
   "cell_type": "code",
   "execution_count": null,
   "metadata": {
    "slideshow": {
     "slide_type": "fragment"
    }
   },
   "outputs": [],
   "source": [
    "import pandas as pd\n",
    "import scipy.stats as ss\n",
    "\n",
    "import statsmodels.api as sm\n",
    "from statsmodels.formula.api import ols\n",
    "# dataframeを綺麗に表示する　rich display for dataframes\n",
    "from IPython.core.display import display"
   ]
  },
  {
   "cell_type": "markdown",
   "metadata": {
    "slideshow": {
     "slide_type": "slide"
    }
   },
   "source": [
    "### Rのデータセットから植物成長データ　This data is from Rdatasets\n",
    "\n",
    "Pandasでファイルを読み込む Load data into a pandas's dataframe"
   ]
  },
  {
   "cell_type": "code",
   "execution_count": null,
   "metadata": {
    "slideshow": {
     "slide_type": "fragment"
    }
   },
   "outputs": [],
   "source": [
    "datafile = \"data/plant_growth.csv\"\n",
    "data_frame = pd.read_csv(datafile, comment=\"#\")\n",
    "display(data_frame)"
   ]
  },
  {
   "cell_type": "markdown",
   "metadata": {
    "slideshow": {
     "slide_type": "slide"
    }
   },
   "source": [
    "### グループの種類やデータの分割\n",
    "\n",
    "\"group\"ヘッドの値を分割し、pythonの辞書型変数に代入する  split data into a python dict  \n",
    "pd.unique()：ユニークのグループ名を抽出する。 Find unique group names"
   ]
  },
  {
   "cell_type": "code",
   "execution_count": null,
   "metadata": {
    "slideshow": {
     "slide_type": "fragment"
    }
   },
   "outputs": [],
   "source": [
    "groups = pd.unique(data_frame.group.values)\n",
    "# グループに対応するデータを分割し、pythonの辞書型変数に代入する\n",
    "# Split data into groups and store them into a python dict\n",
    "data = {group: data_frame['weight'][data_frame.group==group] for group in groups}"
   ]
  },
  {
   "attachments": {},
   "cell_type": "markdown",
   "metadata": {
    "slideshow": {
     "slide_type": "slide"
    }
   },
   "source": [
    "### scipyのf_oneway()関数 scipy's f_oneway() function\n",
    "\n",
    "scipy's f_oneway():  \n",
    "**定義：**  \n",
    "```python  \n",
    "  f_val, p_value = scipy.stats.f_oneway(*args)  \n",
    "\n",
    "    sample1, sample2, ... : 各グループの標本データ　The sample measurements for each group.\n",
    "    f_val: F値   F-statistic value\n",
    "    p_value: p値 p value\n",
    "```"
   ]
  },
  {
   "cell_type": "markdown",
   "metadata": {
    "slideshow": {
     "slide_type": "slide"
    }
   },
   "source": [
    "### scipyのf_oneway()関数 scipy's f_oneway() function\n",
    "使用条件：Assumption  \n",
    " 1. 各標本は独立した。The samples are independent.  \n",
    " 2. 各標本は正規分布に従う母集団からのものです。Each sample is from a normally distributed population.  \n",
    " 3. 各グループの母集団の標準偏差はすべて等しい。いわゆる等分散性です。  \n",
    "    The population standard deviations of the groups are all equal. This property is known as homoscedasticity."
   ]
  },
  {
   "cell_type": "code",
   "execution_count": null,
   "metadata": {
    "slideshow": {
     "slide_type": "slide"
    }
   },
   "outputs": [],
   "source": [
    "f, p = ss.f_oneway(data['ctrl'], data['trt1'], data['trt2'])\n",
    "print(\"Using f_oneway of scipy\")\n",
    "print(\"F-value: {} /p-value:{:.5f}\".format(f, p))"
   ]
  },
  {
   "cell_type": "markdown",
   "metadata": {
    "slideshow": {
     "slide_type": "slide"
    }
   },
   "source": [
    "### Using statsmodels\n",
    "\n",
    "Step 1. statsmodelsのformulaを用いて、回帰分析を行う。  \n",
    "Step 2. 回帰分析の結果に基づいて、一元配置分散分析を行う。  \n",
    "\n",
    "<span style=\"color:red\">aov_table</span> = **[anvova_lm](https://www.statsmodels.org/dev/generated/statsmodels.stats.anova.anova_lm.html)**(fitted_result, scale=None, test=\"F\", typ=1, robust=None)  \n",
    "\n",
    "**入力(input)は**  \n",
    "\n",
    "<span style=\"color:blue\">**fitted_result**</span>: statsmodelsのformulaの回帰結果を持つオブジェクト.  \n",
    "One or more fitted linear models  \n",
    "\n",
    "<span style=\"color:blue\">**scale**</span>: 分散の評価です。\"None\"の場合、最大のモデルから評価する。  \n",
    "               Estimate of variance, If None, will be estimated from the largest model.  \n",
    "\n",
    "<span style=\"color:blue\">**test**</span>: 統計量です。\"F\", \"Chisq\", \"Cp\", 或いは None.  \n",
    "              Test statistics to provide.  \"F\", \"Chisq\", \"Cp\", or None  \n",
    "\n",
    "<span style=\"color:blue\">**typ**</span>: 平方和のタイプ。The type of Sum of squares to perform  \n",
    "             unbalancedデータに対して, 平方和の計算方法は少なくとも３つがある。\n",
    "             一般的にType I, II and IIIと呼びます。  \n",
    "             For unbalanced data, there are at least 3 approaches to calculate the sums  \n",
    "             of squares for ANOVA, commonly called Type I, II and III.  \n",
    "\n",
    "<span style=\"color:blue\">**robust**</span>: 等分散性を補正した係数の共分散を使う。  \n",
    "                 Use heteroscedasticity-corrected coefficient covariance matrix.  \n",
    "\n",
    " **出力(output)は**  \n",
    "\n",
    "<span style=\"color:red\">**aov_table**</span>: pandasのDataFrameです。列は以下です。  \n",
    "         \"sum_sq\": Sum of squares for model terms.  \n",
    "         \"df\"    : Degrees of freedom for model terms.  \n",
    "         \"F\"     : F statistic value for significance of adding model terms.  \n",
    "         \"PR(>F)\": P-value for significance of adding model terms.  \n"
   ]
  },
  {
   "cell_type": "code",
   "execution_count": null,
   "metadata": {
    "slideshow": {
     "slide_type": "fragment"
    }
   },
   "outputs": [],
   "source": [
    "model2 = ols(formula='weight ~ group', data=data_frame) # ols formulaのモデルを構築\n",
    "res = model2.fit() # 回帰分析を行う\n",
    "# see designed matrix\n",
    "#display(res.model.endog)\n",
    "#display(res.model.exog)\n",
    "#display(res.model.exog_names)\n",
    "print(res.summary()) # 結果を出力する\n",
    "\n",
    "# In a numerical way\n",
    "Y = res.model.endog\n",
    "x = res.model.exog\n",
    "#X = sm.add_constant(x)\n",
    "model = sm.OLS(Y, x)\n",
    "result = model.fit()\n",
    "print(result.summary())"
   ]
  },
  {
   "cell_type": "markdown",
   "metadata": {
    "slideshow": {
     "slide_type": "slide"
    }
   },
   "source": [
    "### 一元配置分散分析: Statsmodels' anova_lm()"
   ]
  },
  {
   "cell_type": "code",
   "execution_count": null,
   "metadata": {
    "slideshow": {
     "slide_type": "fragment"
    }
   },
   "outputs": [],
   "source": [
    "print(\"----------------\")\n",
    "print(\"ANOVA table:\")\n",
    "\n",
    "# one-way anova by anova_lm()\n",
    "aov_table = sm.stats.anova_lm(res, typ=2)\n",
    "\n",
    "# aov_tableはpandasのdataframeオブジェクトです・\n",
    "print(\"----------------\")\n",
    "print(aov_table)\n",
    "print(\"----------------\")\n",
    "# F値の取得、 access F-statistic\n",
    "print(\"F値：\", aov_table.at['group','F'])\n",
    "# F値の取得、 access F-statistic\n",
    "print(\"p値：\", aov_table.at['group','PR(>F)'])\n",
    "# グループ間の自由度\n",
    "print(\"グループ間の自由度:\",aov_table.at['group','df'])"
   ]
  },
  {
   "cell_type": "markdown",
   "metadata": {
    "slideshow": {
     "slide_type": "slide"
    }
   },
   "source": [
    "### Pure python\n",
    "\n",
    "<table width=\"70%\" style=\"font-size: 15pt;\" border=\"1\">\n",
    "<thead>\n",
    "<tr><th align=\"center\">Group</th> <th align=\"center\">Num</th> <th align=\"center\"> Mean</th> <th align=\"center\"> Std </th> </tr>\n",
    "</thead>\n",
    "<tbody>\n",
    "<tr><td align=\"center\">   ctrl     </td> <td align=\"center\">   10     </td> <td align=\"center\">   5.032    </td> <td align=\"center\">   0.583    </td> </tr>\n",
    "<tr><td align=\"center\">   trt1     </td> <td align=\"center\">   10     </td> <td align=\"center\">   4.661    </td> <td align=\"center\">   0.794    </td> </tr>\n",
    "<tr><td align=\"center\">   trt2     </td> <td align=\"center\">   10     </td> <td align=\"center\">   5.526    </td> <td align=\"center\">   0.443    </td> </tr>\n",
    "</tbody>\n",
    "</table>\n",
    "\n",
    "分散分析表\n",
    "<table border=\"\" cellpadding=\"5\" width=\"100%\">\n",
    "<tbody>\n",
    "<tr valign=\"top\">\n",
    "<td align=\"left\" width=\"8%\"><strong>Source</strong></td>\n",
    "<td align=\"center\" width=\"22%\"><strong>SS</strong></td>\n",
    "<td align=\"center\" width=\"19%\"><strong>df</strong></td>\n",
    "<td align=\"center\" width=\"23%\"><strong>MS</strong></td>\n",
    "<td align=\"center\" width=\"25%\"><strong>F</strong></td>\n",
    "</tr>\n",
    "<tr valign=\"top\">\n",
    "<td align=\"center\"><strong>Between</strong></td>\n",
    "<td align=\"left\">$SS_{between} = \\sum_{j=1}^{k}n_j(\\bar{x}_{j} - \\bar{x})^2$</td>\n",
    "<td align=\"left\">$df_{between} = k - 1$</td>\n",
    "<td align=\"left\">$MSG = \\frac{SS_{between}}{df_{between}}$</td>\n",
    "<td align=\"left\">$ F = \\frac{MSG}{MSE} $</td>\n",
    "</tr>\n",
    "<tr valign=\"top\">\n",
    "<td align=\"center\"><strong>Within</strong></td>\n",
    "<td align=\"left\">$SS_{within} = \\sum_{i=1}^{n_j}\\sum_{j=1}^{k}(x_{ij} - \\bar{x}_{j})^2$</td>\n",
    "<td align=\"left\">$df_{within} = N - k$</td>\n",
    "<td align=\"left\">$MSE = \\frac{SS_{within}}{df_{within}}$</td>\n",
    "<td align=\"center\"></td>\n",
    "</tr>\n",
    "<tr valign=\"top\">\n",
    "<td align=\"center\"><strong>Total</strong></td>\n",
    "<td align=\"left\">$SS_{total} = \\sum_{i=1}^{n_j}\\sum_{j=1}^{k}(x_{ij} - \\bar{x})^2$</td>\n",
    "<td align=\"left\">$df_{total} = N - 1$</td>\n",
    "<td align=\"center\"></td>\n",
    "<td align=\"center\"></td>\n",
    "</tr>\n",
    "</tbody></table>\n"
   ]
  },
  {
   "cell_type": "markdown",
   "metadata": {
    "slideshow": {
     "slide_type": "slide"
    }
   },
   "source": [
    "### 標本からの情報 Samples info\n",
    "\n",
    "pandasのdata frameの２つ属性(group, values)を利用する。  \n",
    "\"group\"列にあるグループの種類　types in \"group\" column"
   ]
  },
  {
   "cell_type": "code",
   "execution_count": null,
   "metadata": {
    "slideshow": {
     "slide_type": "fragment"
    }
   },
   "outputs": [],
   "source": [
    "# groupは元のファイルのヘッドです。\"group\" is the header in the file\n",
    "k = len(pd.unique(data_frame.group)) \n",
    "# データの総数　total numbers of data\n",
    "N = len(data_frame.values)\n",
    "# degree of freedom between\n",
    "df_between = k - 1\n",
    "# degree of freedom within\n",
    "df_within = N - k\n",
    "# degree of freedom in total\n",
    "df_total = N - 1"
   ]
  },
  {
   "cell_type": "markdown",
   "metadata": {
    "slideshow": {
     "slide_type": "slide"
    }
   },
   "source": [
    "### 水準間の平方和 Sum of squares between levels"
   ]
  },
  {
   "cell_type": "code",
   "execution_count": null,
   "metadata": {
    "slideshow": {
     "slide_type": "fragment"
    }
   },
   "outputs": [],
   "source": [
    "ave_all = data_frame['weight'].mean()# x_bar: 全てのweightの平均, means of all weights\n",
    "\n",
    "n1 = data['ctrl'].size\n",
    "n2 = data['trt1'].size\n",
    "n3 = data['trt2'].size\n",
    "ctrl_ave = data['ctrl'].mean()\n",
    "trt1_ave = data['trt1'].mean()\n",
    "trt2_ave = data['trt2'].mean()\n",
    "\n",
    "# sum of sum of squares between groups: ss_between\n",
    "ctrl_ssb = n1 * (ctrl_ave - ave_all)**2\n",
    "trt1_ssb = n2 * (trt1_ave - ave_all)**2 \n",
    "trt2_ssb = n3 * (trt2_ave - ave_all)**2\n",
    "ss_between = ctrl_ssb + trt1_ssb + trt2_ssb\n",
    "print(\"ss_between: \", ss_between)"
   ]
  },
  {
   "cell_type": "markdown",
   "metadata": {},
   "source": [
    "### 水準内の平方和 Sum of squares within levels"
   ]
  },
  {
   "cell_type": "code",
   "execution_count": null,
   "metadata": {},
   "outputs": [],
   "source": [
    "# sum of sum of squares within levels: ss_within\n",
    "# SS_within:\n",
    "ctrl_ssw = sum((data['ctrl'] - ctrl_ave)**2)\n",
    "trt1_ssw = sum((data['trt1'] - trt1_ave)**2)\n",
    "trt2_ssw = sum((data['trt2'] - trt2_ave)**2)\n",
    "ss_within =  ctrl_ssw + trt1_ssw + trt2_ssw\n",
    "print(\"ss_within: \", ss_within)"
   ]
  },
  {
   "cell_type": "markdown",
   "metadata": {},
   "source": [
    "### 総平方和  Sum of squares for total"
   ]
  },
  {
   "cell_type": "code",
   "execution_count": null,
   "metadata": {},
   "outputs": [],
   "source": [
    "# sum of sum of squares for total: ss_total\n",
    "ctrl_sst = sum((data['ctrl'] - ave_all)**2)\n",
    "trt1_sst = sum((data['trt1'] - ave_all)**2)\n",
    "trt2_sst = sum((data['trt2'] - ave_all)**2)\n",
    "ss_total = ctrl_sst + trt1_sst + trt2_sst\n",
    "print(\"ss_total: \", ss_total)"
   ]
  },
  {
   "cell_type": "markdown",
   "metadata": {},
   "source": [
    "### F検定  F-statistic"
   ]
  },
  {
   "cell_type": "code",
   "execution_count": null,
   "metadata": {},
   "outputs": [],
   "source": [
    "mean_squared_between = ss_between / df_between\n",
    "mean_squared_within = ss_within / df_within\n",
    "\n",
    "# F-ratio\n",
    "f_ratio =  mean_squared_between / mean_squared_within\n",
    "# p value\n",
    "p_val = ss.f.sf(f_ratio, df_between, df_within)\n",
    "\n",
    "print(\"Calculate directly:\")\n",
    "print(\"F-value: {}\".format(f_ratio))\n",
    "print(\"p-value: {:.5f}\".format(p_val))"
   ]
  },
  {
   "cell_type": "markdown",
   "metadata": {
    "slideshow": {
     "slide_type": "slide"
    }
   },
   "source": [
    "### 効果量(Effective size)\n",
    "\n",
    "実験的研究では,効果量は独立変数（IV）が従属変数（DV）に与えた影響の程度を表す数値です。  \n",
    " Effect size is a value which allows you to see how much  \n",
    " your independent variable (IV) has affected the dependent variable (DV) in  \n",
    " an experimental study.  \n",
    "\n",
    " ここでは、カテゴリ独立変数に対して、より直感的な解釈であり、計算しやすい2つの尺度$\\eta^2$と$\\omega^2$を紹介します。  \n",
    " Here we introduce two measures, $\\eta^2$ and $\\omega^2$ for categorical independent variables have a more intuitive interpretation, and are easier to evaluate.  \n",
    "1. 標本数が多くなると、$\\eta^2$の評価はbiasが小さいとなります。  \n",
    "2. 標本数が少ない場合、$\\omega^2$の評価は相応しいです。  \n",
    "\n",
    "基本的には要因による変動(各条件の平均値差)が大きいほど、 または誤差による変動(各条件の標準偏差が)小さいほど、効果量は大きくなる。  \n",
    " The bias of $\\eta^2$ gets very small as sample size increases, but for small samples an unbiased effect size measure is Omega Squared.  Basically, the greater the fluctuation due to factors (difference in average value of each condition), or the smaller the fluctuation due to error (standard deviation of each condition), the larger the effect size."
   ]
  },
  {
   "cell_type": "code",
   "execution_count": null,
   "metadata": {},
   "outputs": [],
   "source": [
    "# eta_squared (somewhat biased)\n",
    "eta_squared = ss_between / ss_total\n",
    "# omega_squared\n",
    "omega_squared = (ss_between - (df_between * mean_squared_within)) / (ss_total + mean_squared_within)\n",
    "print(\"eta squared: {:.5f}\".format(eta_squared))\n",
    "print(\"omega squared: {:.5f}\".format(omega_squared))"
   ]
  },
  {
   "cell_type": "markdown",
   "metadata": {
    "slideshow": {
     "slide_type": "slide"
    }
   },
   "source": [
    "### 結果　Result"
   ]
  },
  {
   "cell_type": "code",
   "execution_count": null,
   "metadata": {
    "slideshow": {
     "slide_type": "fragment"
    }
   },
   "outputs": [],
   "source": [
    "if p_val > 0.05:\n",
    "    print(\"Retain the null hypothesis\")\n",
    "else:\n",
    "    print(\"Reject the null hypothesis\")"
   ]
  },
  {
   "cell_type": "markdown",
   "metadata": {},
   "source": [
    "### 解釈 Interpretation\n",
    "5%有意水準でctrl、trt1、trt2の母集団の平均値が全て等しいではありません。  \n",
    "The population mean of ctrl、trt1、trt2 are not all equal at 5% level of significance."
   ]
  },
  {
   "cell_type": "code",
   "execution_count": null,
   "metadata": {},
   "outputs": [],
   "source": []
  }
 ],
 "metadata": {
  "celltoolbar": "Slideshow",
  "kernelspec": {
   "display_name": "Python 3",
   "language": "python",
   "name": "python3"
  },
  "language_info": {
   "codemirror_mode": {
    "name": "ipython",
    "version": 3
   },
   "file_extension": ".py",
   "mimetype": "text/x-python",
   "name": "python",
   "nbconvert_exporter": "python",
   "pygments_lexer": "ipython3",
   "version": "3.6.5"
  }
 },
 "nbformat": 4,
 "nbformat_minor": 2
}
