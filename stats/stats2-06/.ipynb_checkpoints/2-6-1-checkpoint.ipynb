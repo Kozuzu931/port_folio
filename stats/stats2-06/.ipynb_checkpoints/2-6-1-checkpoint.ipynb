{
 "cells": [
  {
   "cell_type": "markdown",
   "metadata": {},
   "source": [
    "# 一元配置分散分析(One-way ANOVA analysis)\n",
    "## パッケージ・モジュールをインポートする"
   ]
  },
  {
   "cell_type": "code",
   "execution_count": 2,
   "metadata": {},
   "outputs": [],
   "source": [
    "import pandas as pd\n",
    "import scipy.stats as ss\n",
    "\n",
    "import statsmodels.api as sm\n",
    "from statsmodels.formula.api import ols\n",
    "#dataframeをキレに表示する rich display dataframe\n",
    "from IPython.core.display import display"
   ]
  },
  {
   "cell_type": "markdown",
   "metadata": {},
   "source": [
    "# Rのデータセットから植物成長データ\n",
    "pandasでファイルを読み込む"
   ]
  },
  {
   "cell_type": "code",
   "execution_count": 3,
   "metadata": {},
   "outputs": [
    {
     "data": {
      "text/html": [
       "<div>\n",
       "<style scoped>\n",
       "    .dataframe tbody tr th:only-of-type {\n",
       "        vertical-align: middle;\n",
       "    }\n",
       "\n",
       "    .dataframe tbody tr th {\n",
       "        vertical-align: top;\n",
       "    }\n",
       "\n",
       "    .dataframe thead th {\n",
       "        text-align: right;\n",
       "    }\n",
       "</style>\n",
       "<table border=\"1\" class=\"dataframe\">\n",
       "  <thead>\n",
       "    <tr style=\"text-align: right;\">\n",
       "      <th></th>\n",
       "      <th>No</th>\n",
       "      <th>weight</th>\n",
       "      <th>group</th>\n",
       "    </tr>\n",
       "  </thead>\n",
       "  <tbody>\n",
       "    <tr>\n",
       "      <th>0</th>\n",
       "      <td>1</td>\n",
       "      <td>4.17</td>\n",
       "      <td>ctrl</td>\n",
       "    </tr>\n",
       "    <tr>\n",
       "      <th>1</th>\n",
       "      <td>2</td>\n",
       "      <td>5.58</td>\n",
       "      <td>ctrl</td>\n",
       "    </tr>\n",
       "    <tr>\n",
       "      <th>2</th>\n",
       "      <td>3</td>\n",
       "      <td>5.18</td>\n",
       "      <td>ctrl</td>\n",
       "    </tr>\n",
       "    <tr>\n",
       "      <th>3</th>\n",
       "      <td>4</td>\n",
       "      <td>6.11</td>\n",
       "      <td>ctrl</td>\n",
       "    </tr>\n",
       "    <tr>\n",
       "      <th>4</th>\n",
       "      <td>5</td>\n",
       "      <td>4.50</td>\n",
       "      <td>ctrl</td>\n",
       "    </tr>\n",
       "    <tr>\n",
       "      <th>5</th>\n",
       "      <td>6</td>\n",
       "      <td>4.61</td>\n",
       "      <td>ctrl</td>\n",
       "    </tr>\n",
       "    <tr>\n",
       "      <th>6</th>\n",
       "      <td>7</td>\n",
       "      <td>5.17</td>\n",
       "      <td>ctrl</td>\n",
       "    </tr>\n",
       "    <tr>\n",
       "      <th>7</th>\n",
       "      <td>8</td>\n",
       "      <td>4.53</td>\n",
       "      <td>ctrl</td>\n",
       "    </tr>\n",
       "    <tr>\n",
       "      <th>8</th>\n",
       "      <td>9</td>\n",
       "      <td>5.33</td>\n",
       "      <td>ctrl</td>\n",
       "    </tr>\n",
       "    <tr>\n",
       "      <th>9</th>\n",
       "      <td>10</td>\n",
       "      <td>5.14</td>\n",
       "      <td>ctrl</td>\n",
       "    </tr>\n",
       "    <tr>\n",
       "      <th>10</th>\n",
       "      <td>11</td>\n",
       "      <td>4.81</td>\n",
       "      <td>trt1</td>\n",
       "    </tr>\n",
       "    <tr>\n",
       "      <th>11</th>\n",
       "      <td>12</td>\n",
       "      <td>4.17</td>\n",
       "      <td>trt1</td>\n",
       "    </tr>\n",
       "    <tr>\n",
       "      <th>12</th>\n",
       "      <td>13</td>\n",
       "      <td>4.41</td>\n",
       "      <td>trt1</td>\n",
       "    </tr>\n",
       "    <tr>\n",
       "      <th>13</th>\n",
       "      <td>14</td>\n",
       "      <td>3.59</td>\n",
       "      <td>trt1</td>\n",
       "    </tr>\n",
       "    <tr>\n",
       "      <th>14</th>\n",
       "      <td>15</td>\n",
       "      <td>5.87</td>\n",
       "      <td>trt1</td>\n",
       "    </tr>\n",
       "    <tr>\n",
       "      <th>15</th>\n",
       "      <td>16</td>\n",
       "      <td>3.83</td>\n",
       "      <td>trt1</td>\n",
       "    </tr>\n",
       "    <tr>\n",
       "      <th>16</th>\n",
       "      <td>17</td>\n",
       "      <td>6.03</td>\n",
       "      <td>trt1</td>\n",
       "    </tr>\n",
       "    <tr>\n",
       "      <th>17</th>\n",
       "      <td>18</td>\n",
       "      <td>4.89</td>\n",
       "      <td>trt1</td>\n",
       "    </tr>\n",
       "    <tr>\n",
       "      <th>18</th>\n",
       "      <td>19</td>\n",
       "      <td>4.32</td>\n",
       "      <td>trt1</td>\n",
       "    </tr>\n",
       "    <tr>\n",
       "      <th>19</th>\n",
       "      <td>20</td>\n",
       "      <td>4.69</td>\n",
       "      <td>trt1</td>\n",
       "    </tr>\n",
       "    <tr>\n",
       "      <th>20</th>\n",
       "      <td>21</td>\n",
       "      <td>6.31</td>\n",
       "      <td>trt2</td>\n",
       "    </tr>\n",
       "    <tr>\n",
       "      <th>21</th>\n",
       "      <td>22</td>\n",
       "      <td>5.12</td>\n",
       "      <td>trt2</td>\n",
       "    </tr>\n",
       "    <tr>\n",
       "      <th>22</th>\n",
       "      <td>23</td>\n",
       "      <td>5.54</td>\n",
       "      <td>trt2</td>\n",
       "    </tr>\n",
       "    <tr>\n",
       "      <th>23</th>\n",
       "      <td>24</td>\n",
       "      <td>5.50</td>\n",
       "      <td>trt2</td>\n",
       "    </tr>\n",
       "    <tr>\n",
       "      <th>24</th>\n",
       "      <td>25</td>\n",
       "      <td>5.37</td>\n",
       "      <td>trt2</td>\n",
       "    </tr>\n",
       "    <tr>\n",
       "      <th>25</th>\n",
       "      <td>26</td>\n",
       "      <td>5.29</td>\n",
       "      <td>trt2</td>\n",
       "    </tr>\n",
       "  </tbody>\n",
       "</table>\n",
       "</div>"
      ],
      "text/plain": [
       "    No  weight group\n",
       "0    1    4.17  ctrl\n",
       "1    2    5.58  ctrl\n",
       "2    3    5.18  ctrl\n",
       "3    4    6.11  ctrl\n",
       "4    5    4.50  ctrl\n",
       "5    6    4.61  ctrl\n",
       "6    7    5.17  ctrl\n",
       "7    8    4.53  ctrl\n",
       "8    9    5.33  ctrl\n",
       "9   10    5.14  ctrl\n",
       "10  11    4.81  trt1\n",
       "11  12    4.17  trt1\n",
       "12  13    4.41  trt1\n",
       "13  14    3.59  trt1\n",
       "14  15    5.87  trt1\n",
       "15  16    3.83  trt1\n",
       "16  17    6.03  trt1\n",
       "17  18    4.89  trt1\n",
       "18  19    4.32  trt1\n",
       "19  20    4.69  trt1\n",
       "20  21    6.31  trt2\n",
       "21  22    5.12  trt2\n",
       "22  23    5.54  trt2\n",
       "23  24    5.50  trt2\n",
       "24  25    5.37  trt2\n",
       "25  26    5.29  trt2"
      ]
     },
     "metadata": {},
     "output_type": "display_data"
    }
   ],
   "source": [
    "datafile = \"data/plant_growth.csv\"\n",
    "data_frame = pd.read_csv(datafile, comment=\"#\")\n",
    "display(data_frame)"
   ]
  },
  {
   "cell_type": "markdown",
   "metadata": {},
   "source": [
    "# グループの種類やデータの分割\n",
    "\"group\"ヘッドの値を分割し、pythonの辞書型変数に代入する\n",
    "pd.unique(): ユニークのグループ名を抽出する。"
   ]
  },
  {
   "cell_type": "code",
   "execution_count": 7,
   "metadata": {},
   "outputs": [],
   "source": [
    "groups = pd.unique(data_frame.group.values)\n",
    "#グループに対応するデータを分割し、pythonの辞書型変数に代入する\n",
    "data = {group: data_frame[\"weight\"][data_frame.group==group] for group in groups}"
   ]
  },
  {
   "cell_type": "markdown",
   "metadata": {},
   "source": [
    "# scipyのf_oneway()関数 scipy's f_oneway() function\n",
    "使用条件: Assumption\n",
    "\n",
    "1. 各標本は独立している\n",
    "2. 各標本は正規分布に従う母集団からのものです。\n",
    "3. 各グループの母集団の標準偏差は全て等しい。いわゆる等分散性です。"
   ]
  },
  {
   "cell_type": "code",
   "execution_count": 8,
   "metadata": {},
   "outputs": [
    {
     "name": "stdout",
     "output_type": "stream",
     "text": [
      "Using f_oneway of scipy\n",
      "F_values: 3.3483875849684397 /p_value:0.05293\n"
     ]
    }
   ],
   "source": [
    "f, p = ss.f_oneway(data['ctrl'], data['trt1'], data['trt2'])\n",
    "print(\"Using f_oneway of scipy\")\n",
    "print(\"F_values: {} /p_value:{:.5f}\".format(f,p))"
   ]
  },
  {
   "cell_type": "code",
   "execution_count": 9,
   "metadata": {},
   "outputs": [
    {
     "name": "stdout",
     "output_type": "stream",
     "text": [
      "                            OLS Regression Results                            \n",
      "==============================================================================\n",
      "Dep. Variable:                 weight   R-squared:                       0.226\n",
      "Model:                            OLS   Adj. R-squared:                  0.158\n",
      "Method:                 Least Squares   F-statistic:                     3.348\n",
      "Date:                Mon, 29 Oct 2018   Prob (F-statistic):             0.0529\n",
      "Time:                        16:46:24   Log-Likelihood:                -23.926\n",
      "No. Observations:                  26   AIC:                             53.85\n",
      "Df Residuals:                      23   BIC:                             57.63\n",
      "Df Model:                           2                                         \n",
      "Covariance Type:            nonrobust                                         \n",
      "=================================================================================\n",
      "                    coef    std err          t      P>|t|      [0.025      0.975]\n",
      "---------------------------------------------------------------------------------\n",
      "Intercept         5.0320      0.204     24.644      0.000       4.610       5.454\n",
      "group[T.trt1]    -0.3710      0.289     -1.285      0.212      -0.968       0.226\n",
      "group[T.trt2]     0.4897      0.333      1.469      0.156      -0.200       1.179\n",
      "==============================================================================\n",
      "Omnibus:                        1.896   Durbin-Watson:                   2.744\n",
      "Prob(Omnibus):                  0.387   Jarque-Bera (JB):                1.362\n",
      "Skew:                           0.556   Prob(JB):                        0.506\n",
      "Kurtosis:                       2.859   Cond. No.                         3.59\n",
      "==============================================================================\n",
      "\n",
      "Warnings:\n",
      "[1] Standard Errors assume that the covariance matrix of the errors is correctly specified.\n",
      "                            OLS Regression Results                            \n",
      "==============================================================================\n",
      "Dep. Variable:                      y   R-squared:                       0.226\n",
      "Model:                            OLS   Adj. R-squared:                  0.158\n",
      "Method:                 Least Squares   F-statistic:                     3.348\n",
      "Date:                Mon, 29 Oct 2018   Prob (F-statistic):             0.0529\n",
      "Time:                        16:46:24   Log-Likelihood:                -23.926\n",
      "No. Observations:                  26   AIC:                             53.85\n",
      "Df Residuals:                      23   BIC:                             57.63\n",
      "Df Model:                           2                                         \n",
      "Covariance Type:            nonrobust                                         \n",
      "==============================================================================\n",
      "                 coef    std err          t      P>|t|      [0.025      0.975]\n",
      "------------------------------------------------------------------------------\n",
      "const          5.0320      0.204     24.644      0.000       4.610       5.454\n",
      "x1            -0.3710      0.289     -1.285      0.212      -0.968       0.226\n",
      "x2             0.4897      0.333      1.469      0.156      -0.200       1.179\n",
      "==============================================================================\n",
      "Omnibus:                        1.896   Durbin-Watson:                   2.744\n",
      "Prob(Omnibus):                  0.387   Jarque-Bera (JB):                1.362\n",
      "Skew:                           0.556   Prob(JB):                        0.506\n",
      "Kurtosis:                       2.859   Cond. No.                         3.59\n",
      "==============================================================================\n",
      "\n",
      "Warnings:\n",
      "[1] Standard Errors assume that the covariance matrix of the errors is correctly specified.\n"
     ]
    }
   ],
   "source": [
    "model2 = ols(formula='weight ~ group', data=data_frame)# ols formulaのモデルを構築\n",
    "res = model2.fit()\n",
    "# see designed matrix\n",
    "#display(res.model.endog)\n",
    "#display(res.model.exog)\n",
    "#display(re.model.exog_names)\n",
    "print(res.summary()) #結果を出力する\n",
    "\n",
    "# in a numerical way\n",
    "Y = res.model.endog\n",
    "x = res.model.exog\n",
    "#X = sm.add_constant(x)\n",
    "model = sm.OLS(Y, x)\n",
    "result = model.fit()\n",
    "print(result.summary())"
   ]
  },
  {
   "cell_type": "markdown",
   "metadata": {},
   "source": [
    "# 一元配置分散分析: Statsmodels' anova_lm()"
   ]
  },
  {
   "cell_type": "code",
   "execution_count": 11,
   "metadata": {},
   "outputs": [
    {
     "name": "stdout",
     "output_type": "stream",
     "text": [
      "-------------\n",
      "ANOVA table:\n",
      "------------\n",
      "            sum_sq    df         F    PR(>F)\n",
      "group     2.792128   2.0  3.348388  0.052931\n",
      "Residual  9.589533  23.0       NaN       NaN\n",
      "-------------\n",
      "F値: 3.3483875849684273\n",
      "p値: 0.05293138619485971\n",
      "グループ間の自由度 2.0\n"
     ]
    }
   ],
   "source": [
    "print(\"-------------\")\n",
    "print(\"ANOVA table:\")\n",
    "\n",
    "#one-way anova by anova_lm()\n",
    "aov_table = sm.stats.anova_lm(res, typ=2)\n",
    "\n",
    "#aov_tableはpandasのdataframeオブジェクトです\n",
    "print(\"------------\")\n",
    "print(aov_table)\n",
    "print(\"-------------\")\n",
    "#F値の取得\n",
    "print(\"F値:\", aov_table.at[\"group\", \"F\"])\n",
    "#P値の取得\n",
    "print(\"p値:\", aov_table.at[\"group\", \"PR(>F)\"])\n",
    "#グループ間の自由度\n",
    "print(\"グループ間の自由度\", aov_table.at[\"group\", \"df\"])"
   ]
  },
  {
   "cell_type": "markdown",
   "metadata": {},
   "source": [
    "# 標本からの情報\n",
    "pandasのdata frameの２つのクラス(group, values)を利用する。  \n",
    "\"group\"列にあるグループの種類"
   ]
  },
  {
   "cell_type": "code",
   "execution_count": 12,
   "metadata": {},
   "outputs": [],
   "source": [
    "#groupは元のファイルのヘッド\n",
    "k = len(pd.unique(data_frame.group))\n",
    "#データの総数\n",
    "N = len(data_frame.values)\n",
    "# degree of freedom between\n",
    "df_between = k - 1\n",
    "# degree of freedom  within\n",
    "df_within = N - k\n",
    "# degree of freedom in total\n",
    "df_total = N - 1"
   ]
  },
  {
   "cell_type": "markdown",
   "metadata": {},
   "source": [
    "# 水準間の平方和"
   ]
  },
  {
   "cell_type": "code",
   "execution_count": 13,
   "metadata": {},
   "outputs": [
    {
     "name": "stdout",
     "output_type": "stream",
     "text": [
      "ss_between: 1.8941085897924417\n"
     ]
    }
   ],
   "source": [
    "ave_all = data_frame[\"weight\"].mean()# x_bar:全てのweightの平均\n",
    "\n",
    "n1 = data[\"ctrl\"].size\n",
    "n2 = data[\"trt1\"].size\n",
    "n3 = data[\"trt2\"].size\n",
    "ctrl_ave = data[\"ctrl\"].mean()\n",
    "trt1_ave = data[\"trt1\"].mean()\n",
    "trt2_ave = data[\"trt2\"].mean()\n",
    "\n",
    "# Sum of sum of squares groups: ss_between\n",
    "ctrl_ssb = n1 * (ctrl_ave - ave_all)**2\n",
    "trt1_ssb = n2 * (trt1_ave - ave_all)**2\n",
    "trt2_ssb = n3 * (trt2_ave - ave_all)**2\n",
    "ss_between = ctrl_ssb + trt1_ssb * trt2_ssb\n",
    "print(\"ss_between:\", ss_between)"
   ]
  },
  {
   "cell_type": "markdown",
   "metadata": {},
   "source": [
    "# 水準内の平方和"
   ]
  },
  {
   "cell_type": "code",
   "execution_count": 14,
   "metadata": {},
   "outputs": [
    {
     "name": "stdout",
     "output_type": "stream",
     "text": [
      "ss_within: 9.589533333333335\n"
     ]
    }
   ],
   "source": [
    "# sum of sum of squares within levels: ss_within\n",
    "# SS_within\n",
    "ctrl_ssw = sum((data[\"ctrl\"] - ctrl_ave)**2)\n",
    "trt1_ssw = sum((data[\"trt1\"] - trt1_ave)**2)\n",
    "trt2_ssw = sum((data[\"trt2\"] - trt2_ave)**2)\n",
    "ss_within = ctrl_ssw + trt1_ssw + trt2_ssw\n",
    "print(\"ss_within:\", ss_within)"
   ]
  },
  {
   "cell_type": "markdown",
   "metadata": {},
   "source": []
  }
 ],
 "metadata": {
  "kernelspec": {
   "display_name": "Python 3",
   "language": "python",
   "name": "python3"
  },
  "language_info": {
   "codemirror_mode": {
    "name": "ipython",
    "version": 3
   },
   "file_extension": ".py",
   "mimetype": "text/x-python",
   "name": "python",
   "nbconvert_exporter": "python",
   "pygments_lexer": "ipython3",
   "version": "3.6.5"
  },
  "toc": {
   "base_numbering": 1,
   "nav_menu": {},
   "number_sections": true,
   "sideBar": true,
   "skip_h1_title": false,
   "title_cell": "Table of Contents",
   "title_sidebar": "Contents",
   "toc_cell": false,
   "toc_position": {},
   "toc_section_display": true,
   "toc_window_display": false
  }
 },
 "nbformat": 4,
 "nbformat_minor": 2
}
