{
 "cells": [
  {
   "cell_type": "markdown",
   "metadata": {
    "slideshow": {
     "slide_type": "slide"
    }
   },
   "source": [
    "###  総合練習 (Comprehensive Exercise)\n",
    "\n",
    "### 問題1.　Problem 1.\n",
    "\n",
    "以下のパッケージをインポートする  \n",
    "Use the following imports:  \n",
    "```python  \n",
    "   import numpy as np  \n",
    "   import matplotlib.pyplot as plt  \n",
    "```  \n",
    "以下のタスクを完成せよ。  \n",
    "a. **np.linspace()**関数を使って、-1と1間の値が均等に配置された500個の値を含む行ベクトルを作成し、meshPointsという変数に代入する。  \n",
    "b. 以下の式を用いて、この500個の値に対応する正弦関数の値を計算し、変数yに代入する。  \n",
    "    $$ y = sin(2\\pi x) $$  \n",
    "c. meshPointsとyを用いて、x軸とy軸のラベルが\"x\"と\"y\"とし、凡例が\"Sinusoid line\"にし、折れ線図を作成する。  \n",
    "to complete the tasks:  \n",
    "a. Use the **np.linspace()** function to create a row vector called meshPoints containing exactly 500 values with values evenly  \n",
    "   spaced between -1 and 1.  \n",
    "b. Compute sinusoidal values (variables y) against these 500 values with the following formula:  \n",
    "   $$ y = sin(2\\pi x) $$  \n",
    "c. Produce a line plot with meshPoints and y including labels for the x- and y-axes with \"x\" and \"y\", and a legend with \"Sinusoid line\""
   ]
  },
  {
   "cell_type": "code",
   "execution_count": 1,
   "metadata": {
    "slideshow": {
     "slide_type": "slide"
    }
   },
   "outputs": [
    {
     "data": {
      "text/plain": [
       "<Figure size 640x480 with 1 Axes>"
      ]
     },
     "metadata": {},
     "output_type": "display_data"
    }
   ],
   "source": [
    "import numpy as np\n",
    "import matplotlib.pyplot as plt\n",
    "\n",
    "__author__ = \"\"\n",
    "__studentId__ = \"\"\n",
    "\n",
    "meshPoints = np.linspace(-1, 1, 500)\n",
    "y = np.sin(2 * np.pi * meshPoints)\n",
    "plt.plot(meshPoints, y)\n",
    "plt.show()"
   ]
  },
  {
   "cell_type": "markdown",
   "metadata": {
    "slideshow": {
     "slide_type": "slide"
    }
   },
   "source": [
    "### 問題2. 　Problem 2.\n",
    "\n",
    "5行と5列と2つの対角の合計を含む12の合計が等しいことを確認します。  \n",
    "Verify that 12 sums are equal including 5 row sums, 5 column sums and two diagonal sums  \n",
    "\n",
    "$$\n",
    "A = \\left[\n",
    "    \\begin{array}{rrr}\n",
    "     17 & 24 &  1&  8 & 15 \\\\  \n",
    "     23 &  5 &  7 & 14 & 16 \\\\  \n",
    "      4 &  6 & 13 & 20 & 22 \\\\  \n",
    "     10 & 12 & 19 & 21 &  3 \\\\  \n",
    "     11 & 18 & 25 &  2 &  9 \n",
    "    \\end{array}\n",
    "  \\right] \\xrightarrow[\\text{A[:, ::-1]}]{\\text{np.fliplr(A)}} \n",
    "  \\left[\n",
    "    \\begin{array}{rrr}\n",
    "    15 &  8 &  1 & 24 & 17 \\\\\n",
    "    16 & 14 &  7 &  5 & 23 \\\\\n",
    "    22 & 20 & 13 &  6 &  4 \\\\\n",
    "     3 & 21 & 19 & 12 & 10 \\\\\n",
    "     9 & 2  & 25 & 18 & 11 \\\\\n",
    "  \\end{array}\n",
    "  \\right]\n",
    "$$\n",
    "\n",
    "~~~ python\n",
    "A=np.array([[17, 24,  1,  8, 15],  \n",
    "            [23,  5,  7, 14, 16],  \n",
    "            [ 4,  6, 13, 20, 22],  \n",
    "            [10, 12, 19, 21,  3],  \n",
    "            [11, 18, 25,  2,  9]])\n",
    "~~~"
   ]
  },
  {
   "cell_type": "code",
   "execution_count": 2,
   "metadata": {
    "scrolled": true,
    "slideshow": {
     "slide_type": "slide"
    }
   },
   "outputs": [
    {
     "name": "stdout",
     "output_type": "stream",
     "text": [
      "12 sums are equal.\n",
      "12 sums are equal.\n",
      "[[17 24  1  8 15]\n",
      " [23  5  7 14 16]\n",
      " [ 4  6 13 20 22]\n",
      " [10 12 19 21  3]\n",
      " [11 18 25  2  9]]\n",
      "[[15  8  1 24 17]\n",
      " [16 14  7  5 23]\n",
      " [22 20 13  6  4]\n",
      " [ 3 21 19 12 10]\n",
      " [ 9  2 25 18 11]]\n",
      "[[15  8  1 24 17]\n",
      " [16 14  7  5 23]\n",
      " [22 20 13  6  4]\n",
      " [ 3 21 19 12 10]\n",
      " [ 9  2 25 18 11]]\n"
     ]
    }
   ],
   "source": [
    "import numpy as np\n",
    "\n",
    "__author__ = \"\"\n",
    "__studentId__ = \"\"\n",
    "\n",
    "A=np.array([[17, 24,  1,  8, 15],\n",
    "            [23,  5,  7, 14, 16],\n",
    "            [ 4,  6, 13, 20, 22],\n",
    "            [10, 12, 19, 21,  3],\n",
    "            [11, 18, 25,  2,  9]])\n",
    "\n",
    "# Method 1 (Someone use np.diag, A[:, ::-1])\n",
    "row_sums = np.unique(np.sum(A, axis=0))\n",
    "col_sums = np.unique(np.sum(A, axis=1))\n",
    "leading_diag = np.sum([row[i] for i,row in enumerate(A)])\n",
    "counter_diag = np.sum([row[-i-1] for i, row in enumerate(A)])\n",
    "\n",
    "\n",
    "if row_sums == col_sums == leading_diag == counter_diag:\n",
    "    print(\"12 sums are equal.\")\n",
    "else:\n",
    "    print(\"12 sums are not equal.\")\n",
    "\n",
    "# Method 2\n",
    "row_sums = np.sum(A, axis=0)\n",
    "col_sums = np.sum(A, axis=1)\n",
    "leading_diag = np.sum([row[i] for i,row in enumerate(A)])\n",
    "counter_diag = np.sum([row[-i-1] for i, row in enumerate(A)])\n",
    "\n",
    "sums = np.hstack([row_sums,col_sums, leading_diag, counter_diag])\n",
    "if len(np.unique(sums)) == 1:\n",
    "    print(\"12 sums are equal.\")\n",
    "else:\n",
    "    print(\"12 sums are not equal.\")\n",
    "print(A)\n",
    "print(A[:, ::-1]) # Good\n",
    "print(np.fliplr(A)) # Good"
   ]
  },
  {
   "cell_type": "markdown",
   "metadata": {
    "slideshow": {
     "slide_type": "slide"
    }
   },
   "source": [
    "### 問題3. Problem 3.\n",
    "以下のパッケージをインポートする  \n",
    "Using the following imports:  \n",
    "```python  \n",
    "  import numpy as np  \n",
    "  import pandas as pd  \n",
    "```  \n",
    "以下のタスクを完成せよ。\n",
    "1. dataフォルダの下にあるprob2.txtという名前のファイルからデータをロードし、20x2 numpy配列として\"data\"に代入します。  \n",
    "2. 配列\"data\"の転置を行い、転置されたデータをdfというpandas DataFrameに変換します。dfの列は 'A1'と 'A2'にします。  \n",
    "3. DataFrameのメソッドを使用して列から箱ひげ図を作成し、外れ値があればその値をプリントアウトしてください。　　\n",
    "\n",
    "\n",
    "Complete the tasks:  \n",
    "1. Load data from a file named **prob2.txt** under the data folder and save it as a 20x2 numpy array called \"data\".  \n",
    "2. Make a transpose of data, and convert the transposed data to a pandas DataFrame called df which its columns are denoted as 'A1' and 'A2'  \n",
    "3. Produce a boxplot graph from columns using DataFrame's method, and print out the outliers point if available."
   ]
  },
  {
   "cell_type": "markdown",
   "metadata": {
    "slideshow": {
     "slide_type": "slide"
    }
   },
   "source": [
    "**正規分布（Normal Distribution）**: \n",
    "<table>\n",
    "    <tr><td align=\"center\"><img src=\"norm_dist.jpg\" width=\"70%\"></td></tr>\n",
    "</table>\n",
    "\n",
    "**標準化(Standardization)**:\n",
    "$$\n",
    "Z=\\frac{x_{i} - \\bar{x}}{\\sigma}, \\text{where }i=1\\ldots n\n",
    "$$"
   ]
  },
  {
   "cell_type": "markdown",
   "metadata": {
    "slideshow": {
     "slide_type": "slide"
    }
   },
   "source": [
    "**分位数,クォンタイル(Quantile)**:  \n",
    "<table><tr>\n",
    "<td> <img src=\"boxplot_jp.png\" alt=\"分位数\" style=\"width: 450px;\"/> </td>\n",
    "<td> <img src=\"boxplot_en.png\" alt=\"Quantile\" style=\"width: 450px;\"/> </td>\n",
    "</tr></table>"
   ]
  },
  {
   "cell_type": "code",
   "execution_count": 3,
   "metadata": {
    "slideshow": {
     "slide_type": "slide"
    }
   },
   "outputs": [
    {
     "name": "stdout",
     "output_type": "stream",
     "text": [
      "A1, 2.300\n",
      "     A1  A2\n",
      "0   NaN NaN\n",
      "1   NaN NaN\n",
      "2   NaN NaN\n",
      "3   NaN NaN\n",
      "4   NaN NaN\n",
      "5   NaN NaN\n",
      "6   NaN NaN\n",
      "7   NaN NaN\n",
      "8   NaN NaN\n",
      "9   NaN NaN\n",
      "10  NaN NaN\n",
      "11  NaN NaN\n",
      "12  NaN NaN\n",
      "13  NaN NaN\n",
      "14  NaN NaN\n",
      "15  NaN NaN\n",
      "16  2.3 NaN\n",
      "17  NaN NaN\n",
      "18  NaN NaN\n",
      "19  NaN NaN\n"
     ]
    },
    {
     "data": {
      "image/png": "[encoded data removed]",
      "text/plain": [
       "<Figure size 432x288 with 1 Axes>"
      ]
     },
     "metadata": {},
     "output_type": "display_data"
    }
   ],
   "source": [
    "import numpy as np\n",
    "import pandas as pd\n",
    "\n",
    "__author__ = \"\"\n",
    "__studentId__ = \"\"\n",
    "\n",
    "f_name = \"data/prob2.txt\"\n",
    "data = np.loadtxt(f_name, delimiter=\",\")\n",
    "data = data.T\n",
    "column_name = ['A1', 'A2']\n",
    "\n",
    "# Convert to a dataframe\n",
    "df = pd.DataFrame(data, columns=column_name)\n",
    "# Produce a boxplot graph\n",
    "df.boxplot(column=column_name)\n",
    "\n",
    "# standardization: z scores\n",
    "z_scores = ((df-df.mean())/df.std()).abs()\n",
    "# print out suspected the first point of outliers\n",
    "for col in df.columns:\n",
    "    z = z_scores[col]\n",
    "    outliers = df[(z > 2) | (z< -2)][col].tolist()\n",
    "    if len(outliers) == 0:\n",
    "        continue\n",
    "    print(\"{}, {:.3f}\".format(col, outliers[0]))\n",
    "\n",
    "#  Quantile --- Very Good\n",
    "Q1 = df.quantile(.25)\n",
    "Q3 = df.quantile(.75)\n",
    "IQR = Q3 - Q1\n",
    "threshold = Q3 + 1.5 * IQR\n",
    "outliers = df['A1'].apply(lambda x:x > threshold)\n",
    "print(df[outliers])"
   ]
  },
  {
   "cell_type": "markdown",
   "metadata": {
    "slideshow": {
     "slide_type": "slide"
    }
   },
   "source": [
    "### 問題4. Problem 4.\n",
    "次の表は、クラス内の学生の身長を示しています。  \n",
    "The following table shows heights of students in a class  \n",
    "<table border=\"1\">\n",
    "<thead>\n",
    "<tr><th align=\"center\">height (in cm)</th> <th align=\"center\">frequency</th> </tr>\n",
    "</thead>\n",
    "<tbody>\n",
    "<tr><td align=\"center\">   120 $<-$ 130        </td> <td align=\"center\">   2            </td> </tr>\n",
    "<tr><td align=\"center\">   130 $<-$ 140        </td> <td align=\"center\">   5            </td> </tr>\n",
    "<tr><td align=\"center\">   140 $<-$ 150        </td> <td align=\"center\">   25           </td> </tr>\n",
    "<tr><td align=\"center\">   150 $<-$ 160        </td> <td align=\"center\">   10           </td> </tr>\n",
    "<tr><td align=\"center\">   160 $<-$ 170        </td> <td align=\"center\">   8            </td> </tr>\n",
    "<tr><td align=\"center\">   170 $<-$ 180        </td> <td align=\"center\">   4            </td> </tr>\n",
    "<tr><td align=\"center\">   180 $<-$ 190        </td> <td align=\"center\">   1            </td> </tr>\n",
    "</tbody>\n",
    "</table>\n",
    "\n",
    "1. 身長の平均値を計算してください。   \n",
    "2. 身長の標準偏差を計算してください。\n",
    "\n",
    "\n",
    "1. Calculate mean of heights  \n",
    "2. Calculate standard deviation of heights"
   ]
  },
  {
   "cell_type": "code",
   "execution_count": 4,
   "metadata": {
    "slideshow": {
     "slide_type": "slide"
    }
   },
   "outputs": [
    {
     "name": "stdout",
     "output_type": "stream",
     "text": [
      "Mean: 151.000, STD: 12.591\n"
     ]
    }
   ],
   "source": [
    "import numpy as np\n",
    "\n",
    "__author__ = \"\"\n",
    "__studentId__ = \"\"\n",
    "\n",
    "frequency = np.array([2, 5, 25, 10, 8, 4, 1])\n",
    "heights = np.linspace(120, 190, len(frequency) + 1)\n",
    "sum_fre = sum(frequency)\n",
    "midpoints = heights[:-1] + (heights[1:] - heights[:-1])/2\n",
    "mean_val = sum(midpoints * frequency) / sum_fre\n",
    "std_val = np.sqrt(sum(((midpoints - mean_val)**2) * frequency) / sum_fre)\n",
    "print(\"Mean: {:.3f}, STD: {:.3f}\".format(mean_val, std_val))"
   ]
  },
  {
   "cell_type": "markdown",
   "metadata": {
    "slideshow": {
     "slide_type": "slide"
    }
   },
   "source": [
    "### 問題5. Problem 5.\n",
    "\n",
    "$T = X_{1} + X_{2} + \\ldots + X_{100}$とします。これらのランダム変数は独立しており、  \n",
    "同様に分布された(i.i.d)。各ランダム変数は平均値5と分散4の正規分布に従います。中心極限定理によって、  \n",
    "$P(X_{1} + X_{2} + \\ldots + X_{100} > 549$)を計算しよう。  \n",
    "\n",
    "**ヒント**：標準化とscipy.stats.norm.cdf()\n",
    "\n",
    "\n",
    "Let $T = X_{1} + X_{2} + \\ldots + X_{100}$. These random variables are independent and  \n",
    "identically distributed (i.i.d), each following a normal distribution with mean of  \n",
    "5 and variance of 4. Using central limit theorem, compute  \n",
    "$P(X_{1} + X_{2} + \\ldots + X_{100} > 549)$.  \n",
    "\n",
    "**Hints**: Standardization and scipy.stats.norm.cdf()"
   ]
  },
  {
   "cell_type": "markdown",
   "metadata": {
    "slideshow": {
     "slide_type": "slide"
    }
   },
   "source": [
    "The central  limit theory says that  \n",
    "$$ T \\approx N(n\\mu,n\\sigma^2) = N(100\\times 5, 100\\times 4) = N(500, 20^2) $$  \n",
    "Standardizing we have  \n",
    "$$ \n",
    "    P(X_{1} + X_{2} + \\ldots + X_{100} > 549) = P(\\frac{T-500}{20} > \\frac{549 - 500}{20}) \\\\ \n",
    "    \\approx P(Z > 2.45) \\\\\n",
    "    \\approx 0.00714\n",
    "$$"
   ]
  },
  {
   "cell_type": "code",
   "execution_count": 5,
   "metadata": {
    "slideshow": {
     "slide_type": "slide"
    }
   },
   "outputs": [
    {
     "name": "stdout",
     "output_type": "stream",
     "text": [
      "The distribution: N(500.000, 20.000^2)\n",
      "2.45 0.007142810735271454\n"
     ]
    }
   ],
   "source": [
    "import numpy as np\n",
    "import scipy.stats as ss\n",
    "\n",
    "__author__ = \"\"\n",
    "__studentId__ = \"\"\n",
    "\n",
    "N = 100\n",
    "mu_iid = 5\n",
    "sig_iid = 4\n",
    "# T approximate to the N(mu, sigma^2)\n",
    "mu = mu_iid * N\n",
    "sigma = np.sqrt(N * sig_iid)\n",
    "print(\"The distribution: N({:.3f}, {:.3f}^2)\".format(mu, sigma))\n",
    "val = 549\n",
    "# Standardization: (X - mu)/sigma\n",
    "std_val = (val - mu) / sigma\n",
    "p_val = 1 - ss.norm.cdf(std_val)\n",
    "print(std_val, p_val)"
   ]
  },
  {
   "cell_type": "markdown",
   "metadata": {
    "slideshow": {
     "slide_type": "slide"
    }
   },
   "source": [
    "### 問題6. Problem 6.\n",
    "\n",
    "梱包工場では、瓶が入ったカートンを機械で梱包します。新しいマシンが\n",
    "現在使用されているマシンより平均的に速いと仮定します。\n",
    "各マシンが10カートンをパックするのにかかる時間は、prob6.txtというファイルに記録されます。  \n",
    "この仮説を5％有意水準で検定してください。\n",
    "\n",
    "In a packing plant, a machine packs cartons with jars. It is supposed that a new machine will  \n",
    "pack faster on the average than the machine currently used. To test that hypothesis at the 5% significant level,  \n",
    "the times it takes each machine to pack ten cartons are recorded into a file, prob6.txt.\n",
    "\n",
    "解説：  \n",
    "\n",
    "**Assumption 1**. Are these independent samples? Yes, since the samples from the two machines are not related.  \n",
    "**Assumption 2**. Are these large samples or a normal population? We have n1<30, n2<30. We do not have large enough samples and thus we need to check the normality assumption from both populations.  \n",
    "**Assumption 3**: Do the populations have equal variance? Yes, since s1 and s2 are not that different. How do conclude this?  By using a rule of thumb where the ratio of the two sample standard deviations is from 0.5 to 2.  (They are not that different as s1/s2=0.683/0.750=0.91 is quite close to 1.)\n"
   ]
  },
  {
   "cell_type": "code",
   "execution_count": 6,
   "metadata": {
    "slideshow": {
     "slide_type": "slide"
    }
   },
   "outputs": [
    {
     "name": "stdout",
     "output_type": "stream",
     "text": [
      "Means: 42.14, 43.230000000000004\n",
      "The ratio of variance: 0.6483826030978941/0.7114070564732956=0.911\n",
      "Reject H0 at alpha=0.050, df=18\n",
      "At 5% level of significance, there is sufficient evidence that the new machine packs faster than the old machine on average.\n"
     ]
    }
   ],
   "source": [
    "import numpy as np\n",
    "import scipy.stats as ss\n",
    "\n",
    "__author__ = \"\"\n",
    "__studentId__ = \"\"\n",
    "\n",
    "dat_file = \"data/prob6.txt\"\n",
    "data = np.loadtxt(dat_file, skiprows=1)\n",
    "# means\n",
    "m1, m2 = np.mean(data, axis=0)\n",
    "print(\"Means: {}, {}\".format(m1, m2))\n",
    "# equal variance\n",
    "s1 = np.std(data[:,0])\n",
    "s2 = np.std(data[:,1])\n",
    "print(\"The ratio of variance: {}/{}={:.3f}\".format(s1, s2, s1/s2))\n",
    "\n",
    "# Critical value at 0.05\n",
    "df = len(data[:, 0]) + len(data[:, 1]) - 2\n",
    "alpha = 0.05\n",
    "critical_value = ss.t.ppf(alpha, df)\n",
    "w, p = ss.ttest_ind(data[:,0], data[:, 1], equal_var=True)\n",
    "\n",
    "if w < critical_value:\n",
    "    print(\"Reject H0 at alpha={:.3f}, df={}\".format(alpha, df))\n",
    "else:\n",
    "    print(\"Retain H0 at alpha={:.3f}, df={}\".format(alpha, df))\n",
    "\n",
    "# Conclusion\n",
    "print(\"At 5% level of significance, there is sufficient evidence that the new machine packs faster than the old machine on average.\")"
   ]
  },
  {
   "cell_type": "markdown",
   "metadata": {
    "slideshow": {
     "slide_type": "slide"
    }
   },
   "source": [
    "### 問題7. Problem 7.\n",
    "\n",
    "ある会社のマネジャーは、1日の3つのシフトの間に仕上がりの品質に違いがあるかどうかを判断したいと考えています。  \n",
    "彼女は無作為に製品を選んで慎重に検査します。2つのカテゴリ変数は、shift（shift1、shift2、shift3）とcondition（perfect、Satisfactory、Defective）です。データ（prob7.txt）に二元配置テーブルをまとめていた。このデータは、3つのシフトの間に質の差があるかどうかは   \n",
    "5％有意水準で検定すると十分な証拠を提供しているか？\n",
    "\n",
    "The manager of a company wants to determine whether there are any differences in the quality of workmanship among the three daily shifts. She randomly selects their products and carefully inspects them. The two categorical variables of interest are: shift(shift1, shift2, shift3) and condition(perfect, Satisfactory, Defective). The data (prob7.txt) can be summarized by the accompanying two-way table. Do these data provide sufficient evidence at the 5% significance level to infer that there are differences in quality among the three shifts?\n",
    "\n",
    "<table border=\"1\">\n",
    "<thead>\n",
    "<tr><th align=\"center\"></th><th align=\"center\">Perfect</th> <th align=\"center\">Satisfactory</th> <th align=\"center\">Defective</th></tr>\n",
    "</thead>\n",
    "<tbody>\n",
    "<tr><td align=\"center\">shift1</td><td align=\"center\">106</td> <td align=\"center\">124</td><td align=\"center\">6</td> </tr>\n",
    "<tr><td align=\"center\">shift2</td><td align=\"center\">67</td> <td align=\"center\">85</td><td align=\"center\">7</td> </tr>\n",
    "<tr><td align=\"center\">shift3</td><td align=\"center\">37</td> <td align=\"center\">72</td><td align=\"center\">5</td> </tr>\n",
    "</tbody>\n",
    "</table>\n",
    "\n",
    "2つ以上の分類基準を持つクロス集計表において、分類基準間に関連があるかどうかを検定することを独立性の検定といいます。\n",
    "\n",
    "~~~ python\n",
    "chi2, p, dof, expected = chi2_contingency(observed, correction=True, lambda_=None)\n",
    "\n",
    "observed: クロス集計表。The contingency table.\n",
    "correction: Trueと自由度が１の場合, Yates’連続性補正を行う。If True, and the degrees of freedom is 1, apply Yates’ correction \n",
    "                  for continuity.\n",
    "lambda_: default is Pearson’s chi-squared statistic \n",
    "\n",
    "chi2: 統計検定量。The test statistic.\n",
    "p: p値。The p-value of the test.\n",
    "dof:自由度。Degrees of freedom.\n",
    "expected: 期待される度数。 The expected frequencies, based on the marginal sums of the table. \n",
    "~~~\n"
   ]
  },
  {
   "cell_type": "code",
   "execution_count": 7,
   "metadata": {
    "slideshow": {
     "slide_type": "slide"
    }
   },
   "outputs": [
    {
     "name": "stdout",
     "output_type": "stream",
     "text": [
      "critical value (df=4):9.487729036781154\n",
      "Statistic: 5.861947681249834\n",
      "p: 0.20969804816985732\n",
      "df: 4\n",
      "expected: [[ 97.36738703 130.28683694   8.34577603]\n",
      " [ 65.59921415  87.77799607   5.62278978]\n",
      " [ 47.03339882  62.93516699   4.03143418]]\n",
      "Retain the null hypothesis by chi test statistic.\n",
      "There isn't a significant result at 5% significance level since the p-value (0.20969804816985732) is greater than 0.05\n"
     ]
    }
   ],
   "source": [
    "import numpy as np\n",
    "import scipy.stats as ss\n",
    "\n",
    "__author__ = \"\"\n",
    "__studentId__ = \"\"\n",
    "\n",
    "datafile = \"data/prob7.txt\"\n",
    "data = np.loadtxt(datafile, skiprows=1)\n",
    "\n",
    "r, c = data.shape\n",
    "df = (r - 1) * (c - 1)\n",
    "# significant level of 0.05\n",
    "alpha = 0.05\n",
    "chi_c = ss.chi2.ppf(1 - alpha, df)\n",
    "print(\"critical value (df={}):{}\".format(df, chi_c))\n",
    "\n",
    "chi2, p, dof, expected = ss.chi2_contingency(data)\n",
    "print(\"Statistic: {}\".format(chi2))\n",
    "print(\"p: {}\".format(p))\n",
    "print(\"df: {}\".format(dof))\n",
    "print(\"expected: {}\".format(expected))\n",
    "\n",
    "### Result\n",
    "if chi_c >= chi2:\n",
    "    print(\"Retain the null hypothesis by chi test statistic.\")\n",
    "else:\n",
    "    print(\"Reject the null hypothesis by chi test statistic.\")\n",
    "if p > 0.05:\n",
    "    print(\"There isn't a significant result at 5% significance level since the p-value ({}) is greater than 0.05\".format(p))\n",
    "else:\n",
    "    print(\"There is a significant result at 5% significance level since the p-value ({}) is greater than 0.05\".format(p))"
   ]
  },
  {
   "cell_type": "markdown",
   "metadata": {
    "slideshow": {
     "slide_type": "slide"
    }
   },
   "source": [
    "### 問題8. Problem 8.\n",
    "\n",
    "データ（prob8.txt）には、10回の異なるロットの歯車直径の10個測定値が含まれ、合計100回の測定が行われます。5％有意水準でグループ間の平均を持ちますか？ （statsmodelsパッケージを使用）\n",
    "\n",
    "The data set (prob8.txt) contains 10 measurements of gear diameter for ten different batches for a total of 100 measurements. Are means the same across groups in the data at the 5% significance level? (using statsmodels package)\n",
    "\n",
    "#### Note: 変数batchは10レベルがある。ー＞一元配置分散分析\n",
    "\n",
    "1. Scipy's f_oneway()関数:\n",
    "~~~ python\n",
    "f_val, p_value = scipy.stats.f_oneway(*args) \n",
    "　　sample1, sample2, ... : 各グループの標本データ\n",
    "      f_val: F値\n",
    "　　p_value: p値\n",
    "~~~\n",
    "使用条件：  \n",
    " 1. 各標本は独立した。  \n",
    " 2. 各標本は正規分布に従う母集団からのものです。  \n",
    " 3. 各グループの母集団の標準偏差はすべて等しい。いわゆる等分散性です。  \n",
    " \n",
    "2. Statsmodel's anvova_lm()関数  \n",
    "~~~ python\n",
    "aov_table = anvova_lm(fitted_result, scale=None, test=\"F\", typ=1, robust=None) \n",
    "~~~"
   ]
  },
  {
   "cell_type": "code",
   "execution_count": 8,
   "metadata": {
    "slideshow": {
     "slide_type": "slide"
    }
   },
   "outputs": [
    {
     "name": "stdout",
     "output_type": "stream",
     "text": [
      "Index(['diameter', 'batch'], dtype='object')\n",
      "            sum_sq    df         F    PR(>F)\n",
      "C(batch)  0.000729   9.0  2.296912  0.022661\n",
      "Residual  0.003174  90.0       NaN       NaN\n",
      "Reject H0 hypothesis; means aren't equal across group.\n"
     ]
    }
   ],
   "source": [
    "import pandas as pd\n",
    "import statsmodels.api as sm\n",
    "from statsmodels.formula.api import ols\n",
    "\n",
    "__author__ = \"\"\n",
    "__studentId__ = \"\"\n",
    "\n",
    "datafile = \"data/prob8.txt\"\n",
    "data_frame = pd.read_csv(datafile, comment=\"#\",sep=\"\\s+\", header=0)\n",
    "print(data_frame.columns)\n",
    "f='diameter ~ C(batch)'\n",
    "model = ols(formula=f, data=data_frame)\n",
    "res = model.fit()\n",
    "# one-way ANOVA by anova_lm\n",
    "aov_table = sm.stats.anova_lm(res, typ=2)\n",
    "print(aov_table)\n",
    "p_val = aov_table.at['C(batch)', 'PR(>F)']\n",
    "if p_val > 0.05:\n",
    "    print(\"Retain H0 hypothesis; means are equal across group.\")\n",
    "else:\n",
    "    print(\"Reject H0 hypothesis; means aren't equal across group.\")"
   ]
  },
  {
   "cell_type": "markdown",
   "metadata": {
    "slideshow": {
     "slide_type": "slide"
    }
   },
   "source": [
    "### 問題9. Problem 9.\n",
    "\n",
    "ある研究データ（prob9.csv）は、肥満に対する身体活動の影響を測定することです。参加者は、1 =非常に活動的ではなく、2 =いくらか活動的であり、3 =非常に活動的である3つレベルで活動について評価された。さらに、参加者の人種（1または2のいずれか）がBMI（Body Mass Index）と共に記録されました。5％有意水準で次の3つの質問を答えてください：  \n",
    "\n",
    "1. ２つの人種に対して、BMIの平均は同じですか？  \n",
    "2. 身体活動の3つレベルに対して、BMIの平均は同じですか？  \n",
    "3. 人種によって、活動のレベルの影響が異なるか？また、同等に活動のレベルによって、人種の影響が異なるか？  \n",
    "\n",
    "(**注**:人種と活動の間に相互作用があった場合、講義に示すようなinteraction plotを作成してください)\n",
    "\n",
    "A study (prob9.csv) is to determine the effects of physical activity on obesity. Subjects were rated for their physical activity on a three point scale with 1=not very active, 2=somewhat active, and 3=very active. In addition, the race (either 1 or 2) of the participant was recorded, along with their Body Mass Index (BMI). We want to answer the following three questions at the 5% significant level:  \n",
    "1. Were the means for BMI the same for the two races?  \n",
    "2. Were the means for BMI the same for the three activity levels?  \n",
    "3. Is the effect of activity level different depending on race?, or equivalently Is the effect of race different depending on activity level?  \n",
    "(**Note**: if there were interactions between race and activity, produce a interaction plot as shown in the lecture.)"
   ]
  },
  {
   "cell_type": "code",
   "execution_count": 9,
   "metadata": {
    "slideshow": {
     "slide_type": "slide"
    }
   },
   "outputs": [
    {
     "name": "stdout",
     "output_type": "stream",
     "text": [
      "Overall model F(5,1865) = 37.690, p = 0.0000\n"
     ]
    },
    {
     "data": {
      "text/html": [
       "<div>\n",
       "<style scoped>\n",
       "    .dataframe tbody tr th:only-of-type {\n",
       "        vertical-align: middle;\n",
       "    }\n",
       "\n",
       "    .dataframe tbody tr th {\n",
       "        vertical-align: top;\n",
       "    }\n",
       "\n",
       "    .dataframe thead th {\n",
       "        text-align: right;\n",
       "    }\n",
       "</style>\n",
       "<table border=\"1\" class=\"dataframe\">\n",
       "  <thead>\n",
       "    <tr style=\"text-align: right;\">\n",
       "      <th></th>\n",
       "      <th>sum_sq</th>\n",
       "      <th>mean_sq</th>\n",
       "      <th>df</th>\n",
       "      <th>F</th>\n",
       "      <th>PR(&gt;F)</th>\n",
       "      <th>eta_sq</th>\n",
       "      <th>omega_sq</th>\n",
       "    </tr>\n",
       "  </thead>\n",
       "  <tbody>\n",
       "    <tr>\n",
       "      <th>C(race)</th>\n",
       "      <td>2768.883546</td>\n",
       "      <td>2768.883546</td>\n",
       "      <td>1.0</td>\n",
       "      <td>79.969795</td>\n",
       "      <td>8.933922e-19</td>\n",
       "      <td>0.039378</td>\n",
       "      <td>0.038866</td>\n",
       "    </tr>\n",
       "    <tr>\n",
       "      <th>C(activity)</th>\n",
       "      <td>2671.619408</td>\n",
       "      <td>1335.809704</td>\n",
       "      <td>2.0</td>\n",
       "      <td>38.580325</td>\n",
       "      <td>3.820424e-17</td>\n",
       "      <td>0.037995</td>\n",
       "      <td>0.036992</td>\n",
       "    </tr>\n",
       "    <tr>\n",
       "      <th>C(race):C(activity)</th>\n",
       "      <td>301.285053</td>\n",
       "      <td>150.642526</td>\n",
       "      <td>2.0</td>\n",
       "      <td>4.350798</td>\n",
       "      <td>1.302768e-02</td>\n",
       "      <td>0.004285</td>\n",
       "      <td>0.003298</td>\n",
       "    </tr>\n",
       "    <tr>\n",
       "      <th>Residual</th>\n",
       "      <td>64573.978229</td>\n",
       "      <td>34.624117</td>\n",
       "      <td>1865.0</td>\n",
       "      <td>NaN</td>\n",
       "      <td>NaN</td>\n",
       "      <td>NaN</td>\n",
       "      <td>NaN</td>\n",
       "    </tr>\n",
       "  </tbody>\n",
       "</table>\n",
       "</div>"
      ],
      "text/plain": [
       "                           sum_sq      mean_sq      df          F  \\\n",
       "C(race)               2768.883546  2768.883546     1.0  79.969795   \n",
       "C(activity)           2671.619408  1335.809704     2.0  38.580325   \n",
       "C(race):C(activity)    301.285053   150.642526     2.0   4.350798   \n",
       "Residual             64573.978229    34.624117  1865.0        NaN   \n",
       "\n",
       "                           PR(>F)    eta_sq  omega_sq  \n",
       "C(race)              8.933922e-19  0.039378  0.038866  \n",
       "C(activity)          3.820424e-17  0.037995  0.036992  \n",
       "C(race):C(activity)  1.302768e-02  0.004285  0.003298  \n",
       "Residual                      NaN       NaN       NaN  "
      ]
     },
     "metadata": {},
     "output_type": "display_data"
    },
    {
     "name": "stdout",
     "output_type": "stream",
     "text": [
      "The interaction term is significant.\n"
     ]
    },
    {
     "data": {
      "image/png": "[encoded data removed]",
      "text/plain": [
       "<Figure size 432x288 with 1 Axes>"
      ]
     },
     "metadata": {},
     "output_type": "display_data"
    }
   ],
   "source": [
    "import pandas as pd\n",
    "import statsmodels.api as sm\n",
    "from statsmodels.formula.api import ols\n",
    "import matplotlib.pyplot as plt\n",
    "# For multiple comparison\n",
    "import statsmodels.stats.multicomp as mlpc\n",
    "# Plot interaction\n",
    "from statsmodels.graphics.factorplots import interaction_plot\n",
    "\n",
    "__author__ = \"\"\n",
    "__studentId__ = \"\"\n",
    "\n",
    "# 効果量 　Calculate effect size\n",
    "def anova_table(aov):\n",
    "    aov['mean_sq'] = aov[:]['sum_sq']/aov[:]['df']\n",
    "    aov['eta_sq'] = aov[:-1]['sum_sq']/sum(aov['sum_sq'])\n",
    "    aov['omega_sq'] = (aov[:-1]['sum_sq']-(aov[:-1]['df']*aov['mean_sq'][-1]))/ \\\n",
    "             (sum(aov['sum_sq'])+aov['mean_sq'][-1])\n",
    "    cols = ['sum_sq', 'mean_sq', 'df', 'F', 'PR(>F)', 'eta_sq', 'omega_sq']\n",
    "    aov = aov[cols]\n",
    "    return aov\n",
    "\n",
    "datafile = \"data/prob9.csv\"\n",
    "data_frame = pd.read_csv(datafile, sep=\",\", header=0)\n",
    "f = 'bmi ~ C(race) * C(activity)'\n",
    "model = ols(formula=f, data=data_frame)\n",
    "# 2. regression\n",
    "result = model.fit()\n",
    "print(\"Overall model F({:.0f},{:.0f}) = {:.3f}, p = {:.4f}\".format(\n",
    "      result.df_model, result.df_resid, result.fvalue, result.f_pvalue))\n",
    "# 3.anova_lm()による二元配置分散分析 Conduct a two-way ANOVA by anova_lm()\n",
    "anova_tbl = sm.stats.anova_lm(result, typ=2)\n",
    "display(anova_table(anova_tbl))\n",
    "pval_inter = anova_tbl.at[\"C(race):C(activity)\", \"PR(>F)\"]\n",
    "if pval_inter < 0.05:\n",
    "    print(\"The interaction term is significant.\")\n",
    "    fig = interaction_plot(data_frame['activity'],\n",
    "                       data_frame['race'],\n",
    "                       data_frame['bmi'],\n",
    "                       colors=['red','blue'],\n",
    "                       markers=['D', '^'],\n",
    "                       ms=10)\n",
    "    plt.show()\n",
    "else:\n",
    "    print(\"The interaction term is not significant.\")"
   ]
  },
  {
   "cell_type": "markdown",
   "metadata": {
    "slideshow": {
     "slide_type": "slide"
    }
   },
   "source": [
    "主効果　Main effects"
   ]
  },
  {
   "cell_type": "code",
   "execution_count": 10,
   "metadata": {
    "slideshow": {
     "slide_type": "fragment"
    }
   },
   "outputs": [
    {
     "name": "stdout",
     "output_type": "stream",
     "text": [
      "Overall model F(3,1867) = 59.702, p = 0.0000\n"
     ]
    },
    {
     "data": {
      "text/html": [
       "<div>\n",
       "<style scoped>\n",
       "    .dataframe tbody tr th:only-of-type {\n",
       "        vertical-align: middle;\n",
       "    }\n",
       "\n",
       "    .dataframe tbody tr th {\n",
       "        vertical-align: top;\n",
       "    }\n",
       "\n",
       "    .dataframe thead th {\n",
       "        text-align: right;\n",
       "    }\n",
       "</style>\n",
       "<table border=\"1\" class=\"dataframe\">\n",
       "  <thead>\n",
       "    <tr style=\"text-align: right;\">\n",
       "      <th></th>\n",
       "      <th>sum_sq</th>\n",
       "      <th>mean_sq</th>\n",
       "      <th>df</th>\n",
       "      <th>F</th>\n",
       "      <th>PR(&gt;F)</th>\n",
       "      <th>eta_sq</th>\n",
       "      <th>omega_sq</th>\n",
       "    </tr>\n",
       "  </thead>\n",
       "  <tbody>\n",
       "    <tr>\n",
       "      <th>C(race)</th>\n",
       "      <td>2768.883546</td>\n",
       "      <td>2768.883546</td>\n",
       "      <td>1.0</td>\n",
       "      <td>79.683770</td>\n",
       "      <td>1.025525e-18</td>\n",
       "      <td>0.039378</td>\n",
       "      <td>0.038864</td>\n",
       "    </tr>\n",
       "    <tr>\n",
       "      <th>C(activity)</th>\n",
       "      <td>2671.619408</td>\n",
       "      <td>1335.809704</td>\n",
       "      <td>2.0</td>\n",
       "      <td>38.442337</td>\n",
       "      <td>4.358260e-17</td>\n",
       "      <td>0.037995</td>\n",
       "      <td>0.036988</td>\n",
       "    </tr>\n",
       "    <tr>\n",
       "      <th>Residual</th>\n",
       "      <td>64875.263282</td>\n",
       "      <td>34.748400</td>\n",
       "      <td>1867.0</td>\n",
       "      <td>NaN</td>\n",
       "      <td>NaN</td>\n",
       "      <td>NaN</td>\n",
       "      <td>NaN</td>\n",
       "    </tr>\n",
       "  </tbody>\n",
       "</table>\n",
       "</div>"
      ],
      "text/plain": [
       "                   sum_sq      mean_sq      df          F        PR(>F)  \\\n",
       "C(race)       2768.883546  2768.883546     1.0  79.683770  1.025525e-18   \n",
       "C(activity)   2671.619408  1335.809704     2.0  38.442337  4.358260e-17   \n",
       "Residual     64875.263282    34.748400  1867.0        NaN           NaN   \n",
       "\n",
       "               eta_sq  omega_sq  \n",
       "C(race)      0.039378  0.038864  \n",
       "C(activity)  0.037995  0.036988  \n",
       "Residual          NaN       NaN  "
      ]
     },
     "metadata": {},
     "output_type": "display_data"
    },
    {
     "name": "stdout",
     "output_type": "stream",
     "text": [
      "Factor race DOES have an independent significant effect on the mean bmi\n",
      "Factor activity DOES have an independent significant effect on the mean bmi\n"
     ]
    }
   ],
   "source": [
    "# 1. interaction\n",
    "f = 'bmi ~ C(race) + C(activity)'\n",
    "model2 = ols(formula=f, data=data_frame)\n",
    "\n",
    "# 2. regression\n",
    "result2 = model2.fit()\n",
    "print(\"Overall model F({:.0f},{:.0f}) = {:.3f}, p = {:.4f}\".format(\n",
    "      result2.df_model, result2.df_resid, result2.fvalue, result2.f_pvalue))\n",
    "\n",
    "# 3. anova_lm()による二元配置分散分析 Conduct a two-way ANOVA by anova_lm()\n",
    "anova_tbl2 = sm.stats.anova_lm(result2, typ=2)\n",
    "display(anova_table(anova_tbl2))\n",
    "pval_race = anova_tbl2.at[\"C(race)\", \"PR(>F)\"]\n",
    "pval_activity = anova_tbl2.at[\"C(activity)\", \"PR(>F)\"]\n",
    "\n",
    "if pval_race < 0.05:\n",
    "    print(\"Factor race DOES have an independent significant effect on the mean bmi\")\n",
    "else:\n",
    "    print(\"Factor race DOESN'T have an independent significant effect on the mean bmi.\")\n",
    "\n",
    "if pval_activity < 0.05:\n",
    "    print(\"Factor activity DOES have an independent significant effect on the mean bmi\")\n",
    "else:\n",
    "    print(\"Factor activity DOESN'T have an independent significant effect on the mean bmi.\")"
   ]
  },
  {
   "cell_type": "markdown",
   "metadata": {
    "slideshow": {
     "slide_type": "slide"
    }
   },
   "source": [
    "Post-hoc Testing"
   ]
  },
  {
   "cell_type": "code",
   "execution_count": 11,
   "metadata": {
    "slideshow": {
     "slide_type": "fragment"
    }
   },
   "outputs": [
    {
     "name": "stdout",
     "output_type": "stream",
     "text": [
      "Multiple Comparison of Means - Tukey HSD,FWER=0.05\n",
      "===========================================\n",
      "group1 group2 meandiff lower  upper  reject\n",
      "-------------------------------------------\n",
      "  1      2     2.7571  2.2117 3.3025  True \n",
      "-------------------------------------------\n",
      "Multiple Comparison of Means - Tukey HSD,FWER=0.05\n",
      "=============================================\n",
      "group1 group2 meandiff  lower   upper  reject\n",
      "---------------------------------------------\n",
      "  1      2    -1.6087  -2.5083 -0.7092  True \n",
      "  1      3     -3.839  -4.8086 -2.8694  True \n",
      "  2      3    -2.2303  -2.9712 -1.4893  True \n",
      "---------------------------------------------\n"
     ]
    }
   ],
   "source": [
    "# multiple comparison by Tukey HSD\n",
    "mc_race = mlpc.MultiComparison(data_frame['bmi'], data_frame['race'])\n",
    "result_race = mc_race.tukeyhsd()\n",
    "print(result_race)\n",
    "\n",
    "mc_activity = mlpc.MultiComparison(data_frame['bmi'], data_frame['activity'])\n",
    "result_activity = mc_activity.tukeyhsd()\n",
    "print(result_activity)"
   ]
  }
 ],
 "metadata": {
  "celltoolbar": "Slideshow",
  "kernelspec": {
   "display_name": "Python 3",
   "language": "python",
   "name": "python3"
  },
  "language_info": {
   "codemirror_mode": {
    "name": "ipython",
    "version": 3
   },
   "file_extension": ".py",
   "mimetype": "text/x-python",
   "name": "python",
   "nbconvert_exporter": "python",
   "pygments_lexer": "ipython3",
   "version": "3.6.5"
  },
  "livereveal": {
   "height": 900,
   "width": 1600
  },
  "toc": {
   "base_numbering": 1,
   "nav_menu": {},
   "number_sections": true,
   "sideBar": true,
   "skip_h1_title": false,
   "title_cell": "Table of Contents",
   "title_sidebar": "Contents",
   "toc_cell": false,
   "toc_position": {},
   "toc_section_display": true,
   "toc_window_display": false
  }
 },
 "nbformat": 4,
 "nbformat_minor": 2
}
