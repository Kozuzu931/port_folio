{
 "cells": [
  {
   "cell_type": "code",
   "execution_count": 2,
   "metadata": {},
   "outputs": [],
   "source": [
    "import numpy as np\n",
    "import scipy.stats as ss"
   ]
  },
  {
   "cell_type": "code",
   "execution_count": 6,
   "metadata": {},
   "outputs": [],
   "source": [
    "data = np.loadtxt(\"data/prob6.txt\", delimiter=\"\\t\", skiprows=1)\n",
    "sample1_mean = np.mean(data[:, 0])\n",
    "sample2_mean = np.mean(data[:, 1])\n",
    "\n",
    "sample1_std = np.std(data[:, 0])\n",
    "sample2_std = np.std(data[:, 1])"
   ]
  },
  {
   "cell_type": "code",
   "execution_count": 10,
   "metadata": {},
   "outputs": [
    {
     "name": "stdout",
     "output_type": "stream",
     "text": [
      "z critical value: 1.645\n"
     ]
    }
   ],
   "source": [
    "alpha = 0.05\n",
    "z_critical_value = ss.norm.ppf(1-alpha)\n",
    "print(\"z critical value: {:.3f}\".format(z_critical_value))"
   ]
  },
  {
   "cell_type": "code",
   "execution_count": 12,
   "metadata": {
    "scrolled": true
   },
   "outputs": [
    {
     "name": "stdout",
     "output_type": "stream",
     "text": [
      "Criticulate z value: -5.316\n"
     ]
    }
   ],
   "source": [
    "z = (sample1_mean - sample2_mean) / (sample1_std / np.sqrt(10))\n",
    "print(\"Criticulate z value: {:.3f}\".format(z))"
   ]
  },
  {
   "cell_type": "code",
   "execution_count": 15,
   "metadata": {},
   "outputs": [
    {
     "name": "stdout",
     "output_type": "stream",
     "text": [
      "\"We reject the null hypothesis (H0) with a 5.0% chance of making a Type I error.\n",
      "And new machines speed is difference of previous data.\n"
     ]
    }
   ],
   "source": [
    "info = \"\"\"\"We reject the null hypothesis (H0) with a {}% chance of making a Type I error.\n",
    "And new machines speed is difference of previous data.\"\"\".format(alpha*100)\n",
    "\n",
    "#if -z_critical_value <= z <= z_critical_value:\n",
    "if z_critical_value <= z:\n",
    "    print(\"Retain the null hypothesis and 　new machines  speed is no difference previous data.\")\n",
    "else:\n",
    "    print(info)"
   ]
  },
  {
   "cell_type": "code",
   "execution_count": 16,
   "metadata": {},
   "outputs": [
    {
     "name": "stdout",
     "output_type": "stream",
     "text": [
      "P value: 0.9999999469996855\n"
     ]
    }
   ],
   "source": [
    "p_critical = ss.norm.cdf(z)\n",
    "print(\"P value: {:}\".format(1-p_critical))"
   ]
  },
  {
   "cell_type": "code",
   "execution_count": null,
   "metadata": {},
   "outputs": [],
   "source": []
  }
 ],
 "metadata": {
  "kernelspec": {
   "display_name": "Python 3",
   "language": "python",
   "name": "python3"
  },
  "language_info": {
   "codemirror_mode": {
    "name": "ipython",
    "version": 3
   },
   "file_extension": ".py",
   "mimetype": "text/x-python",
   "name": "python",
   "nbconvert_exporter": "python",
   "pygments_lexer": "ipython3",
   "version": "3.6.5"
  },
  "toc": {
   "base_numbering": 1,
   "nav_menu": {},
   "number_sections": true,
   "sideBar": true,
   "skip_h1_title": false,
   "title_cell": "Table of Contents",
   "title_sidebar": "Contents",
   "toc_cell": false,
   "toc_position": {},
   "toc_section_display": true,
   "toc_window_display": false
  }
 },
 "nbformat": 4,
 "nbformat_minor": 2
}
