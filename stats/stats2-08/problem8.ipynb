{
 "cells": [
  {
   "cell_type": "markdown",
   "metadata": {
    "slideshow": {
     "slide_type": "slide"
    }
   },
   "source": [
    "# 一元配置分散分析 (One-way ANOVA analysis)\n",
    "### パッケージ・モジュールをインポートする　Import packages"
   ]
  },
  {
   "cell_type": "code",
   "execution_count": 2,
   "metadata": {
    "slideshow": {
     "slide_type": "fragment"
    }
   },
   "outputs": [],
   "source": [
    "import pandas as pd\n",
    "import scipy.stats as ss\n",
    "\n",
    "import statsmodels.api as sm\n",
    "from statsmodels.formula.api import ols\n",
    "# dataframeを綺麗に表示する　rich display for dataframes\n",
    "from IPython.core.display import display"
   ]
  },
  {
   "cell_type": "markdown",
   "metadata": {
    "slideshow": {
     "slide_type": "slide"
    }
   },
   "source": [
    "### Rのデータセットから植物成長データ　This data is from Rdatasets\n",
    "\n",
    "Pandasでファイルを読み込む Load data into a pandas's dataframe"
   ]
  },
  {
   "cell_type": "code",
   "execution_count": 7,
   "metadata": {
    "slideshow": {
     "slide_type": "fragment"
    }
   },
   "outputs": [
    {
     "data": {
      "text/html": [
       "<div>\n",
       "<style scoped>\n",
       "    .dataframe tbody tr th:only-of-type {\n",
       "        vertical-align: middle;\n",
       "    }\n",
       "\n",
       "    .dataframe tbody tr th {\n",
       "        vertical-align: top;\n",
       "    }\n",
       "\n",
       "    .dataframe thead th {\n",
       "        text-align: right;\n",
       "    }\n",
       "</style>\n",
       "<table border=\"1\" class=\"dataframe\">\n",
       "  <thead>\n",
       "    <tr style=\"text-align: right;\">\n",
       "      <th></th>\n",
       "      <th>diameter</th>\n",
       "      <th>batch</th>\n",
       "    </tr>\n",
       "  </thead>\n",
       "  <tbody>\n",
       "    <tr>\n",
       "      <th>0</th>\n",
       "      <td>1.006</td>\n",
       "      <td>1.0</td>\n",
       "    </tr>\n",
       "    <tr>\n",
       "      <th>1</th>\n",
       "      <td>0.996</td>\n",
       "      <td>1.0</td>\n",
       "    </tr>\n",
       "    <tr>\n",
       "      <th>2</th>\n",
       "      <td>0.998</td>\n",
       "      <td>1.0</td>\n",
       "    </tr>\n",
       "    <tr>\n",
       "      <th>3</th>\n",
       "      <td>1.000</td>\n",
       "      <td>1.0</td>\n",
       "    </tr>\n",
       "    <tr>\n",
       "      <th>4</th>\n",
       "      <td>0.992</td>\n",
       "      <td>1.0</td>\n",
       "    </tr>\n",
       "    <tr>\n",
       "      <th>5</th>\n",
       "      <td>0.993</td>\n",
       "      <td>1.0</td>\n",
       "    </tr>\n",
       "    <tr>\n",
       "      <th>6</th>\n",
       "      <td>1.002</td>\n",
       "      <td>1.0</td>\n",
       "    </tr>\n",
       "    <tr>\n",
       "      <th>7</th>\n",
       "      <td>0.999</td>\n",
       "      <td>1.0</td>\n",
       "    </tr>\n",
       "    <tr>\n",
       "      <th>8</th>\n",
       "      <td>0.994</td>\n",
       "      <td>1.0</td>\n",
       "    </tr>\n",
       "    <tr>\n",
       "      <th>9</th>\n",
       "      <td>1.000</td>\n",
       "      <td>1.0</td>\n",
       "    </tr>\n",
       "    <tr>\n",
       "      <th>10</th>\n",
       "      <td>0.998</td>\n",
       "      <td>2.0</td>\n",
       "    </tr>\n",
       "    <tr>\n",
       "      <th>11</th>\n",
       "      <td>1.006</td>\n",
       "      <td>2.0</td>\n",
       "    </tr>\n",
       "    <tr>\n",
       "      <th>12</th>\n",
       "      <td>1.000</td>\n",
       "      <td>2.0</td>\n",
       "    </tr>\n",
       "    <tr>\n",
       "      <th>13</th>\n",
       "      <td>1.002</td>\n",
       "      <td>2.0</td>\n",
       "    </tr>\n",
       "    <tr>\n",
       "      <th>14</th>\n",
       "      <td>0.997</td>\n",
       "      <td>2.0</td>\n",
       "    </tr>\n",
       "    <tr>\n",
       "      <th>15</th>\n",
       "      <td>0.998</td>\n",
       "      <td>2.0</td>\n",
       "    </tr>\n",
       "    <tr>\n",
       "      <th>16</th>\n",
       "      <td>0.996</td>\n",
       "      <td>2.0</td>\n",
       "    </tr>\n",
       "    <tr>\n",
       "      <th>17</th>\n",
       "      <td>1.000</td>\n",
       "      <td>2.0</td>\n",
       "    </tr>\n",
       "    <tr>\n",
       "      <th>18</th>\n",
       "      <td>1.006</td>\n",
       "      <td>2.0</td>\n",
       "    </tr>\n",
       "    <tr>\n",
       "      <th>19</th>\n",
       "      <td>0.988</td>\n",
       "      <td>2.0</td>\n",
       "    </tr>\n",
       "    <tr>\n",
       "      <th>20</th>\n",
       "      <td>0.991</td>\n",
       "      <td>3.0</td>\n",
       "    </tr>\n",
       "    <tr>\n",
       "      <th>21</th>\n",
       "      <td>0.987</td>\n",
       "      <td>3.0</td>\n",
       "    </tr>\n",
       "    <tr>\n",
       "      <th>22</th>\n",
       "      <td>0.997</td>\n",
       "      <td>3.0</td>\n",
       "    </tr>\n",
       "    <tr>\n",
       "      <th>23</th>\n",
       "      <td>0.999</td>\n",
       "      <td>3.0</td>\n",
       "    </tr>\n",
       "    <tr>\n",
       "      <th>24</th>\n",
       "      <td>0.995</td>\n",
       "      <td>3.0</td>\n",
       "    </tr>\n",
       "    <tr>\n",
       "      <th>25</th>\n",
       "      <td>0.994</td>\n",
       "      <td>3.0</td>\n",
       "    </tr>\n",
       "    <tr>\n",
       "      <th>26</th>\n",
       "      <td>1.000</td>\n",
       "      <td>3.0</td>\n",
       "    </tr>\n",
       "    <tr>\n",
       "      <th>27</th>\n",
       "      <td>0.999</td>\n",
       "      <td>3.0</td>\n",
       "    </tr>\n",
       "    <tr>\n",
       "      <th>28</th>\n",
       "      <td>0.996</td>\n",
       "      <td>3.0</td>\n",
       "    </tr>\n",
       "    <tr>\n",
       "      <th>29</th>\n",
       "      <td>0.996</td>\n",
       "      <td>3.0</td>\n",
       "    </tr>\n",
       "    <tr>\n",
       "      <th>...</th>\n",
       "      <td>...</td>\n",
       "      <td>...</td>\n",
       "    </tr>\n",
       "    <tr>\n",
       "      <th>70</th>\n",
       "      <td>0.998</td>\n",
       "      <td>8.0</td>\n",
       "    </tr>\n",
       "    <tr>\n",
       "      <th>71</th>\n",
       "      <td>1.000</td>\n",
       "      <td>8.0</td>\n",
       "    </tr>\n",
       "    <tr>\n",
       "      <th>72</th>\n",
       "      <td>1.006</td>\n",
       "      <td>8.0</td>\n",
       "    </tr>\n",
       "    <tr>\n",
       "      <th>73</th>\n",
       "      <td>1.000</td>\n",
       "      <td>8.0</td>\n",
       "    </tr>\n",
       "    <tr>\n",
       "      <th>74</th>\n",
       "      <td>1.002</td>\n",
       "      <td>8.0</td>\n",
       "    </tr>\n",
       "    <tr>\n",
       "      <th>75</th>\n",
       "      <td>0.996</td>\n",
       "      <td>8.0</td>\n",
       "    </tr>\n",
       "    <tr>\n",
       "      <th>76</th>\n",
       "      <td>0.998</td>\n",
       "      <td>8.0</td>\n",
       "    </tr>\n",
       "    <tr>\n",
       "      <th>77</th>\n",
       "      <td>0.996</td>\n",
       "      <td>8.0</td>\n",
       "    </tr>\n",
       "    <tr>\n",
       "      <th>78</th>\n",
       "      <td>1.002</td>\n",
       "      <td>8.0</td>\n",
       "    </tr>\n",
       "    <tr>\n",
       "      <th>79</th>\n",
       "      <td>1.006</td>\n",
       "      <td>8.0</td>\n",
       "    </tr>\n",
       "    <tr>\n",
       "      <th>80</th>\n",
       "      <td>1.002</td>\n",
       "      <td>9.0</td>\n",
       "    </tr>\n",
       "    <tr>\n",
       "      <th>81</th>\n",
       "      <td>0.998</td>\n",
       "      <td>9.0</td>\n",
       "    </tr>\n",
       "    <tr>\n",
       "      <th>82</th>\n",
       "      <td>0.996</td>\n",
       "      <td>9.0</td>\n",
       "    </tr>\n",
       "    <tr>\n",
       "      <th>83</th>\n",
       "      <td>0.995</td>\n",
       "      <td>9.0</td>\n",
       "    </tr>\n",
       "    <tr>\n",
       "      <th>84</th>\n",
       "      <td>0.996</td>\n",
       "      <td>9.0</td>\n",
       "    </tr>\n",
       "    <tr>\n",
       "      <th>85</th>\n",
       "      <td>1.004</td>\n",
       "      <td>9.0</td>\n",
       "    </tr>\n",
       "    <tr>\n",
       "      <th>86</th>\n",
       "      <td>1.004</td>\n",
       "      <td>9.0</td>\n",
       "    </tr>\n",
       "    <tr>\n",
       "      <th>87</th>\n",
       "      <td>0.998</td>\n",
       "      <td>9.0</td>\n",
       "    </tr>\n",
       "    <tr>\n",
       "      <th>88</th>\n",
       "      <td>0.999</td>\n",
       "      <td>9.0</td>\n",
       "    </tr>\n",
       "    <tr>\n",
       "      <th>89</th>\n",
       "      <td>0.991</td>\n",
       "      <td>9.0</td>\n",
       "    </tr>\n",
       "    <tr>\n",
       "      <th>90</th>\n",
       "      <td>0.991</td>\n",
       "      <td>10.0</td>\n",
       "    </tr>\n",
       "    <tr>\n",
       "      <th>91</th>\n",
       "      <td>0.995</td>\n",
       "      <td>10.0</td>\n",
       "    </tr>\n",
       "    <tr>\n",
       "      <th>92</th>\n",
       "      <td>0.984</td>\n",
       "      <td>10.0</td>\n",
       "    </tr>\n",
       "    <tr>\n",
       "      <th>93</th>\n",
       "      <td>0.994</td>\n",
       "      <td>10.0</td>\n",
       "    </tr>\n",
       "    <tr>\n",
       "      <th>94</th>\n",
       "      <td>0.997</td>\n",
       "      <td>10.0</td>\n",
       "    </tr>\n",
       "    <tr>\n",
       "      <th>95</th>\n",
       "      <td>0.997</td>\n",
       "      <td>10.0</td>\n",
       "    </tr>\n",
       "    <tr>\n",
       "      <th>96</th>\n",
       "      <td>0.991</td>\n",
       "      <td>10.0</td>\n",
       "    </tr>\n",
       "    <tr>\n",
       "      <th>97</th>\n",
       "      <td>0.998</td>\n",
       "      <td>10.0</td>\n",
       "    </tr>\n",
       "    <tr>\n",
       "      <th>98</th>\n",
       "      <td>1.004</td>\n",
       "      <td>10.0</td>\n",
       "    </tr>\n",
       "    <tr>\n",
       "      <th>99</th>\n",
       "      <td>0.997</td>\n",
       "      <td>10.0</td>\n",
       "    </tr>\n",
       "  </tbody>\n",
       "</table>\n",
       "<p>100 rows × 2 columns</p>\n",
       "</div>"
      ],
      "text/plain": [
       "    diameter  batch\n",
       "0      1.006    1.0\n",
       "1      0.996    1.0\n",
       "2      0.998    1.0\n",
       "3      1.000    1.0\n",
       "4      0.992    1.0\n",
       "5      0.993    1.0\n",
       "6      1.002    1.0\n",
       "7      0.999    1.0\n",
       "8      0.994    1.0\n",
       "9      1.000    1.0\n",
       "10     0.998    2.0\n",
       "11     1.006    2.0\n",
       "12     1.000    2.0\n",
       "13     1.002    2.0\n",
       "14     0.997    2.0\n",
       "15     0.998    2.0\n",
       "16     0.996    2.0\n",
       "17     1.000    2.0\n",
       "18     1.006    2.0\n",
       "19     0.988    2.0\n",
       "20     0.991    3.0\n",
       "21     0.987    3.0\n",
       "22     0.997    3.0\n",
       "23     0.999    3.0\n",
       "24     0.995    3.0\n",
       "25     0.994    3.0\n",
       "26     1.000    3.0\n",
       "27     0.999    3.0\n",
       "28     0.996    3.0\n",
       "29     0.996    3.0\n",
       "..       ...    ...\n",
       "70     0.998    8.0\n",
       "71     1.000    8.0\n",
       "72     1.006    8.0\n",
       "73     1.000    8.0\n",
       "74     1.002    8.0\n",
       "75     0.996    8.0\n",
       "76     0.998    8.0\n",
       "77     0.996    8.0\n",
       "78     1.002    8.0\n",
       "79     1.006    8.0\n",
       "80     1.002    9.0\n",
       "81     0.998    9.0\n",
       "82     0.996    9.0\n",
       "83     0.995    9.0\n",
       "84     0.996    9.0\n",
       "85     1.004    9.0\n",
       "86     1.004    9.0\n",
       "87     0.998    9.0\n",
       "88     0.999    9.0\n",
       "89     0.991    9.0\n",
       "90     0.991   10.0\n",
       "91     0.995   10.0\n",
       "92     0.984   10.0\n",
       "93     0.994   10.0\n",
       "94     0.997   10.0\n",
       "95     0.997   10.0\n",
       "96     0.991   10.0\n",
       "97     0.998   10.0\n",
       "98     1.004   10.0\n",
       "99     0.997   10.0\n",
       "\n",
       "[100 rows x 2 columns]"
      ]
     },
     "metadata": {},
     "output_type": "display_data"
    }
   ],
   "source": [
    "datafile = \"data/prob8.txt\"\n",
    "data_frame = pd.read_csv(datafile, header=0, delim_whitespace=8)\n",
    "display(data_frame)"
   ]
  },
  {
   "cell_type": "markdown",
   "metadata": {
    "slideshow": {
     "slide_type": "slide"
    }
   },
   "source": [
    "### グループの種類やデータの分割\n",
    "\n",
    "\"group\"ヘッドの値を分割し、pythonの辞書型変数に代入する  split data into a python dict  \n",
    "pd.unique()：ユニークのグループ名を抽出する。 Find unique group names"
   ]
  },
  {
   "cell_type": "code",
   "execution_count": 9,
   "metadata": {
    "slideshow": {
     "slide_type": "fragment"
    }
   },
   "outputs": [],
   "source": [
    "groups = pd.unique(data_frame.batch.values)\n",
    "# グループに対応するデータを分割し、pythonの辞書型変数に代入する\n",
    "# Split data into groups and store them into a python dict\n",
    "data = {batch: data_frame['diameter'][data_frame.batch==batch] for batch in groups}"
   ]
  },
  {
   "cell_type": "markdown",
   "metadata": {
    "slideshow": {
     "slide_type": "slide"
    }
   },
   "source": [
    "### scipyのf_oneway()関数 scipy's f_oneway() function\n",
    "\n",
    "scipy's f_oneway():  \n",
    "**定義：**  \n",
    "```python  \n",
    "  f_val, p_value = scipy.stats.f_oneway(*args)  \n",
    "\n",
    "    sample1, sample2, ... : 各グループの標本データ　The sample measurements for each group.\n",
    "    f_val: F値   F-statistic value\n",
    "    p_value: p値 p value\n",
    "```"
   ]
  },
  {
   "cell_type": "markdown",
   "metadata": {
    "slideshow": {
     "slide_type": "slide"
    }
   },
   "source": [
    "### scipyのf_oneway()関数 scipy's f_oneway() function\n",
    "使用条件：Assumption  \n",
    " 1. 各標本は独立した。The samples are independent.  \n",
    " 2. 各標本は正規分布に従う母集団からのものです。Each sample is from a normally distributed population.  \n",
    " 3. 各グループの母集団の標準偏差はすべて等しい。いわゆる等分散性です。  \n",
    "    The population standard deviations of the groups are all equal. This property is known as homoscedasticity."
   ]
  },
  {
   "cell_type": "code",
   "execution_count": 12,
   "metadata": {
    "slideshow": {
     "slide_type": "slide"
    }
   },
   "outputs": [
    {
     "name": "stdout",
     "output_type": "stream",
     "text": [
      "Using f_oneway of scipy\n",
      "F-value: 2.2969124133585295 /p-value:0.02266\n"
     ]
    }
   ],
   "source": [
    "f, p = ss.f_oneway(data[1.0], data[2.0], data[3.0], data[4.0], data[5.0], data[6.0], data[7.0], data[8.0], data[9.0], data[10.0])\n",
    "print(\"Using f_oneway of scipy\")\n",
    "print(\"F-value: {} /p-value:{:.5f}\".format(f, p))"
   ]
  },
  {
   "cell_type": "markdown",
   "metadata": {
    "slideshow": {
     "slide_type": "slide"
    }
   },
   "source": [
    "### Using statsmodels\n",
    "\n",
    "Step 1. statsmodelsのformulaを用いて、回帰分析を行う。  \n",
    "Step 2. 回帰分析の結果に基づいて、一元配置分散分析を行う。  \n",
    "\n",
    "<span style=\"color:red\">aov_table</span> = **[anvova_lm](https://www.statsmodels.org/dev/generated/statsmodels.stats.anova.anova_lm.html)**(fitted_result, scale=None, test=\"F\", typ=1, robust=None)  \n",
    "\n",
    "**入力(input)は**  \n",
    "\n",
    "<span style=\"color:blue\">**fitted_result**</span>: statsmodelsのformulaの回帰結果を持つオブジェクト.  \n",
    "One or more fitted linear models  \n",
    "\n",
    "<span style=\"color:blue\">**scale**</span>: 分散の評価です。\"None\"の場合、最大のモデルから評価する。  \n",
    "               Estimate of variance, If None, will be estimated from the largest model.  \n",
    "\n",
    "<span style=\"color:blue\">**test**</span>: 統計量です。\"F\", \"Chisq\", \"Cp\", 或いは None.  \n",
    "              Test statistics to provide.  \"F\", \"Chisq\", \"Cp\", or None  \n",
    "\n",
    "<span style=\"color:blue\">**typ**</span>: 平方和のタイプ。The type of Sum of squares to perform  \n",
    "             unbalancedデータに対して, 平方和の計算方法は少なくとも３つがある。\n",
    "             一般的にType I, II and IIIと呼びます。  \n",
    "             For unbalanced data, there are at least 3 approaches to calculate the sums  \n",
    "             of squares for ANOVA, commonly called Type I, II and III.  \n",
    "\n",
    "<span style=\"color:blue\">**robust**</span>: 等分散性を補正した係数の共分散を使う。  \n",
    "                 Use heteroscedasticity-corrected coefficient covariance matrix.  \n",
    "\n",
    " **出力(output)は**  \n",
    "\n",
    "<span style=\"color:red\">**aov_table**</span>: pandasのDataFrameです。列は以下です。  \n",
    "         \"sum_sq\": Sum of squares for model terms.  \n",
    "         \"df\"    : Degrees of freedom for model terms.  \n",
    "         \"F\"     : F statistic value for significance of adding model terms.  \n",
    "         \"PR(>F)\": P-value for significance of adding model terms.  \n"
   ]
  },
  {
   "cell_type": "code",
   "execution_count": 13,
   "metadata": {
    "slideshow": {
     "slide_type": "fragment"
    }
   },
   "outputs": [
    {
     "name": "stdout",
     "output_type": "stream",
     "text": [
      "                            OLS Regression Results                            \n",
      "==============================================================================\n",
      "Dep. Variable:               diameter   R-squared:                       0.000\n",
      "Model:                            OLS   Adj. R-squared:                 -0.010\n",
      "Method:                 Least Squares   F-statistic:                   0.04168\n",
      "Date:                Thu, 22 Nov 2018   Prob (F-statistic):              0.839\n",
      "Time:                        13:19:09   Log-Likelihood:                 365.69\n",
      "No. Observations:                 100   AIC:                            -727.4\n",
      "Df Residuals:                      98   BIC:                            -722.2\n",
      "Df Model:                           1                                         \n",
      "Covariance Type:            nonrobust                                         \n",
      "==============================================================================\n",
      "                 coef    std err          t      P>|t|      [0.025      0.975]\n",
      "------------------------------------------------------------------------------\n",
      "Intercept      0.9974      0.001    731.757      0.000       0.995       1.000\n",
      "batch       4.485e-05      0.000      0.204      0.839      -0.000       0.000\n",
      "==============================================================================\n",
      "Omnibus:                        5.693   Durbin-Watson:                   1.452\n",
      "Prob(Omnibus):                  0.058   Jarque-Bera (JB):                8.428\n",
      "Skew:                          -0.114   Prob(JB):                       0.0148\n",
      "Kurtosis:                       4.404   Cond. No.                         13.7\n",
      "==============================================================================\n",
      "\n",
      "Warnings:\n",
      "[1] Standard Errors assume that the covariance matrix of the errors is correctly specified.\n",
      "                            OLS Regression Results                            \n",
      "==============================================================================\n",
      "Dep. Variable:                      y   R-squared:                       0.000\n",
      "Model:                            OLS   Adj. R-squared:                 -0.010\n",
      "Method:                 Least Squares   F-statistic:                   0.04168\n",
      "Date:                Thu, 22 Nov 2018   Prob (F-statistic):              0.839\n",
      "Time:                        13:19:09   Log-Likelihood:                 365.69\n",
      "No. Observations:                 100   AIC:                            -727.4\n",
      "Df Residuals:                      98   BIC:                            -722.2\n",
      "Df Model:                           1                                         \n",
      "Covariance Type:            nonrobust                                         \n",
      "==============================================================================\n",
      "                 coef    std err          t      P>|t|      [0.025      0.975]\n",
      "------------------------------------------------------------------------------\n",
      "const          0.9974      0.001    731.757      0.000       0.995       1.000\n",
      "x1          4.485e-05      0.000      0.204      0.839      -0.000       0.000\n",
      "==============================================================================\n",
      "Omnibus:                        5.693   Durbin-Watson:                   1.452\n",
      "Prob(Omnibus):                  0.058   Jarque-Bera (JB):                8.428\n",
      "Skew:                          -0.114   Prob(JB):                       0.0148\n",
      "Kurtosis:                       4.404   Cond. No.                         13.7\n",
      "==============================================================================\n",
      "\n",
      "Warnings:\n",
      "[1] Standard Errors assume that the covariance matrix of the errors is correctly specified.\n"
     ]
    }
   ],
   "source": [
    "model2 = ols(formula='diameter ~ batch', data=data_frame) # ols formulaのモデルを構築\n",
    "res = model2.fit() # 回帰分析を行う\n",
    "# see designed matrix\n",
    "#display(res.model.endog)\n",
    "#display(res.model.exog)\n",
    "#display(res.model.exog_names)\n",
    "print(res.summary()) # 結果を出力する\n",
    "\n",
    "# In a numerical way\n",
    "Y = res.model.endog\n",
    "x = res.model.exog\n",
    "#X = sm.add_constant(x)\n",
    "model = sm.OLS(Y, x)\n",
    "result = model.fit()\n",
    "print(result.summary())"
   ]
  },
  {
   "cell_type": "markdown",
   "metadata": {
    "slideshow": {
     "slide_type": "slide"
    }
   },
   "source": [
    "### 一元配置分散分析: Statsmodels' anova_lm()"
   ]
  },
  {
   "cell_type": "code",
   "execution_count": 15,
   "metadata": {
    "slideshow": {
     "slide_type": "fragment"
    }
   },
   "outputs": [
    {
     "name": "stdout",
     "output_type": "stream",
     "text": [
      "----------------\n",
      "ANOVA table:\n",
      "----------------\n",
      "            sum_sq    df         F    PR(>F)\n",
      "batch     0.000002   1.0  0.041683  0.838649\n",
      "Residual  0.003901  98.0       NaN       NaN\n",
      "----------------\n",
      "F値： 0.04168283550906771\n",
      "p値： 0.8386489287247627\n",
      "グループ間の自由度: 1.0\n"
     ]
    }
   ],
   "source": [
    "print(\"----------------\")\n",
    "print(\"ANOVA table:\")\n",
    "\n",
    "# one-way anova by anova_lm()\n",
    "aov_table = sm.stats.anova_lm(res, typ=2)\n",
    "\n",
    "# aov_tableはpandasのdataframeオブジェクトです・\n",
    "print(\"----------------\")\n",
    "print(aov_table)\n",
    "print(\"----------------\")\n",
    "# F値の取得、 access F-statistic\n",
    "print(\"F値：\", aov_table.at['batch','F'])\n",
    "# F値の取得、 access F-statistic\n",
    "print(\"p値：\", aov_table.at['batch','PR(>F)'])\n",
    "# グループ間の自由度\n",
    "print(\"グループ間の自由度:\",aov_table.at['batch','df'])"
   ]
  },
  {
   "cell_type": "markdown",
   "metadata": {
    "slideshow": {
     "slide_type": "slide"
    }
   },
   "source": [
    "### 効果量(Effective size)\n",
    "\n",
    "実験的研究では,効果量は独立変数（IV）が従属変数（DV）に与えた影響の程度を表す数値です。  \n",
    " Effect size is a value which allows you to see how much  \n",
    " your independent variable (IV) has affected the dependent variable (DV) in  \n",
    " an experimental study.  \n",
    "\n",
    " ここでは、カテゴリ独立変数に対して、より直感的な解釈であり、計算しやすい2つの尺度$\\eta^2$と$\\omega^2$を紹介します。  \n",
    " Here we introduce two measures, $\\eta^2$ and $\\omega^2$ for categorical independent variables have a more intuitive interpretation, and are easier to evaluate.  \n",
    "1. 標本数が多くなると、$\\eta^2$の評価はbiasが小さいとなります。  \n",
    "2. 標本数が少ない場合、$\\omega^2$の評価は相応しいです。  \n",
    "\n",
    "基本的には要因による変動(各条件の平均値差)が大きいほど、 または誤差による変動(各条件の標準偏差が)小さいほど、効果量は大きくなる。  \n",
    " The bias of $\\eta^2$ gets very small as sample size increases, but for small samples an unbiased effect size measure is Omega Squared.  Basically, the greater the fluctuation due to factors (difference in average value of each condition), or the smaller the fluctuation due to error (standard deviation of each condition), the larger the effect size."
   ]
  },
  {
   "cell_type": "markdown",
   "metadata": {
    "slideshow": {
     "slide_type": "slide"
    }
   },
   "source": [
    "### 結果　Result"
   ]
  },
  {
   "cell_type": "code",
   "execution_count": 18,
   "metadata": {
    "slideshow": {
     "slide_type": "fragment"
    }
   },
   "outputs": [
    {
     "name": "stdout",
     "output_type": "stream",
     "text": [
      "Retain the null hypothesis\n"
     ]
    }
   ],
   "source": [
    "if aov_table.at['batch','PR(>F)'] > 0.05:\n",
    "    print(\"Retain the null hypothesis\")\n",
    "else:\n",
    "    print(\"Reject the null hypothesis\")"
   ]
  },
  {
   "cell_type": "markdown",
   "metadata": {},
   "source": [
    "### 解釈 Interpretation\n",
    "5%有意水準でロットごとの母集団の平均値が全て等しいではありません。  \n",
    "The population mean of each batches are not all equal at 5% level of significance."
   ]
  }
 ],
 "metadata": {
  "celltoolbar": "Slideshow",
  "kernelspec": {
   "display_name": "Python 3",
   "language": "python",
   "name": "python3"
  },
  "language_info": {
   "codemirror_mode": {
    "name": "ipython",
    "version": 3
   },
   "file_extension": ".py",
   "mimetype": "text/x-python",
   "name": "python",
   "nbconvert_exporter": "python",
   "pygments_lexer": "ipython3",
   "version": "3.6.5"
  },
  "toc": {
   "base_numbering": 1,
   "nav_menu": {},
   "number_sections": true,
   "sideBar": true,
   "skip_h1_title": false,
   "title_cell": "Table of Contents",
   "title_sidebar": "Contents",
   "toc_cell": false,
   "toc_position": {},
   "toc_section_display": true,
   "toc_window_display": false
  }
 },
 "nbformat": 4,
 "nbformat_minor": 2
}
