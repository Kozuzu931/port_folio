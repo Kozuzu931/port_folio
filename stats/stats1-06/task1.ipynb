{
 "cells": [
  {
   "cell_type": "code",
   "execution_count": 1,
   "metadata": {
    "collapsed": true
   },
   "outputs": [],
   "source": [
    "#!/usr/bin/env python3\n",
    "# -*- coding: utf-8 -*-\n",
    "\"\"\"\n",
    "Created on Tue May 15 17:28:33 2018\n",
    "\n",
    "@author: davecao\n",
    "\"\"\"\n",
    "# %% \n",
    "import pandas as pd\n",
    "import matplotlib.pyplot as plt\n",
    "\n",
    "# %% Read passenger data\n",
    "# data file is yamanote_passenger_2016.csv\n",
    "data_file = \"data/yamanote_passenger_2016.csv\"\n",
    "df = pd.read_csv(data_file, sep=\",\")\n",
    "\n",
    "# %% scatterplot\n",
    "# \n",
    "# | -- https://matplotlib.org/tutorials/colors/colormaps.html\n",
    "#  specify \"seismic\" as colormap\n",
    "color_map = plt.cm.get_cmap(\"seismic\")\n"
   ]
  },
  {
   "cell_type": "code",
   "execution_count": 2,
   "metadata": {
    "collapsed": true
   },
   "outputs": [],
   "source": [
    "# circle size\n",
    "max_size = 200\n",
    "min_size = 10"
   ]
  },
  {
   "cell_type": "code",
   "execution_count": 3,
   "metadata": {
    "collapsed": true
   },
   "outputs": [],
   "source": [
    "# normalization for passengers capacity at a railway station\n",
    "#     x - min\n",
    "#   ----------- * (max_size - min_size) + min_size\n",
    "#    max - min\n",
    "# hint: \n",
    "#   1. capacity is df['passenger']\n",
    "#   2. maximum of df['passenger']: df['passenger'].max()\n",
    "#   3. minimum of df['passenger']: df['passenger'].min()\n",
    "sizes = ((df[\"passenger\"] - df[\"passenger\"].min())/(df[\"passenger\"].max() - df[\"passenger\"].min())) * (max_size - min_size) + min_size\n"
   ]
  },
  {
   "cell_type": "code",
   "execution_count": 5,
   "metadata": {},
   "outputs": [
    {
     "data": {
      "image/png": "[encoded data removed]",
      "text/plain": [
       "<matplotlib.figure.Figure at 0x10a4a4978>"
      ]
     },
     "metadata": {},
     "output_type": "display_data"
    }
   ],
   "source": [
    "# x: latitude (lat), y: longitude (lon)\n",
    "x, y = df[\"lat\"].values, df[\"lon\"].values\n",
    "\n",
    "plt.scatter(x, y, s=sizes, c=df['passenger'], cmap=color_map, alpha=0.5)   \n",
    "# x label\n",
    "plt.xlabel(\"latitude\")\n",
    "# y label \n",
    "plt.ylabel(\"longitude\")\n",
    "plt.show()"
   ]
  },
  {
   "cell_type": "code",
   "execution_count": null,
   "metadata": {
    "collapsed": true
   },
   "outputs": [],
   "source": []
  }
 ],
 "metadata": {
  "kernelspec": {
   "display_name": "Python 3",
   "language": "python",
   "name": "python3"
  },
  "language_info": {
   "codemirror_mode": {
    "name": "ipython",
    "version": 3
   },
   "file_extension": ".py",
   "mimetype": "text/x-python",
   "name": "python",
   "nbconvert_exporter": "python",
   "pygments_lexer": "ipython3",
   "version": "3.5.4"
  }
 },
 "nbformat": 4,
 "nbformat_minor": 2
}
