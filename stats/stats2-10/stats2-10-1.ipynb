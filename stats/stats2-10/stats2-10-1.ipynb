{
 "cells": [
  {
   "cell_type": "markdown",
   "metadata": {},
   "source": [
    "### 最尤推定(例１)"
   ]
  },
  {
   "cell_type": "markdown",
   "metadata": {},
   "source": [
    "### 確率分布のパラメータを最尤推定を用いて求める"
   ]
  },
  {
   "cell_type": "code",
   "execution_count": 1,
   "metadata": {},
   "outputs": [],
   "source": [
    "import numpy as np\n",
    "import scipy.stats as ss\n",
    "import matplotlib.pyplot as plt"
   ]
  },
  {
   "cell_type": "markdown",
   "metadata": {},
   "source": [
    "### 推定対象とするデータを作成\n",
    "#### パラメータ$\\lambda$が2のポアソン分布の乱数を1000個生成"
   ]
  },
  {
   "cell_type": "code",
   "execution_count": 17,
   "metadata": {},
   "outputs": [],
   "source": [
    "#data = ss.poisson.rvs(mu=2, size=1000)\n",
    "data = np.loadtxt(\"data/time.csv\")"
   ]
  },
  {
   "cell_type": "markdown",
   "metadata": {
    "collapsed": true
   },
   "source": [
    "### 対数尤度を求める"
   ]
  },
  {
   "cell_type": "code",
   "execution_count": 18,
   "metadata": {},
   "outputs": [
    {
     "name": "stdout",
     "output_type": "stream",
     "text": [
      "最尤推定値(Maximum likelihood estimated value): 3.2\n"
     ]
    },
    {
     "data": {
      "image/png": "[encoded data removed]",
      "text/plain": [
       "<Figure size 432x288 with 1 Axes>"
      ]
     },
     "metadata": {},
     "output_type": "display_data"
    }
   ],
   "source": [
    "para = np.arange(0.1, 5.0, 0.1) # パラメータの推定範囲を0.1から5未満まで0.1刻みとする．\n",
    "logL = np.array([sum(ss.expon.logpdf(data,scale=1/p)) for p in para]) # 各パラメータ値における対数尤度を求める\n",
    "\n",
    "mle = para[np.argmax(logL)]# 対数尤度が最大となるパラメータを求める\n",
    "print(\"最尤推定値(Maximum likelihood estimated value): {}\".format(mle))\n",
    "# expon scale=1/p\n",
    "# norm\n",
    "plt.plot(para, logL) # 横軸をパラメータ，縦軸を対数尤度とした折れ線グラフをプロット\n",
    "plt.axvline(x=para[np.argmax(logL)], color='red', linestyle='dotted') # 対数尤度が最大となる点を赤の点線でプロット\n",
    "plt.xlabel('parameter')\n",
    "plt.ylabel('logL')\n",
    "plt.show()"
   ]
  },
  {
   "cell_type": "code",
   "execution_count": null,
   "metadata": {
    "collapsed": true
   },
   "outputs": [],
   "source": []
  }
 ],
 "metadata": {
  "kernelspec": {
   "display_name": "Python 3",
   "language": "python",
   "name": "python3"
  },
  "language_info": {
   "codemirror_mode": {
    "name": "ipython",
    "version": 3
   },
   "file_extension": ".py",
   "mimetype": "text/x-python",
   "name": "python",
   "nbconvert_exporter": "python",
   "pygments_lexer": "ipython3",
   "version": "3.6.5"
  },
  "toc": {
   "base_numbering": 1,
   "nav_menu": {},
   "number_sections": true,
   "sideBar": true,
   "skip_h1_title": false,
   "title_cell": "Table of Contents",
   "title_sidebar": "Contents",
   "toc_cell": false,
   "toc_position": {},
   "toc_section_display": true,
   "toc_window_display": false
  }
 },
 "nbformat": 4,
 "nbformat_minor": 2
}
