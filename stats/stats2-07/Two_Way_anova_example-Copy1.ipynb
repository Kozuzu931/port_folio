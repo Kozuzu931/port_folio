{
 "cells": [
  {
   "cell_type": "markdown",
   "metadata": {
    "slideshow": {
     "slide_type": "slide"
    }
   },
   "source": [
    "### 二元配置分散分析 Two-way ANOVA\n",
    "\n",
    "#### インポート パッケージ　Import packages"
   ]
  },
  {
   "cell_type": "code",
   "execution_count": 1,
   "metadata": {
    "slideshow": {
     "slide_type": "fragment"
    }
   },
   "outputs": [],
   "source": [
    "import pandas as pd\n",
    "import scipy.stats as ss\n",
    "import matplotlib.pyplot as plt\n",
    "\n",
    "import statsmodels.api as sm\n",
    "# Regression with a formula \n",
    "from statsmodels.formula.api import ols\n",
    "# For multiple comparison\n",
    "import statsmodels.stats.multicomp as mlpc\n",
    "# Plot interaction \n",
    "from statsmodels.graphics.factorplots import interaction_plot\n",
    "\n",
    "from IPython.core.display import display"
   ]
  },
  {
   "cell_type": "markdown",
   "metadata": {
    "slideshow": {
     "slide_type": "slide"
    }
   },
   "source": [
    "#### データファイルを読み込む Read the data file"
   ]
  },
  {
   "cell_type": "code",
   "execution_count": 11,
   "metadata": {
    "scrolled": true,
    "slideshow": {
     "slide_type": "fragment"
    }
   },
   "outputs": [
    {
     "name": "stdout",
     "output_type": "stream",
     "text": [
      "[('B', 'M'), ('B', 'F'), ('O', 'M'), ('O', 'F')]\n",
      "[[7.0, 7.4, 7.7, 8.2, 8.2, 9.8, 9.8, 10.4, 9.7, 10.3, 10.9, 11.4, 11.4, 10.9, 11.0, 11.4, 11.0, 11.2, 11.3, 12.1, 12.7, 13.7, 13.2, 13.4, 13.6, 13.6, 13.6, 14.5, 14.2, 14.4, 15.7, 15.4, 14.9, 15.2, 14.9, 14.9, 15.6, 15.1, 15.6, 16.1, 16.0, 16.8, 16.2, 17.8, 17.8, 16.8, 17.8, 18.6, 18.3, 20.0], [6.1, 7.7, 7.7, 7.7, 7.8, 8.8, 8.4, 8.9, 8.3, 9.1, 8.2, 9.4, 10.1, 10.4, 10.0, 10.4, 10.9, 10.5, 11.0, 11.2, 11.9, 11.1, 11.5, 11.3, 11.1, 11.5, 11.7, 11.9, 13.1, 12.5, 12.0, 14.0, 14.0, 13.5, 13.8, 13.0, 14.7, 13.8, 13.8, 14.7, 13.4, 14.3, 14.1, 15.3, 13.9, 15.2, 15.4, 16.6, 17.0, 18.1], [7.4, 9.0, 9.2, 10.1, 10.8, 11.2, 12.1, 12.2, 12.0, 12.2, 13.1, 13.5, 13.1, 13.3, 12.9, 12.7, 13.5, 12.8, 13.1, 14.0, 13.9, 13.5, 14.2, 14.7, 14.5, 15.7, 16.2, 15.3, 16.1, 16.7, 16.5, 17.1, 17.2, 17.7, 17.3, 17.0, 17.5, 17.9, 17.8, 17.9, 18.0, 19.6, 19.4, 20.9, 20.6, 20.1, 21.1, 20.5, 21.5, 21.6], [9.8, 9.7, 10.9, 11.5, 11.9, 12.6, 12.7, 12.5, 12.9, 13.3, 14.0, 14.1, 13.8, 13.8, 13.8, 14.0, 13.9, 13.7, 14.7, 14.6, 15.6, 16.0, 14.6, 15.5, 15.7, 17.2, 16.1, 15.9, 16.4, 16.6, 15.0, 16.6, 15.3, 16.8, 17.2, 18.2, 17.9, 17.9, 17.7, 18.6, 18.0, 19.2, 19.2, 17.5, 20.0, 18.7, 19.6, 19.5, 19.8, 21.1]]\n"
     ]
    }
   ],
   "source": [
    "# Loading data\n",
    "file=\"data/crabs.csv\"\n",
    "data_frame = pd.read_csv(file, comment=\"#\")\n",
    "\n",
    "# ## split data\n",
    "# 1.  find all levels\n",
    "species_levels = pd.unique(data_frame[\"sp\"])\n",
    "sex_levels = pd.unique(data_frame['sex'])\n",
    "# 2. extract data\n",
    "data = []\n",
    "combi_levels =[]\n",
    "for sp in species_levels:\n",
    "    for sex in sex_levels:\n",
    "        combi_levels.append((sp, sex))\n",
    "        d_temp = data_frame[(data_frame[\"sp\"]==sp) & (data_frame[\"sex\"] == sex)][\"BD\"]\n",
    "        data.append(d_temp.tolist())\n",
    "print(combi_levels)\n",
    "print(data) "
   ]
  },
  {
   "cell_type": "markdown",
   "metadata": {
    "slideshow": {
     "slide_type": "slide"
    }
   },
   "source": [
    "#### 3つ前提　Three Assumptions \n",
    "1. 外れ値があるかどうか（ある場合、合理的な理由があれば、削除することが可能です）  \n",
    "2. 等分散性検定（ここで、levene's testを使えます）   \n",
    "3. 群間に従属変数の正規性検定（Shapiro-Wilk検定、ここに触らない）\n",
    "\n",
    "\n",
    "1. No outliers (if you have outliers, e.g., you may delete it for any reasonable reason )\n",
    "2. Homogeneity of variance (Here, we use levene's test)\n",
    "3. The dependent variable is normally distributed across the groups (Shapiro-Wilk test, not touched in this lecture)"
   ]
  },
  {
   "cell_type": "markdown",
   "metadata": {
    "slideshow": {
     "slide_type": "slide"
    }
   },
   "source": [
    "###### 1. 外れ値を検知する　Detect outliers"
   ]
  },
  {
   "cell_type": "code",
   "execution_count": 12,
   "metadata": {
    "slideshow": {
     "slide_type": "fragment"
    }
   },
   "outputs": [
    {
     "data": {
      "image/png": "[encoded data removed]",
      "text/plain": [
       "<Figure size 432x288 with 1 Axes>"
      ]
     },
     "metadata": {},
     "output_type": "display_data"
    }
   ],
   "source": [
    "boxplot = data_frame.boxplot(column=['BD'], by=['sp', 'sex'], fontsize=\"11\", figsize=(6,4))\n",
    "# Add a title for the figure\n",
    "plt.title(\"Detection of outliers\")\n",
    "# Remove the automatically generated title\n",
    "plt.suptitle(\"\")\n",
    "plt.show()"
   ]
  },
  {
   "cell_type": "markdown",
   "metadata": {
    "slideshow": {
     "slide_type": "slide"
    }
   },
   "source": [
    "###### 2. 等分散性検定 　Test of homogeneity of Variance\n",
    "**Levene's test**:  \n",
    "F検定を用いて、グループ間で分散が等しいという帰無仮説を検証します.  \n",
    "ここで、0.05未満のp値は、帰無仮説を棄却します。\n",
    "帰無仮説を棄却する場合は、ノンパラメトリック方法で検定するのが適切です。\n",
    "\n",
    "**Levene's test**:  \n",
    "It uses an F-test to test the null hypothesis that the variance is equal across groups.   \n",
    "Here, a p value less than .05 indicates a violation of the assumption.  \n",
    "If a violation occurs, it is likely that conducting the non-parametric equivalent of the analysis is more appropriate."
   ]
  },
  {
   "cell_type": "markdown",
   "metadata": {
    "slideshow": {
     "slide_type": "slide"
    }
   },
   "source": [
    "## scipy's levene()\n",
    "\n",
    "W, p_value = [scipy.stats.levene](https://docs.scipy.org/doc/scipy-0.14.0/reference/generated/scipy.stats.levene.html)(\\*args, \\*\\*kwds)\n",
    "\n",
    "```python\n",
    "\"\"\"\n",
    "Parameters:  \n",
    "\n",
    "sample1, sample2, ... : array_like  \n",
    "    サンプルデータ、長さが異なることも可能。  \n",
    "    The sample data, possibly with different lengths  \n",
    "center: {‘mean’, ‘median’, ‘trimmed’}, optional  \n",
    "    検定に使う関数。デフォルトは 'median'。  \n",
    "    Which function of the data to use in the test. The default is ‘median’.  \n",
    "proportiontocut : float, optional  \n",
    "       centerが'trimmed'とき、これは各端から切り取るデータ点の割合を与える。デフォルトは0.05.\n",
    "        When center is ‘trimmed’, this gives the proportion of data points to cut from each end. \n",
    "        (See scipy.stats.trim_mean.)  The default is 0.05.  \n",
    "\n",
    "Returns:\n",
    "\n",
    "  W: float  \n",
    "       検定統計量  \n",
    "       The test statistic.  \n",
    "       \n",
    "  p-value : float  \n",
    "  　　 p値  \n",
    "       The p-value for the test.\n",
    " \"\"\"\n",
    " ```\n",
    " "
   ]
  },
  {
   "cell_type": "code",
   "execution_count": 13,
   "metadata": {
    "slideshow": {
     "slide_type": "slide"
    }
   },
   "outputs": [
    {
     "name": "stdout",
     "output_type": "stream",
     "text": [
      "Retain H0 and the variance is equal across groups\n"
     ]
    }
   ],
   "source": [
    "# Levene's test and Barlett test: the number of replications is not SAME\n",
    "w, pval_homo_var = ss.levene(data[0], data[1], data[2], data[3], center=\"median\")\n",
    "if pval_homo_var > 0.05:\n",
    "    print(\"Retain H0 and the variance is equal across groups\")\n",
    "else:\n",
    "    print(\"Reject H0. It is likely that conducting the non-parametric equivalent of the analysis is more appropriate.\")"
   ]
  },
  {
   "cell_type": "code",
   "execution_count": 14,
   "metadata": {
    "slideshow": {
     "slide_type": "slide"
    }
   },
   "outputs": [],
   "source": [
    "# Calculate effect size\n",
    "def anova_table(aov):\n",
    "    aov['mean_sq'] = aov[:]['sum_sq']/aov[:]['df']\n",
    "    aov['eta_sq'] = aov[:-1]['sum_sq']/sum(aov['sum_sq'])\n",
    "    aov['omega_sq'] = (aov[:-1]['sum_sq']-(aov[:-1]['df']*aov['mean_sq'][-1]))/ \\\n",
    "             (sum(aov['sum_sq'])+aov['mean_sq'][-1])\n",
    "    cols = ['sum_sq', 'mean_sq', 'df', 'F', 'PR(>F)', 'eta_sq', 'omega_sq']\n",
    "    aov = aov[cols]\n",
    "    return aov"
   ]
  },
  {
   "cell_type": "markdown",
   "metadata": {
    "slideshow": {
     "slide_type": "slide"
    }
   },
   "source": [
    "#### 交互作用 interaction"
   ]
  },
  {
   "cell_type": "code",
   "execution_count": 15,
   "metadata": {
    "slideshow": {
     "slide_type": "fragment"
    }
   },
   "outputs": [
    {
     "name": "stdout",
     "output_type": "stream",
     "text": [
      "Overall model F(3,196) = 16.925, p = 0.0000\n",
      "                  sum_sq     df          F        PR(>F)\n",
      "C(sp)          419.05125    1.0  44.305005  2.751275e-10\n",
      "C(sex)          18.78845    1.0   1.986445  1.602977e-01\n",
      "C(sp):C(sex)    42.41205    1.0   4.484096  3.547225e-02\n",
      "Residual      1853.83220  196.0        NaN           NaN\n",
      "Two-way ANOVA table:\n"
     ]
    },
    {
     "data": {
      "text/html": [
       "<div>\n",
       "<style scoped>\n",
       "    .dataframe tbody tr th:only-of-type {\n",
       "        vertical-align: middle;\n",
       "    }\n",
       "\n",
       "    .dataframe tbody tr th {\n",
       "        vertical-align: top;\n",
       "    }\n",
       "\n",
       "    .dataframe thead th {\n",
       "        text-align: right;\n",
       "    }\n",
       "</style>\n",
       "<table border=\"1\" class=\"dataframe\">\n",
       "  <thead>\n",
       "    <tr style=\"text-align: right;\">\n",
       "      <th></th>\n",
       "      <th>sum_sq</th>\n",
       "      <th>mean_sq</th>\n",
       "      <th>df</th>\n",
       "      <th>F</th>\n",
       "      <th>PR(&gt;F)</th>\n",
       "      <th>eta_sq</th>\n",
       "      <th>omega_sq</th>\n",
       "    </tr>\n",
       "  </thead>\n",
       "  <tbody>\n",
       "    <tr>\n",
       "      <th>C(sp)</th>\n",
       "      <td>419.05125</td>\n",
       "      <td>419.051250</td>\n",
       "      <td>1.0</td>\n",
       "      <td>44.305005</td>\n",
       "      <td>2.751275e-10</td>\n",
       "      <td>0.179536</td>\n",
       "      <td>0.174775</td>\n",
       "    </tr>\n",
       "    <tr>\n",
       "      <th>C(sex)</th>\n",
       "      <td>18.78845</td>\n",
       "      <td>18.788450</td>\n",
       "      <td>1.0</td>\n",
       "      <td>1.986445</td>\n",
       "      <td>1.602977e-01</td>\n",
       "      <td>0.008050</td>\n",
       "      <td>0.003981</td>\n",
       "    </tr>\n",
       "    <tr>\n",
       "      <th>C(sp):C(sex)</th>\n",
       "      <td>42.41205</td>\n",
       "      <td>42.412050</td>\n",
       "      <td>1.0</td>\n",
       "      <td>4.484096</td>\n",
       "      <td>3.547225e-02</td>\n",
       "      <td>0.018171</td>\n",
       "      <td>0.014062</td>\n",
       "    </tr>\n",
       "    <tr>\n",
       "      <th>Residual</th>\n",
       "      <td>1853.83220</td>\n",
       "      <td>9.458328</td>\n",
       "      <td>196.0</td>\n",
       "      <td>NaN</td>\n",
       "      <td>NaN</td>\n",
       "      <td>NaN</td>\n",
       "      <td>NaN</td>\n",
       "    </tr>\n",
       "  </tbody>\n",
       "</table>\n",
       "</div>"
      ],
      "text/plain": [
       "                  sum_sq     mean_sq     df          F        PR(>F)  \\\n",
       "C(sp)          419.05125  419.051250    1.0  44.305005  2.751275e-10   \n",
       "C(sex)          18.78845   18.788450    1.0   1.986445  1.602977e-01   \n",
       "C(sp):C(sex)    42.41205   42.412050    1.0   4.484096  3.547225e-02   \n",
       "Residual      1853.83220    9.458328  196.0        NaN           NaN   \n",
       "\n",
       "                eta_sq  omega_sq  \n",
       "C(sp)         0.179536  0.174775  \n",
       "C(sex)        0.008050  0.003981  \n",
       "C(sp):C(sex)  0.018171  0.014062  \n",
       "Residual           NaN       NaN  "
      ]
     },
     "metadata": {},
     "output_type": "display_data"
    },
    {
     "name": "stdout",
     "output_type": "stream",
     "text": [
      "The interaction term is significant.\n"
     ]
    }
   ],
   "source": [
    "### ---- using statsmodels ---- ###\n",
    "# 1. interaction\n",
    "f = 'BD ~ C(sp) * C(sex)'\n",
    "model = ols(formula=f, data=data_frame)\n",
    "\n",
    "# 2. regression\n",
    "result = model.fit()\n",
    "print(\"Overall model F({:.0f},{:.0f}) = {:.3f}, p = {:.4f}\".format(result.df_model, result.df_resid, result.fvalue, result.f_pvalue))\n",
    "# or \n",
    "#print(result.summary())\n",
    "\n",
    "# 3. anova_lm()による二元配置分散分析 Conduct a two-way ANOVA by anova_lm()\n",
    "anova_tbl = sm.stats.anova_lm(result, typ=2)\n",
    "print(anova_tbl)\n",
    "print(\"Two-way ANOVA table:\")\n",
    "display(anova_table(anova_tbl))\n",
    "pval_inter = anova_tbl.at[\"C(sp):C(sex)\", \"PR(>F)\"]\n",
    "if pval_inter < 0.05:\n",
    "    print(\"The interaction term is significant.\") \n",
    "else:\n",
    "    print(\"The interaction term is not significant.\") "
   ]
  },
  {
   "cell_type": "markdown",
   "metadata": {
    "slideshow": {
     "slide_type": "slide"
    }
   },
   "source": [
    "### Interaction plot\n",
    "\n",
    "```python\n",
    "def interaction_plot(x, trace, response, func=np.mean, ax=None, plottype='b',\n",
    "                     xlabel=None, ylabel=None, colors=None, markers=None,\n",
    "                     linestyles=None, legendloc='best', legendtitle=None,\n",
    "                     **kwargs):\n",
    "    \"\"\"\n",
    "    Interaction plot for factor level statistics.\n",
    "\n",
    "    Note. If categorial factors are supplied levels will be internally\n",
    "    recoded to integers. This ensures matplotlib compatiblity.\n",
    "\n",
    "    uses pandas.DataFrame to calculate an `aggregate` statistic for each\n",
    "    level of the factor or group given by `trace`.\n",
    "\n",
    "    Parameters\n",
    "    ----------\n",
    "    x : array-like\n",
    "        The `x` factor levels constitute the x-axis. If a `pandas.Series` is\n",
    "        given its name will be used in `xlabel` if `xlabel` is None.\n",
    "    trace : array-like\n",
    "        The `trace` factor levels will be drawn as lines in the plot.\n",
    "        If `trace` is a `pandas.Series` its name will be used as the\n",
    "        `legendtitle` if `legendtitle` is None.\n",
    "    response : array-like\n",
    "        The reponse or dependent variable. If a `pandas.Series` is given\n",
    "        its name will be used in `ylabel` if `ylabel` is None.\n",
    "    func : function\n",
    "        Anything accepted by `pandas.DataFrame.aggregate`. This is applied to\n",
    "        the response variable grouped by the trace levels.\n",
    "    plottype : str {'line', 'scatter', 'both'}, optional\n",
    "        The type of plot to return. Can be 'l', 's', or 'b'\n",
    "    ax : axes, optional\n",
    "        Matplotlib axes instance\n",
    "    xlabel : str, optional\n",
    "        Label to use for `x`. Default is 'X'. If `x` is a `pandas.Series` it\n",
    "        will use the series names.\n",
    "    ylabel : str, optional\n",
    "        Label to use for `response`. Default is 'func of response'. If\n",
    "        `response` is a `pandas.Series` it will use the series names.\n",
    "    colors : list, optional\n",
    "        If given, must have length == number of levels in trace.\n",
    "    linestyles : list, optional\n",
    "        If given, must have length == number of levels in trace.\n",
    "    markers : list, optional\n",
    "        If given, must have length == number of lovels in trace\n",
    "    kwargs\n",
    "        These will be passed to the plot command used either plot or scatter.\n",
    "        If you want to control the overall plotting options, use kwargs.\n",
    "\n",
    "    Returns\n",
    "    -------\n",
    "    fig : Figure\n",
    "        The figure given by `ax.figure` or a new instance.\n",
    "\n",
    "    Examples\n",
    "    --------\n",
    "    >>> import numpy as np\n",
    "    >>> np.random.seed(12345)\n",
    "    >>> weight = np.random.randint(1,4,size=60)\n",
    "    >>> duration = np.random.randint(1,3,size=60)\n",
    "    >>> days = np.log(np.random.randint(1,30, size=60))\n",
    "    >>> fig = interaction_plot(weight, duration, days,\n",
    "    ...             colors=['red','blue'], markers=['D','^'], ms=10)\n",
    "    >>> import matplotlib.pyplot as plt\n",
    "    >>> plt.show()\n",
    " ```"
   ]
  },
  {
   "cell_type": "code",
   "execution_count": 16,
   "metadata": {
    "slideshow": {
     "slide_type": "slide"
    }
   },
   "outputs": [
    {
     "data": {
      "image/png": "[encoded data removed]",
      "text/plain": [
       "<Figure size 432x288 with 1 Axes>"
      ]
     },
     "metadata": {},
     "output_type": "display_data"
    }
   ],
   "source": [
    "fig = interaction_plot(data_frame['sp'], data_frame['sex'], data_frame['BD'], colors=['red','blue'], markers=['D', '^'], ms=10)\n",
    "plt.show()"
   ]
  },
  {
   "cell_type": "markdown",
   "metadata": {
    "slideshow": {
     "slide_type": "slide"
    }
   },
   "source": [
    "#### 主効果　Main effects"
   ]
  },
  {
   "cell_type": "code",
   "execution_count": 24,
   "metadata": {
    "slideshow": {
     "slide_type": "fragment"
    }
   },
   "outputs": [
    {
     "name": "stdout",
     "output_type": "stream",
     "text": [
      "Overall model F(2,197) = 22.743, p = 0.0000\n",
      "Two-way ANOVA table:\n",
      "              sum_sq     df          F        PR(>F)\n",
      "C(sp)      419.05125    1.0  43.535054  3.756687e-10\n",
      "C(sex)      18.78845    1.0   1.951924  1.639513e-01\n",
      "Residual  1896.24425  197.0        NaN           NaN\n"
     ]
    },
    {
     "data": {
      "text/html": [
       "<div>\n",
       "<style scoped>\n",
       "    .dataframe tbody tr th:only-of-type {\n",
       "        vertical-align: middle;\n",
       "    }\n",
       "\n",
       "    .dataframe tbody tr th {\n",
       "        vertical-align: top;\n",
       "    }\n",
       "\n",
       "    .dataframe thead th {\n",
       "        text-align: right;\n",
       "    }\n",
       "</style>\n",
       "<table border=\"1\" class=\"dataframe\">\n",
       "  <thead>\n",
       "    <tr style=\"text-align: right;\">\n",
       "      <th></th>\n",
       "      <th>sum_sq</th>\n",
       "      <th>mean_sq</th>\n",
       "      <th>df</th>\n",
       "      <th>F</th>\n",
       "      <th>PR(&gt;F)</th>\n",
       "      <th>eta_sq</th>\n",
       "      <th>omega_sq</th>\n",
       "    </tr>\n",
       "  </thead>\n",
       "  <tbody>\n",
       "    <tr>\n",
       "      <th>C(sp)</th>\n",
       "      <td>419.05125</td>\n",
       "      <td>419.051250</td>\n",
       "      <td>1.0</td>\n",
       "      <td>43.535054</td>\n",
       "      <td>3.756687e-10</td>\n",
       "      <td>0.179536</td>\n",
       "      <td>0.174691</td>\n",
       "    </tr>\n",
       "    <tr>\n",
       "      <th>C(sex)</th>\n",
       "      <td>18.78845</td>\n",
       "      <td>18.788450</td>\n",
       "      <td>1.0</td>\n",
       "      <td>1.951924</td>\n",
       "      <td>1.639513e-01</td>\n",
       "      <td>0.008050</td>\n",
       "      <td>0.003910</td>\n",
       "    </tr>\n",
       "    <tr>\n",
       "      <th>Residual</th>\n",
       "      <td>1896.24425</td>\n",
       "      <td>9.625605</td>\n",
       "      <td>197.0</td>\n",
       "      <td>NaN</td>\n",
       "      <td>NaN</td>\n",
       "      <td>NaN</td>\n",
       "      <td>NaN</td>\n",
       "    </tr>\n",
       "  </tbody>\n",
       "</table>\n",
       "</div>"
      ],
      "text/plain": [
       "              sum_sq     mean_sq     df          F        PR(>F)    eta_sq  \\\n",
       "C(sp)      419.05125  419.051250    1.0  43.535054  3.756687e-10  0.179536   \n",
       "C(sex)      18.78845   18.788450    1.0   1.951924  1.639513e-01  0.008050   \n",
       "Residual  1896.24425    9.625605  197.0        NaN           NaN       NaN   \n",
       "\n",
       "          omega_sq  \n",
       "C(sp)     0.174691  \n",
       "C(sex)    0.003910  \n",
       "Residual       NaN  "
      ]
     },
     "metadata": {},
     "output_type": "display_data"
    },
    {
     "name": "stdout",
     "output_type": "stream",
     "text": [
      "Factor sp DOES have an independent significant effect on the mean  BD\n",
      "Factor sex DOESN'T have an independent significant effect on the mean BD.\n"
     ]
    }
   ],
   "source": [
    "# 1. interaction\n",
    "f = 'BD ~ C(sp) + C(sex)'\n",
    "model2 = ols(formula=f, data=data_frame)\n",
    "\n",
    "# 2. regression\n",
    "result2 = model2.fit()\n",
    "print(\"Overall model F({:.0f},{:.0f}) = {:.3f}, p = {:.4f}\".format(result2.df_model, result2.df_resid, result2.fvalue, result2.f_pvalue))\n",
    "# or \n",
    "#print(result.summary())\n",
    "\n",
    "# 3. anova_lm()による二元配置分散分析 Conduct a two-way ANOVA by anova_lm()\n",
    "anova_tbl2 = sm.stats.anova_lm(result2, typ=2)\n",
    "print(\"Two-way ANOVA table:\")\n",
    "print(anova_tbl2)\n",
    "display(anova_table(anova_tbl2))\n",
    "pval_Fert = anova_tbl2.at[\"C(sp)\", \"PR(>F)\"]\n",
    "pval_Water = anova_tbl2.at[\"C(sex)\", \"PR(>F)\"]\n",
    "\n",
    "if pval_Fert < 0.05:\n",
    "    print(\"Factor sp DOES have an independent significant effect on the mean  BD\") \n",
    "else:\n",
    "    print(\"Factor sp DOESN'T have an independent significant effect on the mean BD.\") \n",
    "\n",
    "if pval_Water < 0.05:\n",
    "    print(\"Factor sex DOES have an independent significant effect on the mean BD\") \n",
    "else:\n",
    "    print(\"Factor sex DOESN'T have an independent significant effect on the mean BD.\") "
   ]
  },
  {
   "cell_type": "markdown",
   "metadata": {
    "slideshow": {
     "slide_type": "slide"
    }
   },
   "source": [
    "### 主効果についての結論　Conclusion for Main effects\n",
    "\n",
    "蟹の殻の色は殻の厚さについての影響は小さい。  \n",
    "Each factor, species and sex has a  small effect on the mean the body depth."
   ]
  },
  {
   "cell_type": "markdown",
   "metadata": {
    "slideshow": {
     "slide_type": "slide"
    }
   },
   "source": [
    "### Post-hoc Testing"
   ]
  },
  {
   "cell_type": "code",
   "execution_count": 22,
   "metadata": {
    "slideshow": {
     "slide_type": "slide"
    }
   },
   "outputs": [
    {
     "name": "stdout",
     "output_type": "stream",
     "text": [
      "Multiple Comparison of Means - Tukey HSD,FWER=0.05\n",
      "===========================================\n",
      "group1 group2 meandiff lower  upper  reject\n",
      "-------------------------------------------\n",
      "  B      O     2.895   2.0277 3.7623  True \n",
      "-------------------------------------------\n"
     ]
    }
   ],
   "source": [
    "# multiple comparison by Tukey HSD\n",
    "mc_sp = mlpc.MultiComparison(data_frame['BD'], data_frame['sp'])\n",
    "result_sp = mc_sp.tukeyhsd()\n",
    "print(result_sp)"
   ]
  },
  {
   "cell_type": "markdown",
   "metadata": {
    "slideshow": {
     "slide_type": "fragment"
    }
   },
   "source": [
    "殻の色青と殻の色オレンジの殻の厚みの平均には統計的に有意な差がある。殻の色オレンジは、殻の色青よりも著しく高い殻の厚みの影響をもたらす。\n",
    "There is a statistically significant different between the mean body depth between species bule and orenge; species blue body depth a significantly higher body depth than species orenge."
   ]
  },
  {
   "cell_type": "code",
   "execution_count": 23,
   "metadata": {
    "slideshow": {
     "slide_type": "slide"
    }
   },
   "outputs": [
    {
     "name": "stdout",
     "output_type": "stream",
     "text": [
      "Multiple Comparison of Means - Tukey HSD,FWER=0.05\n",
      "============================================\n",
      "group1 group2 meandiff  lower  upper  reject\n",
      "--------------------------------------------\n",
      "  F      M     0.613   -0.3407 1.5667 False \n",
      "--------------------------------------------\n"
     ]
    }
   ],
   "source": [
    "mc_sex = mlpc.MultiComparison(data_frame['BD'], data_frame['sex'])\n",
    "result_sex = mc_sex.tukeyhsd()\n",
    "print(result_sex)"
   ]
  },
  {
   "cell_type": "markdown",
   "metadata": {
    "slideshow": {
     "slide_type": "fragment"
    }
   },
   "source": [
    "性別の間に殻の厚みの平均には統計的に有意な差がない。  \n",
    "There is not a statistically significant difference in the mean body depth between sex."
   ]
  },
  {
   "cell_type": "code",
   "execution_count": null,
   "metadata": {},
   "outputs": [],
   "source": []
  }
 ],
 "metadata": {
  "celltoolbar": "Slideshow",
  "kernelspec": {
   "display_name": "Python 3",
   "language": "python",
   "name": "python3"
  },
  "language_info": {
   "codemirror_mode": {
    "name": "ipython",
    "version": 3
   },
   "file_extension": ".py",
   "mimetype": "text/x-python",
   "name": "python",
   "nbconvert_exporter": "python",
   "pygments_lexer": "ipython3",
   "version": "3.6.5"
  },
  "toc": {
   "base_numbering": 1,
   "nav_menu": {},
   "number_sections": true,
   "sideBar": true,
   "skip_h1_title": false,
   "title_cell": "Table of Contents",
   "title_sidebar": "Contents",
   "toc_cell": false,
   "toc_position": {},
   "toc_section_display": true,
   "toc_window_display": false
  }
 },
 "nbformat": 4,
 "nbformat_minor": 2
}
