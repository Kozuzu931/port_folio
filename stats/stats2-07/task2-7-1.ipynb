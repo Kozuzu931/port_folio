{
 "cells": [
  {
   "cell_type": "markdown",
   "metadata": {},
   "source": [
    "# 二次元配置分析 Two-way ANOVA\n",
    "\n",
    "## インポートパッケージ Import packages"
   ]
  },
  {
   "cell_type": "code",
   "execution_count": 5,
   "metadata": {},
   "outputs": [],
   "source": [
    "import numpy as np\n",
    "import scipy.stats as ss\n",
    "import matplotlib.pyplot as plt\n",
    "import pandas as pd\n",
    "\n",
    "import statsmodels.api as sm\n",
    "# Regression with a formula\n",
    "from statsmodels.formula.api import ols\n",
    "# For multiple comprison\n",
    "import statsmodels.stats.multicomp as mlpc\n",
    "# Plot interaction\n",
    "from statsmodels.graphics.factorplots import interaction_plot\n",
    "\n",
    "from IPython.core.display import display"
   ]
  },
  {
   "cell_type": "code",
   "execution_count": null,
   "metadata": {},
   "outputs": [],
   "source": []
  },
  {
   "cell_type": "code",
   "execution_count": 7,
   "metadata": {},
   "outputs": [
    {
     "name": "stdout",
     "output_type": "stream",
     "text": [
      "[('A', 'High'), ('A', 'Low'), ('B', 'High'), ('B', 'Low')]\n",
      "[[27.4, 33.6, 29.8, 35.2, 33.0], [32.0, 32.2, 26.0, 33.4, 26.4], [34.8, 27.0, 30.2, 30.8, 26.4], [26.8, 23.2, 29.4, 19.4, 23.8]]\n"
     ]
    }
   ],
   "source": [
    "# Loading data\n",
    "file = \"data/crop_yield.csv\"\n",
    "data_frame = pd.read_csv(file)\n",
    "\n",
    "# ## split data\n",
    "# 1. find all levels\n",
    "fert_levels = pd.unique(data_frame[\"Fert\"])\n",
    "water_levels = pd.unique(data_frame[\"Water\"])\n",
    "# 2. extract data\n",
    "data = []\n",
    "combi_levels = []\n",
    "for fert in fert_levels:\n",
    "    for water in water_levels:\n",
    "        combi_levels.append((fert, water))\n",
    "        d_temp = data_frame[(data_frame[\"Fert\"]==fert) & (data_frame[\"Water\"] == water)][\"Yield\"]\n",
    "        data.append(d_temp.tolist())\n",
    "print(combi_levels)\n",
    "print(data)"
   ]
  },
  {
   "cell_type": "markdown",
   "metadata": {},
   "source": [
    "# ３つの前提 Three Assumptions\n",
    "  \n",
    "1. 外れ値があるかどうか（ある場合、合理的な理由があれば、削除することが可能です）\n",
    "2. 等分散性検定(ここで、levene's testを使えます)\n",
    "3. 群間に従属変数の正規性検定"
   ]
  },
  {
   "cell_type": "markdown",
   "metadata": {},
   "source": [
    "## 外れ値を検知する Detect outliers"
   ]
  },
  {
   "cell_type": "code",
   "execution_count": null,
   "metadata": {},
   "outputs": [],
   "source": []
  }
 ],
 "metadata": {
  "kernelspec": {
   "display_name": "Python 3",
   "language": "python",
   "name": "python3"
  },
  "language_info": {
   "codemirror_mode": {
    "name": "ipython",
    "version": 3
   },
   "file_extension": ".py",
   "mimetype": "text/x-python",
   "name": "python",
   "nbconvert_exporter": "python",
   "pygments_lexer": "ipython3",
   "version": "3.6.5"
  },
  "toc": {
   "base_numbering": 1,
   "nav_menu": {},
   "number_sections": true,
   "sideBar": true,
   "skip_h1_title": false,
   "title_cell": "Table of Contents",
   "title_sidebar": "Contents",
   "toc_cell": false,
   "toc_position": {},
   "toc_section_display": true,
   "toc_window_display": false
  }
 },
 "nbformat": 4,
 "nbformat_minor": 2
}
