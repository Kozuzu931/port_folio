{
 "cells": [
  {
   "cell_type": "code",
   "execution_count": null,
   "metadata": {
    "collapsed": true
   },
   "outputs": [],
   "source": [
    "import numpy as np\n",
    "import pandas as pd\n",
    "import matplotlib.pyplot as plt\n",
    "import statsmodels.api as sm\n",
    "import statsmodels.formula.api as smf\n",
    "import scipy.stats as ss\n",
    "from pandas.plotting import scatter_matrix\n",
    "import sklearn.preprocessing as sp"
   ]
  },
  {
   "cell_type": "markdown",
   "metadata": {},
   "source": [
    "###  データの読み込み Loading data"
   ]
  },
  {
   "cell_type": "code",
   "execution_count": null,
   "metadata": {},
   "outputs": [],
   "source": [
    "data = pd.read_csv(\"data/airquality.csv\", delimiter=\",\")\n",
    "print(data.head())\n",
    "data.dropna(inplace=True) #欠損値NaNを除外  Remove missing values\n",
    "print(data.head())"
   ]
  },
  {
   "cell_type": "markdown",
   "metadata": {},
   "source": [
    "### 散布図の図示 Scatter matrix"
   ]
  },
  {
   "cell_type": "code",
   "execution_count": null,
   "metadata": {},
   "outputs": [],
   "source": [
    "X = data[['Solar','Wind','Temp']] # 独立（説明）変数 independent variable\n",
    "y = data[['Ozone']] # 従属（目的）変数 dependent  variable\n",
    "scatter_matrix(data[['Ozone','Solar','Wind','Temp']]) # 対散布図をプロット Scatter matrix\n",
    "plt.show()"
   ]
  },
  {
   "cell_type": "markdown",
   "metadata": {},
   "source": [
    "### 回帰分析の実行"
   ]
  },
  {
   "cell_type": "code",
   "execution_count": null,
   "metadata": {},
   "outputs": [],
   "source": [
    "# ラベル名を用いるときのモデルの設定 Construct a linear regression model\n",
    "model = smf.ols(formula = \"Ozone ~ Solar + Wind + Temp\", data = data)\n",
    "\n",
    "# 回帰分析の実行 Execute linear  regression \n",
    "results = model.fit()\n",
    "# 結果を表示　Print results\n",
    "print(results.summary())"
   ]
  },
  {
   "cell_type": "markdown",
   "metadata": {},
   "source": [
    "### マハラノビスの距離の二乗を求める関数を定義 Define a function to find the square of Mahalanobis distance"
   ]
  },
  {
   "cell_type": "code",
   "execution_count": null,
   "metadata": {
    "collapsed": true
   },
   "outputs": [],
   "source": [
    "def Mahala2(vec_x, vec_mean, mat):\n",
    "    length = mat.shape[0]\n",
    "    vec_x = np.array(vec_x, dtype='float64')\n",
    "    vec = np.asmatrix((vec_x - vec_mean).values.reshape(length, 1))\n",
    "    inv = np.linalg.inv(mat) # 逆行列を求める　Compute the inverse of a matrix.\n",
    "    mahala2 = vec.T.dot(inv.dot(vec)) \n",
    "    return mahala2[0, 0]"
   ]
  },
  {
   "cell_type": "markdown",
   "metadata": {},
   "source": [
    "### 理論値・予測値の区間推定　Interval estimation of the theoretical value and the predicted value"
   ]
  },
  {
   "cell_type": "code",
   "execution_count": null,
   "metadata": {},
   "outputs": [],
   "source": [
    "Sigma = np.asmatrix(data[['Solar','Wind','Temp']].cov()) # 独立変数の分散共分散行列を求める． Variance-covariance matrix of IVs.\n",
    "n = len(data) # 標本数. Sample size.\n",
    "dfm = results.df_model # 独立変数の数（モデルの自由度）．　Number of IVs (Model degrees of freedom). \n",
    "t_0025 = ss.t.isf(q=0.05/2, df=n-dfm-1) # 自由度 n-dfm-1のt分布の上側2.5パーセント点(= ss.t.ppf(q=0.975, df=n-dfm-1))\n",
    "vec_mean = data[['Solar','Wind','Temp']].mean() # 独立変数の平均を求める　Find average of independent variables\n",
    "print(vec_mean)\n",
    "\n",
    "#観測値に対応する従属変数の信頼区間を求める Find CI of Y on observed values\n",
    "X = np.array([1, 190, 7.4, 67]) #観測値の設定\n",
    "hat_y=X.dot(results.params) # Xとresults.paramsの内積を求め従属変数の推定値を求める　Obtain estimated value of dependent variable\n",
    "\n",
    "D2_0 = Mahala2([190, 7.4, 67], vec_mean, Sigma) # マハラノビス距離の二乗を求める Squared Mahalanobis distance\n",
    "\n",
    "Ve = results.scale #  残差変動の不偏分散． A scale factor for the covariance matrix.\n",
    "Se_o = np.sqrt((1/n + D2_0 / (n-1)) * Ve) #観測値の場合　In case of observed value\n",
    "\n",
    "ci_low = hat_y - t_0025 * Se_o# 下側信頼\n",
    "ci_up = hat_y + t_0025 * Se_o # 上側信頼\n",
    "\n",
    "print(\"理論値（theoretical value）:\", hat_y)\n",
    "print(\"理論値の信頼区間（CI of theoretical value）：({0},{1})\".format(ci_low,ci_up))\n",
    "\n",
    "#予測値（未観測値に対応する従属変数）の信頼区間を求める Find prediction interval of Y on unobserved values\n",
    "X = np.array([1, 130,10,78]) #未観測値の設定\n",
    "hat_y=X.dot(results.params) # Xとresults.paramsの内積を求め従属変数の推定値を求める　Obtain estimated value of dependent variable\n",
    "\n",
    "D2_0 = Mahala2([130,10,78], vec_mean, Sigma) # マハラノビス距離の二乗を求める Squared Mahalanobis distance\n",
    "\n",
    "Se_p = np.sqrt((1 + 1/n + D2_0 / (n-1)) * Ve) #未観測値の場合　In case of unobserved value\n",
    "\n",
    "pi_low = hat_y - t_0025 * Se_p# 下側信頼\n",
    "pi_up = hat_y + t_0025 * Se_p # 上側信頼\n",
    "\n",
    "print(\"予測値（Predicted value）:\", hat_y)\n",
    "print(\"予測値の信頼区間（CI of predicted value）：({0},{1})\".format(pi_low,pi_up))"
   ]
  },
  {
   "cell_type": "markdown",
   "metadata": {},
   "source": [
    "### 理論値・予測値の信頼区間の可視化 Visualization of confidence intervals of theoretical and predicted values"
   ]
  },
  {
   "cell_type": "code",
   "execution_count": null,
   "metadata": {},
   "outputs": [],
   "source": [
    "solar = np.linspace(100, 300, 200) # 100から300までの等差数列を生成\n",
    "\n",
    "hat_y = []\n",
    "(wind, temp) = (10, 78) # Wind, Tempの値を(10, 78)に固定.　Wind, Temp values are fixed to (10, 78).\n",
    "\n",
    "for s in solar:\n",
    "    X = np.array([1, s, wind, temp])\n",
    "    hat_y.append(X.dot(results.params))# Xとresults.paramsの内積を求め従属変数の推定値を求める Obtain estimated value of dependent variable\n",
    "plt.plot(solar, hat_y, label=\"Predicted value\") # 予測値をプロット\n",
    "\n",
    "D2 = []\n",
    "for s in solar:\n",
    "    D2_0 = Mahala2([s, wind, temp], vec_mean, Sigma) # マハラノビス距離の二乗を求める Squared Mahalanobis distance\n",
    "    D2.append(D2_0)\n",
    "D2 = np.array(D2)\n",
    "\n",
    "Se_o = np.sqrt((1/n + D2 / (n-1)) * Ve) #観測値の場合　In case of observation value\n",
    "Se_p = np.sqrt((1 + 1/n + D2 / (n-1)) * Ve) #未観測値の場合　In case of unobserved value\n",
    "\n",
    "# 観測値に対応する従属変数の信頼区間をプロット\n",
    "plt.plot(solar, hat_y - t_0025 * Se_o, \"--g\", label=\"95% theoritical confidence interval\")\n",
    "plt.plot(solar, hat_y + t_0025 * Se_o, \"--g\")\n",
    "\n",
    "# 予測値の信頼区間をプロット\n",
    "plt.plot(solar, hat_y - t_0025 * Se_p, \"--r\", label=\"95% prediction interval\")\n",
    "plt.plot(solar, hat_y + t_0025 * Se_p, \"--r\")\n",
    "\n",
    "plt.xlabel(\"Solar\")\n",
    "plt.ylabel(\"Ozone\")\n",
    "plt.legend()\n",
    "plt.show()"
   ]
  },
  {
   "cell_type": "code",
   "execution_count": null,
   "metadata": {
    "collapsed": true
   },
   "outputs": [],
   "source": []
  }
 ],
 "metadata": {
  "kernelspec": {
   "display_name": "Python 3",
   "language": "python",
   "name": "python3"
  },
  "language_info": {
   "codemirror_mode": {
    "name": "ipython",
    "version": 3
   },
   "file_extension": ".py",
   "mimetype": "text/x-python",
   "name": "python",
   "nbconvert_exporter": "python",
   "pygments_lexer": "ipython3",
   "version": "3.6.5"
  },
  "toc": {
   "base_numbering": 1,
   "nav_menu": {},
   "number_sections": true,
   "sideBar": true,
   "skip_h1_title": false,
   "title_cell": "Table of Contents",
   "title_sidebar": "Contents",
   "toc_cell": false,
   "toc_position": {},
   "toc_section_display": true,
   "toc_window_display": false
  }
 },
 "nbformat": 4,
 "nbformat_minor": 2
}
