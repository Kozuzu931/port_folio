{
 "cells": [
  {
   "cell_type": "markdown",
   "metadata": {},
   "source": [
    "## 演習 Exercise 11\n",
    "### パッケージのインポート　Import packages\n",
    "numpyを`np`という名前でインポート　　import the numpy pacakge under the name `np`\n",
    "\n",
    "scipy.statsを`ss`という名前でインポート　　import the scipy's stats pacakge under the name `ss` \n",
    "\n",
    "matplotlib.pyplotを`plt`という名前でインポート　　import the matplotlib's pyplot package under the name `plt` "
   ]
  },
  {
   "cell_type": "code",
   "execution_count": 1,
   "metadata": {},
   "outputs": [],
   "source": [
    "import numpy as np\n",
    "import scipy.stats as ss\n",
    "import matplotlib.pyplot as plt"
   ]
  },
  {
   "cell_type": "markdown",
   "metadata": {},
   "source": [
    "### 標本データの読み込み Read a file"
   ]
  },
  {
   "cell_type": "code",
   "execution_count": 2,
   "metadata": {},
   "outputs": [],
   "source": [
    "sample = np.loadtxt(\"data/stats1-11.csv\",delimiter=',', comments='#')"
   ]
  },
  {
   "cell_type": "markdown",
   "metadata": {},
   "source": [
    "### ヒストグラムで図示 Plot the histogram\n",
    "以下のようなグラフになります\n",
    "<p></p>\n",
    "<img src=\"figh.png\" width=400>"
   ]
  },
  {
   "cell_type": "code",
   "execution_count": 3,
   "metadata": {},
   "outputs": [
    {
     "data": {
      "image/png": "[encoded data removed]",
      "text/plain": [
       "<Figure size 432x288 with 1 Axes>"
      ]
     },
     "metadata": {},
     "output_type": "display_data"
    }
   ],
   "source": [
    "plt.hist(sample, bins=20)\n",
    "plt.xlabel(\"x\")\n",
    "plt.ylabel(\"Frequency\")\n",
    "plt.show()"
   ]
  },
  {
   "cell_type": "markdown",
   "metadata": {},
   "source": [
    "### 確率密度を図示 Plot the probability density distribution\n",
    "以下のようなグラフになります\n",
    "<p></p>\n",
    "<img src=\"figd.png\" width=400>"
   ]
  },
  {
   "cell_type": "code",
   "execution_count": 4,
   "metadata": {},
   "outputs": [
    {
     "data": {
      "image/png": "[encoded data removed]",
      "text/plain": [
       "<Figure size 432x288 with 1 Axes>"
      ]
     },
     "metadata": {},
     "output_type": "display_data"
    }
   ],
   "source": [
    "plt.hist(sample, bins=20, density=True)\n",
    "plt.xlabel(\"x\")\n",
    "plt.ylabel(\"Probability\")\n",
    "plt.show()"
   ]
  },
  {
   "cell_type": "markdown",
   "metadata": {},
   "source": [
    "###  累積分布関数を図示 Plot the cumulative probability distribution\n",
    "以下のようなグラフになります\n",
    "<p></p>\n",
    "<img src=\"figc.png\" width=400>"
   ]
  },
  {
   "cell_type": "code",
   "execution_count": 6,
   "metadata": {},
   "outputs": [
    {
     "data": {
      "image/png": "[encoded data removed]",
      "text/plain": [
       "<Figure size 432x288 with 1 Axes>"
      ]
     },
     "metadata": {},
     "output_type": "display_data"
    }
   ],
   "source": [
    "plt.hist(sample, bins=20, density=True, cumulative=True)\n",
    "plt.xlabel(\"x\")\n",
    "plt.ylabel(\"cumulative probability\")\n",
    "plt.show()"
   ]
  },
  {
   "cell_type": "markdown",
   "metadata": {},
   "source": [
    "### 標本データの平均，分散，標準偏差 Calculate the mean, variance, and standard deviation of sampled data\n",
    "結果は以下のようになる (The results are shown as below)\n",
    "\n",
    "平均(Mean):-8.028      \n",
    "分散(Variance):9.255  \n",
    "標準偏差(Standard deviation):3.042"
   ]
  },
  {
   "cell_type": "code",
   "execution_count": 10,
   "metadata": {},
   "outputs": [
    {
     "name": "stdout",
     "output_type": "stream",
     "text": [
      "平均(Mean):-8.028\n",
      "分散(Variance):9.255\n",
      "標準偏差(Standard deviation):3.042\n"
     ]
    }
   ],
   "source": [
    "print(\"平均(Mean):{:.3f}\".format(np.mean(sample)))\n",
    "print(\"分散(Variance):{:.3f}\".format(np.var(sample)))\n",
    "print(\"標準偏差(Standard deviation):{:.3f}\".format(np.std(sample)))"
   ]
  },
  {
   "cell_type": "markdown",
   "metadata": {},
   "source": [
    "### 歪度，尖度，高次モーメント Calculate the skewness, kurtosis, and 5th moment\n",
    "結果は以下のようになる (The results are shown as below)\n",
    "\n",
    "歪度(Skewness):0.504   　\n",
    "尖度(Kurtosis):-0.547    　　\n",
    "5次モーメント(The 5th moment):783.369     "
   ]
  },
  {
   "cell_type": "code",
   "execution_count": 11,
   "metadata": {},
   "outputs": [
    {
     "name": "stdout",
     "output_type": "stream",
     "text": [
      "歪度(Skewness):0.504\n",
      "尖度(Kurtosis):-0.547\n",
      "5次モーメント(The 5th moment):783.369\n"
     ]
    }
   ],
   "source": [
    "print(\"歪度(Skewness):{:.3f}\".format(ss.skew(sample)))\n",
    "print(\"尖度(Kurtosis):{:.3f}\".format(ss.kurtosis(sample)))\n",
    "print(\"5次モーメント(The 5th moment):{:.3f}\".format(ss.moment(sample, moment=5)))"
   ]
  },
  {
   "cell_type": "markdown",
   "metadata": {},
   "source": [
    "### 標準化 Normalization"
   ]
  },
  {
   "cell_type": "code",
   "execution_count": 12,
   "metadata": {},
   "outputs": [],
   "source": [
    "z=ss.zscore(sample)"
   ]
  },
  {
   "cell_type": "markdown",
   "metadata": {},
   "source": [
    "### 標準化後の分布 Plot the normalized distribution\n",
    "以下のようなグラフになります\n",
    "<p></p>\n",
    "<img src=\"fig2.png\" width=400>"
   ]
  },
  {
   "cell_type": "code",
   "execution_count": 13,
   "metadata": {},
   "outputs": [
    {
     "data": {
      "image/png": "[encoded data removed]",
      "text/plain": [
       "<Figure size 432x288 with 1 Axes>"
      ]
     },
     "metadata": {},
     "output_type": "display_data"
    }
   ],
   "source": [
    "plt.hist(z,bins=20)\n",
    "plt.xlabel(\"x\")\n",
    "plt.ylabel(\"Normalized distribution\")\n",
    "plt.show()"
   ]
  },
  {
   "cell_type": "markdown",
   "metadata": {},
   "source": [
    "### 標準化後の統計量\n",
    "結果は以下のようになる (The results are shown as below)\n",
    "\n",
    "平均(mean):0.000\n",
    "分散(variance):1.000\n",
    "標準偏差(standard deviation):1.000\n",
    "歪度(skewness):0.504\n",
    "尖度(kurtosis):-0.547\n",
    "5次モーメント(5th moment):3.006"
   ]
  },
  {
   "cell_type": "code",
   "execution_count": 14,
   "metadata": {},
   "outputs": [
    {
     "name": "stdout",
     "output_type": "stream",
     "text": [
      "平均(mean):0.000\n",
      "分散(variance):1.000\n",
      "標準偏差(standard deviation):1.000\n",
      "歪度(skewness):0.504\n",
      "尖度(kurtosis):-0.547\n",
      "5次モーメント(5th moment):3.006\n"
     ]
    }
   ],
   "source": [
    "print(\"平均(mean):{:.3f}\".format(np.mean(z)))\n",
    "print(\"分散(variance):{:.3f}\".format(np.var(z)))\n",
    "print(\"標準偏差(standard deviation):{:.3f}\".format(np.std(z)))\n",
    "print(\"歪度(skewness):{:.3f}\".format(ss.skew(z)))\n",
    "print(\"尖度(kurtosis):{:.3f}\".format(ss.kurtosis(z)))\n",
    "print(\"5次モーメント(5th moment):{:.3f}\".format(ss.moment(z, moment=5)))"
   ]
  },
  {
   "cell_type": "markdown",
   "metadata": {},
   "source": [
    "### 標準化前と標準化後の分布の重ね書き\n",
    "以下のようなグラフになります\n",
    "<p></p>\n",
    "<img src=\"figm.png\" width=400>"
   ]
  },
  {
   "cell_type": "code",
   "execution_count": 15,
   "metadata": {},
   "outputs": [
    {
     "name": "stderr",
     "output_type": "stream",
     "text": [
      "No handles with labels found to put in legend.\n"
     ]
    },
    {
     "data": {
      "image/png": "[encoded data removed]",
      "text/plain": [
       "<Figure size 432x288 with 1 Axes>"
      ]
     },
     "metadata": {},
     "output_type": "display_data"
    }
   ],
   "source": [
    "fig=plt.figure()\n",
    "ax=fig.add_subplot(1,1,1)\n",
    "ax.hist(sample,bins=20,alpha=0.7)\n",
    "ax.hist(z,bins=20,alpha=0.7)\n",
    "plt.xlabel(\"x\")\n",
    "plt.ylabel(\"Freqency\")\n",
    "plt.legend()\n",
    "plt.show()"
   ]
  },
  {
   "cell_type": "code",
   "execution_count": null,
   "metadata": {},
   "outputs": [],
   "source": []
  }
 ],
 "metadata": {
  "kernelspec": {
   "display_name": "Python 3",
   "language": "python",
   "name": "python3"
  },
  "language_info": {
   "codemirror_mode": {
    "name": "ipython",
    "version": 3
   },
   "file_extension": ".py",
   "mimetype": "text/x-python",
   "name": "python",
   "nbconvert_exporter": "python",
   "pygments_lexer": "ipython3",
   "version": "3.6.5"
  }
 },
 "nbformat": 4,
 "nbformat_minor": 2
}
