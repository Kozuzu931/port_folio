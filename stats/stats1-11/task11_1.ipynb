{
 "cells": [
  {
   "cell_type": "markdown",
   "metadata": {},
   "source": [
    "## 課題 Task 11\n",
    "### パッケージのインポート　Import packages\n",
    "numpyを`np`という名前でインポート　　import the numpy pacakge under the name `np`\n",
    "\n",
    "scipy.statsを`ss`という名前でインポート　　import the scipy's stats pacakge under the name `ss` \n",
    "\n",
    "matplotlib.pyplotを`plt`という名前でインポート　　import the matplotlib's pyplot package under the name `plt` "
   ]
  },
  {
   "cell_type": "code",
   "execution_count": 1,
   "metadata": {},
   "outputs": [],
   "source": [
    "import numpy as np\n",
    "import scipy.stats as ss\n",
    "import matplotlib.pyplot as plt"
   ]
  },
  {
   "cell_type": "markdown",
   "metadata": {},
   "source": [
    "### 標本データの読み込み Read a file\n",
    "loadtxtでファイル\"task11_1.csv\"読み込み Read the file \"task11_1.csv\" by using loadtxt"
   ]
  },
  {
   "cell_type": "code",
   "execution_count": 2,
   "metadata": {},
   "outputs": [],
   "source": [
    "data = np.loadtxt(\"data/task11_1.csv\", delimiter=\",\")"
   ]
  },
  {
   "cell_type": "markdown",
   "metadata": {},
   "source": [
    "### ヒストグラムを図示 Plot the histogram\n",
    "以下のようなグラフになります。\n",
    "\n",
    "<!-- dom:FIGURE: [Figs/axis.png, width=200] -->\n",
    "<!-- begin figure -->\n",
    "\n",
    "<p></p>\n",
    "<img src=\"fight.png\" width=400>"
   ]
  },
  {
   "cell_type": "code",
   "execution_count": 10,
   "metadata": {},
   "outputs": [
    {
     "data": {
      "image/png": "[encoded data removed]",
      "text/plain": [
       "<Figure size 432x288 with 1 Axes>"
      ]
     },
     "metadata": {},
     "output_type": "display_data"
    }
   ],
   "source": [
    "fig = plt.figure()\n",
    "ax = fig.add_subplot(111)\n",
    "ax.hist(data[:, 0], alpha=0.7, bins=20)\n",
    "ax.hist(data[:, 1], alpha=0.7, bins=20)\n",
    "plt.xlabel(\"x\")\n",
    "plt.ylabel(\"Frequency\")\n",
    "plt.legend([\"sample1\", \"sample2\"])\n",
    "plt.show()"
   ]
  },
  {
   "cell_type": "markdown",
   "metadata": {},
   "source": [
    "### 確率密度を図示 Plot the probability density distribution\n",
    "以下のようなグラフになります。\n",
    "\n",
    "<!-- dom:FIGURE: [Figs/axis.png, width=200] -->\n",
    "<!-- begin figure -->\n",
    "\n",
    "<p></p>\n",
    "<img src=\"figdt.png\" width=400>"
   ]
  },
  {
   "cell_type": "code",
   "execution_count": 51,
   "metadata": {},
   "outputs": [
    {
     "data": {
      "image/png": "[encoded data removed]",
      "text/plain": [
       "<Figure size 432x288 with 1 Axes>"
      ]
     },
     "metadata": {},
     "output_type": "display_data"
    }
   ],
   "source": [
    "fig = plt.figure()\n",
    "ax = fig.add_subplot(111)\n",
    "ax.hist(data[:, 0], alpha=0.7, bins=20, density=True)\n",
    "ax.hist(data[:, 1], alpha=0.7, bins=20, density=True)\n",
    "plt.xlabel(\"x\")\n",
    "plt.ylabel(\"Probabillity\")\n",
    "plt.legend([\"sample1\", \"sample2\"])\n",
    "plt.show()"
   ]
  },
  {
   "cell_type": "markdown",
   "metadata": {},
   "source": [
    "###  累積分布関数を図示 Plot the cumulative probability distribution\n",
    "以下のようなグラフになります。\n",
    "\n",
    "<!-- dom:FIGURE: [Figs/axis.png, width=200] -->\n",
    "<!-- begin figure -->\n",
    "\n",
    "<p></p>\n",
    "<img src=\"figct.png\" width=400>"
   ]
  },
  {
   "cell_type": "code",
   "execution_count": 54,
   "metadata": {},
   "outputs": [
    {
     "data": {
      "image/png": "[encoded data removed]",
      "text/plain": [
       "<Figure size 432x288 with 1 Axes>"
      ]
     },
     "metadata": {},
     "output_type": "display_data"
    }
   ],
   "source": [
    "fig = plt.figure()\n",
    "ax = fig.add_subplot(111)\n",
    "ax.hist(data[:, 0], alpha=0.7, bins=20, cumulative=True)\n",
    "ax.hist(data[:, 1], alpha=0.7, bins=20, cumulative=True)\n",
    "plt.xlabel(\"x\")\n",
    "plt.ylabel(\"culmutative probabillity\")\n",
    "plt.legend([\"sample1\", \"sample2\"])\n",
    "plt.show()"
   ]
  },
  {
   "cell_type": "markdown",
   "metadata": {},
   "source": [
    "### 標本データの平均，分散，標準偏差を求めよ Calculate the mean, variance, and standard deviation of sampled data"
   ]
  },
  {
   "cell_type": "code",
   "execution_count": 41,
   "metadata": {},
   "outputs": [
    {
     "name": "stdout",
     "output_type": "stream",
     "text": [
      "平均(Mean):-0.105, 7.957\n",
      "分散(Variance):7.043, 8.676\n",
      "標準偏差(Standard deviation):2.654, 2.946\n"
     ]
    }
   ],
   "source": [
    "print(\"平均(Mean):{0[0]:.3f}, {0[1]:.3f}\".format(np.mean(data, axis=0)))\n",
    "print(\"分散(Variance):{0[0]:.3f}, {0[1]:.3f}\".format(np.var(data, axis=0)))\n",
    "print(\"標準偏差(Standard deviation):{0[0]:.3f}, {0[1]:.3f}\".format(np.std(data, axis=0)))"
   ]
  },
  {
   "cell_type": "markdown",
   "metadata": {},
   "source": [
    "### 歪度，尖度，高次モーメントを求めよ Calculate the skewness, kurtosis, and 5th central moment"
   ]
  },
  {
   "cell_type": "code",
   "execution_count": 49,
   "metadata": {},
   "outputs": [
    {
     "name": "stdout",
     "output_type": "stream",
     "text": [
      "歪度(Skewness):-0.051, -0.490\n",
      "尖度(Kurtosis):0.884, -0.484\n",
      "5次モーメント(The 5th moment):-59.284, -638.931\n"
     ]
    }
   ],
   "source": [
    "print(\"歪度(Skewness):{0[0]:.3f}, {0[1]:.3f}\".format(ss.skew(data, axis=0)))\n",
    "print(\"尖度(Kurtosis):{0[0]:.3f}, {0[1]:.3f}\".format(ss.kurtosis(data, axis=0)))\n",
    "print(\"5次モーメント(The 5th moment):{0[0]:.3f}, {0[1]:.3f}\".format(ss.moment(data, moment=5, axis=0)) )"
   ]
  },
  {
   "cell_type": "markdown",
   "metadata": {},
   "source": [
    "### 標準化変数を求めよ Calculate the z-score"
   ]
  },
  {
   "cell_type": "code",
   "execution_count": 50,
   "metadata": {},
   "outputs": [],
   "source": [
    "z1 = ss.zscore(data[:, 0])\n",
    "z2 = ss.zscore(data[:, 1])"
   ]
  },
  {
   "cell_type": "markdown",
   "metadata": {},
   "source": [
    "### 標準化後のヒストグラムを図示 Plot the histogram of the z-score\n",
    "以下のようなグラフになります。\n",
    "\n",
    "<!-- dom:FIGURE: [Figs/axis.png, width=200] -->\n",
    "<!-- begin figure -->\n",
    "\n",
    "<p></p>\n",
    "<img src=\"fignt.png\" width=400>"
   ]
  },
  {
   "cell_type": "code",
   "execution_count": 53,
   "metadata": {},
   "outputs": [
    {
     "data": {
      "image/png": "[encoded data removed]",
      "text/plain": [
       "<Figure size 432x288 with 1 Axes>"
      ]
     },
     "metadata": {},
     "output_type": "display_data"
    }
   ],
   "source": [
    "fig = plt.figure()\n",
    "ax = fig.add_subplot(111)\n",
    "ax.hist(z1, alpha=0.7, bins=20)\n",
    "ax.hist(z2, alpha=0.7, bins=20)\n",
    "plt.xlabel(\"x\")\n",
    "plt.ylabel(\"Normalized distribution\")\n",
    "plt.legend([\"sample1\", \"sample2\"])\n",
    "plt.show()"
   ]
  },
  {
   "cell_type": "markdown",
   "metadata": {},
   "source": [
    "### 標準化後の統計量を求めよ Calculate the statistics of normalized data"
   ]
  },
  {
   "cell_type": "code",
   "execution_count": 77,
   "metadata": {},
   "outputs": [
    {
     "name": "stdout",
     "output_type": "stream",
     "text": [
      "平均(mean):-0.000, 0.000\n",
      "分散(variance):1.000, 1.000\n",
      "標準偏差(standard deviation):1.000, 1.000\n",
      "歪度(skewness):-0.051, -0.490\n",
      "尖度(kurtosis):0.884, -0.484\n",
      "5次モーメント(5th moment):-0.450, -2.882\n"
     ]
    }
   ],
   "source": [
    "print(\"平均(mean):{0:.3f}, {1:.3f}\".format(np.mean(z1), np.mean(z2)))\n",
    "print(\"分散(variance):{0:.3f}, {1:.3f}\".format(np.var(z1), np.var(z2)))\n",
    "print(\"標準偏差(standard deviation):{0:.3f}, {1:.3f}\".format(np.std(z1), np.std(z2)))\n",
    "print(\"歪度(skewness):{0:.3f}, {1:.3f}\".format(ss.skew(z1), ss.skew(z2)))\n",
    "print(\"尖度(kurtosis):{0:.3f}, {1:.3f}\".format(ss.kurtosis(z1), ss.kurtosis(z2)))\n",
    "print(\"5次モーメント(5th moment):{0:.3f}, {1:.3f}\".format(ss.moment(z1, moment=5), ss.moment(z2, moment=5)))"
   ]
  },
  {
   "cell_type": "markdown",
   "metadata": {},
   "source": [
    "### 標準化モーメントの関数の定義しなさい Define the normalized n-th central moment\n",
    "引数は標本データと次元とする Parameters are sampling data and order\n",
    "\n",
    "モーメント関数ss.moment()と標準偏差を求める関数np.stdを用いる Please use ss.moment() and np.std()"
   ]
  },
  {
   "cell_type": "code",
   "execution_count": 75,
   "metadata": {},
   "outputs": [],
   "source": [
    "def normal_moment(data, n):\n",
    "    return (ss.moment(data, moment=n)) / (np.std(data)**n)"
   ]
  },
  {
   "cell_type": "markdown",
   "metadata": {},
   "source": [
    "### ５次の標準化モーメントを求めよ Calculate the normalized 5-th central moment"
   ]
  },
  {
   "cell_type": "code",
   "execution_count": 76,
   "metadata": {},
   "outputs": [
    {
     "name": "stdout",
     "output_type": "stream",
     "text": [
      "標準化モーメント:-0.021, -0.224\n"
     ]
    }
   ],
   "source": [
    "print(\"標準化モーメント:{0[0]:.3f}, {0[1]:.3f}\".format(normal_moment(data, 5)))"
   ]
  },
  {
   "cell_type": "code",
   "execution_count": null,
   "metadata": {},
   "outputs": [],
   "source": []
  }
 ],
 "metadata": {
  "kernelspec": {
   "display_name": "Python 3",
   "language": "python",
   "name": "python3"
  },
  "language_info": {
   "codemirror_mode": {
    "name": "ipython",
    "version": 3
   },
   "file_extension": ".py",
   "mimetype": "text/x-python",
   "name": "python",
   "nbconvert_exporter": "python",
   "pygments_lexer": "ipython3",
   "version": "3.6.5"
  }
 },
 "nbformat": 4,
 "nbformat_minor": 2
}
