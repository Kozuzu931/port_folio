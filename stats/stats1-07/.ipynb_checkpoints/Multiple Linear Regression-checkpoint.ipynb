{
 "cells": [
  {
   "cell_type": "markdown",
   "metadata": {},
   "source": [
    "### 重回帰分析（mulitple linear regression）\n",
    "\n",
    "statsmodelsというライブラリを用いて、重回帰分析を行います。\n",
    "\n",
    "statsmodelsは、さまざまな統計モデルの推定、統計テスト、統計データの調査を行うためのクラスと関数を提供するPythonモジュールです。\n",
    "statsmodels is a Python module that provides classes and functions for the estimation of many different statistical models, as well as for conducting statistical tests, and statistical data exploration. \n",
    "\n",
    "正式サイト(Official site):  \n",
    "https://www.statsmodels.org/stable/index.html  \n",
    "\n",
    "\n",
    "**インストール(Installation)**：conda install statsmodels  \n",
    "**更新（update）**：conda update statsmodels"
   ]
  },
  {
   "cell_type": "markdown",
   "metadata": {},
   "source": [
    "### 1. Import libraries\n",
    "\n"
   ]
  },
  {
   "cell_type": "code",
   "execution_count": 1,
   "metadata": {
    "collapsed": true
   },
   "outputs": [],
   "source": [
    "import numpy as np"
   ]
  },
  {
   "cell_type": "code",
   "execution_count": 2,
   "metadata": {},
   "outputs": [
    {
     "name": "stdout",
     "output_type": "stream",
     "text": [
      "Statsmodels version: 0.8.0\n"
     ]
    }
   ],
   "source": [
    "import statsmodels\n",
    "### Version\n",
    "print(\"Statsmodels version: {}\".format(statsmodels.__version__))"
   ]
  },
  {
   "cell_type": "markdown",
   "metadata": {},
   "source": [
    "#### 対話式（For interactive use）"
   ]
  },
  {
   "cell_type": "code",
   "execution_count": 3,
   "metadata": {},
   "outputs": [
    {
     "name": "stderr",
     "output_type": "stream",
     "text": [
      "/Users/kozuzu931/.pyenv/versions/anaconda3-4.3.1/lib/python3.6/site-packages/statsmodels/compat/pandas.py:56: FutureWarning: The pandas.core.datetools module is deprecated and will be removed in a future version. Please use the pandas.tseries module instead.\n",
      "  from pandas.core import datetools\n"
     ]
    }
   ],
   "source": [
    "import statsmodels.api as sm"
   ]
  },
  {
   "cell_type": "markdown",
   "metadata": {},
   "source": [
    "#### 数式対応API (formula api)"
   ]
  },
  {
   "cell_type": "code",
   "execution_count": 4,
   "metadata": {
    "collapsed": true
   },
   "outputs": [],
   "source": [
    "import statsmodels.formula.api as smf"
   ]
  },
  {
   "cell_type": "markdown",
   "metadata": {},
   "source": [
    "### 2. データファイルの読み込む(Read data)\n",
    "\n",
    "dataフォルダにある「two_obs_var.csv」をNumpyのloadtxt()で読み込みます。  \n",
    "Read the file \"two_obs_var.csv\" in the data folder via Numpy's loadtxt() function.\n",
    "\n",
    "以下は、ファイルの一部です。（Part of data is shown as following）\n",
    "\n",
    "``` \n",
    "# X1, X2, Y generated from y = 0.25 + 0.1*x1 + 0.5*x2 + epsilon\n",
    "   0.000,   0.000,   0.323\n",
    "   0.101,   0.010,   0.338\n",
    "   0.202,   0.041,   0.364\n",
    "   0.303,   0.092,   0.399\n",
    "   ...\n",
    "   ...\n",
    "```\n",
    "データファイルの基本情報は、\n",
    "\n",
    "1.何行がある?  \n",
    "2.何列がある？  \n",
    "3.コメント行がある、いわゆる、”＃”がある？  \n",
    "4.\"#\" がないの場合、ヘッドラインがある？(データ列を説明するため)  \n",
    "5.区切り文字が何ですか？  \n",
    "を調べてください。  \n",
    "\n",
    "To find basic info for our data,  \n",
    "\n",
    "1. How many rows it has?  \n",
    "2. How many columns it has?  \n",
    "3. Does it contain comment lines, i.e., lines start with a symbol such as \"#\" or others  \n",
    "4. If it does not contain comment lines, is there header lines?(description for each column)  \n",
    "5. What is the delimiter used in the data file?  \n"
   ]
  },
  {
   "cell_type": "code",
   "execution_count": 5,
   "metadata": {},
   "outputs": [
    {
     "name": "stdout",
     "output_type": "stream",
     "text": [
      "<class 'numpy.ndarray'>\n"
     ]
    }
   ],
   "source": [
    "filename = 'data/two_obs_var.csv'\n",
    "data = np.loadtxt(filename, comments=\"#\", delimiter=',') # variable \"data\" is numpy array\n",
    "print(type(data))"
   ]
  },
  {
   "cell_type": "markdown",
   "metadata": {},
   "source": [
    "### 3. 独立変数と従属変数　Independent and Dependent variables \n",
    "変数dataから独立変数と従属変数を分離します。  \n",
    "Separate data for independent and dependent variables for variable *data*\n",
    "\n",
    "\n",
    "1.列１、２：独立変数X1とx２を対応します。Column 1 and 2: Corresponds to the two independent variables, x1 and x2.   \n",
    "2.列３：従属変数Yを対応します。Column 3: Corresponds to the dependent variables Y.\n"
   ]
  },
  {
   "cell_type": "code",
   "execution_count": 6,
   "metadata": {
    "collapsed": true
   },
   "outputs": [],
   "source": [
    "X = data[:, :2]  # data[rows, cols]\n",
    "Y = data[:, 2]   # numpy slicing - \":\" means all rows, \":2\" means columns 0 and 1"
   ]
  },
  {
   "cell_type": "markdown",
   "metadata": {},
   "source": [
    "### 4. 切片について、定数をXに追加する　Add one constant for intercept at the beginning of X\n",
    "\n",
    "切片（intercept）は、既知のxと既知のyを通過する最適な回帰直線に基づいています。 独立変数が 0 (ゼロ) のときの従属変数の値です。\n",
    "Intercept is based on an optimal regression line passing through the known x and known y and value of the dependent variable when the independent variable is 0 (zero).\n",
    "\n",
    "y = ax + b \n",
    "\n",
    "a: 傾き（slope） \n",
    "b: 切片 (intercept)  \n"
   ]
  },
  {
   "cell_type": "code",
   "execution_count": 7,
   "metadata": {
    "collapsed": true
   },
   "outputs": [],
   "source": [
    "X = sm.add_constant(X)"
   ]
  },
  {
   "cell_type": "markdown",
   "metadata": {},
   "source": [
    "### 5. モデルを構築　Construct a model\n",
    "数学式: y= c + a*x1 + b*x2。既知x1, 既知x2, 既知Yがあり、a, b, cをデータの重回帰分析によって求めます。\n",
    "\n",
    "statsmodelsにOLSクラス（Ordinary Linear Regression）によって、重回帰分析用モデルを構築します。\n",
    "Construct a linear regression model via OLS class in statsmodels.\n",
    "\n",
    "クラスの定義（Class definition）は、 https://www.statsmodels.org/stable/generated/statsmodels.regression.linear_model.OLS.html?highlight=ols\n",
    "を参考してください。\n",
    "\n",
    "> Note: Xの形に注意してください.　行と列は、それぞれ観測回数と変数（測定値）に対応します。  \n",
    "> Please pay attention to the shape of X. The rows and columns are corresponding to observations and variables(values of measurements), respectively. \n",
    "\n",
    "``` python\n",
    "class statsmodels.regression.linear_model.OLS(endog, exog=None, missing='none', hasconst=None, **kwargs)\n",
    "```\n",
    "**endog** (array-like) – 1-d endogenous response variable. The dependent variable.  \n",
    "**exog** (array-like) – A **nobs x k** array where nobs is the number of observations and k is the number of regressors. An intercept is not included by default and should be added by the user. See statsmodels.tools.add_constant.  \n",
    "**missing** (str) – Available options are ‘none’, ‘drop’, and ‘raise’. If ‘none’, no nan checking is done. If ‘drop’, any observations with nans are dropped. If ‘raise’, an error is raised. Default is ‘none.’  \n",
    "**hasconst** (None or bool) – Indicates whether the RHS includes a user-supplied constant. If True, a constant is not checked for and k_constant is set to 1 and all result statistics are calculated as if a constant is present. If False, a constant is not checked for and k_constant is set to 0."
   ]
  },
  {
   "cell_type": "code",
   "execution_count": 8,
   "metadata": {
    "collapsed": true
   },
   "outputs": [],
   "source": [
    "model = sm.OLS(Y, X)"
   ]
  },
  {
   "cell_type": "markdown",
   "metadata": {},
   "source": [
    "### 6. 回帰分析の実行 (Run the regression analysis)\n",
    "\n",
    "``` python\n",
    "OLS.fit(method='pinv', cov_type='nonrobust', cov_kwds=None, use_t=None, **kwargs)\n",
    "\n",
    "Parameters:\t\n",
    "   method (str, optional) – Can be “pinv”, “qr”. “pinv” uses the Moore-Penrose pseudoinverse to solve the least   \n",
    "                            squares problem. “qr” uses the QR factorization. \n",
    "   cov_type (str, optional) – See regression.linear_model.RegressionResults for a description of the available \n",
    "                            covariance estimators\n",
    "   cov_kwds (list or None, optional) – See linear_model.RegressionResults.get_robustcov_results for a \n",
    "                            description required keywords for alternative covariance estimators\n",
    "   use_t (bool, optional) – Flag indicating to use the Student’s t distribution when computing p-values. \n",
    "                             Default behavior depends on cov_type. \n",
    "                             See linear_model.RegressionResults.get_robustcov_results for implementation details.\n",
    "Returns:\t\n",
    "Return type:\t\n",
    "    A RegressionResults class instance.\n",
    "\n",
    "```"
   ]
  },
  {
   "cell_type": "code",
   "execution_count": 9,
   "metadata": {
    "collapsed": true
   },
   "outputs": [],
   "source": [
    "results = model.fit()"
   ]
  },
  {
   "cell_type": "markdown",
   "metadata": {},
   "source": [
    "### 7. 結果（Results)\n",
    "\n",
    "summary() - Summarize the Regression Results\n",
    "conf_int(alpha=0.05, cols=None) - [0.025      0.975]\n",
    "\n",
    "Available field:  \n",
    "\n",
    "Top left: \n",
    "\n",
    "nobs     - No. Observations  \n",
    "df_model - Df Model  \n",
    "df_resid - Df Residuals  \n",
    "cov_type - Covariance Type  \n",
    "\n",
    "Top right:  \n",
    "\n",
    "**rsquared**  - R-squared  \n",
    "**rsquared_adj** - Adj. R-squared  \n",
    "**fvalue**       - F-statistic  \n",
    "**f_pvalue**     - Prob (F-statistic)  \n",
    "llf          - Log-Likelihood  \n",
    "aic          - AIC  \n",
    "bic          - BIC  \n",
    "\n",
    "diagnostic (middle):\n",
    "\n",
    "**params**  - coef [const, x1, x2]  \n",
    "**bse**     - std err [const, x1, x2]  \n",
    "**tvalues** - t [const, x1, x2]  \n",
    "**pvalues** - P>|t| [const, x1, x2]  \n",
    "\n",
    "\n",
    "diagnostic left:\n",
    "\n",
    "diagn - a dictionary for  \n",
    "```python\n",
    "    diagn['omni'] - Omnibus    \n",
    "    diagn['omnipv'] - Prob(Omnibus)  \n",
    "    diagn['skew'] - Skew  \n",
    "    diagn['kurtosis'] - Kurtosis  \n",
    "    diagn['jb'] - Jarque-Bera (JB)  \n",
    "    diagn['jbpv'] - Prob(JB)  \n",
    "    diagn['condno'] - Cond. No.  \n",
    "```    \n",
    "**condition_number** -  Cond. No."
   ]
  },
  {
   "cell_type": "code",
   "execution_count": 10,
   "metadata": {},
   "outputs": [
    {
     "name": "stdout",
     "output_type": "stream",
     "text": [
      "                            OLS Regression Results                            \n",
      "==============================================================================\n",
      "Dep. Variable:                      y   R-squared:                       1.000\n",
      "Model:                            OLS   Adj. R-squared:                  1.000\n",
      "Method:                 Least Squares   F-statistic:                 1.110e+11\n",
      "Date:                Mon, 28 May 2018   Prob (F-statistic):               0.00\n",
      "Time:                        15:12:54   Log-Likelihood:                 662.56\n",
      "No. Observations:                 100   AIC:                            -1319.\n",
      "Df Residuals:                      97   BIC:                            -1311.\n",
      "Df Model:                           2                                         \n",
      "Covariance Type:            nonrobust                                         \n",
      "==============================================================================\n",
      "                 coef    std err          t      P>|t|      [0.025      0.975]\n",
      "------------------------------------------------------------------------------\n",
      "const          0.3230   9.58e-05   3371.908      0.000       0.323       0.323\n",
      "x1             0.1000   4.43e-05   2257.342      0.000       0.100       0.100\n",
      "x2             0.5000   4.28e-06   1.17e+05      0.000       0.500       0.500\n",
      "==============================================================================\n",
      "Omnibus:                       12.414   Durbin-Watson:                   2.188\n",
      "Prob(Omnibus):                  0.002   Jarque-Bera (JB):                3.972\n",
      "Skew:                           0.046   Prob(JB):                        0.137\n",
      "Kurtosis:                       2.028   Cond. No.                         144.\n",
      "==============================================================================\n",
      "\n",
      "Warnings:\n",
      "[1] Standard Errors assume that the covariance matrix of the errors is correctly specified.\n"
     ]
    }
   ],
   "source": [
    "print(results.summary()) # 回帰分析のまとめ"
   ]
  },
  {
   "cell_type": "code",
   "execution_count": 11,
   "metadata": {},
   "outputs": [
    {
     "data": {
      "text/plain": [
       "array([  9.58010089e-05,   4.42791063e-05,   4.28485204e-06])"
      ]
     },
     "execution_count": 11,
     "metadata": {},
     "output_type": "execute_result"
    }
   ],
   "source": [
    "results.bse   # Std err"
   ]
  },
  {
   "cell_type": "code",
   "execution_count": 12,
   "metadata": {},
   "outputs": [
    {
     "data": {
      "text/plain": [
       "array([   3371.90808429,    2257.34196078,  116691.37931038])"
      ]
     },
     "execution_count": 12,
     "metadata": {},
     "output_type": "execute_result"
    }
   ],
   "source": [
    "results.tvalues # t value"
   ]
  },
  {
   "cell_type": "code",
   "execution_count": 13,
   "metadata": {},
   "outputs": [
    {
     "data": {
      "text/plain": [
       "array([  1.15276439e-247,   9.25813926e-231,   0.00000000e+000])"
      ]
     },
     "execution_count": 13,
     "metadata": {},
     "output_type": "execute_result"
    }
   ],
   "source": [
    "results.pvalues # P>|t|"
   ]
  },
  {
   "cell_type": "code",
   "execution_count": 14,
   "metadata": {},
   "outputs": [
    {
     "data": {
      "text/plain": [
       "144.29876800227544"
      ]
     },
     "execution_count": 14,
     "metadata": {},
     "output_type": "execute_result"
    }
   ],
   "source": [
    "results.condition_number  # if condo > 1000: strong multicollinearity or other numerical problems"
   ]
  },
  {
   "cell_type": "code",
   "execution_count": 15,
   "metadata": {},
   "outputs": [
    {
     "name": "stdout",
     "output_type": "stream",
     "text": [
      "[  2.06233393e+05   2.40612534e+02   9.90452702e+00]\n",
      "9.90452702449\n"
     ]
    }
   ],
   "source": [
    "# if eigenvals[-1] < 1e-10, The smallest eigenvalue indicate strong multicollinearity problems or that the design\n",
    "# matrix is singular\n",
    "print(results.eigenvals)\n",
    "print(results.eigenvals[-1])"
   ]
  },
  {
   "cell_type": "code",
   "execution_count": 16,
   "metadata": {},
   "outputs": [
    {
     "data": {
      "text/plain": [
       "array([ 0.3230322 ,  0.09995308,  0.50000529])"
      ]
     },
     "execution_count": 16,
     "metadata": {},
     "output_type": "execute_result"
    }
   ],
   "source": [
    "results.params  # [const, a, b]に対応します。"
   ]
  },
  {
   "cell_type": "markdown",
   "metadata": {},
   "source": [
    "### 結果から見ると（Results）\n",
    "two_obs_var.csvは,以下の式で作成した。  \n",
    "Y = 0.25 + 0.1*x1 + 0.5*x2 + epsilon  \n",
    "epsilonはランダム誤差です。  \n",
    "\n",
    "Data saved in two_obs_var.csv was generated by the following formula,   \n",
    "Y = 0.25 + 0.1*x1 + 0.5*x2 + epsilon  \n",
    "where, epsilon represents random errors.\n",
    "\n",
    "\n",
    "|   |  True  |  Regression  |\n",
    "|-- | ------ |  ----------- |\n",
    "| c |  0.25  |  0.3230      |\n",
    "| a |  0.1   |  0.1         |\n",
    "| b |  0.5   |  0.5         |\n",
    "\n",
    "\n",
    "回帰の結果は,　真実の係数にすごく近いことがわかりました。  \n",
    "From the above regression result, we know that \n",
    "the regression coefficients are very close to the true ones.\n",
    "\n",
    "\n"
   ]
  },
  {
   "cell_type": "code",
   "execution_count": null,
   "metadata": {
    "collapsed": true
   },
   "outputs": [],
   "source": []
  }
 ],
 "metadata": {
  "kernelspec": {
   "display_name": "Python 3",
   "language": "python",
   "name": "python3"
  },
  "language_info": {
   "codemirror_mode": {
    "name": "ipython",
    "version": 3
   },
   "file_extension": ".py",
   "mimetype": "text/x-python",
   "name": "python",
   "nbconvert_exporter": "python",
   "pygments_lexer": "ipython3",
   "version": "3.6.2"
  }
 },
 "nbformat": 4,
 "nbformat_minor": 2
}
