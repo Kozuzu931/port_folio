{
 "cells": [
  {
   "cell_type": "code",
   "execution_count": 1,
   "metadata": {},
   "outputs": [],
   "source": [
    "import numpy as np\n",
    "import scipy.stats as ss"
   ]
  },
  {
   "cell_type": "code",
   "execution_count": 10,
   "metadata": {},
   "outputs": [],
   "source": [
    "n_classes = 7\n",
    "\n",
    "data = np.loadtxt(\"data/DayOfBirths.txt\", delimiter=\"    \", comments=\"#\")\n",
    "\n",
    "obs = data[:, 1]\n",
    "expected = np.asarray([100] * n_classes)\n",
    "df = n_classes - 1"
   ]
  },
  {
   "cell_type": "code",
   "execution_count": 11,
   "metadata": {},
   "outputs": [
    {
     "name": "stdout",
     "output_type": "stream",
     "text": [
      "critical value (df=6): 12.591587243743977\n"
     ]
    }
   ],
   "source": [
    "alpha = 0.05\n",
    "chi_c = ss.chi2.ppf(1 - alpha, df)\n",
    "print(\"critical value (df={}): {}\".format(df, chi_c))"
   ]
  },
  {
   "cell_type": "code",
   "execution_count": 12,
   "metadata": {},
   "outputs": [
    {
     "name": "stdout",
     "output_type": "stream",
     "text": [
      "chi-squared statistic: 19.12/n p value: 0.003965699275775032\n",
      "Manually chisq: 19.12, p-val:0.00397\n"
     ]
    }
   ],
   "source": [
    "chisq, p_val = ss.chisquare(obs, f_exp=expected, ddof=0)\n",
    "print(\"chi-squared statistic: {}/n p value: {}\".format(chisq, p_val))\n",
    "\n",
    "chisq_manual = np.sum(np.square(obs - expected) / expected)\n",
    "p_val_manual = 1 - ss.chi2.cdf(chisq_manual, df)\n",
    "print(\"Manually chisq: {}, p-val:{:.5f}\".format(chisq_manual, p_val_manual))"
   ]
  },
  {
   "cell_type": "code",
   "execution_count": 15,
   "metadata": {},
   "outputs": [
    {
     "name": "stdout",
     "output_type": "stream",
     "text": [
      "Reject the null hypothesis by chi test statistic.\n",
      "Reject the null hypothesis by p value.\n"
     ]
    }
   ],
   "source": [
    "info1 = \"insufficient\"\n",
    "if chi_c >= chisq:\n",
    "    print(\"Retain the null hypothesis by chi test statistic.\")\n",
    "else:\n",
    "    print(\"Reject the null hypothesis by chi test statistic.\")\n",
    "    info1 = \"sufficient\"\n",
    "\n",
    "if p_val < alpha:\n",
    "    print(\"Reject the null hypothesis by p value.\")\n",
    "else:\n",
    "    print(\"Retain the null hypothesis by p value.\")"
   ]
  },
  {
   "cell_type": "code",
   "execution_count": 17,
   "metadata": {},
   "outputs": [
    {
     "name": "stdout",
     "output_type": "stream",
     "text": [
      "\n",
      "解釈(Interpretation):\n",
      "There is sufficient evidence at the 5% level of sighnificance\n",
      "to say that  infant's birth day correlates to day of week\n",
      "\n"
     ]
    }
   ],
   "source": [
    "info=\"\"\"\n",
    "解釈(Interpretation):\n",
    "There is {} evidence at the {}% level of sighnificance\n",
    "to say that  infant's birth day correlates to day of week\n",
    "\"\"\".format(info1, int(alpha*100))\n",
    "print(info)"
   ]
  },
  {
   "cell_type": "code",
   "execution_count": null,
   "metadata": {},
   "outputs": [],
   "source": []
  }
 ],
 "metadata": {
  "kernelspec": {
   "display_name": "Python 3",
   "language": "python",
   "name": "python3"
  },
  "language_info": {
   "codemirror_mode": {
    "name": "ipython",
    "version": 3
   },
   "file_extension": ".py",
   "mimetype": "text/x-python",
   "name": "python",
   "nbconvert_exporter": "python",
   "pygments_lexer": "ipython3",
   "version": "3.6.5"
  },
  "toc": {
   "base_numbering": 1,
   "nav_menu": {},
   "number_sections": true,
   "sideBar": true,
   "skip_h1_title": false,
   "title_cell": "Table of Contents",
   "title_sidebar": "Contents",
   "toc_cell": false,
   "toc_position": {},
   "toc_section_display": true,
   "toc_window_display": false
  }
 },
 "nbformat": 4,
 "nbformat_minor": 2
}
