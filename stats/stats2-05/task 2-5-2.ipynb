{
 "cells": [
  {
   "cell_type": "code",
   "execution_count": 2,
   "metadata": {},
   "outputs": [],
   "source": [
    "import numpy as np\n",
    "import scipy.stats as ss"
   ]
  },
  {
   "cell_type": "code",
   "execution_count": 10,
   "metadata": {},
   "outputs": [],
   "source": [
    "obs = [[65, 66],\n",
    "              [77,83],\n",
    "              [56,58],\n",
    "               [88,96],\n",
    "               [91,96],\n",
    "               [65, 60],\n",
    "               [78,82]\n",
    "                              ]\n",
    "obs = np.asarray(obs)\n",
    "r, c = obs.shape\n",
    "df = (r - 1) * (c - 1)"
   ]
  },
  {
   "cell_type": "code",
   "execution_count": 7,
   "metadata": {},
   "outputs": [
    {
     "name": "stdout",
     "output_type": "stream",
     "text": [
      "critical value (df=6): 12.591587243743977\n"
     ]
    }
   ],
   "source": [
    "alpha = 0.05\n",
    "chi_c = ss.chi2.ppf(1 - alpha, df)\n",
    "print(\"critical value (df={}): {}\".format(df, chi_c))"
   ]
  },
  {
   "cell_type": "code",
   "execution_count": 8,
   "metadata": {},
   "outputs": [
    {
     "name": "stdout",
     "output_type": "stream",
     "text": [
      "Statistic: 0.6338399223840339\n",
      "p: 0.9958091474935024\n",
      "df: 6\n",
      "excepted: [[64.20358153 66.79641847]\n",
      " [78.41658812 81.58341188]\n",
      " [55.87181904 58.12818096]\n",
      " [90.17907634 93.82092366]\n",
      " [91.64938737 95.35061263]\n",
      " [61.26295947 63.73704053]\n",
      " [78.41658812 81.58341188]]\n"
     ]
    }
   ],
   "source": [
    "chi2, p, dof, excepted = ss.chi2_contingency(obs, correction=True)\n",
    "print(\"Statistic: {}\".format(chi2))\n",
    "print(\"p: {}\".format(p))\n",
    "print(\"df: {}\".format(dof))\n",
    "print(\"excepted: {}\".format(excepted))"
   ]
  },
  {
   "cell_type": "code",
   "execution_count": 18,
   "metadata": {},
   "outputs": [
    {
     "name": "stdout",
     "output_type": "stream",
     "text": [
      "Reject the null hypothesis by chi test statistic.\n",
      "Reject the null hypothesis by p value.\n"
     ]
    }
   ],
   "source": [
    "info1 = \"insufficient\"\n",
    "if chi_c >= chi2:\n",
    "    print(\"Retain the null hypothesis by chi test statistic.\")\n",
    "else:\n",
    "    print(\"Reject the null hypothesis by chi test statistic.\")\n",
    "    info1 = \"sufficient\"\n",
    "    \n",
    "if p < alpha:\n",
    "    print(\"Reject the null hypothesis by p value.\")\n",
    "else:\n",
    "    print(\"Retain the null hypothesis by p value.\")"
   ]
  },
  {
   "cell_type": "code",
   "execution_count": 19,
   "metadata": {},
   "outputs": [
    {
     "name": "stdout",
     "output_type": "stream",
     "text": [
      "\n",
      "解釈(Interpretation):\n",
      "There is sufficient evidence at the 5% level of sighnificance\n",
      "to say that type of DNA correlates to coronary artery disease　lates\n",
      "\n"
     ]
    }
   ],
   "source": [
    "info=\"\"\"\n",
    "解釈(Interpretation):\n",
    "There is {} evidence at the {}% level of sighnificance\n",
    "to say that type of DNA correlates to coronary artery disease　lates\n",
    "\"\"\".format(info1, int(alpha*100))\n",
    "print(info)"
   ]
  }
 ],
 "metadata": {
  "kernelspec": {
   "display_name": "Python 3",
   "language": "python",
   "name": "python3"
  },
  "language_info": {
   "codemirror_mode": {
    "name": "ipython",
    "version": 3
   },
   "file_extension": ".py",
   "mimetype": "text/x-python",
   "name": "python",
   "nbconvert_exporter": "python",
   "pygments_lexer": "ipython3",
   "version": "3.6.5"
  },
  "toc": {
   "base_numbering": 1,
   "nav_menu": {},
   "number_sections": true,
   "sideBar": true,
   "skip_h1_title": false,
   "title_cell": "Table of Contents",
   "title_sidebar": "Contents",
   "toc_cell": false,
   "toc_position": {},
   "toc_section_display": true,
   "toc_window_display": false
  }
 },
 "nbformat": 4,
 "nbformat_minor": 2
}
