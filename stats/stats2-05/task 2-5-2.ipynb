{
 "cells": [
  {
   "cell_type": "code",
   "execution_count": 1,
   "metadata": {},
   "outputs": [
    {
     "name": "stderr",
     "output_type": "stream",
     "text": [
      "/Users/kozuzu931/.pyenv/versions/anaconda3-4.3.1/lib/python3.6/importlib/_bootstrap.py:219: RuntimeWarning: numpy.dtype size changed, may indicate binary incompatibility. Expected 96, got 88\n",
      "  return f(*args, **kwds)\n"
     ]
    }
   ],
   "source": [
    "import numpy as np\n",
    "import scipy.stats as ss"
   ]
  },
  {
   "cell_type": "code",
   "execution_count": 15,
   "metadata": {},
   "outputs": [],
   "source": [
    "obs = [[268,807],\n",
    "              [199, 759],\n",
    "              [42,184]]\n",
    "obs = np.asarray(obs)\n",
    "r, c = obs.shape\n",
    "df = (r - 1) * (c - 1)"
   ]
  },
  {
   "cell_type": "code",
   "execution_count": 16,
   "metadata": {},
   "outputs": [
    {
     "name": "stdout",
     "output_type": "stream",
     "text": [
      "critical value (df=2): 5.991464547107979\n"
     ]
    }
   ],
   "source": [
    "alpha = 0.05\n",
    "chi_c = ss.chi2.ppf(1 - alpha, df)\n",
    "print(\"critical value (df={}): {}\".format(df, chi_c))"
   ]
  },
  {
   "cell_type": "code",
   "execution_count": 17,
   "metadata": {},
   "outputs": [
    {
     "name": "stdout",
     "output_type": "stream",
     "text": [
      "Statistic: 7.259385865700841\n",
      "p: 0.026524327908294926\n",
      "df: 2\n",
      "excepted: [[242.22000885 832.77999115]\n",
      " [215.85745905 742.14254095]\n",
      " [ 50.92253209 175.07746791]]\n"
     ]
    }
   ],
   "source": [
    "chi2, p, dof, excepted = ss.chi2_contingency(obs, correction=True)\n",
    "print(\"Statistic: {}\".format(chi2))\n",
    "print(\"p: {}\".format(p))\n",
    "print(\"df: {}\".format(dof))\n",
    "print(\"excepted: {}\".format(excepted))"
   ]
  },
  {
   "cell_type": "code",
   "execution_count": 18,
   "metadata": {},
   "outputs": [
    {
     "name": "stdout",
     "output_type": "stream",
     "text": [
      "Reject the null hypothesis by chi test statistic.\n",
      "Reject the null hypothesis by p value.\n"
     ]
    }
   ],
   "source": [
    "info1 = \"insufficient\"\n",
    "if chi_c >= chi2:\n",
    "    print(\"Retain the null hypothesis by chi test statistic.\")\n",
    "else:\n",
    "    print(\"Reject the null hypothesis by chi test statistic.\")\n",
    "    info1 = \"sufficient\"\n",
    "    \n",
    "if p < alpha:\n",
    "    print(\"Reject the null hypothesis by p value.\")\n",
    "else:\n",
    "    print(\"Retain the null hypothesis by p value.\")"
   ]
  },
  {
   "cell_type": "code",
   "execution_count": 19,
   "metadata": {},
   "outputs": [
    {
     "name": "stdout",
     "output_type": "stream",
     "text": [
      "\n",
      "解釈(Interpretation):\n",
      "There is sufficient evidence at the 5% level of sighnificance\n",
      "to say that type of DNA correlates to coronary artery disease　lates\n",
      "\n"
     ]
    }
   ],
   "source": [
    "info=\"\"\"\n",
    "解釈(Interpretation):\n",
    "There is {} evidence at the {}% level of sighnificance\n",
    "to say that type of DNA correlates to coronary artery disease　lates\n",
    "\"\"\".format(info1, int(alpha*100))\n",
    "print(info)"
   ]
  },
  {
   "cell_type": "code",
   "execution_count": null,
   "metadata": {},
   "outputs": [],
   "source": []
  }
 ],
 "metadata": {
  "kernelspec": {
   "display_name": "Python 3",
   "language": "python",
   "name": "python3"
  },
  "language_info": {
   "codemirror_mode": {
    "name": "ipython",
    "version": 3
   },
   "file_extension": ".py",
   "mimetype": "text/x-python",
   "name": "python",
   "nbconvert_exporter": "python",
   "pygments_lexer": "ipython3",
   "version": "3.6.5"
  },
  "toc": {
   "base_numbering": 1,
   "nav_menu": {},
   "number_sections": true,
   "sideBar": true,
   "skip_h1_title": false,
   "title_cell": "Table of Contents",
   "title_sidebar": "Contents",
   "toc_cell": false,
   "toc_position": {},
   "toc_section_display": true,
   "toc_window_display": false
  }
 },
 "nbformat": 4,
 "nbformat_minor": 2
}
