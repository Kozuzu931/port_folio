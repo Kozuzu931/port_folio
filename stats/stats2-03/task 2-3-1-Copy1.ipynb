{
 "cells": [
  {
   "cell_type": "code",
   "execution_count": 13,
   "metadata": {},
   "outputs": [],
   "source": [
    "import numpy as np\n",
    "import scipy.stats as ss"
   ]
  },
  {
   "cell_type": "code",
   "execution_count": 27,
   "metadata": {},
   "outputs": [],
   "source": [
    "#data = np.loadtxt(\"data/stats2_3_1.csv\")\n",
    "#data = np.array([1.53,  1.57 , 1.54 , 1.57 , 1.53  ,1.55 , 1.56 , 1.53])"
   ]
  },
  {
   "cell_type": "code",
   "execution_count": 38,
   "metadata": {},
   "outputs": [],
   "source": [
    "sample1_mean = 4500\n",
    "sample1_std = 120\n",
    "\n",
    "sample2_mean = 4450\n",
    "sampe2_std = 120"
   ]
  },
  {
   "cell_type": "code",
   "execution_count": 39,
   "metadata": {},
   "outputs": [
    {
     "name": "stdout",
     "output_type": "stream",
     "text": [
      "z critical value: [-1.960, 1.960]\n"
     ]
    }
   ],
   "source": [
    "alpha = 0.05\n",
    "z_critical_value = ss.norm.ppf(alpha/2)\n",
    "print(\"z critical value: [{:.3f}, {:.3f}]\".format(z_critical_value, -z_critical_value))"
   ]
  },
  {
   "cell_type": "code",
   "execution_count": 41,
   "metadata": {
    "scrolled": true
   },
   "outputs": [
    {
     "name": "stdout",
     "output_type": "stream",
     "text": [
      "Criticulate z value: 2.946\n"
     ]
    }
   ],
   "source": [
    "z = (sample1_mean - sample2_mean) / (sample1_std / np.sqrt(50))\n",
    "print(\"Criticulate z value: {:.3f}\".format(z))"
   ]
  },
  {
   "cell_type": "code",
   "execution_count": 42,
   "metadata": {},
   "outputs": [
    {
     "name": "stdout",
     "output_type": "stream",
     "text": [
      "Retain the null hypothesis and 　new Customer Satisfaction Survey is no difference previous data.\n"
     ]
    }
   ],
   "source": [
    "info = \"\"\"\"We reject the null hypothesis (H0) with a {}% chance of making a Type I error.\n",
    "And new Customer Satisfaction Survey is difference of previous data.\"\"\".format(alpha*100)\n",
    "\n",
    "#if -z_critical_value <= z <= z_critical_value:\n",
    "if z_critical_value <= z:\n",
    "    print(\"Retain the null hypothesis and 　new Customer Satisfaction Survey is no difference previous data.\")\n",
    "else:\n",
    "    print(info)"
   ]
  },
  {
   "cell_type": "code",
   "execution_count": 44,
   "metadata": {},
   "outputs": [
    {
     "name": "stdout",
     "output_type": "stream",
     "text": [
      "P value: 0.0016081146550637193\n"
     ]
    }
   ],
   "source": [
    "p_critical = ss.norm.cdf(z)\n",
    "print(\"P value: {:}\".format(1-p_critical))"
   ]
  },
  {
   "cell_type": "code",
   "execution_count": null,
   "metadata": {},
   "outputs": [],
   "source": []
  }
 ],
 "metadata": {
  "kernelspec": {
   "display_name": "Python 3",
   "language": "python",
   "name": "python3"
  },
  "language_info": {
   "codemirror_mode": {
    "name": "ipython",
    "version": 3
   },
   "file_extension": ".py",
   "mimetype": "text/x-python",
   "name": "python",
   "nbconvert_exporter": "python",
   "pygments_lexer": "ipython3",
   "version": "3.6.5"
  },
  "toc": {
   "base_numbering": 1,
   "nav_menu": {},
   "number_sections": true,
   "sideBar": true,
   "skip_h1_title": false,
   "title_cell": "Table of Contents",
   "title_sidebar": "Contents",
   "toc_cell": false,
   "toc_position": {},
   "toc_section_display": true,
   "toc_window_display": false
  }
 },
 "nbformat": 4,
 "nbformat_minor": 2
}
