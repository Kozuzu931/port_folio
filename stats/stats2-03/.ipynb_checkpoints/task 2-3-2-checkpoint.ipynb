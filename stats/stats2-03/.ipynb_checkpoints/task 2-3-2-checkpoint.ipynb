{
 "cells": [
  {
   "cell_type": "code",
   "execution_count": 1,
   "metadata": {},
   "outputs": [],
   "source": [
    "import numpy as np\n",
    "import scipy.stats as ss"
   ]
  },
  {
   "cell_type": "code",
   "execution_count": 2,
   "metadata": {},
   "outputs": [],
   "source": [
    "data1 = np.loadtxt(\"data/stats2_3_2a.csv\")\n",
    "data2 = np.loadtxt(\"data/stats2_3_2b.csv\")"
   ]
  },
  {
   "cell_type": "code",
   "execution_count": 3,
   "metadata": {},
   "outputs": [],
   "source": [
    "n1 = len(data1)\n",
    "n1_mean = np.mean(data1)\n",
    "n1_std = np.std(data1)\n",
    "\n",
    "n2 = len(data2)\n",
    "n2_mean = np.mean(data2)\n",
    "n2_std = np.std(data2)"
   ]
  },
  {
   "cell_type": "code",
   "execution_count": 5,
   "metadata": {},
   "outputs": [
    {
     "name": "stdout",
     "output_type": "stream",
     "text": [
      "z critical value: [-1.960, 1.960]\n"
     ]
    }
   ],
   "source": [
    "alpha = 0.05\n",
    "z_critical_value = ss.norm.ppf(alpha/2)\n",
    "print(\"z critical value: [{:.3f}, {:.3f}]\".format(z_critical_value, -z_critical_value))"
   ]
  },
  {
   "cell_type": "code",
   "execution_count": 6,
   "metadata": {},
   "outputs": [
    {
     "name": "stdout",
     "output_type": "stream",
     "text": [
      "mean diff : 1.3342633333333396\n",
      "se1 : 0.5281548993289382\n",
      "se2 : 0.8747642771550928\n",
      "z value: 1.1264845135589994\n"
     ]
    }
   ],
   "source": [
    "se1 = n1_std * n1_std / n1\n",
    "se2 = n2_std * n2_std / n2\n",
    "se_diff = np.sqrt(se1 + se2)\n",
    "z = (n1_mean - n2_mean) / se_diff\n",
    "print(\"mean diff : {}\".format(n1_mean - n2_mean))\n",
    "print(\"se1 : {}\".format(se1))\n",
    "print(\"se2 : {}\".format(se2))\n",
    "print(\"z value: {}\".format(z))"
   ]
  },
  {
   "cell_type": "code",
   "execution_count": 7,
   "metadata": {},
   "outputs": [
    {
     "name": "stdout",
     "output_type": "stream",
     "text": [
      "p-value: 1.6826894921370859\n"
     ]
    }
   ],
   "source": [
    "p_value = ss.norm.cdf(np.floor(z)) * 2\n",
    "print(\"p-value: {}\".format(p_value))"
   ]
  },
  {
   "cell_type": "code",
   "execution_count": 8,
   "metadata": {},
   "outputs": [
    {
     "name": "stdout",
     "output_type": "stream",
     "text": [
      "Accept H0 by z-statistic\n",
      "Accept H0 by p value\n"
     ]
    }
   ],
   "source": [
    "if not (z_critical_value <= z <= -z_critical_value):\n",
    "    print(\"Reject H0 by z-statistic\")\n",
    "else:\n",
    "    print(\"Accept H0 by z-statistic\")\n",
    "\n",
    "if p_value < alpha:\n",
    "    print(\"Reject H0 by p value\")\n",
    "else:\n",
    "    print(\"Accept H0 by p value\")"
   ]
  },
  {
   "cell_type": "code",
   "execution_count": null,
   "metadata": {},
   "outputs": [],
   "source": []
  }
 ],
 "metadata": {
  "kernelspec": {
   "display_name": "Python 3",
   "language": "python",
   "name": "python3"
  },
  "language_info": {
   "codemirror_mode": {
    "name": "ipython",
    "version": 3
   },
   "file_extension": ".py",
   "mimetype": "text/x-python",
   "name": "python",
   "nbconvert_exporter": "python",
   "pygments_lexer": "ipython3",
   "version": "3.6.5"
  },
  "toc": {
   "base_numbering": 1,
   "nav_menu": {},
   "number_sections": true,
   "sideBar": true,
   "skip_h1_title": false,
   "title_cell": "Table of Contents",
   "title_sidebar": "Contents",
   "toc_cell": false,
   "toc_position": {},
   "toc_section_display": true,
   "toc_window_display": false
  }
 },
 "nbformat": 4,
 "nbformat_minor": 2
}
