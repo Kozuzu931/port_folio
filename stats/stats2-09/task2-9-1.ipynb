{
 "cells": [
  {
   "cell_type": "markdown",
   "metadata": {},
   "source": [
    "# Import library\n",
    "use numpy, scipy.stats, pandas"
   ]
  },
  {
   "cell_type": "code",
   "execution_count": 1,
   "metadata": {},
   "outputs": [
    {
     "name": "stderr",
     "output_type": "stream",
     "text": [
      "/Users/kozuzu931/.pyenv/versions/anaconda3-4.3.1/lib/python3.6/importlib/_bootstrap.py:219: RuntimeWarning: numpy.dtype size changed, may indicate binary incompatibility. Expected 96, got 88\n",
      "  return f(*args, **kwds)\n",
      "/Users/kozuzu931/.pyenv/versions/anaconda3-4.3.1/lib/python3.6/importlib/_bootstrap.py:219: RuntimeWarning: numpy.dtype size changed, may indicate binary incompatibility. Expected 96, got 88\n",
      "  return f(*args, **kwds)\n"
     ]
    }
   ],
   "source": [
    "import numpy as np\n",
    "import scipy.stats as ss\n",
    "import pandas as pd"
   ]
  },
  {
   "cell_type": "markdown",
   "metadata": {},
   "source": [
    "# Load data"
   ]
  },
  {
   "cell_type": "code",
   "execution_count": 2,
   "metadata": {},
   "outputs": [],
   "source": [
    "data = pd.read_csv(\"data/test_dataset.txt\", comment=\"#\")"
   ]
  },
  {
   "cell_type": "code",
   "execution_count": 23,
   "metadata": {},
   "outputs": [
    {
     "name": "stdout",
     "output_type": "stream",
     "text": [
      "    WearAmount SoleMaterial\n",
      "0         13.2            A\n",
      "1          8.2            A\n",
      "2         10.9            A\n",
      "3         14.3            A\n",
      "4         10.7            A\n",
      "5          6.6            A\n",
      "6          9.5            A\n",
      "7         10.8            A\n",
      "8          8.8            A\n",
      "9         13.3            A\n",
      "10        14.0            B\n",
      "11         8.8            B\n",
      "12        11.2            B\n",
      "13        14.2            B\n",
      "14        11.8            B\n",
      "15         6.4            B\n",
      "16         9.8            B\n",
      "17        11.3            B\n",
      "18         9.3            B\n",
      "19        13.6            B\n"
     ]
    }
   ],
   "source": [
    "print(data)"
   ]
  },
  {
   "cell_type": "markdown",
   "metadata": {},
   "source": [
    "# Devide to two data by a faceter of sole materials and check of sample size"
   ]
  },
  {
   "cell_type": "code",
   "execution_count": 16,
   "metadata": {},
   "outputs": [],
   "source": [
    "Solem_A = data.groupby(\"SoleMaterial\").get_group(\"A\").WearAmount.values\n",
    "Solem_B = data.groupby(\"SoleMaterial\").get_group(\"B\").WearAmount.values"
   ]
  },
  {
   "cell_type": "code",
   "execution_count": 18,
   "metadata": {},
   "outputs": [
    {
     "name": "stdout",
     "output_type": "stream",
     "text": [
      "Solem_A size: 10\n",
      "Solem_B size: 10\n"
     ]
    }
   ],
   "source": [
    "print(\"Solem_A size:\", len(Solem_A))\n",
    "print(\"Solem_B size:\", len(Solem_B))"
   ]
  },
  {
   "cell_type": "markdown",
   "metadata": {},
   "source": [
    "# Check of equal variance"
   ]
  },
  {
   "cell_type": "code",
   "execution_count": 26,
   "metadata": {},
   "outputs": [
    {
     "name": "stdout",
     "output_type": "stream",
     "text": [
      "The ratio of variance: 2.3255321971540193/2.389225816033302=0.973\n"
     ]
    }
   ],
   "source": [
    "s1 = np.std(Solem_A)\n",
    "s2 = np.std(Solem_B)\n",
    "print(\"The ratio of variance: {}/{}={:.3f}\".format(s1, s2, s1/s2))"
   ]
  },
  {
   "cell_type": "markdown",
   "metadata": {},
   "source": [
    "#  T test"
   ]
  },
  {
   "cell_type": "code",
   "execution_count": 19,
   "metadata": {},
   "outputs": [
    {
     "name": "stdout",
     "output_type": "stream",
     "text": [
      "t value: -0.369\n",
      "p value: 0.716\n"
     ]
    }
   ],
   "source": [
    "t_value, p_value = ss.ttest_ind(Solem_A, Solem_B)\n",
    "print(\"t value: {:.3f}\".format(t_value))\n",
    "print(\"p value: {:.3f}\".format(p_value))"
   ]
  },
  {
   "cell_type": "markdown",
   "metadata": {},
   "source": [
    "# Exlpain these data"
   ]
  },
  {
   "cell_type": "code",
   "execution_count": 21,
   "metadata": {},
   "outputs": [
    {
     "name": "stdout",
     "output_type": "stream",
     "text": [
      "Reject null hypothesis.\n",
      "The amount of wear shoses's means is difference  by a facter of sole materials.\n"
     ]
    }
   ],
   "source": [
    "if p_value < 0.05:\n",
    "    print(\"Retain null hypothesis.\")\n",
    "    print(\"The amount of wear shoses's means is no difference by a facter of sole materials.\")\n",
    "else:\n",
    "    print(\"Reject null hypothesis.\")\n",
    "    print(\"The amount of wear shoses's means is difference  by a facter of sole materials.\")\n",
    "    "
   ]
  }
 ],
 "metadata": {
  "kernelspec": {
   "display_name": "Python 3",
   "language": "python",
   "name": "python3"
  },
  "language_info": {
   "codemirror_mode": {
    "name": "ipython",
    "version": 3
   },
   "file_extension": ".py",
   "mimetype": "text/x-python",
   "name": "python",
   "nbconvert_exporter": "python",
   "pygments_lexer": "ipython3",
   "version": "3.6.5"
  },
  "toc": {
   "base_numbering": 1,
   "nav_menu": {},
   "number_sections": true,
   "sideBar": true,
   "skip_h1_title": false,
   "title_cell": "Table of Contents",
   "title_sidebar": "Contents",
   "toc_cell": false,
   "toc_position": {},
   "toc_section_display": true,
   "toc_window_display": false
  }
 },
 "nbformat": 4,
 "nbformat_minor": 2
}
