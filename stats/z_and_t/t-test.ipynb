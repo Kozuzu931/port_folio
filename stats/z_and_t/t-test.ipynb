{
 "cells": [
  {
   "cell_type": "markdown",
   "metadata": {},
   "source": [
    "# ライブラリのインポート"
   ]
  },
  {
   "cell_type": "code",
   "execution_count": 2,
   "metadata": {},
   "outputs": [],
   "source": [
    "import numpy as np\n",
    "import scipy.stats as ss\n",
    "import math"
   ]
  },
  {
   "cell_type": "markdown",
   "metadata": {},
   "source": [
    "# t値と信頼区間を計算する関数を定義"
   ]
  },
  {
   "cell_type": "code",
   "execution_count": 3,
   "metadata": {},
   "outputs": [],
   "source": [
    "# scipy.stats.t.ppf() -> t分布のパーセント点を返してくれるメソッド\n",
    "def interval_t(alpha, x, mu, sigmma, n, tile=\"one\"):\n",
    "    import numpy as np\n",
    "    import scipy.stats as ss\n",
    "    import math\n",
    "    t = (x - mu) / (sigmma/np.sqrt(n-1))\n",
    "    t_critical_value = []\n",
    "    if tile == \"one\":\n",
    "        t_critical_value.append(ss.t.ppf(1-alpha, df=n-1))\n",
    "    if tile == \"two\":\n",
    "        # 両側検定なので、棄却域を/2している\n",
    "        t_critical_value.append(ss.t.ppf(1-alpha/2, df=n-1))\n",
    "        t_critical_value.append(-ss.t.ppf(1-alpha/2, df=n-1))\n",
    "    else:\n",
    "        print(\"Tile option error. tile option is only \\'{0}\\' or \\'{1}\\' \".format(\"one\", \"two\"))\n",
    "        return\n",
    "    return t, t_critical_value\n",
    "    "
   ]
  },
  {
   "cell_type": "markdown",
   "metadata": {},
   "source": [
    "# 例題\n",
    "[統計WEB/ホーム > 統計の時間 > Step1. 基礎編 > 24. 平均値の検定 > 練習問題 (24.平均値の検定)(3)](https://bellcurve.jp/statistics/course/10004.html)\n",
    "\n",
    "> 次の表は、1つ25.5 kgの強力粉20個をサンプリングし、重量を測定した結果をまとめたものである。このデータを用いて、強力粉の重量は25.5 kgではないと言えるかどうか検定せよ。なお、有意水準は$\\alpha = 0.05$とする。  \n",
    "\n",
    "| 項目 | 測定結果 |\n",
    "|:-----:|:-----:|\n",
    "|サンプルサイズ|20|\n",
    "|平均|25.29|\n",
    "|不偏分散|2.23|\n",
    "|標準偏差|1.49|\n",
    "\n",
    "1. *帰無仮説:H0 強力粉の重量は25.5kgである。*\n",
    "\n",
    "\n",
    "2. *対立仮説:H1 強力粉の重量は25.5kgではない。*"
   ]
  },
  {
   "cell_type": "code",
   "execution_count": 5,
   "metadata": {},
   "outputs": [
    {
     "name": "stdout",
     "output_type": "stream",
     "text": [
      "t value: -0.614\n",
      "t critical velue: -2.093 < t < 2.093\n"
     ]
    }
   ],
   "source": [
    "t, t_critical_value = interval_t(0.05, 25.29, 25.5,1.49, 20, tile=\"two\")\n",
    "print(\"t value: {:.3f}\".format(t))\n",
    "if len(t_critical_value) > 1:\n",
    "     print(\"t critical velue: {1:.3f} < t < {0:.3f}\".format(t_critical_value[0], t_critical_value[1]))\n",
    "else:\n",
    "    print(\"t critical velue: {0:.3f}\".format(t_critical_value))\n",
    "        "
   ]
  },
  {
   "cell_type": "markdown",
   "metadata": {},
   "source": [
    "# 解釈\n",
    "t値が信頼区間 -2.093 < t < 2.093内にあるため、  \n",
    "対立仮説を棄却し帰無仮説を有意水準5%で採択する。"
   ]
  },
  {
   "cell_type": "code",
   "execution_count": null,
   "metadata": {},
   "outputs": [],
   "source": []
  }
 ],
 "metadata": {
  "kernelspec": {
   "display_name": "Python 3",
   "language": "python",
   "name": "python3"
  },
  "language_info": {
   "codemirror_mode": {
    "name": "ipython",
    "version": 3
   },
   "file_extension": ".py",
   "mimetype": "text/x-python",
   "name": "python",
   "nbconvert_exporter": "python",
   "pygments_lexer": "ipython3",
   "version": "3.6.5"
  },
  "toc": {
   "base_numbering": 1,
   "nav_menu": {},
   "number_sections": true,
   "sideBar": true,
   "skip_h1_title": false,
   "title_cell": "Table of Contents",
   "title_sidebar": "Contents",
   "toc_cell": false,
   "toc_position": {},
   "toc_section_display": true,
   "toc_window_display": false
  }
 },
 "nbformat": 4,
 "nbformat_minor": 2
}
