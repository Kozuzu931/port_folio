{
 "cells": [
  {
   "cell_type": "markdown",
   "metadata": {},
   "source": [
    "# ライブラリのインポート\n",
    "numpy=1.14.3\n",
    "scipy.stats=1.1.0"
   ]
  },
  {
   "cell_type": "code",
   "execution_count": 1,
   "metadata": {},
   "outputs": [],
   "source": [
    "import numpy as np\n",
    "from scipy import stats as ss\n",
    "import scipy"
   ]
  },
  {
   "cell_type": "markdown",
   "metadata": {},
   "source": [
    "# z値と信頼区間を計算する関数を定義"
   ]
  },
  {
   "cell_type": "code",
   "execution_count": 2,
   "metadata": {},
   "outputs": [],
   "source": [
    "def interval_nom(alpha, x, mu, sigma, n, tile=\"one\"):\n",
    "    import scipy.stats as ss\n",
    "    import numpy as np\n",
    "    z = (x - mu) / (sigma/np.sqrt(n))\n",
    "    z_critical_value = []\n",
    "    if tile == \"one\":\n",
    "        z_critical_value.append(ss.norm.ppf(1-alpha))\n",
    "    elif tile == \"two\":\n",
    "        # 両側検定なので、棄却域を/2している。\n",
    "        z_critical_value.append(ss.norm.ppf(1-alpha/2))\n",
    "        z_critical_value.append(-ss.norm.ppf(1-alpha/2))\n",
    "    else:\n",
    "        print(\"Tile option error. tile option is only \\'{0}\\' or \\'{1}\\' \".format(\"one\", \"two\"))\n",
    "        return \n",
    "    \n",
    "    return z, z_critical_value\n",
    "    \n",
    "    "
   ]
  },
  {
   "cell_type": "markdown",
   "metadata": {},
   "source": [
    "# 例題\n",
    "[高校数学の基本問題/統計/z検定, t検定](http://www.geisya.or.jp/~mwm48961/linear_algebra/t_test2.htm)\n",
    "> 【例１】\n",
    "　標本平均が——x=56，母標準偏差がσ=8，標本の大きさがn=16のとき，  \n",
    "帰無仮説　H0：μ=50  \n",
    "対立仮説　H1：μ≠50  \n",
    "の検定をせよ"
   ]
  },
  {
   "cell_type": "code",
   "execution_count": 16,
   "metadata": {},
   "outputs": [
    {
     "name": "stdout",
     "output_type": "stream",
     "text": [
      "z value: 4.000\n",
      "z critical velue: -1.960 < z < 1.960\n"
     ]
    }
   ],
   "source": [
    "z, z_critical_value = interval_nom(alpha=0.05,x=58, mu=50, sigma=8, n=16, tile=\"two\")\n",
    "print(\"z value: {:.3f}\".format(z))\n",
    "if len(z_critical_value) > 1:\n",
    "    print(\"z critical velue: {1:.3f} < z < {0:.3f}\".format(z_critical_value[0], z_critical_value[1]))\n",
    "else:\n",
    "    print(\"z critical velue: {0:.3f}\".format(z_critical_value))"
   ]
  },
  {
   "cell_type": "markdown",
   "metadata": {},
   "source": [
    "# 解釈 \n",
    "z値が有意水準1.960外にあるため、帰無仮説を棄却する。"
   ]
  }
 ],
 "metadata": {
  "kernelspec": {
   "display_name": "Python 3",
   "language": "python",
   "name": "python3"
  },
  "language_info": {
   "codemirror_mode": {
    "name": "ipython",
    "version": 3
   },
   "file_extension": ".py",
   "mimetype": "text/x-python",
   "name": "python",
   "nbconvert_exporter": "python",
   "pygments_lexer": "ipython3",
   "version": "3.6.5"
  },
  "toc": {
   "base_numbering": 1,
   "nav_menu": {},
   "number_sections": true,
   "sideBar": true,
   "skip_h1_title": false,
   "title_cell": "Table of Contents",
   "title_sidebar": "Contents",
   "toc_cell": false,
   "toc_position": {},
   "toc_section_display": true,
   "toc_window_display": false
  }
 },
 "nbformat": 4,
 "nbformat_minor": 2
}
