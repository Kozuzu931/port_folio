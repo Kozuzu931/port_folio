{
 "cells": [
  {
   "cell_type": "code",
   "execution_count": 2,
   "metadata": {},
   "outputs": [],
   "source": [
    "import numpy as np\n",
    "import scipy.stats as ss"
   ]
  },
  {
   "cell_type": "code",
   "execution_count": 3,
   "metadata": {},
   "outputs": [],
   "source": [
    "data = np.loadtxt(\"task15-1.csv\")"
   ]
  },
  {
   "cell_type": "code",
   "execution_count": 4,
   "metadata": {},
   "outputs": [
    {
     "data": {
      "text/plain": [
       "(8.810770200135432, 12.315648960531236)"
      ]
     },
     "execution_count": 4,
     "metadata": {},
     "output_type": "execute_result"
    }
   ],
   "source": [
    "df_data = len(data) - 1\n",
    "mean_data = np.mean(data)\n",
    "var_data = np.var(data, ddof=1)\n",
    "ss.t.interval(alpha=0.95, df=df_data, loc=mean_data, scale=np.sqrt(var_data/len(data)))"
   ]
  },
  {
   "cell_type": "code",
   "execution_count": 24,
   "metadata": {},
   "outputs": [
    {
     "name": "stdout",
     "output_type": "stream",
     "text": [
      "8.810770200135432\n",
      "12.315648960531236\n"
     ]
    }
   ],
   "source": [
    "print(ss.t.ppf(q=(1-0.95)/2, df=df_data, loc=mean_data , scale=np.sqrt(var_data/len(data))))\n",
    "print(ss.t.isf(q=(1-0.95)/2, df=df_data, loc=mean_data , scale=np.sqrt(var_data/len(data))))"
   ]
  },
  {
   "cell_type": "code",
   "execution_count": null,
   "metadata": {},
   "outputs": [],
   "source": []
  }
 ],
 "metadata": {
  "kernelspec": {
   "display_name": "Python 3",
   "language": "python",
   "name": "python3"
  },
  "language_info": {
   "codemirror_mode": {
    "name": "ipython",
    "version": 3
   },
   "file_extension": ".py",
   "mimetype": "text/x-python",
   "name": "python",
   "nbconvert_exporter": "python",
   "pygments_lexer": "ipython3",
   "version": "3.6.5"
  }
 },
 "nbformat": 4,
 "nbformat_minor": 2
}
