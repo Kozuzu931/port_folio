{
 "cells": [
  {
   "cell_type": "markdown",
   "metadata": {},
   "source": [
    "### 95%信頼区間の意味"
   ]
  },
  {
   "cell_type": "code",
   "execution_count": 3,
   "metadata": {},
   "outputs": [],
   "source": [
    "import numpy as np\n",
    "import scipy.stats as ss"
   ]
  },
  {
   "cell_type": "code",
   "execution_count": 4,
   "metadata": {},
   "outputs": [],
   "source": [
    "mu = 3 #母分散 population variance\n",
    "std = 1 #母標準偏差 population standard deviation\n",
    "gauss = ss.norm(loc = mu, scale = std) #母集団(平均3標準偏差1の正規分布) Population (the normal distribution with mean 3 and standard deviation 1)"
   ]
  },
  {
   "cell_type": "code",
   "execution_count": 9,
   "metadata": {},
   "outputs": [
    {
     "name": "stdout",
     "output_type": "stream",
     "text": [
      "0.0\n"
     ]
    }
   ],
   "source": [
    "#配列を用意し，ゼロに初期化\n",
    "x = np.zeros(30000)\n",
    "\n",
    "# 信頼区間に母平均が含まれているかの確認の試行を30000回繰り返す\n",
    "# Repeat trials 30000 times to \n",
    "for i in range(0, 30000):\n",
    "    sample = gauss.rvs(size = 10) #サンプルサイズ10の標本を生成 Generate samples from the population\n",
    "    df = len(sample) - 1 #自由度 Degree of freedom\n",
    "    sample_mean = np.mean(sample) #標本平均 sample mean\n",
    "    sample_var = np.var(sample, ddof=1) #不偏分散 The unbiased estimator of the population variance\n",
    "    interval = [ss.norm.ppf(q=(1-0.95)/2, loc=sample_mean, scale= df/ np.sqrt(sample_var)), ]\n",
    "    if(interval[0] <= mu and interval[1] >= mu): #求められた信頼区間に母平均が含まれているか確認\n",
    "        x[i] = 1 #母平均が信頼区間に入っていたら1にする If the population mean is in the interval, set the x[i] to 1\n",
    "\n",
    "# 30000試行中，信頼区間に母平均が何回含まれていたかの割合を求める\n",
    "# Calculate the ratio of how many population mean are in the confidence interval        \n",
    "print(len(x[x == 1])/30000)"
   ]
  },
  {
   "cell_type": "code",
   "execution_count": null,
   "metadata": {},
   "outputs": [],
   "source": []
  }
 ],
 "metadata": {
  "kernelspec": {
   "display_name": "Python 3",
   "language": "python",
   "name": "python3"
  },
  "language_info": {
   "codemirror_mode": {
    "name": "ipython",
    "version": 3
   },
   "file_extension": ".py",
   "mimetype": "text/x-python",
   "name": "python",
   "nbconvert_exporter": "python",
   "pygments_lexer": "ipython3",
   "version": "3.6.5"
  }
 },
 "nbformat": 4,
 "nbformat_minor": 2
}
