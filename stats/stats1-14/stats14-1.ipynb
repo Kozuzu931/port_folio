{
 "cells": [
  {
   "cell_type": "markdown",
   "metadata": {},
   "source": [
    "### 大数の法則 Low of large numbers"
   ]
  },
  {
   "cell_type": "code",
   "execution_count": 1,
   "metadata": {},
   "outputs": [],
   "source": [
    "import numpy as np\n",
    "import scipy.stats as ss\n",
    "from matplotlib import pyplot as plt"
   ]
  },
  {
   "cell_type": "code",
   "execution_count": 2,
   "metadata": {},
   "outputs": [],
   "source": [
    "# サンプルサイズを10から100000まで10刻みで変えた配列を作る\n",
    "# changing the sample size from 10 to 100000 by　every 10\n",
    "sample_size = np.arange(10,100010,10)"
   ]
  },
  {
   "cell_type": "code",
   "execution_count": 3,
   "metadata": {},
   "outputs": [],
   "source": [
    "# 平均値を格納する変数mean_arrayを用意し，ゼロに初期化\n",
    "mean_array = np.zeros(len(sample_size))\n",
    "\n",
    "# 乱数のシードを3にする（別のシードでも良い）\n",
    "np.random.seed(3)\n",
    "\n",
    "for i in range(0, len(sample_size)):\n",
    "    # サンプルサイズが配列sample_size[i]の標準正規分布の乱数を生成する\n",
    "    # generate the  R.V. of the standard normal distribution with the sample size sample_size[i]  \n",
    "    sample = ss.norm.rvs(size=sample_size[i])\n",
    "    # 生成された乱数から平均値を求め，変数mean_array[i]に代入\n",
    "    # calculate the sample mean\n",
    "    mean_array[i] = np.mean(sample) "
   ]
  },
  {
   "cell_type": "code",
   "execution_count": 4,
   "metadata": {},
   "outputs": [
    {
     "data": {
      "image/png": "[encoded data removed]",
      "text/plain": [
       "<Figure size 432x288 with 1 Axes>"
      ]
     },
     "metadata": {},
     "output_type": "display_data"
    }
   ],
   "source": [
    "# 折れ線グラフにより可視化（横軸：サンプルサイズ\"sample_size\"，縦軸：平均\"mean_array\"）\n",
    "# Draw a line gragh, x-axis is sample size and y-axis is sample mean\n",
    "plt.plot(sample_size, mean_array)\n",
    "plt.xlabel(\"sample size\")\n",
    "plt.ylabel(\"mean\")\n",
    "plt.show()"
   ]
  },
  {
   "cell_type": "code",
   "execution_count": 6,
   "metadata": {
    "scrolled": true
   },
   "outputs": [
    {
     "data": {
      "text/plain": [
       "(-0.07072324795659357, 5.004056581289927)"
      ]
     },
     "execution_count": 6,
     "metadata": {},
     "output_type": "execute_result"
    }
   ],
   "source": [
    "d = [1.3,2.9,3.2]\n",
    "ss.t.interval(alpha=0.95, df=len(d) - 1, loc=np.mean(d), scale=np.sqrt(np.var(d, ddof=1)/len(d)))"
   ]
  },
  {
   "cell_type": "code",
   "execution_count": null,
   "metadata": {},
   "outputs": [],
   "source": []
  }
 ],
 "metadata": {
  "kernelspec": {
   "display_name": "Python 3",
   "language": "python",
   "name": "python3"
  },
  "language_info": {
   "codemirror_mode": {
    "name": "ipython",
    "version": 3
   },
   "file_extension": ".py",
   "mimetype": "text/x-python",
   "name": "python",
   "nbconvert_exporter": "python",
   "pygments_lexer": "ipython3",
   "version": "3.6.5"
  }
 },
 "nbformat": 4,
 "nbformat_minor": 2
}
