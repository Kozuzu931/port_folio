{
 "cells": [
  {
   "cell_type": "code",
   "execution_count": 2,
   "metadata": {},
   "outputs": [],
   "source": [
    "import numpy as np\n",
    "import scipy.stats as ss\n",
    "import matplotlib.pyplot as plt"
   ]
  },
  {
   "cell_type": "code",
   "execution_count": 3,
   "metadata": {},
   "outputs": [],
   "source": [
    "data = np.loadtxt(\"task1-14.csv\")\n",
    "number_data = len(data)\n",
    "mean_data = np.mean(data)"
   ]
  },
  {
   "cell_type": "markdown",
   "metadata": {},
   "source": [
    "### 問１ \n",
    "標本データを「task1-14.csv」から読み込みなさい\n",
    "\n",
    "この標本データは母標準偏差が2の正規分布に従っているとする．このときの母平均の95%信頼区間，99%信頼区間を求めよ"
   ]
  },
  {
   "cell_type": "code",
   "execution_count": 4,
   "metadata": {},
   "outputs": [
    {
     "data": {
      "text/plain": [
       "(2.6668899911953217, 3.670680684640743)"
      ]
     },
     "execution_count": 4,
     "metadata": {},
     "output_type": "execute_result"
    }
   ],
   "source": [
    "ss.norm.interval(alpha=0.95, loc=mean_data, scale= 2 / np.sqrt(number_data))"
   ]
  },
  {
   "cell_type": "code",
   "execution_count": 5,
   "metadata": {},
   "outputs": [
    {
     "data": {
      "text/plain": [
       "(2.5091830433857814, 3.8283876324502835)"
      ]
     },
     "execution_count": 5,
     "metadata": {},
     "output_type": "execute_result"
    }
   ],
   "source": [
    "ss.norm.interval(alpha=0.99, loc=mean_data, scale= 2 / np.sqrt(number_data))"
   ]
  },
  {
   "cell_type": "markdown",
   "metadata": {},
   "source": [
    "### 問２\n",
    "信頼区間はパーセント点から求めることができる．\n",
    "\n",
    "問１をメソッドintervalを用いずにパーセント点を求めるメソッドppfを使用して求めなさい"
   ]
  },
  {
   "cell_type": "code",
   "execution_count": 6,
   "metadata": {},
   "outputs": [
    {
     "name": "stdout",
     "output_type": "stream",
     "text": [
      "2.6668899911953217\n",
      "3.670680684640743\n"
     ]
    }
   ],
   "source": [
    "print(ss.norm.ppf(q=(1-0.95)/2, loc=mean_data, scale= 2 / np.sqrt(number_data)))\n",
    "print(ss.norm.isf(q=(1 - 0.95)/2, loc=mean_data, scale= 2 / np.sqrt(number_data)))\n",
    "#print(ss.norm.ppf(q=(0.95)/2, loc=mean_data, scale= 2 / np.sqrt(number_data)))"
   ]
  },
  {
   "cell_type": "code",
   "execution_count": 7,
   "metadata": {},
   "outputs": [
    {
     "name": "stdout",
     "output_type": "stream",
     "text": [
      "2.5091830433857814\n",
      "3.8283876324502835\n"
     ]
    }
   ],
   "source": [
    "print(ss.norm.ppf(q=(1-0.99)/2, loc=mean_data, scale= 2 / np.sqrt(number_data)))\n",
    "print(ss.norm.isf(q=(1 - 0.99)/2, loc=mean_data, scale= 2 / np.sqrt(number_data)))"
   ]
  },
  {
   "cell_type": "code",
   "execution_count": null,
   "metadata": {},
   "outputs": [],
   "source": []
  }
 ],
 "metadata": {
  "kernelspec": {
   "display_name": "Python 3",
   "language": "python",
   "name": "python3"
  },
  "language_info": {
   "codemirror_mode": {
    "name": "ipython",
    "version": 3
   },
   "file_extension": ".py",
   "mimetype": "text/x-python",
   "name": "python",
   "nbconvert_exporter": "python",
   "pygments_lexer": "ipython3",
   "version": "3.6.5"
  }
 },
 "nbformat": 4,
 "nbformat_minor": 2
}
