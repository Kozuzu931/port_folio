{
 "cells": [
  {
   "cell_type": "code",
   "execution_count": 23,
   "metadata": {},
   "outputs": [],
   "source": [
    "import scipy.stats as ss\n",
    "import numpy as np\n",
    "import pandas as pd"
   ]
  },
  {
   "cell_type": "code",
   "execution_count": 2,
   "metadata": {},
   "outputs": [],
   "source": [
    "data = np.array([1,2,3])"
   ]
  },
  {
   "cell_type": "code",
   "execution_count": 3,
   "metadata": {},
   "outputs": [],
   "source": [
    "sample1_mean = 4500\n",
    "sample1_std = 120\n",
    "\n",
    "sample2_mean = 4450\n",
    "sampe2_std = 120"
   ]
  },
  {
   "cell_type": "markdown",
   "metadata": {},
   "source": [
    " ![検定早見表](images/スクリーンショット.png)"
   ]
  },
  {
   "cell_type": "markdown",
   "metadata": {},
   "source": [
    "![メソッド一覧](images/how_to_use_method_ss.png)"
   ]
  },
  {
   "cell_type": "markdown",
   "metadata": {},
   "source": [
    "以下は母平均に関する検定である。(z, t検定)"
   ]
  },
  {
   "cell_type": "markdown",
   "metadata": {},
   "source": [
    "# z検定\n",
    "母標準偏差既知の場合"
   ]
  },
  {
   "cell_type": "markdown",
   "metadata": {},
   "source": [
    "## 95%信頼区間推定\n",
    "alpha=信頼区間, loc=期待値（平均）, \n",
    "scale=統計量(標準偏差/√自由度（標本サイズ）)"
   ]
  },
  {
   "cell_type": "code",
   "execution_count": 4,
   "metadata": {},
   "outputs": [
    {
     "data": {
      "text/plain": [
       "(1.0760641171002145, 2.9239358828997855)"
      ]
     },
     "execution_count": 4,
     "metadata": {},
     "output_type": "execute_result"
    }
   ],
   "source": [
    "ss.norm.interval(alpha=0.95, loc=np.mean(data), scale=np.std(data)/np.sqrt(len(data)))"
   ]
  },
  {
   "cell_type": "markdown",
   "metadata": {},
   "source": [
    "## cdf(x=確率変数, loc=期待値, scale=標準偏差)\n",
    "累積分布関数"
   ]
  },
  {
   "cell_type": "code",
   "execution_count": 7,
   "metadata": {},
   "outputs": [
    {
     "data": {
      "text/plain": [
       "array([0.11033568, 0.5       , 0.88966432])"
      ]
     },
     "execution_count": 7,
     "metadata": {},
     "output_type": "execute_result"
    }
   ],
   "source": [
    "ss.norm.cdf(ss.zscore(data))"
   ]
  },
  {
   "cell_type": "markdown",
   "metadata": {},
   "source": [
    "## ppf(q=パーセント点, loc=期待値, scale=標準偏差)\n",
    "パーセント点関数から正規分布の信頼区間の棄却点を導き出す"
   ]
  },
  {
   "cell_type": "code",
   "execution_count": 5,
   "metadata": {},
   "outputs": [
    {
     "name": "stdout",
     "output_type": "stream",
     "text": [
      "z critical value: [-1.960, 1.960]\n"
     ]
    }
   ],
   "source": [
    "alpha = 0.05\n",
    "z_critical_value = ss.norm.ppf(alpha/2)\n",
    "print(\"z critical value: [{:.3f}, {:.3f}]\".format(z_critical_value, -z_critical_value))"
   ]
  },
  {
   "cell_type": "markdown",
   "metadata": {},
   "source": [
    "## z値の算出"
   ]
  },
  {
   "cell_type": "code",
   "execution_count": 11,
   "metadata": {},
   "outputs": [
    {
     "name": "stdout",
     "output_type": "stream",
     "text": [
      "Criticulate z value: 2.946\n"
     ]
    }
   ],
   "source": [
    "z = (sample1_mean - sample2_mean) / (sample1_std / np.sqrt(50))\n",
    "print(\"Criticulate z value: {:.3f}\".format(z))"
   ]
  },
  {
   "cell_type": "markdown",
   "metadata": {},
   "source": [
    "## p値の算出"
   ]
  },
  {
   "cell_type": "code",
   "execution_count": 12,
   "metadata": {},
   "outputs": [
    {
     "name": "stdout",
     "output_type": "stream",
     "text": [
      "P value: 0.0016081146550637193\n"
     ]
    }
   ],
   "source": [
    "p_critical = ss.norm.cdf(z)\n",
    "print(\"P value: {:}\".format(1-p_critical))"
   ]
  },
  {
   "cell_type": "markdown",
   "metadata": {},
   "source": [
    "# F分布 等分散性検定\n",
    "2つの母集団の分散の比の検定によく使われる。  \n",
    "自由度(n1, n2)"
   ]
  },
  {
   "cell_type": "code",
   "execution_count": null,
   "metadata": {},
   "outputs": [],
   "source": [
    "X = []\n",
    "Y = []\n",
    "F = np.var(X) / np.var(Y)\n",
    "df1 = len(X) - 1\n",
    "df2 = len(Y) - 1\n",
    "alpha = 0.05\n",
    "p_value = ss.f.cdf(F, df1, df2)\n",
    "print(\"p value: {:.3f}\".format(p_value))"
   ]
  },
  {
   "cell_type": "code",
   "execution_count": 22,
   "metadata": {},
   "outputs": [
    {
     "name": "stdout",
     "output_type": "stream",
     "text": [
      "F_onewayResult(statistic=10.04676258992806, pvalue=0.000547563645795044)\n"
     ]
    }
   ],
   "source": [
    "a1 = np.array([5,4,6,3,3,7,6,5,3,5])\n",
    "a2 = np.array([8,4,3,3,7,9,8,7,3,4])\n",
    "a3 = np.array([7,6,8,9,10,9,8,9,7,8])\n",
    "\n",
    "res = ss.f_oneway(a1,a2,a3)\n",
    "print(res)"
   ]
  },
  {
   "cell_type": "markdown",
   "metadata": {},
   "source": [
    "## 水準間変動、残差変動、全変動\n",
    "![変動](images/図6.png)  "
   ]
  },
  {
   "cell_type": "code",
   "execution_count": 55,
   "metadata": {},
   "outputs": [
    {
     "name": "stdout",
     "output_type": "stream",
     "text": [
      "水準間変動: 62.07\n",
      " 残差変動: 83.40\n",
      " 全変動: 145.47\n"
     ]
    }
   ],
   "source": [
    "allline = np.asarray([a1,a2,a3]).reshape(-1)\n",
    "all_mean = np.mean(allline)\n",
    "a1_mean = np.mean(a1)\n",
    "a2_mean = np.mean(a2)\n",
    "a3_mean = np.mean(a3)\n",
    "\n",
    "total_var = np.sum([(i - all_mean)**2 for i in allline])\n",
    "level_var = np.sum((a1_mean - all_mean)**2 * len(a1) + (a2_mean - all_mean)**2 * len(a2) + (a3_mean - all_mean)**2 * len(a3))\n",
    "residual_var = total_var - level_var\n",
    "\n",
    "print(\"水準間変動: {:.2f}\\n 残差変動: {:.2f}\\n 全変動: {:.2f}\".format(level_var, residual_var, total_var))"
   ]
  },
  {
   "cell_type": "markdown",
   "metadata": {},
   "source": [
    "# t検定(t分布)\n",
    "母標準偏差が未知の場合"
   ]
  },
  {
   "cell_type": "markdown",
   "metadata": {},
   "source": [
    "## パーセント点算出  \n",
    "ppf 累積分布関数の逆関数  \n",
    "ppf(0.975, 5)  \n",
    "ppf(パーセント点, 自由度(n-1))"
   ]
  },
  {
   "cell_type": "code",
   "execution_count": 6,
   "metadata": {},
   "outputs": [
    {
     "data": {
      "text/plain": [
       "2.5705818366147395"
      ]
     },
     "execution_count": 6,
     "metadata": {},
     "output_type": "execute_result"
    }
   ],
   "source": [
    "ss.t.ppf(0.975, 5)"
   ]
  },
  {
   "cell_type": "markdown",
   "metadata": {},
   "source": [
    "2 つの母集団の<b>分散</b>が<b>同じとき</b>の t 検定  \n",
    "t_ss, prob = ss.ttest_ind(\n",
    "[データ1], [データ2], equal_var=True)  \n",
    "片側検定の場合、p値を1/2する"
   ]
  },
  {
   "cell_type": "code",
   "execution_count": 13,
   "metadata": {},
   "outputs": [
    {
     "name": "stdout",
     "output_type": "stream",
     "text": [
      "t value by scipy: 5.038589040601389\n",
      "p value by scipy: 0.00018109915973010061\n"
     ]
    }
   ],
   "source": [
    "t_ss, prob = ss.ttest_ind([1326,1418,1820,1516,1635,1720,1580,1452,1600], [1220,1080,980,1420,1170,1290,1116], equal_var=True)\n",
    "print(\"t value by scipy: {}\".format(t_ss))\n",
    "print(\"p value by scipy: {}\".format(prob))"
   ]
  },
  {
   "cell_type": "markdown",
   "metadata": {},
   "source": [
    "2 つの母集団の<b>分散</b>が<b>同じでないとき</b>の t 検定\n",
    "t_ss, prob = ss.ttest_ind([データ１], [データ２], equal_var=True)  \n",
    "片側検定の場合、p値を1/2する"
   ]
  },
  {
   "cell_type": "code",
   "execution_count": 14,
   "metadata": {},
   "outputs": [
    {
     "name": "stdout",
     "output_type": "stream",
     "text": [
      "t value by scipy: 5.080348617271814\n",
      "p value by scipy: 0.00019131443517208103\n"
     ]
    }
   ],
   "source": [
    "t_ss, prob = ss.ttest_ind([1326,1418,1820,1516,1635,1720,1580,1452,1600], [1220,1080,980,1420,1170,1290,1116], equal_var=False)\n",
    "print(\"t value by scipy: {}\".format(t_ss))\n",
    "print(\"p value by scipy: {}\".format(prob))"
   ]
  },
  {
   "cell_type": "markdown",
   "metadata": {},
   "source": [
    "## 従属な 2 群間 t 検定  \n",
    "例:ラットに薬剤を投与し、投与前と投与後の体重を測定したデータでは、それぞれのラットに対して投与前と投与後のデータがあるので、投与前と投与後のデータが対応しているといえる。  \n",
    "つまり、同じ長さの配列が必要"
   ]
  },
  {
   "cell_type": "code",
   "execution_count": 4,
   "metadata": {},
   "outputs": [
    {
     "ename": "ValueError",
     "evalue": "unequal length arrays",
     "output_type": "error",
     "traceback": [
      "\u001b[0;31m---------------------------------------------------------------------------\u001b[0m",
      "\u001b[0;31mValueError\u001b[0m                                Traceback (most recent call last)",
      "\u001b[0;32m<ipython-input-4-823dca83a697>\u001b[0m in \u001b[0;36m<module>\u001b[0;34m()\u001b[0m\n\u001b[0;32m----> 1\u001b[0;31m \u001b[0mt_ss\u001b[0m\u001b[0;34m,\u001b[0m \u001b[0mprob\u001b[0m \u001b[0;34m=\u001b[0m \u001b[0mss\u001b[0m\u001b[0;34m.\u001b[0m\u001b[0mttest_rel\u001b[0m\u001b[0;34m(\u001b[0m\u001b[0;34m[\u001b[0m\u001b[0;36m1326\u001b[0m\u001b[0;34m,\u001b[0m\u001b[0;36m1418\u001b[0m\u001b[0;34m,\u001b[0m\u001b[0;36m1820\u001b[0m\u001b[0;34m,\u001b[0m\u001b[0;36m1516\u001b[0m\u001b[0;34m,\u001b[0m\u001b[0;36m1635\u001b[0m\u001b[0;34m,\u001b[0m\u001b[0;36m1720\u001b[0m\u001b[0;34m,\u001b[0m\u001b[0;36m1580\u001b[0m\u001b[0;34m,\u001b[0m\u001b[0;36m1452\u001b[0m\u001b[0;34m,\u001b[0m\u001b[0;36m1600\u001b[0m\u001b[0;34m]\u001b[0m\u001b[0;34m,\u001b[0m \u001b[0;34m[\u001b[0m\u001b[0;36m1220\u001b[0m\u001b[0;34m,\u001b[0m\u001b[0;36m1080\u001b[0m\u001b[0;34m,\u001b[0m\u001b[0;36m980\u001b[0m\u001b[0;34m,\u001b[0m\u001b[0;36m1420\u001b[0m\u001b[0;34m,\u001b[0m\u001b[0;36m1170\u001b[0m\u001b[0;34m,\u001b[0m\u001b[0;36m1290\u001b[0m\u001b[0;34m,\u001b[0m\u001b[0;36m1116\u001b[0m\u001b[0;34m]\u001b[0m\u001b[0;34m)\u001b[0m\u001b[0;34m\u001b[0m\u001b[0m\n\u001b[0m\u001b[1;32m      2\u001b[0m \u001b[0mprint\u001b[0m\u001b[0;34m(\u001b[0m\u001b[0;34m\"t value by scipy: {}\"\u001b[0m\u001b[0;34m.\u001b[0m\u001b[0mformat\u001b[0m\u001b[0;34m(\u001b[0m\u001b[0mt_ss\u001b[0m\u001b[0;34m)\u001b[0m\u001b[0;34m)\u001b[0m\u001b[0;34m\u001b[0m\u001b[0m\n\u001b[1;32m      3\u001b[0m \u001b[0mprint\u001b[0m\u001b[0;34m(\u001b[0m\u001b[0;34m\"p value by scipy: {}\"\u001b[0m\u001b[0;34m.\u001b[0m\u001b[0mformat\u001b[0m\u001b[0;34m(\u001b[0m\u001b[0mprob\u001b[0m\u001b[0;34m)\u001b[0m\u001b[0;34m)\u001b[0m\u001b[0;34m\u001b[0m\u001b[0m\n",
      "\u001b[0;32m~/.pyenv/versions/anaconda3-4.3.1/lib/python3.6/site-packages/scipy/stats/stats.py\u001b[0m in \u001b[0;36mttest_rel\u001b[0;34m(a, b, axis, nan_policy)\u001b[0m\n\u001b[1;32m   4171\u001b[0m \u001b[0;34m\u001b[0m\u001b[0m\n\u001b[1;32m   4172\u001b[0m     \u001b[0;32mif\u001b[0m \u001b[0ma\u001b[0m\u001b[0;34m.\u001b[0m\u001b[0mshape\u001b[0m\u001b[0;34m[\u001b[0m\u001b[0maxis\u001b[0m\u001b[0;34m]\u001b[0m \u001b[0;34m!=\u001b[0m \u001b[0mb\u001b[0m\u001b[0;34m.\u001b[0m\u001b[0mshape\u001b[0m\u001b[0;34m[\u001b[0m\u001b[0maxis\u001b[0m\u001b[0;34m]\u001b[0m\u001b[0;34m:\u001b[0m\u001b[0;34m\u001b[0m\u001b[0m\n\u001b[0;32m-> 4173\u001b[0;31m         \u001b[0;32mraise\u001b[0m \u001b[0mValueError\u001b[0m\u001b[0;34m(\u001b[0m\u001b[0;34m'unequal length arrays'\u001b[0m\u001b[0;34m)\u001b[0m\u001b[0;34m\u001b[0m\u001b[0m\n\u001b[0m\u001b[1;32m   4174\u001b[0m \u001b[0;34m\u001b[0m\u001b[0m\n\u001b[1;32m   4175\u001b[0m     \u001b[0;32mif\u001b[0m \u001b[0ma\u001b[0m\u001b[0;34m.\u001b[0m\u001b[0msize\u001b[0m \u001b[0;34m==\u001b[0m \u001b[0;36m0\u001b[0m \u001b[0;32mor\u001b[0m \u001b[0mb\u001b[0m\u001b[0;34m.\u001b[0m\u001b[0msize\u001b[0m \u001b[0;34m==\u001b[0m \u001b[0;36m0\u001b[0m\u001b[0;34m:\u001b[0m\u001b[0;34m\u001b[0m\u001b[0m\n",
      "\u001b[0;31mValueError\u001b[0m: unequal length arrays"
     ]
    }
   ],
   "source": [
    "t_ss, prob = ss.ttest_rel([1326,1418,1820,1516,1635,1720,1580,1452,1600], [1220,1080,980,1420,1170,1290,1116])\n",
    "print(\"t value by scipy: {}\".format(t_ss))\n",
    "print(\"p value by scipy: {}\".format(prob))"
   ]
  },
  {
   "cell_type": "markdown",
   "metadata": {},
   "source": [
    "# 二項検定"
   ]
  },
  {
   "cell_type": "markdown",
   "metadata": {},
   "source": [
    "## 二項検定\n",
    "p = ss.binom_test(当たり回数, 試行回数, 確率)\n",
    "p = ss.binom_test(16, 20, 0.5)"
   ]
  },
  {
   "cell_type": "code",
   "execution_count": 7,
   "metadata": {},
   "outputs": [
    {
     "data": {
      "text/plain": [
       "0.011817932128906248"
      ]
     },
     "execution_count": 7,
     "metadata": {},
     "output_type": "execute_result"
    }
   ],
   "source": [
    "ss.binom_test(16, 20, 0.5)"
   ]
  },
  {
   "cell_type": "markdown",
   "metadata": {},
   "source": [
    "# X^2検定"
   ]
  },
  {
   "cell_type": "markdown",
   "metadata": {},
   "source": [
    "## パーセント点算出\n",
    "ss.chi2.ppf(パーセント点, 自由度(n-1))\n",
    "![カイニ乗検定1](images/図3.png)\n",
    "![カイニ乗検定2](images/図4.png)\n",
    "ss.chi2.ppf(0.95, 5)"
   ]
  },
  {
   "cell_type": "code",
   "execution_count": null,
   "metadata": {},
   "outputs": [],
   "source": [
    "ss.chi2.ppf()"
   ]
  },
  {
   "attachments": {},
   "cell_type": "markdown",
   "metadata": {},
   "source": [
    "二次元以上のchi2検定\n",
    "> 次の表は、ある小学校の1年生と年生に好きなスポーツを質問した結果である。この結果から、1年生と2年生のスポーツの好みに関連があるかどうかを有意水準0.05で検定せよ。\n",
    "![カイニ乗検定3](images/図5.png)"
   ]
  },
  {
   "cell_type": "code",
   "execution_count": 19,
   "metadata": {},
   "outputs": [
    {
     "name": "stdout",
     "output_type": "stream",
     "text": [
      "test statistic:  13.76581550494594\n",
      "p-value: 0.003241884749144019\n"
     ]
    }
   ],
   "source": [
    "array = np.array([[10,50,25,40],[25,65,10,50]])\n",
    "result = ss.chi2_contingency(array)\n",
    "print(\"test statistic: \", result[0])\n",
    "print(\"p-value:\", result[1])"
   ]
  },
  {
   "cell_type": "markdown",
   "metadata": {},
   "source": [
    "## x^2検定\n",
    "理論値  \n",
    "ss.stats.chisquare([適合度検定データ],f_exp=[理論値])"
   ]
  },
  {
   "cell_type": "code",
   "execution_count": null,
   "metadata": {},
   "outputs": [],
   "source": [
    "ss.stats.chisquare([],f_exp=[])"
   ]
  },
  {
   "cell_type": "markdown",
   "metadata": {},
   "source": [
    "## Wilcoxonの順位和検定  \n",
    "- 2グループの標本について、それぞれの母集団の中央値に差があるかどうかの検定\n",
    "- 今までの様に分布を特定のものに限定しない  \n",
    "- ２つの分布の形は同じそうだが、位置がずれているか？の判断に特に有効  \n",
    "- 標本の値そのものではなく、順位に置き換えて検定統計量を求めるのが特徴  \n",
    "ss.mannwhitneyu([data1],[data2], alternative=\"two-sided\")  \n",
    "<-alternativeパラメータ(\"two-sided\",\"less\",\"greater\")\n",
    "> 東京と大阪の住人を無作為に8人ずつ選んで、内閣支持に関するアンケートを行った。\n",
    "5: 支持する、4:やや支持する、3:どちらとも言えない、2:やや支持しない、1:支持しない\n",
    "以下の結果から、東京と大阪で内閣に対する意見は異なっているか検定せよ。  \n",
    "\n",
    "|東京|大阪|\n",
    "|:--:|:--:|\n",
    "|4|3|\n",
    "|3|3|\n",
    "|3|1|\n",
    "|2|5|\n",
    "|1|2|\n",
    "|3|5|\n",
    "|4|1|"
   ]
  },
  {
   "cell_type": "code",
   "execution_count": 10,
   "metadata": {},
   "outputs": [
    {
     "data": {
      "text/plain": [
       "MannwhitneyuResult(statistic=25.5, pvalue=0.9474797423354695)"
      ]
     },
     "execution_count": 10,
     "metadata": {},
     "output_type": "execute_result"
    }
   ],
   "source": [
    "ss.mannwhitneyu([4,3,3,2,1,3,4],[3,3,1,5,2,5,1], alternative=\"two-sided\")"
   ]
  },
  {
   "cell_type": "markdown",
   "metadata": {},
   "source": [
    "## Wilcoxonの符号順位検定\n",
    "- 対応が有る2グループの標本についての標本について、それぉれの母集団の中央値に差があるかどうかの検定\n",
    "- 今までのように分布を特定のものに限定しない\n",
    "- 2ツノ分布の形は同じそうだが、位置がずれているかの判断に特に有効\n",
    "> n人の対象者に省エネ活動の指導を行いその前後での意識調査の結果を比較する\n",
    "> ある新薬の効果を試すために被験者8名を集めた。\u000b",
    "まず8名のγ-GTP値を計測し、その後2ヶ月新薬を服用してもらい、2ヶ月後γ-GTP値を再計測した。\u000b",
    "結果は以下のとおりである。Wilcoxonの符号順位検定により、新薬に効果があるかどうかを有意水準5%で検定せよ。\n",
    "\n",
    "|被験者番号|投薬前|投薬後|\n",
    "|:--:|:--:|:--:|\n",
    "|1|100|95|\n",
    "|2|110|100|\n",
    "|3|120|105|\n",
    "|4|130|110|\n",
    "|5|135|120|\n",
    "|6|140|145|\n",
    "|7|220|170|\n",
    "|8|250|195|"
   ]
  },
  {
   "cell_type": "code",
   "execution_count": 9,
   "metadata": {},
   "outputs": [
    {
     "name": "stderr",
     "output_type": "stream",
     "text": [
      "/Users/kozuzu931/.pyenv/versions/anaconda3-4.3.1/lib/python3.6/site-packages/scipy/stats/morestats.py:2388: UserWarning: Warning: sample size too small for normal approximation.\n",
      "  warnings.warn(\"Warning: sample size too small for normal approximation.\")\n"
     ]
    },
    {
     "data": {
      "text/plain": [
       "WilcoxonResult(statistic=1.5, pvalue=0.020550301646476254)"
      ]
     },
     "execution_count": 9,
     "metadata": {},
     "output_type": "execute_result"
    }
   ],
   "source": [
    "ss.wilcoxon([100,110,120,130,135,140,220,250],[95,100,105,110,120,145,170,195])"
   ]
  },
  {
   "attachments": {},
   "cell_type": "markdown",
   "metadata": {},
   "source": [
    "## Fisherの正確確率検定\n",
    "- 2つのカテゴリーに分類されたデータの分析(標本数が小さい場合)\n",
    "- 2 x 2分割表(2つの集団が2カテゴリーに分類されたデータを扱う場合、自由度は1)の2変数の間に統計学的に有意な関連があるかどうかを調べる\n",
    "- 同じ状況で<b>標本の大きさが大きい場合</b>には統計量の標本分布が近似的にカイ二乗分布に等しくなるので<b>カイ二乗検定</b>が用いられる\n",
    "- 標本の大きさが小さい（分割表のセルの期待値に10未満のものがある）場合や、表中の数値の偏りが大きい場合にはこの近似は不正確。この場合には正確確率検定が正確\n",
    "- 逆にサンプルサイズが大きい場合や、数値の偏りが小さい場合にはカイニ検定が良い。\n",
    "> 男女各5人にある政策の賛否をアンケートしたところ，以下の結果を得た．男女間で賛否に有意な差があると言えるか。\n",
    "\n",
    "![男女表](images/図1.png)  \n",
    "\n",
    "> 以下の様な表で、「甘いものがすきか嫌いか」と「虫歯の有無」の間に関連があるかどうかを検定せよ。\n",
    "有意水準5%の両側検定を実施せよ。\n",
    "![虫歯と甘いもの](images/図2.png)"
   ]
  },
  {
   "cell_type": "code",
   "execution_count": 17,
   "metadata": {},
   "outputs": [
    {
     "name": "stdout",
     "output_type": "stream",
     "text": [
      "odds ratio:7.583333333333333\n",
      "p値:0.008138143815466441\n"
     ]
    }
   ],
   "source": [
    "dat_edit = np.array([[13,4],[6,14]])\n",
    "odds, p = ss.fisher_exact(dat_edit)\n",
    "\n",
    "print(\"odds ratio:\" + str(odds))\n",
    "print(\"p値:\"+ str(p))"
   ]
  },
  {
   "cell_type": "markdown",
   "metadata": {},
   "source": [
    "# 分散分析"
   ]
  }
 ],
 "metadata": {
  "kernelspec": {
   "display_name": "Python 3",
   "language": "python",
   "name": "python3"
  },
  "language_info": {
   "codemirror_mode": {
    "name": "ipython",
    "version": 3
   },
   "file_extension": ".py",
   "mimetype": "text/x-python",
   "name": "python",
   "nbconvert_exporter": "python",
   "pygments_lexer": "ipython3",
   "version": "3.6.5"
  },
  "toc": {
   "base_numbering": 1,
   "nav_menu": {},
   "number_sections": true,
   "sideBar": true,
   "skip_h1_title": false,
   "title_cell": "Table of Contents",
   "title_sidebar": "Contents",
   "toc_cell": false,
   "toc_position": {},
   "toc_section_display": true,
   "toc_window_display": false
  }
 },
 "nbformat": 4,
 "nbformat_minor": 2
}
