{
 "cells": [
  {
   "cell_type": "markdown",
   "metadata": {},
   "source": [
    "ライブラリのimport"
   ]
  },
  {
   "cell_type": "code",
   "execution_count": 2,
   "metadata": {},
   "outputs": [],
   "source": [
    "import numpy as np\n",
    "import matplotlib.pyplot as plt\n",
    "from scipy.stats import pearsonr\n",
    "from sklearn.linear_model import LinearRegression\n",
    "from sklearn import metrics\n",
    "import itertools\n",
    "from scipy import stats"
   ]
  },
  {
   "cell_type": "markdown",
   "metadata": {},
   "source": [
    "## 歪度　尖度"
   ]
  },
  {
   "cell_type": "code",
   "execution_count": 3,
   "metadata": {},
   "outputs": [
    {
     "name": "stdout",
     "output_type": "stream",
     "text": [
      "歪度： -0.22893389007221118\n",
      "尖度： -1.2414536052858376\n"
     ]
    }
   ],
   "source": [
    "x = [2,2,4,7,4,6,4,6,6]\n",
    "print(\"歪度：\", stats.skew(x))\n",
    "print(\"尖度：\", stats.kurtosis(x))"
   ]
  },
  {
   "cell_type": "markdown",
   "metadata": {},
   "source": [
    "データの読み込みとデータ数の確認"
   ]
  },
  {
   "cell_type": "code",
   "execution_count": 9,
   "metadata": {
    "scrolled": true
   },
   "outputs": [
    {
     "name": "stdout",
     "output_type": "stream",
     "text": [
      "(2, 10)\n"
     ]
    }
   ],
   "source": [
    "# sepal = np.loadtxt(\"\", delimiter=\"\", skiprows=)\n",
    "sepal =np.array( [[65.8,66.0,56,77],\n",
    "         [4,6,8,4,5,4,7,9,7,6]\n",
    "        ])\n",
    "sepal[0] \n",
    "sepal[1]\n",
    "print(np.shape(sepal))"
   ]
  },
  {
   "cell_type": "markdown",
   "metadata": {},
   "source": [
    "データの分割"
   ]
  },
  {
   "cell_type": "code",
   "execution_count": 10,
   "metadata": {
    "collapsed": true
   },
   "outputs": [],
   "source": [
    "s_len = sepal[0] \n",
    "s_width = sepal[1]"
   ]
  },
  {
   "cell_type": "markdown",
   "metadata": {},
   "source": [
    "相関関係の計算"
   ]
  },
  {
   "cell_type": "code",
   "execution_count": 31,
   "metadata": {},
   "outputs": [
    {
     "name": "stdout",
     "output_type": "stream",
     "text": [
      "平均値: 7.0 6.0\n",
      "相関係数: 0.8455943246644705\n",
      "p値: 0.002054972708982196\n"
     ]
    }
   ],
   "source": [
    "r,p = pearsonr(s_len, s_width)#不偏分散注意\n",
    "r = float(r)\n",
    "p = float(p)\n",
    "print(\"平均値:\",np.mean(sepal[0]),np.mean(sepal[1]))\n",
    "print(\"相関係数:\",r )\n",
    "print(\"p値:\", p)"
   ]
  },
  {
   "cell_type": "markdown",
   "metadata": {},
   "source": [
    "numpyを用いた回帰分析"
   ]
  },
  {
   "cell_type": "code",
   "execution_count": 12,
   "metadata": {},
   "outputs": [
    {
     "name": "stdout",
     "output_type": "stream",
     "text": [
      "        2\n",
      "0.1463 x - 1.238 x + 6.794\n"
     ]
    }
   ],
   "source": [
    "fit = np.polyfit(s_len,s_width,2)\n",
    "p = np.poly1d(fit)\n",
    "print(p)"
   ]
  },
  {
   "cell_type": "markdown",
   "metadata": {},
   "source": [
    "階乗"
   ]
  },
  {
   "cell_type": "code",
   "execution_count": 13,
   "metadata": {},
   "outputs": [
    {
     "data": {
      "text/plain": [
       "24"
      ]
     },
     "execution_count": 13,
     "metadata": {},
     "output_type": "execute_result"
    }
   ],
   "source": [
    "s = [i for i in range(4)]\n",
    "p = list(itertools.permutations(s))\n",
    "len(p)"
   ]
  },
  {
   "cell_type": "markdown",
   "metadata": {},
   "source": [
    "順列（順番を区別する） \n",
    "例：5枚の異なるカード A,B,C,D,E から 3 枚選んで並べる場合の数を求めよ。"
   ]
  },
  {
   "cell_type": "code",
   "execution_count": 43,
   "metadata": {},
   "outputs": [
    {
     "data": {
      "text/plain": [
       "210"
      ]
     },
     "execution_count": 43,
     "metadata": {},
     "output_type": "execute_result"
    }
   ],
   "source": [
    "e = [i for i in range(7)]\n",
    "a = list(itertools.permutations(e, 3))\n",
    "len(a)"
   ]
  },
  {
   "cell_type": "markdown",
   "metadata": {
    "collapsed": true
   },
   "source": [
    "組み合わせ（順番を区別せず）\n",
    "例：5 枚の異なるカード A,B,C,D,E から 3 枚選ぶ場合の数を求めよ。"
   ]
  },
  {
   "cell_type": "code",
   "execution_count": 45,
   "metadata": {},
   "outputs": [
    {
     "data": {
      "text/plain": [
       "3"
      ]
     },
     "execution_count": 45,
     "metadata": {},
     "output_type": "execute_result"
    }
   ],
   "source": [
    "f = [i for i in range(3)]\n",
    "c = list(itertools.combinations(f, 2))\n",
    "len(c)"
   ]
  },
  {
   "cell_type": "markdown",
   "metadata": {},
   "source": [
    "ｎ(=rk)個のものからｒ個とる組み合わせをk個つくる場合の数は，\n",
    "ｎＣｒ/kＰk"
   ]
  },
  {
   "cell_type": "code",
   "execution_count": 16,
   "metadata": {},
   "outputs": [
    {
     "data": {
      "text/plain": [
       "126.0"
      ]
     },
     "execution_count": 16,
     "metadata": {},
     "output_type": "execute_result"
    }
   ],
   "source": [
    "n = [i for i in range(10)]\n",
    "k = [j for j in range(2)]\n",
    "r = list(itertools.combinations(n, 5))\n",
    "h = list(itertools.permutations(k, 2))\n",
    "len(r)/len(h)"
   ]
  },
  {
   "cell_type": "markdown",
   "metadata": {
    "collapsed": true
   },
   "source": [
    "分散と偏差値"
   ]
  },
  {
   "cell_type": "code",
   "execution_count": 59,
   "metadata": {},
   "outputs": [
    {
     "data": {
      "text/plain": [
       "5.125"
      ]
     },
     "execution_count": 59,
     "metadata": {},
     "output_type": "execute_result"
    }
   ],
   "source": [
    "data = [2,5,4,5,10,6,6,3]\n",
    "np.mean(data)"
   ]
  },
  {
   "cell_type": "code",
   "execution_count": 56,
   "metadata": {
    "collapsed": true
   },
   "outputs": [],
   "source": [
    "def calculate_mean(data):\n",
    "    s = sum(data)\n",
    "    N = len(data)\n",
    "    mean =s/N\n",
    "\n",
    "    return mean\n",
    "\n",
    "#平均からの偏差を求める\n",
    "def find_difference(data):\n",
    "    mean = calculate_mean(data)\n",
    "    diff = []\n",
    "\n",
    "    for num in data:\n",
    "        diff.append(num-mean)\n",
    "    return diff\n",
    "\n",
    "def calculate_variance(data):\n",
    "    diff = find_difference(data)\n",
    "    #差の２乗を求める\n",
    "    squared_diff = []\n",
    "    for d in diff:\n",
    "        squared_diff.append(d**2)\n",
    "\n",
    "    #分散を求める\n",
    "    sum_squared_diff = sum(squared_diff)\n",
    "    variance = sum_squared_diff/len(data)\n",
    "    return variance"
   ]
  },
  {
   "cell_type": "code",
   "execution_count": 57,
   "metadata": {},
   "outputs": [
    {
     "name": "stdout",
     "output_type": "stream",
     "text": [
      "分散の値は:6.0\n"
     ]
    }
   ],
   "source": [
    "variance = calculate_variance(data)\n",
    "print('分散の値は:{0}'.format(variance))"
   ]
  },
  {
   "cell_type": "code",
   "execution_count": 58,
   "metadata": {},
   "outputs": [
    {
     "name": "stdout",
     "output_type": "stream",
     "text": [
      "標準偏差は:2.449489742783178\n"
     ]
    }
   ],
   "source": [
    "std = variance**0.5\n",
    "print('標準偏差は:{0}'.format(std))"
   ]
  },
  {
   "cell_type": "markdown",
   "metadata": {},
   "source": [
    "変動係数"
   ]
  },
  {
   "cell_type": "code",
   "execution_count": 25,
   "metadata": {},
   "outputs": [
    {
     "data": {
      "text/plain": [
       "0.40481151594253983"
      ]
     },
     "execution_count": 25,
     "metadata": {},
     "output_type": "execute_result"
    }
   ],
   "source": [
    "std/np.mean(data)"
   ]
  },
  {
   "cell_type": "markdown",
   "metadata": {
    "collapsed": true
   },
   "source": [
    "調和平均"
   ]
  },
  {
   "cell_type": "code",
   "execution_count": 26,
   "metadata": {},
   "outputs": [
    {
     "data": {
      "text/plain": [
       "74.666666666666657"
      ]
     },
     "execution_count": 26,
     "metadata": {},
     "output_type": "execute_result"
    }
   ],
   "source": [
    "l = [70,80]\n",
    "stats.hmean(l)"
   ]
  },
  {
   "cell_type": "markdown",
   "metadata": {},
   "source": [
    "幾何平均"
   ]
  },
  {
   "cell_type": "code",
   "execution_count": 27,
   "metadata": {},
   "outputs": [
    {
     "ename": "SyntaxError",
     "evalue": "invalid syntax (<ipython-input-27-e34b7d114c5f>, line 1)",
     "output_type": "error",
     "traceback": [
      "\u001b[0;36m  File \u001b[0;32m\"<ipython-input-27-e34b7d114c5f>\"\u001b[0;36m, line \u001b[0;32m1\u001b[0m\n\u001b[0;31m    m = [,]\u001b[0m\n\u001b[0m         ^\u001b[0m\n\u001b[0;31mSyntaxError\u001b[0m\u001b[0;31m:\u001b[0m invalid syntax\n"
     ]
    }
   ],
   "source": [
    "m = [,]\n",
    "stats.gmean(m)"
   ]
  },
  {
   "cell_type": "markdown",
   "metadata": {
    "collapsed": true
   },
   "source": [
    "加重平均"
   ]
  },
  {
   "cell_type": "code",
   "execution_count": 29,
   "metadata": {},
   "outputs": [
    {
     "data": {
      "text/plain": [
       "255.0"
      ]
     },
     "execution_count": 29,
     "metadata": {},
     "output_type": "execute_result"
    }
   ],
   "source": [
    "value = np.array([300, 200, 400, 100])\n",
    "weight = np.array([10,2,3,5])\n",
    "(value * weight).sum() / weight.sum()\n"
   ]
  },
  {
   "cell_type": "raw",
   "metadata": {},
   "source": [
    "reg = LinearRegression()\n",
    "reg.fit(s_len, s_width)\n",
    "pred = reg.predict(s_len)\n",
    "print(pred)"
   ]
  },
  {
   "cell_type": "raw",
   "metadata": {},
   "source": [
    "回帰直線　Y = a + b * X の係数a, b"
   ]
  },
  {
   "cell_type": "raw",
   "metadata": {},
   "source": [
    "a = float(reg.intercept_)\n",
    "b = float(reg.coef_[0])\n",
    "print(\"a: \", a)\n",
    "print(\"b: \", b)"
   ]
  },
  {
   "cell_type": "raw",
   "metadata": {},
   "source": [
    "回帰直線の誤差評価"
   ]
  },
  {
   "cell_type": "raw",
   "metadata": {},
   "source": [
    "MSE = metrics.mean_squared_error(s_width, pred)\n",
    "R2 = metrics.r2_score(s_width, pred)\n",
    "print(\"MSE: \", MSE)\n",
    "print(\"R2: \", R2)"
   ]
  },
  {
   "cell_type": "raw",
   "metadata": {
    "collapsed": true
   },
   "source": [
    "xmin = np.amin(s_len)\n",
    "xmax = np.amax(s_len)\n",
    "x = np.array([xmin, xmax])\n",
    "y = a + b * x"
   ]
  },
  {
   "cell_type": "raw",
   "metadata": {},
   "source": [
    "lin_label =\"Y={0:3f} + {1:.3f} * X\".format(a, b)\n",
    "plt.scatter(s_len, s_width, s=30)\n",
    "plt.plot(x, y, color=\"red\", linewidth=2, label=lin_label)\n",
    "plt.xlabel(\"sepal_len [cm]\")\n",
    "plt.ylabel(\"sepal_width [cm]\")\n",
    "plt.legend()\n",
    "plt.show()"
   ]
  }
 ],
 "metadata": {
  "kernelspec": {
   "display_name": "Python 3",
   "language": "python",
   "name": "python3"
  },
  "language_info": {
   "codemirror_mode": {
    "name": "ipython",
    "version": 3
   },
   "file_extension": ".py",
   "mimetype": "text/x-python",
   "name": "python",
   "nbconvert_exporter": "python",
   "pygments_lexer": "ipython3",
   "version": "3.6.5"
  }
 },
 "nbformat": 4,
 "nbformat_minor": 2
}
