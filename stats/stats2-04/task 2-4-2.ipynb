{
 "cells": [
  {
   "cell_type": "code",
   "execution_count": 2,
   "metadata": {},
   "outputs": [],
   "source": [
    "import scipy.stats as ss\n",
    "import numpy as np\n",
    "import pandas as pd"
   ]
  },
  {
   "cell_type": "code",
   "execution_count": 4,
   "metadata": {},
   "outputs": [
    {
     "data": {
      "text/plain": [
       "(array([18., 15., 18., 16., 17., 15., 14., 14., 14., 15., 15., 14., 15.,\n",
       "        14., 22., 18., 21., 21., 10., 10., 11.,  9., 28., 25., 19., 16.,\n",
       "        17., 19., 18., 14., 14., 14., 14., 12., 13., 13., 18., 22., 19.,\n",
       "        18., 23., 26., 25., 20., 21., 13., 14., 15., 14., 17., 11., 13.,\n",
       "        12., 13., 15., 13., 13., 14., 22., 28., 13., 14., 13., 14., 15.,\n",
       "        12., 13., 13., 14., 13., 12., 13., 18., 16., 18., 18., 23., 11.,\n",
       "        12., 13., 12., 18., 21., 19., 21., 15., 16., 15., 11., 20., 21.,\n",
       "        19., 15., 26., 25., 16., 16., 18., 16., 13., 14., 14., 14., 28.,\n",
       "        19., 18., 15., 15., 16., 15., 16., 14., 17., 16., 15., 18., 21.,\n",
       "        20., 13., 23., 20., 23., 18., 19., 25., 26., 18., 16., 16., 15.,\n",
       "        22., 22., 24., 23., 29., 25., 20., 18., 19., 18., 27., 13., 17.,\n",
       "        13., 13., 13., 30., 26., 18., 17., 16., 15., 18., 21., 19., 19.,\n",
       "        16., 16., 16., 16., 25., 26., 31., 34., 36., 20., 19., 20., 19.,\n",
       "        21., 20., 25., 21., 19., 21., 21., 19., 18., 19., 18., 18., 18.,\n",
       "        30., 31., 23., 24., 22., 20., 22., 20., 21., 17., 18., 17., 18.,\n",
       "        17., 16., 19., 19., 36., 27., 23., 24., 34., 35., 28., 29., 27.,\n",
       "        34., 32., 28., 26., 24., 19., 28., 24., 27., 27., 26., 24., 30.,\n",
       "        39., 35., 34., 30., 22., 27., 20., 18., 28., 27., 34., 31., 29.,\n",
       "        27., 24., 23., 38., 36., 25., 38., 26., 22., 36., 27., 27., 32.,\n",
       "        28., 31.]),\n",
       " array([24., 27., 27., 25., 31., 35., 24., 19., 28., 23., 27., 20., 22.,\n",
       "        18., 20., 31., 32., 31., 32., 24., 26., 29., 24., 24., 33., 33.,\n",
       "        32., 28., 19., 32., 34., 26., 30., 22., 22., 33., 39., 36., 28.,\n",
       "        27., 21., 24., 30., 34., 32., 38., 37., 30., 31., 37., 32., 47.,\n",
       "        41., 45., 34., 33., 24., 32., 39., 35., 32., 37., 38., 34., 34.,\n",
       "        32., 33., 32., 25., 24., 37., 31., 36., 36., 34., 38., 32., 38.,\n",
       "        32.]))"
      ]
     },
     "execution_count": 4,
     "metadata": {},
     "output_type": "execute_result"
    }
   ],
   "source": [
    "data = np.loadtxt(\"data/miles_per_gallon.csv\")\n",
    "data_us = data[:, 0]\n",
    "data_jp = data[:, 1]\n",
    "data_jp = data_jp[data_jp > -999]\n",
    "\n",
    "''''\n",
    "data_usa, data_jp\n",
    "'''\n",
    "data_us, data_jp"
   ]
  },
  {
   "cell_type": "code",
   "execution_count": 12,
   "metadata": {},
   "outputs": [
    {
     "name": "stdout",
     "output_type": "stream",
     "text": [
      "data_us: sise249, mean:20.145, std:6.415\n",
      "data_jp: sise79, mean:30.481, std:6.108\n",
      "Degree of freedom: 136.87497667258336\n"
     ]
    }
   ],
   "source": [
    "n1 = len(data_us)\n",
    "n1_mean = np.mean(data_us)\n",
    "n1_std = np.std(data_us, ddof=1)\n",
    "\n",
    "\n",
    "n2 = len(data_jp)\n",
    "n2_mean = np.mean(data_jp)\n",
    "n2_std = np.std(data_jp, ddof=1)\n",
    "\n",
    "\n",
    "alpha = 0.05\n",
    "df = (((n1_std**2/n1) + (n2_std**2/n2))**2) / \\\n",
    "((n1_std**4/(n1**2*(n1-1))) + (n2_std**4/(n2**2*(n2-1))))\n",
    "\n",
    "print(\"data_us: sise{}, mean:{:.3f}, std:{:.3f}\".format(n1, n1_mean, n1_std))\n",
    "print(\"data_jp: sise{}, mean:{:.3f}, std:{:.3f}\".format(n2, n2_mean, n2_std))\n",
    "print(\"Degree of freedom: {}\".format(df))"
   ]
  },
  {
   "cell_type": "code",
   "execution_count": 29,
   "metadata": {},
   "outputs": [
    {
     "name": "stdout",
     "output_type": "stream",
     "text": [
      "Pooled std: -10.336\n"
     ]
    }
   ],
   "source": [
    "nominator_spooled = n1_mean - n2_mean\n",
    "print(\"Pooled std: {:.3f}\".format(nominator_spooled))"
   ]
  },
  {
   "cell_type": "code",
   "execution_count": 22,
   "metadata": {},
   "outputs": [
    {
     "name": "stdout",
     "output_type": "stream",
     "text": [
      "Standard error of difference of mean : 8.897\n"
     ]
    }
   ],
   "source": [
    "se_diff = np.sqrt((n1_std**2/n1) + (n2**2/n2))\n",
    "print(\"Standard error of difference of mean : {:.3f}\".format(se_diff))"
   ]
  },
  {
   "cell_type": "code",
   "execution_count": 24,
   "metadata": {},
   "outputs": [
    {
     "name": "stdout",
     "output_type": "stream",
     "text": [
      "t statistic: 1.162\n"
     ]
    }
   ],
   "source": [
    "t = (nominator_spooled) / se_diff\n",
    "print(\"t statistic: {:.3f}\".format(t))"
   ]
  },
  {
   "cell_type": "code",
   "execution_count": 25,
   "metadata": {},
   "outputs": [
    {
     "name": "stdout",
     "output_type": "stream",
     "text": [
      "t confidence interval : [-1.977, 1.977]\n"
     ]
    }
   ],
   "source": [
    "t_ci = ss.t.ppf(alpha / 2, df)\n",
    "print(\"t confidence interval : [{:.3f}, {:.3f}]\".format(t_ci, -t_ci))"
   ]
  },
  {
   "cell_type": "code",
   "execution_count": 26,
   "metadata": {},
   "outputs": [
    {
     "name": "stdout",
     "output_type": "stream",
     "text": [
      "Retain the null hypothesis by t-statistic.\n"
     ]
    }
   ],
   "source": [
    "if t_ci <= t <= -t_ci:\n",
    "    print(\"Retain the null hypothesis by t-statistic.\")\n",
    "else:\n",
    "    print(\"Reject the null hypothesis by t-statistic.\")"
   ]
  },
  {
   "cell_type": "code",
   "execution_count": 27,
   "metadata": {},
   "outputs": [
    {
     "name": "stdout",
     "output_type": "stream",
     "text": [
      "p value: 0.2473688723068701\n",
      "Retain the null hypothesis by p value\n"
     ]
    }
   ],
   "source": [
    "p_value = (1 - ss.t.cdf(t, df))*2\n",
    "print(\"p value: {}\".format(p_value))\n",
    "\n",
    "if p_value < alpha:\n",
    "    print(\"Reject the null hypothesis by p value\")\n",
    "else:\n",
    "    print(\"Retain the null hypothesis by p value\")"
   ]
  },
  {
   "cell_type": "code",
   "execution_count": 28,
   "metadata": {},
   "outputs": [
    {
     "name": "stdout",
     "output_type": "stream",
     "text": [
      "t value by scipy: -12.946273274932006\n",
      "p value by scipy: 1.5708547842954538e-25\n"
     ]
    }
   ],
   "source": [
    "t_ss, prob = ss.ttest_ind(data_us, data_jp, equal_var=False)\n",
    "print(\"t value by scipy: {}\".format(t_ss))\n",
    "print(\"p value by scipy: {}\".format(prob))"
   ]
  },
  {
   "cell_type": "code",
   "execution_count": 30,
   "metadata": {},
   "outputs": [
    {
     "name": "stdout",
     "output_type": "stream",
     "text": [
      "t value by scipy: 5.080348617271814\n",
      "p value by scipy: 0.00019131443517208103\n"
     ]
    }
   ],
   "source": [
    "t_ss, prob = ss.ttest_ind([1326,1418,1820,1516,1635,1720,1580,1452,1600], [1220,1080,980,1420,1170,1290,1116], equal_var=False)\n",
    "print(\"t value by scipy: {}\".format(t_ss))\n",
    "print(\"p value by scipy: {}\".format(prob))"
   ]
  },
  {
   "cell_type": "code",
   "execution_count": null,
   "metadata": {},
   "outputs": [],
   "source": []
  }
 ],
 "metadata": {
  "kernelspec": {
   "display_name": "Python 3",
   "language": "python",
   "name": "python3"
  },
  "language_info": {
   "codemirror_mode": {
    "name": "ipython",
    "version": 3
   },
   "file_extension": ".py",
   "mimetype": "text/x-python",
   "name": "python",
   "nbconvert_exporter": "python",
   "pygments_lexer": "ipython3",
   "version": "3.6.5"
  },
  "toc": {
   "base_numbering": 1,
   "nav_menu": {},
   "number_sections": true,
   "sideBar": true,
   "skip_h1_title": false,
   "title_cell": "Table of Contents",
   "title_sidebar": "Contents",
   "toc_cell": false,
   "toc_position": {},
   "toc_section_display": true,
   "toc_window_display": false
  }
 },
 "nbformat": 4,
 "nbformat_minor": 2
}
