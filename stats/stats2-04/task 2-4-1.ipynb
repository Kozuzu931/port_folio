{
 "cells": [
  {
   "cell_type": "code",
   "execution_count": 8,
   "metadata": {},
   "outputs": [],
   "source": [
    "import scipy.stats as ss\n",
    "import numpy as np"
   ]
  },
  {
   "cell_type": "code",
   "execution_count": 17,
   "metadata": {},
   "outputs": [
    {
     "name": "stdout",
     "output_type": "stream",
     "text": [
      "mean:6.380000000000001\n",
      "std:1.0400854665736743\n",
      "size:10\n",
      "df:9\n"
     ]
    }
   ],
   "source": [
    "#data = np.loadtxt(\"data/bones.csv\", skiprows=1)\n",
    "data = np.array([6.2, 4.8, 7.3, 5.5, 6.5, 4.9, 6.8, 7.9, 6.6, 7.3])\n",
    "s_data_mean=np.mean(data)\n",
    "s_data_std = np.std(data, ddof=1)\n",
    "n = len(data)\n",
    "df = n - 1\n",
    "print(\"mean:{}\\nstd:{}\\nsize:{}\\ndf:{}\".format(s_data_mean,s_data_std,n,df))"
   ]
  },
  {
   "cell_type": "code",
   "execution_count": 11,
   "metadata": {},
   "outputs": [
    {
     "name": "stdout",
     "output_type": "stream",
     "text": [
      "Hypothesized mean: 5.0\n"
     ]
    }
   ],
   "source": [
    "mu_h0 = 5.0#仮設平均（母平均）\n",
    "alpha = 0.05 #有意水準\n",
    "print(\"Hypothesized mean: {}\".format(mu_h0))"
   ]
  },
  {
   "cell_type": "code",
   "execution_count": 12,
   "metadata": {},
   "outputs": [
    {
     "name": "stdout",
     "output_type": "stream",
     "text": [
      "SE of mean: 0.32890390356117355\n",
      "t statistic: 4.195754398346116\n"
     ]
    }
   ],
   "source": [
    "se_mean = s_data_std / np.sqrt(n) #標本平均の標準誤差\n",
    "t = (s_data_mean - mu_h0) / se_mean #t 値\n",
    "print(\"SE of mean: {}\".format(se_mean))\n",
    "print(\"t statistic: {}\".format(t))"
   ]
  },
  {
   "cell_type": "code",
   "execution_count": 13,
   "metadata": {},
   "outputs": [
    {
     "name": "stdout",
     "output_type": "stream",
     "text": [
      "t confidence interval: [-2.262, 2.262]\n"
     ]
    }
   ],
   "source": [
    "t_ci = ss.t.ppf(alpha/2, df)\n",
    "print(\"t confidence interval: [{:.3f}, {:.3f}]\".format(t_ci, -t_ci))"
   ]
  },
  {
   "cell_type": "code",
   "execution_count": 14,
   "metadata": {},
   "outputs": [
    {
     "name": "stdout",
     "output_type": "stream",
     "text": [
      "Reject the null hypothesis by t-statistic.\n"
     ]
    }
   ],
   "source": [
    "if t_ci <= t <= -t_ci:\n",
    "    print(\"Retain the null hypothesis by t-statistic.\")\n",
    "else:\n",
    "    print(\"Reject the null hypothesis by t-statistic.\")"
   ]
  },
  {
   "cell_type": "code",
   "execution_count": 15,
   "metadata": {},
   "outputs": [
    {
     "name": "stdout",
     "output_type": "stream",
     "text": [
      "p value: 0.0023212415998898894\n",
      "Reject the null hypothesis by p value.\n"
     ]
    }
   ],
   "source": [
    "p_value = (1 - ss.t.cdf(t, df))*2 #tに対するp値\n",
    "print(\"p value: {}\".format(p_value))\n",
    "\n",
    "if p_value < alpha:\n",
    "    print(\"Reject the null hypothesis by p value.\")\n",
    "else:\n",
    "    print(\"Retain the null hypothesis by p value.\")\n",
    "    "
   ]
  },
  {
   "cell_type": "code",
   "execution_count": 16,
   "metadata": {},
   "outputs": [
    {
     "name": "stdout",
     "output_type": "stream",
     "text": [
      "t value by scipy: 4.195754398346115\n",
      "p value by scipy: 0.002321241599889875\n"
     ]
    }
   ],
   "source": [
    "t_ss, prob = ss.ttest_1samp(data, mu_h0)\n",
    "print(\"t value by scipy: {}\".format(t_ss))\n",
    "print(\"p value by scipy: {}\".format(prob))"
   ]
  },
  {
   "cell_type": "code",
   "execution_count": null,
   "metadata": {},
   "outputs": [],
   "source": []
  }
 ],
 "metadata": {
  "kernelspec": {
   "display_name": "Python 3",
   "language": "python",
   "name": "python3"
  },
  "language_info": {
   "codemirror_mode": {
    "name": "ipython",
    "version": 3
   },
   "file_extension": ".py",
   "mimetype": "text/x-python",
   "name": "python",
   "nbconvert_exporter": "python",
   "pygments_lexer": "ipython3",
   "version": "3.6.5"
  },
  "toc": {
   "base_numbering": 1,
   "nav_menu": {},
   "number_sections": true,
   "sideBar": true,
   "skip_h1_title": false,
   "title_cell": "Table of Contents",
   "title_sidebar": "Contents",
   "toc_cell": false,
   "toc_position": {},
   "toc_section_display": true,
   "toc_window_display": false
  }
 },
 "nbformat": 4,
 "nbformat_minor": 2
}
