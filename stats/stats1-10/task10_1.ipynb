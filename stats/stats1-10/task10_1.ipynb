{
 "cells": [
  {
   "cell_type": "markdown",
   "metadata": {},
   "source": [
    "# 課題 Task10_1"
   ]
  },
  {
   "cell_type": "markdown",
   "metadata": {},
   "source": [
    "### 1. パッケージをインポートする Import packages"
   ]
  },
  {
   "cell_type": "code",
   "execution_count": 180,
   "metadata": {
    "collapsed": true
   },
   "outputs": [],
   "source": [
    "import numpy as np\n",
    "import matplotlib.pyplot as plt\n",
    "import pandas as pd"
   ]
  },
  {
   "cell_type": "markdown",
   "metadata": {},
   "source": [
    "### 2. 確率変数と確率分布をファイルから読み込む Load the R.V. and probability \n",
    "####  データファイル「rand_distribution.csv」をread_csv()を使って読み込んでください\n",
    "####  ファイルの中身がどのような形式で書かれているか確認すること\n",
    "#### Load the R.V. and probability from “rand_distribution.csv” by using read_csv() (column#1 is R.V. and column#2 is probability)"
   ]
  },
  {
   "cell_type": "code",
   "execution_count": 181,
   "metadata": {},
   "outputs": [
    {
     "data": {
      "text/html": [
       "<div>\n",
       "<style>\n",
       "    .dataframe thead tr:only-child th {\n",
       "        text-align: right;\n",
       "    }\n",
       "\n",
       "    .dataframe thead th {\n",
       "        text-align: left;\n",
       "    }\n",
       "\n",
       "    .dataframe tbody tr th {\n",
       "        vertical-align: top;\n",
       "    }\n",
       "</style>\n",
       "<table border=\"1\" class=\"dataframe\">\n",
       "  <thead>\n",
       "    <tr style=\"text-align: right;\">\n",
       "      <th></th>\n",
       "      <th>X</th>\n",
       "      <th>P</th>\n",
       "    </tr>\n",
       "  </thead>\n",
       "  <tbody>\n",
       "    <tr>\n",
       "      <th>0</th>\n",
       "      <td>5</td>\n",
       "      <td>0.004439</td>\n",
       "    </tr>\n",
       "    <tr>\n",
       "      <th>1</th>\n",
       "      <td>6</td>\n",
       "      <td>0.008038</td>\n",
       "    </tr>\n",
       "    <tr>\n",
       "      <th>2</th>\n",
       "      <td>7</td>\n",
       "      <td>0.013674</td>\n",
       "    </tr>\n",
       "    <tr>\n",
       "      <th>3</th>\n",
       "      <td>8</td>\n",
       "      <td>0.021851</td>\n",
       "    </tr>\n",
       "    <tr>\n",
       "      <th>4</th>\n",
       "      <td>9</td>\n",
       "      <td>0.032802</td>\n",
       "    </tr>\n",
       "    <tr>\n",
       "      <th>5</th>\n",
       "      <td>10</td>\n",
       "      <td>0.046258</td>\n",
       "    </tr>\n",
       "    <tr>\n",
       "      <th>6</th>\n",
       "      <td>11</td>\n",
       "      <td>0.061282</td>\n",
       "    </tr>\n",
       "    <tr>\n",
       "      <th>7</th>\n",
       "      <td>12</td>\n",
       "      <td>0.076266</td>\n",
       "    </tr>\n",
       "    <tr>\n",
       "      <th>8</th>\n",
       "      <td>13</td>\n",
       "      <td>0.089164</td>\n",
       "    </tr>\n",
       "    <tr>\n",
       "      <th>9</th>\n",
       "      <td>14</td>\n",
       "      <td>0.097928</td>\n",
       "    </tr>\n",
       "    <tr>\n",
       "      <th>10</th>\n",
       "      <td>15</td>\n",
       "      <td>0.101036</td>\n",
       "    </tr>\n",
       "    <tr>\n",
       "      <th>11</th>\n",
       "      <td>16</td>\n",
       "      <td>0.097928</td>\n",
       "    </tr>\n",
       "    <tr>\n",
       "      <th>12</th>\n",
       "      <td>17</td>\n",
       "      <td>0.089164</td>\n",
       "    </tr>\n",
       "    <tr>\n",
       "      <th>13</th>\n",
       "      <td>18</td>\n",
       "      <td>0.076266</td>\n",
       "    </tr>\n",
       "    <tr>\n",
       "      <th>14</th>\n",
       "      <td>19</td>\n",
       "      <td>0.061282</td>\n",
       "    </tr>\n",
       "    <tr>\n",
       "      <th>15</th>\n",
       "      <td>20</td>\n",
       "      <td>0.046258</td>\n",
       "    </tr>\n",
       "    <tr>\n",
       "      <th>16</th>\n",
       "      <td>21</td>\n",
       "      <td>0.032802</td>\n",
       "    </tr>\n",
       "    <tr>\n",
       "      <th>17</th>\n",
       "      <td>22</td>\n",
       "      <td>0.021851</td>\n",
       "    </tr>\n",
       "    <tr>\n",
       "      <th>18</th>\n",
       "      <td>23</td>\n",
       "      <td>0.013674</td>\n",
       "    </tr>\n",
       "    <tr>\n",
       "      <th>19</th>\n",
       "      <td>24</td>\n",
       "      <td>0.008038</td>\n",
       "    </tr>\n",
       "  </tbody>\n",
       "</table>\n",
       "</div>"
      ],
      "text/plain": [
       "     X         P\n",
       "0    5  0.004439\n",
       "1    6  0.008038\n",
       "2    7  0.013674\n",
       "3    8  0.021851\n",
       "4    9  0.032802\n",
       "5   10  0.046258\n",
       "6   11  0.061282\n",
       "7   12  0.076266\n",
       "8   13  0.089164\n",
       "9   14  0.097928\n",
       "10  15  0.101036\n",
       "11  16  0.097928\n",
       "12  17  0.089164\n",
       "13  18  0.076266\n",
       "14  19  0.061282\n",
       "15  20  0.046258\n",
       "16  21  0.032802\n",
       "17  22  0.021851\n",
       "18  23  0.013674\n",
       "19  24  0.008038"
      ]
     },
     "execution_count": 181,
     "metadata": {},
     "output_type": "execute_result"
    }
   ],
   "source": [
    "data = pd.read_csv(\"data/rand_distribution.csv\", comment=\"#\", names=[\"X\", \"P\"], dtype={\"X\":np.int32, \"P\":np.float64})\n",
    "data"
   ]
  },
  {
   "cell_type": "markdown",
   "metadata": {},
   "source": [
    "### 辞書型に変換 Create a dictionary from \"data\""
   ]
  },
  {
   "cell_type": "code",
   "execution_count": 190,
   "metadata": {},
   "outputs": [],
   "source": [
    "pre_dist = dict(data)\n",
    "dist = dict(zip(pre_dist['X'],pre_dist['P'])) "
   ]
  },
  {
   "cell_type": "markdown",
   "metadata": {},
   "source": [
    "### 3. 棒グラフを使って確率分布を図示しなさい Plot the probability distribution by using a bar graph"
   ]
  },
  {
   "cell_type": "code",
   "execution_count": 191,
   "metadata": {},
   "outputs": [
    {
     "data": {
      "image/png": "[encoded data removed]",
      "text/plain": [
       "<Figure size 432x288 with 1 Axes>"
      ]
     },
     "metadata": {},
     "output_type": "display_data"
    }
   ],
   "source": [
    "plt.bar(dist.keys(), dist.values(), width=1, ec='black' )\n",
    "plt.xlabel(\"Rondom variable\")\n",
    "plt.ylabel(\"Probability\")\n",
    "plt.show()"
   ]
  },
  {
   "cell_type": "markdown",
   "metadata": {},
   "source": [
    "### 4. 累積分布を定義しなさい Define a function of the CDF"
   ]
  },
  {
   "cell_type": "code",
   "execution_count": 192,
   "metadata": {},
   "outputs": [],
   "source": [
    "def Cdf(dist, x):\n",
    "    prob = 0.0\n",
    "    for value in dist.keys():\n",
    "        if value <= x:\n",
    "            prob += dist[value]\n",
    "    return prob"
   ]
  },
  {
   "cell_type": "markdown",
   "metadata": {},
   "source": [
    "### 5. 累積分布を計算しなさい Calculate the CDF"
   ]
  },
  {
   "cell_type": "code",
   "execution_count": 193,
   "metadata": {},
   "outputs": [],
   "source": [
    "cdf_dis ={}\n",
    "for x in range(0,19):\n",
    "    cdf = Cdf(dist, x)\n",
    "    cdf_dis[x] = cdf"
   ]
  },
  {
   "cell_type": "markdown",
   "metadata": {},
   "source": [
    "### 6. 累積分布を図示しなさい Plot the CDF"
   ]
  },
  {
   "cell_type": "code",
   "execution_count": 194,
   "metadata": {},
   "outputs": [
    {
     "data": {
      "image/png": "[encoded data removed]",
      "text/plain": [
       "<Figure size 432x288 with 1 Axes>"
      ]
     },
     "metadata": {},
     "output_type": "display_data"
    }
   ],
   "source": [
    "plt.bar(cdf_dis.keys(), cdf_dis.values(), width=1, ec='black' )\n",
    "plt.xlabel(\"x\")\n",
    "plt.ylabel(\"F(x)\")\n",
    "plt.show()"
   ]
  },
  {
   "cell_type": "markdown",
   "metadata": {},
   "source": [
    "### 7. 期待値を求める関数を定義しなさい Define a function of expected value"
   ]
  },
  {
   "cell_type": "code",
   "execution_count": 195,
   "metadata": {
    "collapsed": true
   },
   "outputs": [],
   "source": [
    "def Expect(dist):\n",
    "    e = sum([x*p for x,p in dist.items()])\n",
    "    return e"
   ]
  },
  {
   "cell_type": "markdown",
   "metadata": {},
   "source": [
    "### 8. 分散を求める関数を定義しなさい Define a function of variance"
   ]
  },
  {
   "cell_type": "code",
   "execution_count": 196,
   "metadata": {
    "collapsed": true
   },
   "outputs": [],
   "source": [
    "def Variance(dist):\n",
    "    e = Expect(dist)\n",
    "    var = sum([((x - e)**2)*p for x,p in dist.items()])\n",
    "    return var"
   ]
  },
  {
   "cell_type": "markdown",
   "metadata": {},
   "source": [
    "### 9. 標準偏差を求める関数を定義しなさい Define a function of standard deviation"
   ]
  },
  {
   "cell_type": "code",
   "execution_count": 197,
   "metadata": {
    "collapsed": true
   },
   "outputs": [],
   "source": [
    "def Std(dist):\n",
    "    std = np.sqrt(Variance(dist))\n",
    "    return std"
   ]
  },
  {
   "cell_type": "markdown",
   "metadata": {},
   "source": [
    "### 10. 期待値、分散、標準偏差を求めなさい Calculate the expected value, variance and standard deviation"
   ]
  },
  {
   "cell_type": "code",
   "execution_count": 198,
   "metadata": {},
   "outputs": [
    {
     "name": "stdout",
     "output_type": "stream",
     "text": [
      "期待値(Expectation):14.956\n",
      "分散(Variance):14.553\n",
      "標準偏差(Standard deviation):3.815\n"
     ]
    }
   ],
   "source": [
    "print(\"期待値(Expectation):{:.3f}\".format(Expect(dist)))\n",
    "print(\"分散(Variance):{:.3f}\".format(Variance(dist)))\n",
    "print(\"標準偏差(Standard deviation):{:.3f}\".format(Std(dist)))"
   ]
  },
  {
   "cell_type": "markdown",
   "metadata": {},
   "source": [
    "### 11. 標準化変数を求める関数を定義しなさい Define a function of z-score normalization"
   ]
  },
  {
   "cell_type": "code",
   "execution_count": 199,
   "metadata": {},
   "outputs": [],
   "source": [
    "def Zscore(dist):\n",
    "    z = [(x - Expect(dist)) / Std(dist) for x in dist.keys()]\n",
    "    normalized_dist = dict(zip(z, dist.values()))\n",
    "    return normalized_dist"
   ]
  },
  {
   "cell_type": "markdown",
   "metadata": {},
   "source": [
    "### 12. 標準化変数を求め、標準化後の期待値、分散、標準偏差を求めなさい Calculate the expected value, variance and standard deviation of the normalized probability distribution"
   ]
  },
  {
   "cell_type": "code",
   "execution_count": 200,
   "metadata": {},
   "outputs": [
    {
     "name": "stdout",
     "output_type": "stream",
     "text": [
      "期待値(Expectation):0.000\n",
      "分散(Variance):1.000\n",
      "標準偏差(Standard deviation):1.000\n"
     ]
    },
    {
     "data": {
      "text/plain": [
       "{-2.6096727295058182: 0.0044392270000000005,\n",
       " -2.3475417970559769: 0.0080384010000000006,\n",
       " -2.0854108646061356: 0.013673781000000001,\n",
       " -1.8232799321562947: 0.021850640000000001,\n",
       " -1.5611489997064536: 0.032801695999999998,\n",
       " -1.2990180672566125: 0.046257805999999999,\n",
       " -1.0368871348067714: 0.061281635999999994,\n",
       " -0.77475620235693021: 0.076266227999999991,\n",
       " -0.51262526990708912: 0.089164253999999998,\n",
       " -0.25049433745724797: 0.097927774999999995,\n",
       " 0.011636594992593124: 0.10103633699999999,\n",
       " 0.27376752744243421: 0.097927774999999995,\n",
       " 0.53589845989227536: 0.089164253999999998,\n",
       " 0.79802939234211645: 0.076266227999999991,\n",
       " 1.0601603247919575: 0.061281635999999994,\n",
       " 1.3222912572417986: 0.046257805999999999,\n",
       " 1.5844221896916397: 0.032801695999999998,\n",
       " 1.8465531221414808: 0.021850640000000001,\n",
       " 2.1086840545913219: 0.013673781000000001,\n",
       " 2.3708149870411632: 0.0080384010000000006}"
      ]
     },
     "execution_count": 200,
     "metadata": {},
     "output_type": "execute_result"
    }
   ],
   "source": [
    "z = Zscore(dist)\n",
    "print(\"期待値(Expectation):{:.3f}\".format(Expect(z)))\n",
    "print(\"分散(Variance):{:.3f}\".format(Variance(z)))\n",
    "print(\"標準偏差(Standard deviation):{:.3f}\".format(Std(z)))"
   ]
  },
  {
   "cell_type": "markdown",
   "metadata": {},
   "source": [
    "### 13. 標準化変数を求め、標準化後の確率分布を図示しなさい Plot the normalized probability distribution"
   ]
  },
  {
   "cell_type": "code",
   "execution_count": 201,
   "metadata": {},
   "outputs": [
    {
     "data": {
      "image/png": "[encoded data removed]",
      "text/plain": [
       "<Figure size 432x288 with 1 Axes>"
      ]
     },
     "metadata": {},
     "output_type": "display_data"
    }
   ],
   "source": [
    "plt.bar(z.keys(), z.values(), width=0.34,ec='black' )\n",
    "plt.xlabel(\"Rondom variable\")\n",
    "plt.ylabel(\"Probability\")\n",
    "plt.show()"
   ]
  },
  {
   "cell_type": "code",
   "execution_count": null,
   "metadata": {
    "collapsed": true
   },
   "outputs": [],
   "source": []
  }
 ],
 "metadata": {
  "kernelspec": {
   "display_name": "Python 3",
   "language": "python",
   "name": "python3"
  },
  "language_info": {
   "codemirror_mode": {
    "name": "ipython",
    "version": 3
   },
   "file_extension": ".py",
   "mimetype": "text/x-python",
   "name": "python",
   "nbconvert_exporter": "python",
   "pygments_lexer": "ipython3",
   "version": "3.6.2"
  }
 },
 "nbformat": 4,
 "nbformat_minor": 2
}
