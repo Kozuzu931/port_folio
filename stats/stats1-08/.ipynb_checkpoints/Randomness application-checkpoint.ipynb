{
 "cells": [
  {
   "cell_type": "markdown",
   "metadata": {},
   "source": [
    "## 乱数の応用　Application of Randomness \n",
    "\n"
   ]
  },
  {
   "cell_type": "markdown",
   "metadata": {},
   "source": [
    "#### インポートモジュール或いはライブラリ　import modules or libraries"
   ]
  },
  {
   "cell_type": "code",
   "execution_count": 1,
   "metadata": {
    "collapsed": true
   },
   "outputs": [],
   "source": [
    "# %% modules\n",
    "import numpy as np"
   ]
  },
  {
   "cell_type": "markdown",
   "metadata": {},
   "source": [
    "calculate_pi（）関数は、一回試験で得たデータにpiを計算します。  \n",
    "calculate_pi() function calculates pi for the data obtained in a single experiment."
   ]
  },
  {
   "cell_type": "code",
   "execution_count": 2,
   "metadata": {
    "collapsed": true
   },
   "outputs": [],
   "source": [
    "def calculate_pi(total_rnd_points):\n",
    "    \"\"\"\n",
    "       count the number of random points inside\n",
    "       the circle\n",
    "       \n",
    "       Area of Square (S) = 4*r^2\n",
    "       Area of Circle (C) = pi*r^2\n",
    "       Ratio of C/S = pi*r^2/4*r^2 = pi/4\n",
    "       \n",
    "       N denotes total random points\n",
    "       M denote points inside circle\n",
    "       then pi/4 can be approximated by M/N,\n",
    "       pi = 4 * M / N\n",
    "    \"\"\"\n",
    "    inside = 0\n",
    "    # Generate the random coordinates, X and Y.\n",
    "    for i in range(total_rnd_points):\n",
    "        # random in [0, 1].\n",
    "        x = np.random.random()**2\n",
    "        y = np.random.random()**2\n",
    "        # test whether it lands inside a quadrant in a unit square.\n",
    "        # if m.sqrt(x + y) < 1.0:\n",
    "        if x + y <= 1.0:\n",
    "            inside += 1\n",
    "    pi_val = (float(inside) / total_rnd_points) * 4\n",
    "    return pi_val\n"
   ]
  },
  {
   "cell_type": "markdown",
   "metadata": {},
   "source": [
    "est（）関数は、num_trials回試験を行って、得たpi値から平均と標準偏差を計算します。  \n",
    "In est() function, we conduct **num_trials** experiments, and calculates mean and standard deviation for pi values obtained in thoes experiments."
   ]
  },
  {
   "cell_type": "code",
   "execution_count": 3,
   "metadata": {
    "collapsed": true
   },
   "outputs": [],
   "source": [
    "# %% Statistics\n",
    "def est(total_rnd_points, num_trials):\n",
    "    pi_values_est = []\n",
    "    # Conduct num_trials experiments\n",
    "    for i in range(num_trials):\n",
    "        pi_rnd = calculate_pi(total_rnd_points)\n",
    "        pi_values_est.append(pi_rnd)\n",
    "    # Compute std\n",
    "    stddev_pi = np.std(pi_values_est)\n",
    "    # Compute mean\n",
    "    cur_est = sum(pi_values_est)/len(pi_values_est)\n",
    "    # output\n",
    "    print(\"est. = {}, stddev={}, random_points = {}\".format(\n",
    "            round(cur_est, 5),\n",
    "            round(stddev_pi, 5),\n",
    "            total_rnd_points\n",
    "            ))\n",
    "    return (cur_est, stddev_pi)\n"
   ]
  },
  {
   "cell_type": "markdown",
   "metadata": {},
   "source": [
    "monte_carlo_find_pi()関数は, 計算精度をチェックして、精度が良くない場合、ランダム点の数を２倍に増やします。  \n",
    "The function monte_carlo_find_pi() checks the computational accuracy and increases the number of random points by a factor of 2 if the accuracy is not good."
   ]
  },
  {
   "cell_type": "code",
   "execution_count": 4,
   "metadata": {
    "collapsed": true
   },
   "outputs": [],
   "source": [
    "# %% calling function\n",
    "def monte_carlo_find_pi(precision, num_trials):\n",
    "    total_rnd_points = 1000\n",
    "    s_dev = precision\n",
    "    while s_dev > precision/2.0:\n",
    "        cur_est, stddev_pi = est(total_rnd_points, num_trials)\n",
    "        total_rnd_points *= 2\n",
    "    return cur_est"
   ]
  },
  {
   "cell_type": "markdown",
   "metadata": {},
   "source": [
    "## 関数を呼び出す　call the function\n",
    "\n",
    "定義した関数の呼び出し順番：The order of defined functions called   \n",
    "monte_carlo_find_pi() -> monte_carlo_find_pi() -> est() -> calculate_pi()"
   ]
  },
  {
   "cell_type": "code",
   "execution_count": null,
   "metadata": {},
   "outputs": [
    {
     "name": "stdout",
     "output_type": "stream",
     "text": [
      "est. = 3.1466, stddev=0.05056, random_points = 1000\n",
      "est. = 3.14348, stddev=0.03439, random_points = 2000\n",
      "est. = 3.14282, stddev=0.02451, random_points = 4000\n",
      "est. = 3.14205, stddev=0.01946, random_points = 8000\n",
      "est. = 3.14246, stddev=0.01173, random_points = 16000\n",
      "est. = 3.14063, stddev=0.00848, random_points = 32000\n",
      "est. = 3.14165, stddev=0.00666, random_points = 64000\n",
      "est. = 3.14132, stddev=0.00479, random_points = 128000\n",
      "est. = 3.14178, stddev=0.00311, random_points = 256000\n",
      "est. = 3.14162, stddev=0.00221, random_points = 512000\n",
      "est. = 3.14142, stddev=0.00165, random_points = 1024000\n",
      "est. = 3.14196, stddev=0.00124, random_points = 2048000\n",
      "est. = 3.14153, stddev=0.00086, random_points = 4096000\n",
      "est. = 3.14153, stddev=0.00058, random_points = 8192000\n"
     ]
    }
   ],
   "source": [
    "monte_carlo_find_pi(0.01, 100)"
   ]
  },
  {
   "cell_type": "code",
   "execution_count": null,
   "metadata": {
    "collapsed": true
   },
   "outputs": [],
   "source": []
  }
 ],
 "metadata": {
  "kernelspec": {
   "display_name": "Python 3",
   "language": "python",
   "name": "python3"
  },
  "language_info": {
   "codemirror_mode": {
    "name": "ipython",
    "version": 3
   },
   "file_extension": ".py",
   "mimetype": "text/x-python",
   "name": "python",
   "nbconvert_exporter": "python",
   "pygments_lexer": "ipython3",
   "version": "3.6.2"
  }
 },
 "nbformat": 4,
 "nbformat_minor": 2
}
