{
 "cells": [
  {
   "cell_type": "markdown",
   "metadata": {},
   "source": [
    "## ランダムネスと確率　Randomness and Probability\n",
    "\n",
    "**ランダムネス（ランダム性）**： “次に”何が起こるか確定的に予想できないこと  \n",
    "**確率論**はランダムネスそのものではなく，ランダムネスの法則を扱う数学理論\n",
    "\n",
    "**Randomness**: we can not predict what happens next in a deterministic manner.  \n",
    "**Probability**: a theory about rules of randomness, but not randomness itself.\n",
    "\n",
    "\n",
    "### 確率の性質　Properties of Probability\n",
    "\n",
    "1. $ 0\\le p\\le 1$\n",
    "2. $p=0$, (不可能な事象)impossible event\n",
    "3. $p=1$, （確実に発生事象）sure event\n",
    "4. $\\sum p = 1$\n",
    "\n",
    "例：男の子が生まれる確率は0.6, そして、女の子がうまれる確率は0.4, 合わせて1になります。\n",
    "\n",
    "For example, the probability of giving birth to a boy is 0.6, then, the probability of giving birth to a girl is 0.6; their summation is one.\n",
    "\n"
   ]
  },
  {
   "cell_type": "markdown",
   "metadata": {},
   "source": [
    "## 箱からカラーボールを取り出す　draw color balls from a box"
   ]
  },
  {
   "cell_type": "code",
   "execution_count": 76,
   "metadata": {
    "collapsed": true
   },
   "outputs": [],
   "source": [
    "# %% modules/ libraries\n",
    "import numpy as np\n",
    "import random"
   ]
  },
  {
   "cell_type": "markdown",
   "metadata": {},
   "source": [
    "## 試験の設定　Experiment settings"
   ]
  },
  {
   "cell_type": "code",
   "execution_count": 77,
   "metadata": {
    "collapsed": true
   },
   "outputs": [],
   "source": [
    "# 1. How many kinds of balls we have?, here it is 3.\n",
    "n = 3"
   ]
  },
  {
   "cell_type": "code",
   "execution_count": 78,
   "metadata": {
    "collapsed": true
   },
   "outputs": [],
   "source": [
    "# 2. How many experiments we will run?\n",
    "N = 4000"
   ]
  },
  {
   "cell_type": "code",
   "execution_count": 79,
   "metadata": {
    "collapsed": true
   },
   "outputs": [],
   "source": [
    "# 3.Initialize no. of successes\n",
    "M = 0"
   ]
  },
  {
   "cell_type": "code",
   "execution_count": 80,
   "metadata": {
    "collapsed": true
   },
   "outputs": [],
   "source": [
    "# 4. How many balls we draw from the box each time?\n",
    "draw_n_balls = 3"
   ]
  },
  {
   "cell_type": "code",
   "execution_count": 81,
   "metadata": {
    "collapsed": true
   },
   "outputs": [],
   "source": [
    "# 5. Create the box with a python list\n",
    "# Desired python list:\n",
    "# box = ['red', 'red', 'red', 'blue', 'blue', 'blue', 'white', 'white', 'white']\n",
    "# or \n",
    "# box = ['blue', 'blue', 'blue', 'red', 'red', 'red', 'white', 'white', 'white']\n",
    "colors = ['red', 'blue', 'white']\n",
    "total_balls = n * len(colors)"
   ]
  },
  {
   "cell_type": "code",
   "execution_count": 82,
   "metadata": {
    "collapsed": true
   },
   "outputs": [],
   "source": [
    "#  method 1: numpy\n",
    "#init_box = np.repeat(colors, 3)\n",
    "\n",
    "# method 2:\n",
    "#init_box = sorted(colors * 3)"
   ]
  },
  {
   "cell_type": "code",
   "execution_count": 83,
   "metadata": {
    "collapsed": true
   },
   "outputs": [],
   "source": [
    "#  method 3: list comprehension\n",
    "init_box = [c for c in colors for i in range(n)]"
   ]
  },
  {
   "cell_type": "code",
   "execution_count": 84,
   "metadata": {},
   "outputs": [],
   "source": [
    "# %% Main loop\n",
    "for experiment in range(N):\n",
    "    # Reset box\n",
    "    # How about box = init_box\n",
    "    box = init_box[:]\n",
    "    #box = np.repeat(colors, n)   \n",
    "    # Save balls drawn from the box\n",
    "    balls = [] \n",
    "    # Here we draw 2 balls\n",
    "    for i in range(draw_n_balls):\n",
    "        index = random.randint(0, len(box)-1)\n",
    "        color = box[index]\n",
    "        del box[index]\n",
    "        balls.append(color)\n",
    "    # Check ball colors : success or not, i.e., two red balls?\n",
    "    if balls.count('red') >= 2:\n",
    "        M += 1"
   ]
  },
  {
   "cell_type": "code",
   "execution_count": 85,
   "metadata": {},
   "outputs": [
    {
     "name": "stdout",
     "output_type": "stream",
     "text": [
      "Probability of drawing 3 or more red balls for 4000 exp. (draw 2 ball each time without replacement) is 0.23125\n"
     ]
    }
   ],
   "source": [
    "print(\"Probability of drawing {} or more red balls for {} exp. (draw 2 ball each time without replacement) is {}\"\n",
    "      .format(\n",
    "        draw_n_balls, N, float(M)/N))"
   ]
  },
  {
   "cell_type": "code",
   "execution_count": null,
   "metadata": {
    "collapsed": true
   },
   "outputs": [],
   "source": []
  }
 ],
 "metadata": {
  "kernelspec": {
   "display_name": "Python 3",
   "language": "python",
   "name": "python3"
  },
  "language_info": {
   "codemirror_mode": {
    "name": "ipython",
    "version": 3
   },
   "file_extension": ".py",
   "mimetype": "text/x-python",
   "name": "python",
   "nbconvert_exporter": "python",
   "pygments_lexer": "ipython3",
   "version": "3.6.2"
  }
 },
 "nbformat": 4,
 "nbformat_minor": 2
}
